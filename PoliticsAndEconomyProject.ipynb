{
 "cells": [
  {
   "cell_type": "markdown",
   "metadata": {
    "slideshow": {
     "slide_type": "slide"
    }
   },
   "source": [
    "# A Comprehensive Look At Economic Performance in the US During Republican vs Democratic Control\n",
    "### By Nikhil Kapse\n"
   ]
  },
  {
   "cell_type": "code",
   "execution_count": 95,
   "metadata": {
    "slideshow": {
     "slide_type": "skip"
    }
   },
   "outputs": [],
   "source": [
    "import ipywidgets as widgets\n",
    "from ipywidgets import widgets\n",
    "from ipywidgets import Output\n",
    "from IPython.display import clear_output\n",
    "from bokeh.io import output_notebook, push_notebook, show\n",
    "import requests\n",
    "import json\n",
    "import bokeh"
   ]
  },
  {
   "cell_type": "markdown",
   "metadata": {
    "slideshow": {
     "slide_type": "slide"
    }
   },
   "source": [
    "## Data Sources"
   ]
  },
  {
   "cell_type": "code",
   "execution_count": 96,
   "metadata": {
    "slideshow": {
     "slide_type": "subslide"
    }
   },
   "outputs": [],
   "source": [
    "#UN Global Indicators\n",
    "inflation = 'https://www.quandl.com/api/v3/datasets/UGID/INFL_USA?start_date=1970-12-31&end_date=2100-12-31&api_key=HN_Jc_sPS7kdsWdQNa-e'\n",
    "\n",
    "BOP = 'https://www.quandl.com/api/v3/datasets/UGID/BOP_USA?start_date=1970-12-31&end_date=2100-12-31&api_key=HN_Jc_sPS7kdsWdQNa-e'\n",
    "\n",
    "interest = 'https://www.quandl.com/api/v3/datasets/UGID/IFIR_USA?start_date=19/70-12-31&end_date=2100-12-31&api_key=HN_Jc_sPS7kdsWdQNa-e'\n",
    "\n",
    "unemployment_rate = 'https://www.quandl.com/api/v3/datasets/UGID/UNRATE_USA?start_date=1970-12-31&end_date=2100-12-31&api_key=HN_Jc_sPS7kdsWdQNa-e'"
   ]
  },
  {
   "cell_type": "code",
   "execution_count": 97,
   "metadata": {
    "slideshow": {
     "slide_type": "subslide"
    }
   },
   "outputs": [],
   "source": [
    "#Federal Reserve Economic Data\n",
    "RGDP = 'https://www.quandl.com/api/v3/datasets/FRED/GDPC1?start_date=1970-01-01&end_date=2019-01-01&api_key=HN_Jc_sPS7kdsWdQNa-e'\n",
    "\n",
    "FederalDebt = 'https://www.quandl.com/api/v3/datasets/FRED/GFDEBTN?start_date=1970-01-01&end_date=2019-01-01&api_key=HN_Jc_sPS7kdsWdQNa-e'"
   ]
  },
  {
   "cell_type": "markdown",
   "metadata": {
    "slideshow": {
     "slide_type": "slide"
    }
   },
   "source": [
    "## Statistics\n",
    "1. Real GDP\n",
    "2. Federal Debt\n",
    "3. Inflation\n",
    "4. Balance of Payments\n",
    "5. Unemployment\n",
    "6. Interest"
   ]
  },
  {
   "cell_type": "markdown",
   "metadata": {
    "slideshow": {
     "slide_type": "slide"
    }
   },
   "source": [
    "## Data Parsing Algorithm"
   ]
  },
  {
   "cell_type": "code",
   "execution_count": 98,
   "metadata": {
    "slideshow": {
     "slide_type": "subslide"
    }
   },
   "outputs": [],
   "source": [
    "link_list = [RGDP, FederalDebt, inflation, BOP, unemployment_rate, interest]\n",
    "data_list = []\n",
    "years_list = []\n",
    "for link in link_list:\n",
    "    reader = requests.get(link)\n",
    "    json_Dict = reader.json()\n",
    "    json_Dict = json_Dict['dataset']\n",
    "    list = []\n",
    "    for element in json_Dict['data']:\n",
    "        list.append(element[1])\n",
    "    list.reverse()\n",
    "    data_list.append(list)"
   ]
  },
  {
   "cell_type": "code",
   "execution_count": 99,
   "metadata": {
    "slideshow": {
     "slide_type": "subslide"
    }
   },
   "outputs": [],
   "source": [
    "import numpy as np\n",
    "\n",
    "years_np = np.arange(1970, 2019 + 0.25, 0.25)\n",
    "years = years_np.tolist()"
   ]
  },
  {
   "cell_type": "markdown",
   "metadata": {
    "slideshow": {
     "slide_type": "slide"
    }
   },
   "source": [
    "## 1. Real GDP"
   ]
  },
  {
   "cell_type": "markdown",
   "metadata": {
    "slideshow": {
     "slide_type": "subslide"
    }
   },
   "source": [
    "## Graphing the Data"
   ]
  },
  {
   "cell_type": "code",
   "execution_count": 100,
   "metadata": {
    "scrolled": true,
    "slideshow": {
     "slide_type": "subslide"
    }
   },
   "outputs": [
    {
     "data": {
      "text/html": [
       "\n",
       "    <div class=\"bk-root\">\n",
       "        <a href=\"https://bokeh.org\" target=\"_blank\" class=\"bk-logo bk-logo-small bk-logo-notebook\"></a>\n",
       "        <span id=\"8712\">Loading BokehJS ...</span>\n",
       "    </div>"
      ]
     },
     "metadata": {},
     "output_type": "display_data"
    },
    {
     "data": {
      "application/javascript": [
       "\n",
       "(function(root) {\n",
       "  function now() {\n",
       "    return new Date();\n",
       "  }\n",
       "\n",
       "  var force = true;\n",
       "\n",
       "  if (typeof root._bokeh_onload_callbacks === \"undefined\" || force === true) {\n",
       "    root._bokeh_onload_callbacks = [];\n",
       "    root._bokeh_is_loading = undefined;\n",
       "  }\n",
       "\n",
       "  var JS_MIME_TYPE = 'application/javascript';\n",
       "  var HTML_MIME_TYPE = 'text/html';\n",
       "  var EXEC_MIME_TYPE = 'application/vnd.bokehjs_exec.v0+json';\n",
       "  var CLASS_NAME = 'output_bokeh rendered_html';\n",
       "\n",
       "  /**\n",
       "   * Render data to the DOM node\n",
       "   */\n",
       "  function render(props, node) {\n",
       "    var script = document.createElement(\"script\");\n",
       "    node.appendChild(script);\n",
       "  }\n",
       "\n",
       "  /**\n",
       "   * Handle when an output is cleared or removed\n",
       "   */\n",
       "  function handleClearOutput(event, handle) {\n",
       "    var cell = handle.cell;\n",
       "\n",
       "    var id = cell.output_area._bokeh_element_id;\n",
       "    var server_id = cell.output_area._bokeh_server_id;\n",
       "    // Clean up Bokeh references\n",
       "    if (id != null && id in Bokeh.index) {\n",
       "      Bokeh.index[id].model.document.clear();\n",
       "      delete Bokeh.index[id];\n",
       "    }\n",
       "\n",
       "    if (server_id !== undefined) {\n",
       "      // Clean up Bokeh references\n",
       "      var cmd = \"from bokeh.io.state import curstate; print(curstate().uuid_to_server['\" + server_id + \"'].get_sessions()[0].document.roots[0]._id)\";\n",
       "      cell.notebook.kernel.execute(cmd, {\n",
       "        iopub: {\n",
       "          output: function(msg) {\n",
       "            var id = msg.content.text.trim();\n",
       "            if (id in Bokeh.index) {\n",
       "              Bokeh.index[id].model.document.clear();\n",
       "              delete Bokeh.index[id];\n",
       "            }\n",
       "          }\n",
       "        }\n",
       "      });\n",
       "      // Destroy server and session\n",
       "      var cmd = \"import bokeh.io.notebook as ion; ion.destroy_server('\" + server_id + \"')\";\n",
       "      cell.notebook.kernel.execute(cmd);\n",
       "    }\n",
       "  }\n",
       "\n",
       "  /**\n",
       "   * Handle when a new output is added\n",
       "   */\n",
       "  function handleAddOutput(event, handle) {\n",
       "    var output_area = handle.output_area;\n",
       "    var output = handle.output;\n",
       "\n",
       "    // limit handleAddOutput to display_data with EXEC_MIME_TYPE content only\n",
       "    if ((output.output_type != \"display_data\") || (!output.data.hasOwnProperty(EXEC_MIME_TYPE))) {\n",
       "      return\n",
       "    }\n",
       "\n",
       "    var toinsert = output_area.element.find(\".\" + CLASS_NAME.split(' ')[0]);\n",
       "\n",
       "    if (output.metadata[EXEC_MIME_TYPE][\"id\"] !== undefined) {\n",
       "      toinsert[toinsert.length - 1].firstChild.textContent = output.data[JS_MIME_TYPE];\n",
       "      // store reference to embed id on output_area\n",
       "      output_area._bokeh_element_id = output.metadata[EXEC_MIME_TYPE][\"id\"];\n",
       "    }\n",
       "    if (output.metadata[EXEC_MIME_TYPE][\"server_id\"] !== undefined) {\n",
       "      var bk_div = document.createElement(\"div\");\n",
       "      bk_div.innerHTML = output.data[HTML_MIME_TYPE];\n",
       "      var script_attrs = bk_div.children[0].attributes;\n",
       "      for (var i = 0; i < script_attrs.length; i++) {\n",
       "        toinsert[toinsert.length - 1].firstChild.setAttribute(script_attrs[i].name, script_attrs[i].value);\n",
       "      }\n",
       "      // store reference to server id on output_area\n",
       "      output_area._bokeh_server_id = output.metadata[EXEC_MIME_TYPE][\"server_id\"];\n",
       "    }\n",
       "  }\n",
       "\n",
       "  function register_renderer(events, OutputArea) {\n",
       "\n",
       "    function append_mime(data, metadata, element) {\n",
       "      // create a DOM node to render to\n",
       "      var toinsert = this.create_output_subarea(\n",
       "        metadata,\n",
       "        CLASS_NAME,\n",
       "        EXEC_MIME_TYPE\n",
       "      );\n",
       "      this.keyboard_manager.register_events(toinsert);\n",
       "      // Render to node\n",
       "      var props = {data: data, metadata: metadata[EXEC_MIME_TYPE]};\n",
       "      render(props, toinsert[toinsert.length - 1]);\n",
       "      element.append(toinsert);\n",
       "      return toinsert\n",
       "    }\n",
       "\n",
       "    /* Handle when an output is cleared or removed */\n",
       "    events.on('clear_output.CodeCell', handleClearOutput);\n",
       "    events.on('delete.Cell', handleClearOutput);\n",
       "\n",
       "    /* Handle when a new output is added */\n",
       "    events.on('output_added.OutputArea', handleAddOutput);\n",
       "\n",
       "    /**\n",
       "     * Register the mime type and append_mime function with output_area\n",
       "     */\n",
       "    OutputArea.prototype.register_mime_type(EXEC_MIME_TYPE, append_mime, {\n",
       "      /* Is output safe? */\n",
       "      safe: true,\n",
       "      /* Index of renderer in `output_area.display_order` */\n",
       "      index: 0\n",
       "    });\n",
       "  }\n",
       "\n",
       "  // register the mime type if in Jupyter Notebook environment and previously unregistered\n",
       "  if (root.Jupyter !== undefined) {\n",
       "    var events = require('base/js/events');\n",
       "    var OutputArea = require('notebook/js/outputarea').OutputArea;\n",
       "\n",
       "    if (OutputArea.prototype.mime_types().indexOf(EXEC_MIME_TYPE) == -1) {\n",
       "      register_renderer(events, OutputArea);\n",
       "    }\n",
       "  }\n",
       "\n",
       "  \n",
       "  if (typeof (root._bokeh_timeout) === \"undefined\" || force === true) {\n",
       "    root._bokeh_timeout = Date.now() + 5000;\n",
       "    root._bokeh_failed_load = false;\n",
       "  }\n",
       "\n",
       "  var NB_LOAD_WARNING = {'data': {'text/html':\n",
       "     \"<div style='background-color: #fdd'>\\n\"+\n",
       "     \"<p>\\n\"+\n",
       "     \"BokehJS does not appear to have successfully loaded. If loading BokehJS from CDN, this \\n\"+\n",
       "     \"may be due to a slow or bad network connection. Possible fixes:\\n\"+\n",
       "     \"</p>\\n\"+\n",
       "     \"<ul>\\n\"+\n",
       "     \"<li>re-rerun `output_notebook()` to attempt to load from CDN again, or</li>\\n\"+\n",
       "     \"<li>use INLINE resources instead, as so:</li>\\n\"+\n",
       "     \"</ul>\\n\"+\n",
       "     \"<code>\\n\"+\n",
       "     \"from bokeh.resources import INLINE\\n\"+\n",
       "     \"output_notebook(resources=INLINE)\\n\"+\n",
       "     \"</code>\\n\"+\n",
       "     \"</div>\"}};\n",
       "\n",
       "  function display_loaded() {\n",
       "    var el = document.getElementById(\"8712\");\n",
       "    if (el != null) {\n",
       "      el.textContent = \"BokehJS is loading...\";\n",
       "    }\n",
       "    if (root.Bokeh !== undefined) {\n",
       "      if (el != null) {\n",
       "        el.textContent = \"BokehJS \" + root.Bokeh.version + \" successfully loaded.\";\n",
       "      }\n",
       "    } else if (Date.now() < root._bokeh_timeout) {\n",
       "      setTimeout(display_loaded, 100)\n",
       "    }\n",
       "  }\n",
       "\n",
       "\n",
       "  function run_callbacks() {\n",
       "    try {\n",
       "      root._bokeh_onload_callbacks.forEach(function(callback) {\n",
       "        if (callback != null)\n",
       "          callback();\n",
       "      });\n",
       "    } finally {\n",
       "      delete root._bokeh_onload_callbacks\n",
       "    }\n",
       "    console.debug(\"Bokeh: all callbacks have finished\");\n",
       "  }\n",
       "\n",
       "  function load_libs(css_urls, js_urls, callback) {\n",
       "    if (css_urls == null) css_urls = [];\n",
       "    if (js_urls == null) js_urls = [];\n",
       "\n",
       "    root._bokeh_onload_callbacks.push(callback);\n",
       "    if (root._bokeh_is_loading > 0) {\n",
       "      console.debug(\"Bokeh: BokehJS is being loaded, scheduling callback at\", now());\n",
       "      return null;\n",
       "    }\n",
       "    if (js_urls == null || js_urls.length === 0) {\n",
       "      run_callbacks();\n",
       "      return null;\n",
       "    }\n",
       "    console.debug(\"Bokeh: BokehJS not loaded, scheduling load and callback at\", now());\n",
       "    root._bokeh_is_loading = css_urls.length + js_urls.length;\n",
       "\n",
       "    function on_load() {\n",
       "      root._bokeh_is_loading--;\n",
       "      if (root._bokeh_is_loading === 0) {\n",
       "        console.debug(\"Bokeh: all BokehJS libraries/stylesheets loaded\");\n",
       "        run_callbacks()\n",
       "      }\n",
       "    }\n",
       "\n",
       "    function on_error() {\n",
       "      console.error(\"failed to load \" + url);\n",
       "    }\n",
       "\n",
       "    for (var i = 0; i < css_urls.length; i++) {\n",
       "      var url = css_urls[i];\n",
       "      const element = document.createElement(\"link\");\n",
       "      element.onload = on_load;\n",
       "      element.onerror = on_error;\n",
       "      element.rel = \"stylesheet\";\n",
       "      element.type = \"text/css\";\n",
       "      element.href = url;\n",
       "      console.debug(\"Bokeh: injecting link tag for BokehJS stylesheet: \", url);\n",
       "      document.body.appendChild(element);\n",
       "    }\n",
       "\n",
       "    for (var i = 0; i < js_urls.length; i++) {\n",
       "      var url = js_urls[i];\n",
       "      var element = document.createElement('script');\n",
       "      element.onload = on_load;\n",
       "      element.onerror = on_error;\n",
       "      element.async = false;\n",
       "      element.src = url;\n",
       "      console.debug(\"Bokeh: injecting script tag for BokehJS library: \", url);\n",
       "      document.head.appendChild(element);\n",
       "    }\n",
       "  };var element = document.getElementById(\"8712\");\n",
       "  if (element == null) {\n",
       "    console.error(\"Bokeh: ERROR: autoload.js configured with elementid '8712' but no matching script tag was found. \")\n",
       "    return false;\n",
       "  }\n",
       "\n",
       "  function inject_raw_css(css) {\n",
       "    const element = document.createElement(\"style\");\n",
       "    element.appendChild(document.createTextNode(css));\n",
       "    document.body.appendChild(element);\n",
       "  }\n",
       "\n",
       "  \n",
       "  var js_urls = [\"https://cdn.pydata.org/bokeh/release/bokeh-1.4.0.min.js\", \"https://cdn.pydata.org/bokeh/release/bokeh-widgets-1.4.0.min.js\", \"https://cdn.pydata.org/bokeh/release/bokeh-tables-1.4.0.min.js\", \"https://cdn.pydata.org/bokeh/release/bokeh-gl-1.4.0.min.js\"];\n",
       "  var css_urls = [];\n",
       "  \n",
       "\n",
       "  var inline_js = [\n",
       "    function(Bokeh) {\n",
       "      Bokeh.set_log_level(\"info\");\n",
       "    },\n",
       "    function(Bokeh) {\n",
       "    \n",
       "    \n",
       "    }\n",
       "  ];\n",
       "\n",
       "  function run_inline_js() {\n",
       "    \n",
       "    if (root.Bokeh !== undefined || force === true) {\n",
       "      \n",
       "    for (var i = 0; i < inline_js.length; i++) {\n",
       "      inline_js[i].call(root, root.Bokeh);\n",
       "    }\n",
       "    if (force === true) {\n",
       "        display_loaded();\n",
       "      }} else if (Date.now() < root._bokeh_timeout) {\n",
       "      setTimeout(run_inline_js, 100);\n",
       "    } else if (!root._bokeh_failed_load) {\n",
       "      console.log(\"Bokeh: BokehJS failed to load within specified timeout.\");\n",
       "      root._bokeh_failed_load = true;\n",
       "    } else if (force !== true) {\n",
       "      var cell = $(document.getElementById(\"8712\")).parents('.cell').data().cell;\n",
       "      cell.output_area.append_execute_result(NB_LOAD_WARNING)\n",
       "    }\n",
       "\n",
       "  }\n",
       "\n",
       "  if (root._bokeh_is_loading === 0) {\n",
       "    console.debug(\"Bokeh: BokehJS loaded, going straight to plotting\");\n",
       "    run_inline_js();\n",
       "  } else {\n",
       "    load_libs(css_urls, js_urls, function() {\n",
       "      console.debug(\"Bokeh: BokehJS plotting callback run at\", now());\n",
       "      run_inline_js();\n",
       "    });\n",
       "  }\n",
       "}(window));"
      ],
      "application/vnd.bokehjs_load.v0+json": "\n(function(root) {\n  function now() {\n    return new Date();\n  }\n\n  var force = true;\n\n  if (typeof root._bokeh_onload_callbacks === \"undefined\" || force === true) {\n    root._bokeh_onload_callbacks = [];\n    root._bokeh_is_loading = undefined;\n  }\n\n  \n\n  \n  if (typeof (root._bokeh_timeout) === \"undefined\" || force === true) {\n    root._bokeh_timeout = Date.now() + 5000;\n    root._bokeh_failed_load = false;\n  }\n\n  var NB_LOAD_WARNING = {'data': {'text/html':\n     \"<div style='background-color: #fdd'>\\n\"+\n     \"<p>\\n\"+\n     \"BokehJS does not appear to have successfully loaded. If loading BokehJS from CDN, this \\n\"+\n     \"may be due to a slow or bad network connection. Possible fixes:\\n\"+\n     \"</p>\\n\"+\n     \"<ul>\\n\"+\n     \"<li>re-rerun `output_notebook()` to attempt to load from CDN again, or</li>\\n\"+\n     \"<li>use INLINE resources instead, as so:</li>\\n\"+\n     \"</ul>\\n\"+\n     \"<code>\\n\"+\n     \"from bokeh.resources import INLINE\\n\"+\n     \"output_notebook(resources=INLINE)\\n\"+\n     \"</code>\\n\"+\n     \"</div>\"}};\n\n  function display_loaded() {\n    var el = document.getElementById(\"8712\");\n    if (el != null) {\n      el.textContent = \"BokehJS is loading...\";\n    }\n    if (root.Bokeh !== undefined) {\n      if (el != null) {\n        el.textContent = \"BokehJS \" + root.Bokeh.version + \" successfully loaded.\";\n      }\n    } else if (Date.now() < root._bokeh_timeout) {\n      setTimeout(display_loaded, 100)\n    }\n  }\n\n\n  function run_callbacks() {\n    try {\n      root._bokeh_onload_callbacks.forEach(function(callback) {\n        if (callback != null)\n          callback();\n      });\n    } finally {\n      delete root._bokeh_onload_callbacks\n    }\n    console.debug(\"Bokeh: all callbacks have finished\");\n  }\n\n  function load_libs(css_urls, js_urls, callback) {\n    if (css_urls == null) css_urls = [];\n    if (js_urls == null) js_urls = [];\n\n    root._bokeh_onload_callbacks.push(callback);\n    if (root._bokeh_is_loading > 0) {\n      console.debug(\"Bokeh: BokehJS is being loaded, scheduling callback at\", now());\n      return null;\n    }\n    if (js_urls == null || js_urls.length === 0) {\n      run_callbacks();\n      return null;\n    }\n    console.debug(\"Bokeh: BokehJS not loaded, scheduling load and callback at\", now());\n    root._bokeh_is_loading = css_urls.length + js_urls.length;\n\n    function on_load() {\n      root._bokeh_is_loading--;\n      if (root._bokeh_is_loading === 0) {\n        console.debug(\"Bokeh: all BokehJS libraries/stylesheets loaded\");\n        run_callbacks()\n      }\n    }\n\n    function on_error() {\n      console.error(\"failed to load \" + url);\n    }\n\n    for (var i = 0; i < css_urls.length; i++) {\n      var url = css_urls[i];\n      const element = document.createElement(\"link\");\n      element.onload = on_load;\n      element.onerror = on_error;\n      element.rel = \"stylesheet\";\n      element.type = \"text/css\";\n      element.href = url;\n      console.debug(\"Bokeh: injecting link tag for BokehJS stylesheet: \", url);\n      document.body.appendChild(element);\n    }\n\n    for (var i = 0; i < js_urls.length; i++) {\n      var url = js_urls[i];\n      var element = document.createElement('script');\n      element.onload = on_load;\n      element.onerror = on_error;\n      element.async = false;\n      element.src = url;\n      console.debug(\"Bokeh: injecting script tag for BokehJS library: \", url);\n      document.head.appendChild(element);\n    }\n  };var element = document.getElementById(\"8712\");\n  if (element == null) {\n    console.error(\"Bokeh: ERROR: autoload.js configured with elementid '8712' but no matching script tag was found. \")\n    return false;\n  }\n\n  function inject_raw_css(css) {\n    const element = document.createElement(\"style\");\n    element.appendChild(document.createTextNode(css));\n    document.body.appendChild(element);\n  }\n\n  \n  var js_urls = [\"https://cdn.pydata.org/bokeh/release/bokeh-1.4.0.min.js\", \"https://cdn.pydata.org/bokeh/release/bokeh-widgets-1.4.0.min.js\", \"https://cdn.pydata.org/bokeh/release/bokeh-tables-1.4.0.min.js\", \"https://cdn.pydata.org/bokeh/release/bokeh-gl-1.4.0.min.js\"];\n  var css_urls = [];\n  \n\n  var inline_js = [\n    function(Bokeh) {\n      Bokeh.set_log_level(\"info\");\n    },\n    function(Bokeh) {\n    \n    \n    }\n  ];\n\n  function run_inline_js() {\n    \n    if (root.Bokeh !== undefined || force === true) {\n      \n    for (var i = 0; i < inline_js.length; i++) {\n      inline_js[i].call(root, root.Bokeh);\n    }\n    if (force === true) {\n        display_loaded();\n      }} else if (Date.now() < root._bokeh_timeout) {\n      setTimeout(run_inline_js, 100);\n    } else if (!root._bokeh_failed_load) {\n      console.log(\"Bokeh: BokehJS failed to load within specified timeout.\");\n      root._bokeh_failed_load = true;\n    } else if (force !== true) {\n      var cell = $(document.getElementById(\"8712\")).parents('.cell').data().cell;\n      cell.output_area.append_execute_result(NB_LOAD_WARNING)\n    }\n\n  }\n\n  if (root._bokeh_is_loading === 0) {\n    console.debug(\"Bokeh: BokehJS loaded, going straight to plotting\");\n    run_inline_js();\n  } else {\n    load_libs(css_urls, js_urls, function() {\n      console.debug(\"Bokeh: BokehJS plotting callback run at\", now());\n      run_inline_js();\n    });\n  }\n}(window));"
     },
     "metadata": {},
     "output_type": "display_data"
    },
    {
     "data": {
      "text/html": [
       "<div style=\"display: table;\"><div style=\"display: table-row;\"><div style=\"display: table-cell;\"><b title=\"bokeh.models.renderers.GlyphRenderer\">GlyphRenderer</b>(</div><div style=\"display: table-cell;\">id&nbsp;=&nbsp;'8752', <span id=\"8755\" style=\"cursor: pointer;\">&hellip;)</span></div></div><div class=\"8754\" style=\"display: none;\"><div style=\"display: table-cell;\"></div><div style=\"display: table-cell;\">data_source&nbsp;=&nbsp;ColumnDataSource(id='8749', ...),</div></div><div class=\"8754\" style=\"display: none;\"><div style=\"display: table-cell;\"></div><div style=\"display: table-cell;\">glyph&nbsp;=&nbsp;Line(id='8750', ...),</div></div><div class=\"8754\" style=\"display: none;\"><div style=\"display: table-cell;\"></div><div style=\"display: table-cell;\">hover_glyph&nbsp;=&nbsp;None,</div></div><div class=\"8754\" style=\"display: none;\"><div style=\"display: table-cell;\"></div><div style=\"display: table-cell;\">js_event_callbacks&nbsp;=&nbsp;{},</div></div><div class=\"8754\" style=\"display: none;\"><div style=\"display: table-cell;\"></div><div style=\"display: table-cell;\">js_property_callbacks&nbsp;=&nbsp;{},</div></div><div class=\"8754\" style=\"display: none;\"><div style=\"display: table-cell;\"></div><div style=\"display: table-cell;\">level&nbsp;=&nbsp;'glyph',</div></div><div class=\"8754\" style=\"display: none;\"><div style=\"display: table-cell;\"></div><div style=\"display: table-cell;\">muted&nbsp;=&nbsp;False,</div></div><div class=\"8754\" style=\"display: none;\"><div style=\"display: table-cell;\"></div><div style=\"display: table-cell;\">muted_glyph&nbsp;=&nbsp;None,</div></div><div class=\"8754\" style=\"display: none;\"><div style=\"display: table-cell;\"></div><div style=\"display: table-cell;\">name&nbsp;=&nbsp;None,</div></div><div class=\"8754\" style=\"display: none;\"><div style=\"display: table-cell;\"></div><div style=\"display: table-cell;\">nonselection_glyph&nbsp;=&nbsp;Line(id='8751', ...),</div></div><div class=\"8754\" style=\"display: none;\"><div style=\"display: table-cell;\"></div><div style=\"display: table-cell;\">selection_glyph&nbsp;=&nbsp;None,</div></div><div class=\"8754\" style=\"display: none;\"><div style=\"display: table-cell;\"></div><div style=\"display: table-cell;\">subscribed_events&nbsp;=&nbsp;[],</div></div><div class=\"8754\" style=\"display: none;\"><div style=\"display: table-cell;\"></div><div style=\"display: table-cell;\">tags&nbsp;=&nbsp;[],</div></div><div class=\"8754\" style=\"display: none;\"><div style=\"display: table-cell;\"></div><div style=\"display: table-cell;\">view&nbsp;=&nbsp;CDSView(id='8753', ...),</div></div><div class=\"8754\" style=\"display: none;\"><div style=\"display: table-cell;\"></div><div style=\"display: table-cell;\">visible&nbsp;=&nbsp;True,</div></div><div class=\"8754\" style=\"display: none;\"><div style=\"display: table-cell;\"></div><div style=\"display: table-cell;\">x_range_name&nbsp;=&nbsp;'default',</div></div><div class=\"8754\" style=\"display: none;\"><div style=\"display: table-cell;\"></div><div style=\"display: table-cell;\">y_range_name&nbsp;=&nbsp;'default')</div></div></div>\n",
       "<script>\n",
       "(function() {\n",
       "  var expanded = false;\n",
       "  var ellipsis = document.getElementById(\"8755\");\n",
       "  ellipsis.addEventListener(\"click\", function() {\n",
       "    var rows = document.getElementsByClassName(\"8754\");\n",
       "    for (var i = 0; i < rows.length; i++) {\n",
       "      var el = rows[i];\n",
       "      el.style.display = expanded ? \"none\" : \"table-row\";\n",
       "    }\n",
       "    ellipsis.innerHTML = expanded ? \"&hellip;)\" : \"&lsaquo;&lsaquo;&lsaquo;\";\n",
       "    expanded = !expanded;\n",
       "  });\n",
       "})();\n",
       "</script>\n"
      ],
      "text/plain": [
       "GlyphRenderer(id='8752', ...)"
      ]
     },
     "execution_count": 100,
     "metadata": {},
     "output_type": "execute_result"
    }
   ],
   "source": [
    "from bokeh.plotting import figure, output_notebook, show\n",
    "from bokeh.models import BoxAnnotation\n",
    "output_notebook()\n",
    "gdp_tool = [(\"Real GDP \", \"$y{0} billion\")]\n",
    "gdp_plot = figure(title=\"Real GDP Over Time - Presidents\", x_axis_label=\"Time\", y_axis_label=\"Real GDP in Billions of USD\", plot_width=900, tooltips=gdp_tool)\n",
    "gdp_plot.line(years, data_list[0], line_width=2)"
   ]
  },
  {
   "cell_type": "code",
   "execution_count": 101,
   "metadata": {
    "slideshow": {
     "slide_type": "subslide"
    }
   },
   "outputs": [],
   "source": [
    "# Colors corresponding to the political party in executive branch \n",
    "red_1 = BoxAnnotation(left = 1970, right = 1977, fill_color = 'red', fill_alpha = 0.5)\n",
    "red_2 = BoxAnnotation(left = 1981, right = 1993, fill_color = 'red', fill_alpha = 0.5)\n",
    "red_3 = BoxAnnotation(left = 2001, right = 2009, fill_color = 'red', fill_alpha = 0.5)\n",
    "red_4 = BoxAnnotation(left = 2017, right = 2019, fill_color = 'red', fill_alpha = 0.5)\n",
    "blue_1 = BoxAnnotation(left = 1977, right = 1981, fill_color = 'blue', fill_alpha = 0.5)\n",
    "blue_2 = BoxAnnotation(left = 1993, right = 2001, fill_color = 'blue', fill_alpha = 0.5)\n",
    "blue_3 = BoxAnnotation(left = 2009, right = 2017, fill_color = 'blue', fill_alpha = 0.5)"
   ]
  },
  {
   "cell_type": "code",
   "execution_count": 102,
   "metadata": {
    "slideshow": {
     "slide_type": "subslide"
    }
   },
   "outputs": [],
   "source": [
    "# Colors corresponding to the political party in legislative branch \n",
    "red_congress_1 = BoxAnnotation(left = 1995, right = 2007, fill_color = 'red', fill_alpha = 0.5)\n",
    "red_congress_2 = BoxAnnotation(left = 2015, right = 2019, fill_color = 'red', fill_alpha = 0.5)\n",
    "blue_congress_1 = BoxAnnotation(left = 1970, right = 1981, fill_color = 'blue', fill_alpha = 0.5)\n",
    "blue_congress_2 = BoxAnnotation(left = 1987, right = 1995, fill_color = 'blue', fill_alpha = 0.5)\n",
    "blue_congress_3 = BoxAnnotation(left = 2007, right = 2011, fill_color = 'blue', fill_alpha = 0.5)\n",
    "purple_congress_1 = BoxAnnotation(left = 1981, right = 1987, fill_color = '#800080', fill_alpha = 0.5)\n",
    "purple_congress_2 = BoxAnnotation(left = 2011, right = 2015, fill_color = '#800080', fill_alpha = 0.5)"
   ]
  },
  {
   "cell_type": "code",
   "execution_count": 103,
   "metadata": {
    "slideshow": {
     "slide_type": "subslide"
    }
   },
   "outputs": [],
   "source": [
    "# recessions\n",
    "rec_1 = BoxAnnotation(left = 1973, right = 1975, fill_color = '#333333', fill_alpha = 0.5)\n",
    "rec_2 = BoxAnnotation(left = 1981, right = 1982, fill_color = '#333333', fill_alpha = 0.5)\n",
    "rec_3 = BoxAnnotation(left = 1990, right = 1991, fill_color = '#333333', fill_alpha = 0.5)\n",
    "rec_4 = BoxAnnotation(left = 2001.3, right = 2001.9, fill_color = '#333333', fill_alpha = 0.5)\n",
    "rec_5 = BoxAnnotation(left = 2008, right = 2009.5, fill_color = '#333333', fill_alpha = 0.5)"
   ]
  },
  {
   "cell_type": "code",
   "execution_count": 104,
   "metadata": {
    "slideshow": {
     "slide_type": "skip"
    }
   },
   "outputs": [],
   "source": [
    "boxList = [red_1, red_2, red_3, red_4, blue_1, blue_2, blue_3, rec_1, rec_2, rec_3, rec_4, rec_5]\n",
    "congress_boxList = [red_congress_1, red_congress_2, blue_congress_1, blue_congress_2, blue_congress_3, purple_congress_1, purple_congress_2, rec_1, rec_2, rec_3, rec_4, rec_5]\n",
    "\n",
    "gdp_plot_congress = figure(title=\"Real GDP Over Time - Congress\", x_axis_label=\"Time\", y_axis_label=\"Real GDP in Billions of USD\", plot_width=900, tooltips=gdp_tool)\n",
    "gdp_plot_congress.line(years, data_list[0], line_width = 2)\n",
    "    \n",
    "for box in boxList:\n",
    "    gdp_plot.add_layout(box)\n",
    "for box in congress_boxList:\n",
    "    gdp_plot_congress.add_layout(box)"
   ]
  },
  {
   "cell_type": "markdown",
   "metadata": {
    "slideshow": {
     "slide_type": "subslide"
    }
   },
   "source": [
    "\n",
    "## Graph 1.1: GDP Over Time - Line"
   ]
  },
  {
   "cell_type": "code",
   "execution_count": 105,
   "metadata": {
    "slideshow": {
     "slide_type": "subslide"
    }
   },
   "outputs": [
    {
     "data": {
      "text/html": [
       "\n",
       "\n",
       "\n",
       "\n",
       "\n",
       "\n",
       "  <div class=\"bk-root\" id=\"bbf84029-ab5e-40ce-9d67-aa81915d338d\" data-root-id=\"8713\"></div>\n"
      ]
     },
     "metadata": {},
     "output_type": "display_data"
    },
    {
     "data": {
      "application/javascript": [
       "(function(root) {\n",
       "  function embed_document(root) {\n",
       "    \n",
       "  var docs_json = {\"57df8c5a-502e-43c4-bd4e-7882f5b6e289\":{\"roots\":{\"references\":[{\"attributes\":{\"below\":[{\"id\":\"8724\",\"type\":\"LinearAxis\"}],\"center\":[{\"id\":\"8728\",\"type\":\"Grid\"},{\"id\":\"8733\",\"type\":\"Grid\"},{\"id\":\"8756\",\"type\":\"BoxAnnotation\"},{\"id\":\"8757\",\"type\":\"BoxAnnotation\"},{\"id\":\"8758\",\"type\":\"BoxAnnotation\"},{\"id\":\"8759\",\"type\":\"BoxAnnotation\"},{\"id\":\"8760\",\"type\":\"BoxAnnotation\"},{\"id\":\"8761\",\"type\":\"BoxAnnotation\"},{\"id\":\"8762\",\"type\":\"BoxAnnotation\"},{\"id\":\"8770\",\"type\":\"BoxAnnotation\"},{\"id\":\"8771\",\"type\":\"BoxAnnotation\"},{\"id\":\"8772\",\"type\":\"BoxAnnotation\"},{\"id\":\"8773\",\"type\":\"BoxAnnotation\"},{\"id\":\"8774\",\"type\":\"BoxAnnotation\"}],\"left\":[{\"id\":\"8729\",\"type\":\"LinearAxis\"}],\"plot_width\":900,\"renderers\":[{\"id\":\"8752\",\"type\":\"GlyphRenderer\"}],\"title\":{\"id\":\"8714\",\"type\":\"Title\"},\"toolbar\":{\"id\":\"8741\",\"type\":\"Toolbar\"},\"x_range\":{\"id\":\"8716\",\"type\":\"DataRange1d\"},\"x_scale\":{\"id\":\"8720\",\"type\":\"LinearScale\"},\"y_range\":{\"id\":\"8718\",\"type\":\"DataRange1d\"},\"y_scale\":{\"id\":\"8722\",\"type\":\"LinearScale\"}},\"id\":\"8713\",\"subtype\":\"Figure\",\"type\":\"Plot\"},{\"attributes\":{\"fill_alpha\":{\"value\":0.5},\"fill_color\":{\"value\":\"red\"},\"left\":2001,\"right\":2009},\"id\":\"8758\",\"type\":\"BoxAnnotation\"},{\"attributes\":{\"dimension\":1,\"ticker\":{\"id\":\"8730\",\"type\":\"BasicTicker\"}},\"id\":\"8733\",\"type\":\"Grid\"},{\"attributes\":{\"ticker\":{\"id\":\"8725\",\"type\":\"BasicTicker\"}},\"id\":\"8728\",\"type\":\"Grid\"},{\"attributes\":{\"active_drag\":\"auto\",\"active_inspect\":\"auto\",\"active_multi\":null,\"active_scroll\":\"auto\",\"active_tap\":\"auto\",\"tools\":[{\"id\":\"8734\",\"type\":\"PanTool\"},{\"id\":\"8735\",\"type\":\"WheelZoomTool\"},{\"id\":\"8736\",\"type\":\"BoxZoomTool\"},{\"id\":\"8737\",\"type\":\"SaveTool\"},{\"id\":\"8738\",\"type\":\"ResetTool\"},{\"id\":\"8739\",\"type\":\"HelpTool\"},{\"id\":\"8740\",\"type\":\"HoverTool\"}]},\"id\":\"8741\",\"type\":\"Toolbar\"},{\"attributes\":{\"overlay\":{\"id\":\"9085\",\"type\":\"BoxAnnotation\"}},\"id\":\"8736\",\"type\":\"BoxZoomTool\"},{\"attributes\":{},\"id\":\"8730\",\"type\":\"BasicTicker\"},{\"attributes\":{},\"id\":\"9086\",\"type\":\"UnionRenderers\"},{\"attributes\":{},\"id\":\"8725\",\"type\":\"BasicTicker\"},{\"attributes\":{\"axis_label\":\"Time\",\"formatter\":{\"id\":\"9083\",\"type\":\"BasicTickFormatter\"},\"ticker\":{\"id\":\"8725\",\"type\":\"BasicTicker\"}},\"id\":\"8724\",\"type\":\"LinearAxis\"},{\"attributes\":{\"line_color\":\"#1f77b4\",\"line_width\":2,\"x\":{\"field\":\"x\"},\"y\":{\"field\":\"y\"}},\"id\":\"8750\",\"type\":\"Line\"},{\"attributes\":{\"fill_alpha\":{\"value\":0.5},\"fill_color\":{\"value\":\"red\"},\"left\":1970,\"right\":1977},\"id\":\"8756\",\"type\":\"BoxAnnotation\"},{\"attributes\":{\"fill_alpha\":{\"value\":0.5},\"fill_color\":{\"value\":\"#333333\"},\"left\":1981,\"right\":1982},\"id\":\"8771\",\"type\":\"BoxAnnotation\"},{\"attributes\":{\"data_source\":{\"id\":\"8749\",\"type\":\"ColumnDataSource\"},\"glyph\":{\"id\":\"8750\",\"type\":\"Line\"},\"hover_glyph\":null,\"muted_glyph\":null,\"nonselection_glyph\":{\"id\":\"8751\",\"type\":\"Line\"},\"selection_glyph\":null,\"view\":{\"id\":\"8753\",\"type\":\"CDSView\"}},\"id\":\"8752\",\"type\":\"GlyphRenderer\"},{\"attributes\":{\"axis_label\":\"Real GDP in Billions of USD\",\"formatter\":{\"id\":\"9081\",\"type\":\"BasicTickFormatter\"},\"ticker\":{\"id\":\"8730\",\"type\":\"BasicTicker\"}},\"id\":\"8729\",\"type\":\"LinearAxis\"},{\"attributes\":{},\"id\":\"9081\",\"type\":\"BasicTickFormatter\"},{\"attributes\":{},\"id\":\"8738\",\"type\":\"ResetTool\"},{\"attributes\":{\"fill_alpha\":{\"value\":0.5},\"fill_color\":{\"value\":\"#333333\"},\"left\":2001.3,\"right\":2001.9},\"id\":\"8773\",\"type\":\"BoxAnnotation\"},{\"attributes\":{},\"id\":\"8722\",\"type\":\"LinearScale\"},{\"attributes\":{\"callback\":null},\"id\":\"8716\",\"type\":\"DataRange1d\"},{\"attributes\":{\"fill_alpha\":{\"value\":0.5},\"fill_color\":{\"value\":\"#333333\"},\"left\":2008,\"right\":2009.5},\"id\":\"8774\",\"type\":\"BoxAnnotation\"},{\"attributes\":{\"callback\":null,\"data\":{\"x\":[1970.0,1970.25,1970.5,1970.75,1971.0,1971.25,1971.5,1971.75,1972.0,1972.25,1972.5,1972.75,1973.0,1973.25,1973.5,1973.75,1974.0,1974.25,1974.5,1974.75,1975.0,1975.25,1975.5,1975.75,1976.0,1976.25,1976.5,1976.75,1977.0,1977.25,1977.5,1977.75,1978.0,1978.25,1978.5,1978.75,1979.0,1979.25,1979.5,1979.75,1980.0,1980.25,1980.5,1980.75,1981.0,1981.25,1981.5,1981.75,1982.0,1982.25,1982.5,1982.75,1983.0,1983.25,1983.5,1983.75,1984.0,1984.25,1984.5,1984.75,1985.0,1985.25,1985.5,1985.75,1986.0,1986.25,1986.5,1986.75,1987.0,1987.25,1987.5,1987.75,1988.0,1988.25,1988.5,1988.75,1989.0,1989.25,1989.5,1989.75,1990.0,1990.25,1990.5,1990.75,1991.0,1991.25,1991.5,1991.75,1992.0,1992.25,1992.5,1992.75,1993.0,1993.25,1993.5,1993.75,1994.0,1994.25,1994.5,1994.75,1995.0,1995.25,1995.5,1995.75,1996.0,1996.25,1996.5,1996.75,1997.0,1997.25,1997.5,1997.75,1998.0,1998.25,1998.5,1998.75,1999.0,1999.25,1999.5,1999.75,2000.0,2000.25,2000.5,2000.75,2001.0,2001.25,2001.5,2001.75,2002.0,2002.25,2002.5,2002.75,2003.0,2003.25,2003.5,2003.75,2004.0,2004.25,2004.5,2004.75,2005.0,2005.25,2005.5,2005.75,2006.0,2006.25,2006.5,2006.75,2007.0,2007.25,2007.5,2007.75,2008.0,2008.25,2008.5,2008.75,2009.0,2009.25,2009.5,2009.75,2010.0,2010.25,2010.5,2010.75,2011.0,2011.25,2011.5,2011.75,2012.0,2012.25,2012.5,2012.75,2013.0,2013.25,2013.5,2013.75,2014.0,2014.25,2014.5,2014.75,2015.0,2015.25,2015.5,2015.75,2016.0,2016.25,2016.5,2016.75,2017.0,2017.25,2017.5,2017.75,2018.0,2018.25,2018.5,2018.75,2019.0],\"y\":[4936.594,4943.6,4989.159,4935.693,5069.746,5097.179,5139.128,5151.245,5245.974,5365.045,5415.712,5506.396,5642.669,5704.098,5674.1,5727.96,5678.713,5692.21,5638.411,5616.526,5548.156,5587.8,5683.444,5759.972,5889.5,5932.711,5965.265,6008.504,6079.494,6197.686,6309.514,6309.652,6329.791,6574.39,6640.497,6729.755,6741.854,6749.063,6799.2,6816.203,6837.641,6696.753,6688.794,6813.535,6947.042,6895.559,6978.135,6902.105,6794.878,6825.876,6799.781,6802.497,6892.144,7048.982,7189.896,7339.893,7483.371,7612.668,7686.059,7749.151,7824.247,7893.136,8013.674,8073.239,8148.603,8185.303,8263.639,8308.021,8369.93,8460.233,8533.635,8680.162,8725.006,8839.641,8891.435,9009.913,9101.508,9170.977,9238.923,9257.128,9358.289,9392.251,9398.499,9312.937,9269.367,9341.642,9388.845,9421.565,9534.346,9637.732,9732.979,9834.51,9850.973,9908.347,9955.641,10091.049,10188.954,10327.019,10387.382,10506.372,10543.644,10575.1,10665.06,10737.478,10817.896,10998.322,11096.976,11212.205,11284.587,11472.137,11615.636,11715.393,11832.486,11942.032,12091.614,12287.0,12403.293,12498.694,12662.385,12877.593,12924.179,13160.842,13178.419,13260.506,13222.69,13299.984,13244.784,13280.859,13397.002,13478.152,13538.072,13559.032,13634.253,13751.543,13985.073,14145.645,14221.147,14329.523,14464.984,14609.876,14771.602,14839.782,14972.054,15066.597,15267.026,15302.705,15326.368,15456.928,15493.328,15582.085,15666.738,15761.967,15671.383,15752.308,15667.032,15328.027,15155.94,15134.117,15189.222,15356.058,15415.145,15557.277,15671.967,15750.625,15712.754,15825.096,15820.7,16004.107,16129.418,16198.807,16220.667,16239.138,16382.964,16403.18,16531.685,16663.649,16616.54,16841.475,17047.098,17143.038,17277.58,17405.669,17463.222,17468.902,17556.839,17639.417,17735.074,17824.231,17925.256,18021.048,18163.558,18322.464,18438.254,18598.135,18732.72,18783.548,18927.281]},\"selected\":{\"id\":\"9087\",\"type\":\"Selection\"},\"selection_policy\":{\"id\":\"9086\",\"type\":\"UnionRenderers\"}},\"id\":\"8749\",\"type\":\"ColumnDataSource\"},{\"attributes\":{\"fill_alpha\":{\"value\":0.5},\"fill_color\":{\"value\":\"blue\"},\"left\":1993,\"right\":2001},\"id\":\"8761\",\"type\":\"BoxAnnotation\"},{\"attributes\":{\"fill_alpha\":{\"value\":0.5},\"fill_color\":{\"value\":\"#333333\"},\"left\":1990,\"right\":1991},\"id\":\"8772\",\"type\":\"BoxAnnotation\"},{\"attributes\":{\"fill_alpha\":{\"value\":0.5},\"fill_color\":{\"value\":\"blue\"},\"left\":2009,\"right\":2017},\"id\":\"8762\",\"type\":\"BoxAnnotation\"},{\"attributes\":{},\"id\":\"8734\",\"type\":\"PanTool\"},{\"attributes\":{\"line_alpha\":0.1,\"line_color\":\"#1f77b4\",\"line_width\":2,\"x\":{\"field\":\"x\"},\"y\":{\"field\":\"y\"}},\"id\":\"8751\",\"type\":\"Line\"},{\"attributes\":{},\"id\":\"9087\",\"type\":\"Selection\"},{\"attributes\":{\"fill_alpha\":{\"value\":0.5},\"fill_color\":{\"value\":\"red\"},\"left\":1981,\"right\":1993},\"id\":\"8757\",\"type\":\"BoxAnnotation\"},{\"attributes\":{},\"id\":\"8720\",\"type\":\"LinearScale\"},{\"attributes\":{},\"id\":\"9083\",\"type\":\"BasicTickFormatter\"},{\"attributes\":{\"fill_alpha\":{\"value\":0.5},\"fill_color\":{\"value\":\"blue\"},\"left\":1977,\"right\":1981},\"id\":\"8760\",\"type\":\"BoxAnnotation\"},{\"attributes\":{},\"id\":\"8737\",\"type\":\"SaveTool\"},{\"attributes\":{},\"id\":\"8735\",\"type\":\"WheelZoomTool\"},{\"attributes\":{\"callback\":null,\"tooltips\":[[\"Real GDP \",\"$y{0} billion\"]]},\"id\":\"8740\",\"type\":\"HoverTool\"},{\"attributes\":{},\"id\":\"8739\",\"type\":\"HelpTool\"},{\"attributes\":{\"source\":{\"id\":\"8749\",\"type\":\"ColumnDataSource\"}},\"id\":\"8753\",\"type\":\"CDSView\"},{\"attributes\":{\"fill_alpha\":{\"value\":0.5},\"fill_color\":{\"value\":\"red\"},\"left\":2017,\"right\":2019},\"id\":\"8759\",\"type\":\"BoxAnnotation\"},{\"attributes\":{\"callback\":null},\"id\":\"8718\",\"type\":\"DataRange1d\"},{\"attributes\":{\"bottom_units\":\"screen\",\"fill_alpha\":{\"value\":0.5},\"fill_color\":{\"value\":\"lightgrey\"},\"left_units\":\"screen\",\"level\":\"overlay\",\"line_alpha\":{\"value\":1.0},\"line_color\":{\"value\":\"black\"},\"line_dash\":[4,4],\"line_width\":{\"value\":2},\"render_mode\":\"css\",\"right_units\":\"screen\",\"top_units\":\"screen\"},\"id\":\"9085\",\"type\":\"BoxAnnotation\"},{\"attributes\":{\"fill_alpha\":{\"value\":0.5},\"fill_color\":{\"value\":\"#333333\"},\"left\":1973,\"right\":1975},\"id\":\"8770\",\"type\":\"BoxAnnotation\"},{\"attributes\":{\"text\":\"Real GDP Over Time - Presidents\"},\"id\":\"8714\",\"type\":\"Title\"}],\"root_ids\":[\"8713\"]},\"title\":\"Bokeh Application\",\"version\":\"1.4.0\"}};\n",
       "  var render_items = [{\"docid\":\"57df8c5a-502e-43c4-bd4e-7882f5b6e289\",\"roots\":{\"8713\":\"bbf84029-ab5e-40ce-9d67-aa81915d338d\"}}];\n",
       "  root.Bokeh.embed.embed_items_notebook(docs_json, render_items);\n",
       "\n",
       "  }\n",
       "  if (root.Bokeh !== undefined) {\n",
       "    embed_document(root);\n",
       "  } else {\n",
       "    var attempts = 0;\n",
       "    var timer = setInterval(function(root) {\n",
       "      if (root.Bokeh !== undefined) {\n",
       "        clearInterval(timer);\n",
       "        embed_document(root);\n",
       "      } else {\n",
       "        attempts++;\n",
       "        if (attempts > 100) {\n",
       "          clearInterval(timer);\n",
       "          console.log(\"Bokeh: ERROR: Unable to run BokehJS code because BokehJS library is missing\");\n",
       "        }\n",
       "      }\n",
       "    }, 10, root)\n",
       "  }\n",
       "})(window);"
      ],
      "application/vnd.bokehjs_exec.v0+json": ""
     },
     "metadata": {
      "application/vnd.bokehjs_exec.v0+json": {
       "id": "8713"
      }
     },
     "output_type": "display_data"
    }
   ],
   "source": [
    "show(gdp_plot)"
   ]
  },
  {
   "cell_type": "code",
   "execution_count": 106,
   "metadata": {
    "slideshow": {
     "slide_type": "subslide"
    }
   },
   "outputs": [
    {
     "data": {
      "text/html": [
       "\n",
       "\n",
       "\n",
       "\n",
       "\n",
       "\n",
       "  <div class=\"bk-root\" id=\"d5f4c6a4-7bcf-49c9-85ba-23f9c85fab70\" data-root-id=\"8775\"></div>\n"
      ]
     },
     "metadata": {},
     "output_type": "display_data"
    },
    {
     "data": {
      "application/javascript": [
       "(function(root) {\n",
       "  function embed_document(root) {\n",
       "    \n",
       "  var docs_json = {\"96dda03d-9b16-4171-8b43-e172e84f090d\":{\"roots\":{\"references\":[{\"attributes\":{\"below\":[{\"id\":\"8786\",\"type\":\"LinearAxis\"}],\"center\":[{\"id\":\"8790\",\"type\":\"Grid\"},{\"id\":\"8795\",\"type\":\"Grid\"},{\"id\":\"8763\",\"type\":\"BoxAnnotation\"},{\"id\":\"8764\",\"type\":\"BoxAnnotation\"},{\"id\":\"8765\",\"type\":\"BoxAnnotation\"},{\"id\":\"8766\",\"type\":\"BoxAnnotation\"},{\"id\":\"8767\",\"type\":\"BoxAnnotation\"},{\"id\":\"8768\",\"type\":\"BoxAnnotation\"},{\"id\":\"8769\",\"type\":\"BoxAnnotation\"},{\"id\":\"8770\",\"type\":\"BoxAnnotation\"},{\"id\":\"8771\",\"type\":\"BoxAnnotation\"},{\"id\":\"8772\",\"type\":\"BoxAnnotation\"},{\"id\":\"8773\",\"type\":\"BoxAnnotation\"},{\"id\":\"8774\",\"type\":\"BoxAnnotation\"}],\"left\":[{\"id\":\"8791\",\"type\":\"LinearAxis\"}],\"plot_width\":900,\"renderers\":[{\"id\":\"8814\",\"type\":\"GlyphRenderer\"}],\"title\":{\"id\":\"8776\",\"type\":\"Title\"},\"toolbar\":{\"id\":\"8803\",\"type\":\"Toolbar\"},\"x_range\":{\"id\":\"8778\",\"type\":\"DataRange1d\"},\"x_scale\":{\"id\":\"8782\",\"type\":\"LinearScale\"},\"y_range\":{\"id\":\"8780\",\"type\":\"DataRange1d\"},\"y_scale\":{\"id\":\"8784\",\"type\":\"LinearScale\"}},\"id\":\"8775\",\"subtype\":\"Figure\",\"type\":\"Plot\"},{\"attributes\":{},\"id\":\"9411\",\"type\":\"BasicTickFormatter\"},{\"attributes\":{},\"id\":\"8801\",\"type\":\"HelpTool\"},{\"attributes\":{\"fill_alpha\":{\"value\":0.5},\"fill_color\":{\"value\":\"blue\"},\"left\":2007,\"right\":2011},\"id\":\"8767\",\"type\":\"BoxAnnotation\"},{\"attributes\":{},\"id\":\"8782\",\"type\":\"LinearScale\"},{\"attributes\":{\"callback\":null,\"data\":{\"x\":[1970.0,1970.25,1970.5,1970.75,1971.0,1971.25,1971.5,1971.75,1972.0,1972.25,1972.5,1972.75,1973.0,1973.25,1973.5,1973.75,1974.0,1974.25,1974.5,1974.75,1975.0,1975.25,1975.5,1975.75,1976.0,1976.25,1976.5,1976.75,1977.0,1977.25,1977.5,1977.75,1978.0,1978.25,1978.5,1978.75,1979.0,1979.25,1979.5,1979.75,1980.0,1980.25,1980.5,1980.75,1981.0,1981.25,1981.5,1981.75,1982.0,1982.25,1982.5,1982.75,1983.0,1983.25,1983.5,1983.75,1984.0,1984.25,1984.5,1984.75,1985.0,1985.25,1985.5,1985.75,1986.0,1986.25,1986.5,1986.75,1987.0,1987.25,1987.5,1987.75,1988.0,1988.25,1988.5,1988.75,1989.0,1989.25,1989.5,1989.75,1990.0,1990.25,1990.5,1990.75,1991.0,1991.25,1991.5,1991.75,1992.0,1992.25,1992.5,1992.75,1993.0,1993.25,1993.5,1993.75,1994.0,1994.25,1994.5,1994.75,1995.0,1995.25,1995.5,1995.75,1996.0,1996.25,1996.5,1996.75,1997.0,1997.25,1997.5,1997.75,1998.0,1998.25,1998.5,1998.75,1999.0,1999.25,1999.5,1999.75,2000.0,2000.25,2000.5,2000.75,2001.0,2001.25,2001.5,2001.75,2002.0,2002.25,2002.5,2002.75,2003.0,2003.25,2003.5,2003.75,2004.0,2004.25,2004.5,2004.75,2005.0,2005.25,2005.5,2005.75,2006.0,2006.25,2006.5,2006.75,2007.0,2007.25,2007.5,2007.75,2008.0,2008.25,2008.5,2008.75,2009.0,2009.25,2009.5,2009.75,2010.0,2010.25,2010.5,2010.75,2011.0,2011.25,2011.5,2011.75,2012.0,2012.25,2012.5,2012.75,2013.0,2013.25,2013.5,2013.75,2014.0,2014.25,2014.5,2014.75,2015.0,2015.25,2015.5,2015.75,2016.0,2016.25,2016.5,2016.75,2017.0,2017.25,2017.5,2017.75,2018.0,2018.25,2018.5,2018.75,2019.0],\"y\":[4936.594,4943.6,4989.159,4935.693,5069.746,5097.179,5139.128,5151.245,5245.974,5365.045,5415.712,5506.396,5642.669,5704.098,5674.1,5727.96,5678.713,5692.21,5638.411,5616.526,5548.156,5587.8,5683.444,5759.972,5889.5,5932.711,5965.265,6008.504,6079.494,6197.686,6309.514,6309.652,6329.791,6574.39,6640.497,6729.755,6741.854,6749.063,6799.2,6816.203,6837.641,6696.753,6688.794,6813.535,6947.042,6895.559,6978.135,6902.105,6794.878,6825.876,6799.781,6802.497,6892.144,7048.982,7189.896,7339.893,7483.371,7612.668,7686.059,7749.151,7824.247,7893.136,8013.674,8073.239,8148.603,8185.303,8263.639,8308.021,8369.93,8460.233,8533.635,8680.162,8725.006,8839.641,8891.435,9009.913,9101.508,9170.977,9238.923,9257.128,9358.289,9392.251,9398.499,9312.937,9269.367,9341.642,9388.845,9421.565,9534.346,9637.732,9732.979,9834.51,9850.973,9908.347,9955.641,10091.049,10188.954,10327.019,10387.382,10506.372,10543.644,10575.1,10665.06,10737.478,10817.896,10998.322,11096.976,11212.205,11284.587,11472.137,11615.636,11715.393,11832.486,11942.032,12091.614,12287.0,12403.293,12498.694,12662.385,12877.593,12924.179,13160.842,13178.419,13260.506,13222.69,13299.984,13244.784,13280.859,13397.002,13478.152,13538.072,13559.032,13634.253,13751.543,13985.073,14145.645,14221.147,14329.523,14464.984,14609.876,14771.602,14839.782,14972.054,15066.597,15267.026,15302.705,15326.368,15456.928,15493.328,15582.085,15666.738,15761.967,15671.383,15752.308,15667.032,15328.027,15155.94,15134.117,15189.222,15356.058,15415.145,15557.277,15671.967,15750.625,15712.754,15825.096,15820.7,16004.107,16129.418,16198.807,16220.667,16239.138,16382.964,16403.18,16531.685,16663.649,16616.54,16841.475,17047.098,17143.038,17277.58,17405.669,17463.222,17468.902,17556.839,17639.417,17735.074,17824.231,17925.256,18021.048,18163.558,18322.464,18438.254,18598.135,18732.72,18783.548,18927.281]},\"selected\":{\"id\":\"9415\",\"type\":\"Selection\"},\"selection_policy\":{\"id\":\"9414\",\"type\":\"UnionRenderers\"}},\"id\":\"8811\",\"type\":\"ColumnDataSource\"},{\"attributes\":{\"fill_alpha\":{\"value\":0.5},\"fill_color\":{\"value\":\"#333333\"},\"left\":1981,\"right\":1982},\"id\":\"8771\",\"type\":\"BoxAnnotation\"},{\"attributes\":{\"fill_alpha\":{\"value\":0.5},\"fill_color\":{\"value\":\"red\"},\"left\":1995,\"right\":2007},\"id\":\"8763\",\"type\":\"BoxAnnotation\"},{\"attributes\":{},\"id\":\"8797\",\"type\":\"WheelZoomTool\"},{\"attributes\":{\"active_drag\":\"auto\",\"active_inspect\":\"auto\",\"active_multi\":null,\"active_scroll\":\"auto\",\"active_tap\":\"auto\",\"tools\":[{\"id\":\"8796\",\"type\":\"PanTool\"},{\"id\":\"8797\",\"type\":\"WheelZoomTool\"},{\"id\":\"8798\",\"type\":\"BoxZoomTool\"},{\"id\":\"8799\",\"type\":\"SaveTool\"},{\"id\":\"8800\",\"type\":\"ResetTool\"},{\"id\":\"8801\",\"type\":\"HelpTool\"},{\"id\":\"8802\",\"type\":\"HoverTool\"}]},\"id\":\"8803\",\"type\":\"Toolbar\"},{\"attributes\":{\"fill_alpha\":{\"value\":0.5},\"fill_color\":{\"value\":\"#333333\"},\"left\":2001.3,\"right\":2001.9},\"id\":\"8773\",\"type\":\"BoxAnnotation\"},{\"attributes\":{\"callback\":null},\"id\":\"8780\",\"type\":\"DataRange1d\"},{\"attributes\":{},\"id\":\"8787\",\"type\":\"BasicTicker\"},{\"attributes\":{\"ticker\":{\"id\":\"8787\",\"type\":\"BasicTicker\"}},\"id\":\"8790\",\"type\":\"Grid\"},{\"attributes\":{\"fill_alpha\":{\"value\":0.5},\"fill_color\":{\"value\":\"#333333\"},\"left\":2008,\"right\":2009.5},\"id\":\"8774\",\"type\":\"BoxAnnotation\"},{\"attributes\":{\"fill_alpha\":{\"value\":0.5},\"fill_color\":{\"value\":\"#800080\"},\"left\":2011,\"right\":2015},\"id\":\"8769\",\"type\":\"BoxAnnotation\"},{\"attributes\":{\"text\":\"Real GDP Over Time - Congress\"},\"id\":\"8776\",\"type\":\"Title\"},{\"attributes\":{},\"id\":\"8800\",\"type\":\"ResetTool\"},{\"attributes\":{\"data_source\":{\"id\":\"8811\",\"type\":\"ColumnDataSource\"},\"glyph\":{\"id\":\"8812\",\"type\":\"Line\"},\"hover_glyph\":null,\"muted_glyph\":null,\"nonselection_glyph\":{\"id\":\"8813\",\"type\":\"Line\"},\"selection_glyph\":null,\"view\":{\"id\":\"8815\",\"type\":\"CDSView\"}},\"id\":\"8814\",\"type\":\"GlyphRenderer\"},{\"attributes\":{\"fill_alpha\":{\"value\":0.5},\"fill_color\":{\"value\":\"#333333\"},\"left\":1990,\"right\":1991},\"id\":\"8772\",\"type\":\"BoxAnnotation\"},{\"attributes\":{},\"id\":\"8792\",\"type\":\"BasicTicker\"},{\"attributes\":{\"fill_alpha\":{\"value\":0.5},\"fill_color\":{\"value\":\"blue\"},\"left\":1970,\"right\":1981},\"id\":\"8765\",\"type\":\"BoxAnnotation\"},{\"attributes\":{\"bottom_units\":\"screen\",\"fill_alpha\":{\"value\":0.5},\"fill_color\":{\"value\":\"lightgrey\"},\"left_units\":\"screen\",\"level\":\"overlay\",\"line_alpha\":{\"value\":1.0},\"line_color\":{\"value\":\"black\"},\"line_dash\":[4,4],\"line_width\":{\"value\":2},\"render_mode\":\"css\",\"right_units\":\"screen\",\"top_units\":\"screen\"},\"id\":\"9413\",\"type\":\"BoxAnnotation\"},{\"attributes\":{\"fill_alpha\":{\"value\":0.5},\"fill_color\":{\"value\":\"#800080\"},\"left\":1981,\"right\":1987},\"id\":\"8768\",\"type\":\"BoxAnnotation\"},{\"attributes\":{\"axis_label\":\"Real GDP in Billions of USD\",\"formatter\":{\"id\":\"9409\",\"type\":\"BasicTickFormatter\"},\"ticker\":{\"id\":\"8792\",\"type\":\"BasicTicker\"}},\"id\":\"8791\",\"type\":\"LinearAxis\"},{\"attributes\":{\"source\":{\"id\":\"8811\",\"type\":\"ColumnDataSource\"}},\"id\":\"8815\",\"type\":\"CDSView\"},{\"attributes\":{},\"id\":\"9415\",\"type\":\"Selection\"},{\"attributes\":{\"overlay\":{\"id\":\"9413\",\"type\":\"BoxAnnotation\"}},\"id\":\"8798\",\"type\":\"BoxZoomTool\"},{\"attributes\":{},\"id\":\"8784\",\"type\":\"LinearScale\"},{\"attributes\":{\"axis_label\":\"Time\",\"formatter\":{\"id\":\"9411\",\"type\":\"BasicTickFormatter\"},\"ticker\":{\"id\":\"8787\",\"type\":\"BasicTicker\"}},\"id\":\"8786\",\"type\":\"LinearAxis\"},{\"attributes\":{\"dimension\":1,\"ticker\":{\"id\":\"8792\",\"type\":\"BasicTicker\"}},\"id\":\"8795\",\"type\":\"Grid\"},{\"attributes\":{\"callback\":null,\"tooltips\":[[\"Real GDP \",\"$y{0} billion\"]]},\"id\":\"8802\",\"type\":\"HoverTool\"},{\"attributes\":{\"line_color\":\"#1f77b4\",\"line_width\":2,\"x\":{\"field\":\"x\"},\"y\":{\"field\":\"y\"}},\"id\":\"8812\",\"type\":\"Line\"},{\"attributes\":{\"fill_alpha\":{\"value\":0.5},\"fill_color\":{\"value\":\"red\"},\"left\":2015,\"right\":2019},\"id\":\"8764\",\"type\":\"BoxAnnotation\"},{\"attributes\":{},\"id\":\"8796\",\"type\":\"PanTool\"},{\"attributes\":{\"line_alpha\":0.1,\"line_color\":\"#1f77b4\",\"line_width\":2,\"x\":{\"field\":\"x\"},\"y\":{\"field\":\"y\"}},\"id\":\"8813\",\"type\":\"Line\"},{\"attributes\":{\"callback\":null},\"id\":\"8778\",\"type\":\"DataRange1d\"},{\"attributes\":{},\"id\":\"9414\",\"type\":\"UnionRenderers\"},{\"attributes\":{\"fill_alpha\":{\"value\":0.5},\"fill_color\":{\"value\":\"blue\"},\"left\":1987,\"right\":1995},\"id\":\"8766\",\"type\":\"BoxAnnotation\"},{\"attributes\":{},\"id\":\"9409\",\"type\":\"BasicTickFormatter\"},{\"attributes\":{},\"id\":\"8799\",\"type\":\"SaveTool\"},{\"attributes\":{\"fill_alpha\":{\"value\":0.5},\"fill_color\":{\"value\":\"#333333\"},\"left\":1973,\"right\":1975},\"id\":\"8770\",\"type\":\"BoxAnnotation\"}],\"root_ids\":[\"8775\"]},\"title\":\"Bokeh Application\",\"version\":\"1.4.0\"}};\n",
       "  var render_items = [{\"docid\":\"96dda03d-9b16-4171-8b43-e172e84f090d\",\"roots\":{\"8775\":\"d5f4c6a4-7bcf-49c9-85ba-23f9c85fab70\"}}];\n",
       "  root.Bokeh.embed.embed_items_notebook(docs_json, render_items);\n",
       "\n",
       "  }\n",
       "  if (root.Bokeh !== undefined) {\n",
       "    embed_document(root);\n",
       "  } else {\n",
       "    var attempts = 0;\n",
       "    var timer = setInterval(function(root) {\n",
       "      if (root.Bokeh !== undefined) {\n",
       "        clearInterval(timer);\n",
       "        embed_document(root);\n",
       "      } else {\n",
       "        attempts++;\n",
       "        if (attempts > 100) {\n",
       "          clearInterval(timer);\n",
       "          console.log(\"Bokeh: ERROR: Unable to run BokehJS code because BokehJS library is missing\");\n",
       "        }\n",
       "      }\n",
       "    }, 10, root)\n",
       "  }\n",
       "})(window);"
      ],
      "application/vnd.bokehjs_exec.v0+json": ""
     },
     "metadata": {
      "application/vnd.bokehjs_exec.v0+json": {
       "id": "8775"
      }
     },
     "output_type": "display_data"
    }
   ],
   "source": [
    "show(gdp_plot_congress)"
   ]
  },
  {
   "cell_type": "markdown",
   "metadata": {
    "slideshow": {
     "slide_type": "subslide"
    }
   },
   "source": [
    "### Real GDP growth has been fairly constant, so there isn't much value in this metric from a graphical perspective.\n",
    "\n",
    "### The next logical approach was to graph the data as a growth rate instead."
   ]
  },
  {
   "cell_type": "markdown",
   "metadata": {
    "slideshow": {
     "slide_type": "subslide"
    }
   },
   "source": [
    "### Computing the growth rate"
   ]
  },
  {
   "cell_type": "code",
   "execution_count": 107,
   "metadata": {
    "slideshow": {
     "slide_type": "subslide"
    }
   },
   "outputs": [],
   "source": [
    "gdpGrowth = data_list[0].copy()\n",
    "i = 1\n",
    "while(i < len(data_list[0])):\n",
    "    present = data_list[0][i]\n",
    "    past = data_list[0][i - 1]\n",
    "    growthRate = (present - past) / past\n",
    "    temp = data_list[0][i]\n",
    "    gdpGrowth[i] = growthRate\n",
    "    i += 1\n",
    "if(data_list[0][0] == 4936.594):\n",
    "    del gdpGrowth[0]\n",
    "if(years[0] == 1970):\n",
    "    del years[0]\n",
    "gdp_growth_tool = [(\"Real GDP Growth: \", \"$y{0.00}%\")]\n",
    "gdp_rate = figure(title=\"Real GDP Growth Rate Over Time\", x_axis_label=\"Time\", y_axis_label=\"Real GDP Growth Rate(%)\", plot_width=900, tooltips = gdp_growth_tool)\n",
    "gdp_rate.line(years, gdpGrowth, line_width=2)\n",
    "for box in boxList:\n",
    "    gdp_rate.add_layout(box)\n",
    "for element in gdpGrowth:\n",
    "    gdpGrowth[gdpGrowth.index(element)] = element * 100\n",
    "gdp_rate.left[0].formatter.use_scientific = False"
   ]
  },
  {
   "cell_type": "markdown",
   "metadata": {
    "slideshow": {
     "slide_type": "subslide"
    }
   },
   "source": [
    "## 1.2: Real GDP Growth Rate Over Time - Line"
   ]
  },
  {
   "cell_type": "code",
   "execution_count": 108,
   "metadata": {
    "slideshow": {
     "slide_type": "subslide"
    }
   },
   "outputs": [
    {
     "data": {
      "text/html": [
       "\n",
       "\n",
       "\n",
       "\n",
       "\n",
       "\n",
       "  <div class=\"bk-root\" id=\"c6fb62e1-e545-4951-b2ed-55a00066f3b7\" data-root-id=\"9464\"></div>\n"
      ]
     },
     "metadata": {},
     "output_type": "display_data"
    },
    {
     "data": {
      "application/javascript": [
       "(function(root) {\n",
       "  function embed_document(root) {\n",
       "    \n",
       "  var docs_json = {\"d847a1e6-cc01-41c7-98de-9e429cc2a73e\":{\"roots\":{\"references\":[{\"attributes\":{\"below\":[{\"id\":\"9475\",\"type\":\"LinearAxis\"}],\"center\":[{\"id\":\"9479\",\"type\":\"Grid\"},{\"id\":\"9484\",\"type\":\"Grid\"},{\"id\":\"8756\",\"type\":\"BoxAnnotation\"},{\"id\":\"8757\",\"type\":\"BoxAnnotation\"},{\"id\":\"8758\",\"type\":\"BoxAnnotation\"},{\"id\":\"8759\",\"type\":\"BoxAnnotation\"},{\"id\":\"8760\",\"type\":\"BoxAnnotation\"},{\"id\":\"8761\",\"type\":\"BoxAnnotation\"},{\"id\":\"8762\",\"type\":\"BoxAnnotation\"},{\"id\":\"8770\",\"type\":\"BoxAnnotation\"},{\"id\":\"8771\",\"type\":\"BoxAnnotation\"},{\"id\":\"8772\",\"type\":\"BoxAnnotation\"},{\"id\":\"8773\",\"type\":\"BoxAnnotation\"},{\"id\":\"8774\",\"type\":\"BoxAnnotation\"}],\"left\":[{\"id\":\"9480\",\"type\":\"LinearAxis\"}],\"plot_width\":900,\"renderers\":[{\"id\":\"9503\",\"type\":\"GlyphRenderer\"}],\"title\":{\"id\":\"9465\",\"type\":\"Title\"},\"toolbar\":{\"id\":\"9492\",\"type\":\"Toolbar\"},\"x_range\":{\"id\":\"9467\",\"type\":\"DataRange1d\"},\"x_scale\":{\"id\":\"9471\",\"type\":\"LinearScale\"},\"y_range\":{\"id\":\"9469\",\"type\":\"DataRange1d\"},\"y_scale\":{\"id\":\"9473\",\"type\":\"LinearScale\"}},\"id\":\"9464\",\"subtype\":\"Figure\",\"type\":\"Plot\"},{\"attributes\":{\"ticker\":{\"id\":\"9476\",\"type\":\"BasicTicker\"}},\"id\":\"9479\",\"type\":\"Grid\"},{\"attributes\":{\"fill_alpha\":{\"value\":0.5},\"fill_color\":{\"value\":\"red\"},\"left\":2001,\"right\":2009},\"id\":\"8758\",\"type\":\"BoxAnnotation\"},{\"attributes\":{\"callback\":null},\"id\":\"9467\",\"type\":\"DataRange1d\"},{\"attributes\":{\"line_color\":\"#1f77b4\",\"line_width\":2,\"x\":{\"field\":\"x\"},\"y\":{\"field\":\"y\"}},\"id\":\"9501\",\"type\":\"Line\"},{\"attributes\":{\"bottom_units\":\"screen\",\"fill_alpha\":{\"value\":0.5},\"fill_color\":{\"value\":\"lightgrey\"},\"left_units\":\"screen\",\"level\":\"overlay\",\"line_alpha\":{\"value\":1.0},\"line_color\":{\"value\":\"black\"},\"line_dash\":[4,4],\"line_width\":{\"value\":2},\"render_mode\":\"css\",\"right_units\":\"screen\",\"top_units\":\"screen\"},\"id\":\"9791\",\"type\":\"BoxAnnotation\"},{\"attributes\":{\"axis_label\":\"Real GDP Growth Rate(%)\",\"formatter\":{\"id\":\"9505\",\"type\":\"BasicTickFormatter\"},\"ticker\":{\"id\":\"9481\",\"type\":\"BasicTicker\"}},\"id\":\"9480\",\"type\":\"LinearAxis\"},{\"attributes\":{\"callback\":null,\"tooltips\":[[\"Real GDP Growth: \",\"$y{0.00}%\"]]},\"id\":\"9491\",\"type\":\"HoverTool\"},{\"attributes\":{\"callback\":null,\"data\":{\"x\":[1970.25,1970.5,1970.75,1971.0,1971.25,1971.5,1971.75,1972.0,1972.25,1972.5,1972.75,1973.0,1973.25,1973.5,1973.75,1974.0,1974.25,1974.5,1974.75,1975.0,1975.25,1975.5,1975.75,1976.0,1976.25,1976.5,1976.75,1977.0,1977.25,1977.5,1977.75,1978.0,1978.25,1978.5,1978.75,1979.0,1979.25,1979.5,1979.75,1980.0,1980.25,1980.5,1980.75,1981.0,1981.25,1981.5,1981.75,1982.0,1982.25,1982.5,1982.75,1983.0,1983.25,1983.5,1983.75,1984.0,1984.25,1984.5,1984.75,1985.0,1985.25,1985.5,1985.75,1986.0,1986.25,1986.5,1986.75,1987.0,1987.25,1987.5,1987.75,1988.0,1988.25,1988.5,1988.75,1989.0,1989.25,1989.5,1989.75,1990.0,1990.25,1990.5,1990.75,1991.0,1991.25,1991.5,1991.75,1992.0,1992.25,1992.5,1992.75,1993.0,1993.25,1993.5,1993.75,1994.0,1994.25,1994.5,1994.75,1995.0,1995.25,1995.5,1995.75,1996.0,1996.25,1996.5,1996.75,1997.0,1997.25,1997.5,1997.75,1998.0,1998.25,1998.5,1998.75,1999.0,1999.25,1999.5,1999.75,2000.0,2000.25,2000.5,2000.75,2001.0,2001.25,2001.5,2001.75,2002.0,2002.25,2002.5,2002.75,2003.0,2003.25,2003.5,2003.75,2004.0,2004.25,2004.5,2004.75,2005.0,2005.25,2005.5,2005.75,2006.0,2006.25,2006.5,2006.75,2007.0,2007.25,2007.5,2007.75,2008.0,2008.25,2008.5,2008.75,2009.0,2009.25,2009.5,2009.75,2010.0,2010.25,2010.5,2010.75,2011.0,2011.25,2011.5,2011.75,2012.0,2012.25,2012.5,2012.75,2013.0,2013.25,2013.5,2013.75,2014.0,2014.25,2014.5,2014.75,2015.0,2015.25,2015.5,2015.75,2016.0,2016.25,2016.5,2016.75,2017.0,2017.25,2017.5,2017.75,2018.0,2018.25,2018.5,2018.75,2019.0],\"y\":[0.14191971225505506,0.921575370175566,-1.0716435375180355,2.7159914524667537,0.541111921583448,0.8229846352266541,0.2357792995231913,1.8389534957083242,2.2697596290031155,0.9443909603740579,1.6744612712049547,2.4748129266402223,1.0886514874432665,-0.5259026054601375,0.9492254278211465,-0.8597650821584002,0.23767709338366455,-0.9451337881069036,-0.3881412688787713,-1.2173005163690134,0.7145437150649735,1.7116575396399338,1.3465075049564899,2.2487609314767547,0.733695559894732,0.5487204753442413,0.7248462557824267,1.1814920985323432,1.9441091643482173,1.80435084965583,0.002187173211754819,0.3191776662167759,3.8642508101768316,1.0055229458550523,1.3441463794050326,0.17978366225813808,0.10692904355389234,0.742873492216619,0.25007353806331056,0.3145152807215277,-2.0604767053432598,-0.11884864202098887,1.8649251270109377,1.9594380890389573,-0.7410780012557887,1.1975243776465405,-1.0895461323118663,-1.5535405503103745,0.4561965645299372,-0.38229525411830295,0.0399424628528529,1.317854311438872,2.275605384913602,1.9990688017078175,2.0862193277900025,1.9547696403748673,1.7277908578901082,0.9640641099808969,0.8208628114876512,0.9690868070579662,0.880455333273606,1.527124326756812,0.7432920281009634,0.9335038885879693,0.45038394924872177,0.9570323786425419,0.5370757362464821,0.74517144335576,1.0788979119299669,0.8676120385809709,1.7170525807583759,0.5166263025966467,1.3138672913233551,0.5859287724467529,1.3324958232276454,1.0166024910562326,0.7632691197986198,0.7408807153261852,0.19704677698904868,1.0927903341079441,0.36290821965425013,0.06652292405728502,-0.9103794127126034,-0.4678438176914513,0.7797188308543576,0.5052966063139598,0.34849867049675615,1.1970516575536976,1.0843533473612184,0.9882719295369429,1.0431646878103904,0.16740030769199216,0.5824196249446608,0.47731473271979546,1.3601133267059478,0.9702162778121366,1.355045866337217,0.5845152410390585,1.1455244449467612,0.3547561422725261,0.2983408772147479,0.8506775349642001,0.6790210275422705,0.7489468197280729,1.6678474261538425,0.8969913774119401,1.0383819880298861,0.6455643649041345,1.662001453841431,1.2508480329340539,0.8588165125009048,0.999479915014381,0.9258071380773107,1.252567402264542,1.6158802290579275,0.9464718808496758,0.7691586419832205,1.3096648337818393,1.6995850307821199,0.36176015191658356,1.8311646720460963,0.1335552846846677,0.6228895894112908,-0.2851776546083452,0.5845557900850724,-0.41503809327891467,0.2723713727607844,0.874514216286763,0.6057325362793827,0.4445713329245736,0.15482263648767067,0.55476674146061,0.8602598176812405,1.698209430025421,1.1481670492531582,0.5337473123353541,0.7620763641638637,0.9453280475560922,1.001674111772262,1.1069635361723849,0.46156131203642276,0.8913338484352455,0.6314631245652712,1.3302871245577226,0.23369973955634898,0.15463279204559235,0.8518652299096531,0.23549310703911952,0.5728724003003074,0.5432713272967017,0.6078419132304452,-0.5746998455205542,0.5163870987008683,-0.5413555905585496,-2.1638112438909887,-1.1226950474447857,-0.14398974923363592,0.36411110076656317,1.0983841042023164,0.38477973969621326,0.9220283039828662,0.7372112741837823,0.5019025371862985,-0.24044125233125152,0.7149733267637152,-0.027778662448548944,1.1592849873899338,0.7829927655444925,0.43020151130066214,0.13494820945763947,0.11387324577960553,0.8856750894043706,0.1233964745329377,0.7834151670590764,0.7982489383266129,-0.28270518660108823,1.353681331974031,1.22093225207414,0.5627937376789802,0.7848200534817766,0.7413596117048795,0.3306566383630522,0.03252549844465502,0.5033916842627071,0.47034662674756733,0.5422911652919098,0.5027156920799949,0.5667846203294911,0.5343968309294865,0.7907975163264759,0.8748616322859157,0.6319564879483506,0.8671157258165421,0.7236478281290182,0.2713327269077726,0.765206871460068]},\"selected\":{\"id\":\"9793\",\"type\":\"Selection\"},\"selection_policy\":{\"id\":\"9792\",\"type\":\"UnionRenderers\"}},\"id\":\"9500\",\"type\":\"ColumnDataSource\"},{\"attributes\":{\"use_scientific\":false},\"id\":\"9505\",\"type\":\"BasicTickFormatter\"},{\"attributes\":{\"axis_label\":\"Time\",\"formatter\":{\"id\":\"9789\",\"type\":\"BasicTickFormatter\"},\"ticker\":{\"id\":\"9476\",\"type\":\"BasicTicker\"}},\"id\":\"9475\",\"type\":\"LinearAxis\"},{\"attributes\":{},\"id\":\"9486\",\"type\":\"WheelZoomTool\"},{\"attributes\":{},\"id\":\"9489\",\"type\":\"ResetTool\"},{\"attributes\":{},\"id\":\"9473\",\"type\":\"LinearScale\"},{\"attributes\":{\"overlay\":{\"id\":\"9791\",\"type\":\"BoxAnnotation\"}},\"id\":\"9487\",\"type\":\"BoxZoomTool\"},{\"attributes\":{\"fill_alpha\":{\"value\":0.5},\"fill_color\":{\"value\":\"red\"},\"left\":1970,\"right\":1977},\"id\":\"8756\",\"type\":\"BoxAnnotation\"},{\"attributes\":{\"fill_alpha\":{\"value\":0.5},\"fill_color\":{\"value\":\"#333333\"},\"left\":1981,\"right\":1982},\"id\":\"8771\",\"type\":\"BoxAnnotation\"},{\"attributes\":{\"callback\":null},\"id\":\"9469\",\"type\":\"DataRange1d\"},{\"attributes\":{},\"id\":\"9476\",\"type\":\"BasicTicker\"},{\"attributes\":{},\"id\":\"9488\",\"type\":\"SaveTool\"},{\"attributes\":{\"fill_alpha\":{\"value\":0.5},\"fill_color\":{\"value\":\"#333333\"},\"left\":2001.3,\"right\":2001.9},\"id\":\"8773\",\"type\":\"BoxAnnotation\"},{\"attributes\":{\"fill_alpha\":{\"value\":0.5},\"fill_color\":{\"value\":\"#333333\"},\"left\":2008,\"right\":2009.5},\"id\":\"8774\",\"type\":\"BoxAnnotation\"},{\"attributes\":{},\"id\":\"9490\",\"type\":\"HelpTool\"},{\"attributes\":{},\"id\":\"9792\",\"type\":\"UnionRenderers\"},{\"attributes\":{\"fill_alpha\":{\"value\":0.5},\"fill_color\":{\"value\":\"blue\"},\"left\":1993,\"right\":2001},\"id\":\"8761\",\"type\":\"BoxAnnotation\"},{\"attributes\":{\"fill_alpha\":{\"value\":0.5},\"fill_color\":{\"value\":\"#333333\"},\"left\":1990,\"right\":1991},\"id\":\"8772\",\"type\":\"BoxAnnotation\"},{\"attributes\":{\"fill_alpha\":{\"value\":0.5},\"fill_color\":{\"value\":\"blue\"},\"left\":2009,\"right\":2017},\"id\":\"8762\",\"type\":\"BoxAnnotation\"},{\"attributes\":{\"active_drag\":\"auto\",\"active_inspect\":\"auto\",\"active_multi\":null,\"active_scroll\":\"auto\",\"active_tap\":\"auto\",\"tools\":[{\"id\":\"9485\",\"type\":\"PanTool\"},{\"id\":\"9486\",\"type\":\"WheelZoomTool\"},{\"id\":\"9487\",\"type\":\"BoxZoomTool\"},{\"id\":\"9488\",\"type\":\"SaveTool\"},{\"id\":\"9489\",\"type\":\"ResetTool\"},{\"id\":\"9490\",\"type\":\"HelpTool\"},{\"id\":\"9491\",\"type\":\"HoverTool\"}]},\"id\":\"9492\",\"type\":\"Toolbar\"},{\"attributes\":{},\"id\":\"9793\",\"type\":\"Selection\"},{\"attributes\":{},\"id\":\"9789\",\"type\":\"BasicTickFormatter\"},{\"attributes\":{\"fill_alpha\":{\"value\":0.5},\"fill_color\":{\"value\":\"red\"},\"left\":1981,\"right\":1993},\"id\":\"8757\",\"type\":\"BoxAnnotation\"},{\"attributes\":{},\"id\":\"9485\",\"type\":\"PanTool\"},{\"attributes\":{\"source\":{\"id\":\"9500\",\"type\":\"ColumnDataSource\"}},\"id\":\"9504\",\"type\":\"CDSView\"},{\"attributes\":{\"fill_alpha\":{\"value\":0.5},\"fill_color\":{\"value\":\"blue\"},\"left\":1977,\"right\":1981},\"id\":\"8760\",\"type\":\"BoxAnnotation\"},{\"attributes\":{},\"id\":\"9471\",\"type\":\"LinearScale\"},{\"attributes\":{\"dimension\":1,\"ticker\":{\"id\":\"9481\",\"type\":\"BasicTicker\"}},\"id\":\"9484\",\"type\":\"Grid\"},{\"attributes\":{\"data_source\":{\"id\":\"9500\",\"type\":\"ColumnDataSource\"},\"glyph\":{\"id\":\"9501\",\"type\":\"Line\"},\"hover_glyph\":null,\"muted_glyph\":null,\"nonselection_glyph\":{\"id\":\"9502\",\"type\":\"Line\"},\"selection_glyph\":null,\"view\":{\"id\":\"9504\",\"type\":\"CDSView\"}},\"id\":\"9503\",\"type\":\"GlyphRenderer\"},{\"attributes\":{\"fill_alpha\":{\"value\":0.5},\"fill_color\":{\"value\":\"red\"},\"left\":2017,\"right\":2019},\"id\":\"8759\",\"type\":\"BoxAnnotation\"},{\"attributes\":{},\"id\":\"9481\",\"type\":\"BasicTicker\"},{\"attributes\":{\"line_alpha\":0.1,\"line_color\":\"#1f77b4\",\"line_width\":2,\"x\":{\"field\":\"x\"},\"y\":{\"field\":\"y\"}},\"id\":\"9502\",\"type\":\"Line\"},{\"attributes\":{\"text\":\"Real GDP Growth Rate Over Time\"},\"id\":\"9465\",\"type\":\"Title\"},{\"attributes\":{\"fill_alpha\":{\"value\":0.5},\"fill_color\":{\"value\":\"#333333\"},\"left\":1973,\"right\":1975},\"id\":\"8770\",\"type\":\"BoxAnnotation\"}],\"root_ids\":[\"9464\"]},\"title\":\"Bokeh Application\",\"version\":\"1.4.0\"}};\n",
       "  var render_items = [{\"docid\":\"d847a1e6-cc01-41c7-98de-9e429cc2a73e\",\"roots\":{\"9464\":\"c6fb62e1-e545-4951-b2ed-55a00066f3b7\"}}];\n",
       "  root.Bokeh.embed.embed_items_notebook(docs_json, render_items);\n",
       "\n",
       "  }\n",
       "  if (root.Bokeh !== undefined) {\n",
       "    embed_document(root);\n",
       "  } else {\n",
       "    var attempts = 0;\n",
       "    var timer = setInterval(function(root) {\n",
       "      if (root.Bokeh !== undefined) {\n",
       "        clearInterval(timer);\n",
       "        embed_document(root);\n",
       "      } else {\n",
       "        attempts++;\n",
       "        if (attempts > 100) {\n",
       "          clearInterval(timer);\n",
       "          console.log(\"Bokeh: ERROR: Unable to run BokehJS code because BokehJS library is missing\");\n",
       "        }\n",
       "      }\n",
       "    }, 10, root)\n",
       "  }\n",
       "})(window);"
      ],
      "application/vnd.bokehjs_exec.v0+json": ""
     },
     "metadata": {
      "application/vnd.bokehjs_exec.v0+json": {
       "id": "9464"
      }
     },
     "output_type": "display_data"
    }
   ],
   "source": [
    "show(gdp_rate)"
   ]
  },
  {
   "cell_type": "markdown",
   "metadata": {
    "slideshow": {
     "slide_type": "subslide"
    }
   },
   "source": [
    "### The growth rate is still difficult to see, so we finally turn to averages for the verdict."
   ]
  },
  {
   "cell_type": "markdown",
   "metadata": {
    "slideshow": {
     "slide_type": "skip"
    }
   },
   "source": [
    "### Computing the averages"
   ]
  },
  {
   "cell_type": "code",
   "execution_count": 109,
   "metadata": {
    "slideshow": {
     "slide_type": "skip"
    }
   },
   "outputs": [],
   "source": [
    "from bokeh.models import Axis\n",
    "from bokeh.models import ColumnDataSource\n",
    "from bokeh.transform import factor_cmap\n",
    "from bokeh.models import Legend, LegendItem\n",
    "#Filtering republican and democratic presidency years\n",
    "redIndices = []\n",
    "blueIndices = []\n",
    "yr = 1970\n",
    "n = 0\n",
    "while((n < len(years) and yr < 2020)):\n",
    "    if((yr >= 1970 and yr <= 1977) or (yr >= 1981 and yr <= 1993) or (yr >= 2001 and yr <= 2009) or (yr >= 2017 and yr <= 2019)):\n",
    "        redIndices.append(n)\n",
    "    else:\n",
    "        blueIndices.append(n)\n",
    "        \n",
    "    n += 1\n",
    "    yr += 1\n",
    "red_growth_sum = 0\n",
    "blue_growth_sum = 0\n",
    "counter = 0\n",
    "for element in years:\n",
    "    if(counter in redIndices):\n",
    "        red_growth_sum += gdpGrowth[years.index(element)]\n",
    "    if(counter in blueIndices):\n",
    "        blue_growth_sum += gdpGrowth[years.index(element)]\n",
    "    counter += 1\n",
    "red_growth_avg = red_growth_sum/len(redIndices)\n",
    "blue_growth_avg = blue_growth_sum/len(blueIndices)\n",
    "parties = ['Republican', 'Democrat']\n",
    "averages = [red_growth_avg, blue_growth_avg]\n",
    "tooltips = [(\"Value: \", \"$y{0.0}%\")]\n",
    "color_palette = ['#C81602', '#000E8A']\n",
    "source = ColumnDataSource(data=dict(parties=parties, averages=averages))\n",
    "gdp_bar = figure(x_range = parties, title='Average Real GDP Growth Rates - Presidents', y_axis_label=\"Real GDP Growth Rate Average(%)\", tooltips = tooltips, toolbar_location=None)\n",
    "vbar = gdp_bar.vbar(x = 'parties', top = 'averages', width = 0.9, legend_field=\"parties\", source = source, fill_color=factor_cmap('parties', palette=color_palette, factors=parties)) \n",
    "gdp_bar.legend.location=\"top_left\"\n",
    "gdp_bar.xgrid.grid_line_color = None\n",
    "gdp_bar.y_range.start = 0\n",
    "gdp_bar.left[0].formatter.use_scientific = False               "
   ]
  },
  {
   "cell_type": "code",
   "execution_count": 110,
   "metadata": {
    "slideshow": {
     "slide_type": "skip"
    }
   },
   "outputs": [],
   "source": [
    "red_indices_congress = []\n",
    "blue_indices_congress = []\n",
    "\n",
    "yr = 1970\n",
    "n = 0\n",
    "while((n < len(years) and yr < 2020)):\n",
    "    if((yr >= 1970 and yr <= 1981) or (yr >= 1987 and yr <= 1995) or (yr >= 2007 and yr <= 2011)):\n",
    "        blue_indices_congress.append(n)\n",
    "    elif((yr >= 1995 and yr <= 2007) or (yr >= 2015 and yr <= 2019)):\n",
    "        red_indices_congress.append(n)\n",
    "    n += 1\n",
    "    yr += 1\n",
    "\n",
    "red_growth_sum_congress = 0\n",
    "blue_growth_sum_congress = 0\n",
    "counter = 0\n",
    "for element in years:\n",
    "    if(counter in red_indices_congress):\n",
    "        red_growth_sum_congress += gdpGrowth[years.index(element)]\n",
    "    if(counter in blue_indices_congress):\n",
    "        blue_growth_sum_congress += gdpGrowth[years.index(element)]\n",
    "    counter += 1\n",
    "red_growth_avg_congress = red_growth_sum_congress/len(red_indices_congress)\n",
    "blue_growth_avg_congress = blue_growth_sum_congress/len(blue_indices_congress)\n",
    "gdp_averages_congress = [red_growth_avg_congress, blue_growth_avg_congress]\n",
    "\n",
    "source = ColumnDataSource(data=dict(parties=parties, averages=gdp_averages_congress))\n",
    "\n",
    "gdp_bar_congress = figure(x_range = parties, title='Average Real GDP Growth Rates - Congress', y_axis_label=\"Real GDP Growth Rate Average(%)\", tooltips = tooltips, toolbar_location=None)\n",
    "\n",
    "vbar = gdp_bar_congress.vbar(x = 'parties', top = 'averages', width = 0.9, legend_field=\"parties\", source = source, fill_color=factor_cmap('parties', palette=color_palette, factors=parties)) \n",
    "\n",
    "gdp_bar_congress.legend.location=\"top_left\"\n",
    "gdp_bar_congress.xgrid.grid_line_color = None\n",
    "gdp_bar_congress.y_range.start = 0\n",
    "\n",
    "gdp_bar_congress.left[0].formatter.use_scientific = False   "
   ]
  },
  {
   "cell_type": "markdown",
   "metadata": {
    "slideshow": {
     "slide_type": "subslide"
    }
   },
   "source": [
    "## 1.3: Average Real GDP Growth Rate Over Time - Bar"
   ]
  },
  {
   "cell_type": "code",
   "execution_count": 111,
   "metadata": {
    "slideshow": {
     "slide_type": "subslide"
    }
   },
   "outputs": [
    {
     "data": {
      "text/html": [
       "\n",
       "\n",
       "\n",
       "\n",
       "\n",
       "\n",
       "  <div class=\"bk-root\" id=\"a6f91b1d-728c-4ff3-9631-6cbdb3673a4f\" data-root-id=\"9843\"></div>\n"
      ]
     },
     "metadata": {},
     "output_type": "display_data"
    },
    {
     "data": {
      "application/javascript": [
       "(function(root) {\n",
       "  function embed_document(root) {\n",
       "    \n",
       "  var docs_json = {\"6ee57ddf-bac3-4d39-8086-d64f83b1c340\":{\"roots\":{\"references\":[{\"attributes\":{\"below\":[{\"id\":\"9854\",\"type\":\"CategoricalAxis\"}],\"center\":[{\"id\":\"9857\",\"type\":\"Grid\"},{\"id\":\"9862\",\"type\":\"Grid\"},{\"id\":\"9890\",\"type\":\"Legend\"}],\"left\":[{\"id\":\"9858\",\"type\":\"LinearAxis\"}],\"renderers\":[{\"id\":\"9882\",\"type\":\"GlyphRenderer\"}],\"title\":{\"id\":\"9844\",\"type\":\"Title\"},\"toolbar\":{\"id\":\"9870\",\"type\":\"Toolbar\"},\"toolbar_location\":null,\"x_range\":{\"id\":\"9846\",\"type\":\"FactorRange\"},\"x_scale\":{\"id\":\"9850\",\"type\":\"CategoricalScale\"},\"y_range\":{\"id\":\"9848\",\"type\":\"DataRange1d\"},\"y_scale\":{\"id\":\"9852\",\"type\":\"LinearScale\"}},\"id\":\"9843\",\"subtype\":\"Figure\",\"type\":\"Plot\"},{\"attributes\":{\"fill_alpha\":{\"value\":0.1},\"fill_color\":{\"value\":\"#1f77b4\"},\"line_alpha\":{\"value\":0.1},\"line_color\":{\"value\":\"#1f77b4\"},\"top\":{\"field\":\"averages\"},\"width\":{\"value\":0.9},\"x\":{\"field\":\"parties\"}},\"id\":\"9881\",\"type\":\"VBar\"},{\"attributes\":{},\"id\":\"9868\",\"type\":\"HelpTool\"},{\"attributes\":{\"formatter\":{\"id\":\"9887\",\"type\":\"CategoricalTickFormatter\"},\"ticker\":{\"id\":\"9855\",\"type\":\"CategoricalTicker\"}},\"id\":\"9854\",\"type\":\"CategoricalAxis\"},{\"attributes\":{},\"id\":\"10239\",\"type\":\"Selection\"},{\"attributes\":{\"active_drag\":\"auto\",\"active_inspect\":\"auto\",\"active_multi\":null,\"active_scroll\":\"auto\",\"active_tap\":\"auto\",\"tools\":[{\"id\":\"9863\",\"type\":\"PanTool\"},{\"id\":\"9864\",\"type\":\"WheelZoomTool\"},{\"id\":\"9865\",\"type\":\"BoxZoomTool\"},{\"id\":\"9866\",\"type\":\"SaveTool\"},{\"id\":\"9867\",\"type\":\"ResetTool\"},{\"id\":\"9868\",\"type\":\"HelpTool\"},{\"id\":\"9869\",\"type\":\"HoverTool\"}]},\"id\":\"9870\",\"type\":\"Toolbar\"},{\"attributes\":{},\"id\":\"9859\",\"type\":\"BasicTicker\"},{\"attributes\":{\"data_source\":{\"id\":\"9842\",\"type\":\"ColumnDataSource\"},\"glyph\":{\"id\":\"9880\",\"type\":\"VBar\"},\"hover_glyph\":null,\"muted_glyph\":null,\"nonselection_glyph\":{\"id\":\"9881\",\"type\":\"VBar\"},\"selection_glyph\":null,\"view\":{\"id\":\"9883\",\"type\":\"CDSView\"}},\"id\":\"9882\",\"type\":\"GlyphRenderer\"},{\"attributes\":{},\"id\":\"9855\",\"type\":\"CategoricalTicker\"},{\"attributes\":{\"grid_line_color\":null,\"ticker\":{\"id\":\"9855\",\"type\":\"CategoricalTicker\"}},\"id\":\"9857\",\"type\":\"Grid\"},{\"attributes\":{\"dimension\":1,\"ticker\":{\"id\":\"9859\",\"type\":\"BasicTicker\"}},\"id\":\"9862\",\"type\":\"Grid\"},{\"attributes\":{\"axis_label\":\"Real GDP Growth Rate Average(%)\",\"formatter\":{\"id\":\"9885\",\"type\":\"BasicTickFormatter\"},\"ticker\":{\"id\":\"9859\",\"type\":\"BasicTicker\"}},\"id\":\"9858\",\"type\":\"LinearAxis\"},{\"attributes\":{\"source\":{\"id\":\"9842\",\"type\":\"ColumnDataSource\"}},\"id\":\"9883\",\"type\":\"CDSView\"},{\"attributes\":{\"use_scientific\":false},\"id\":\"9885\",\"type\":\"BasicTickFormatter\"},{\"attributes\":{\"items\":[{\"id\":\"9891\",\"type\":\"LegendItem\"}],\"location\":\"top_left\"},\"id\":\"9890\",\"type\":\"Legend\"},{\"attributes\":{\"callback\":null,\"data\":{\"averages\":[0.5948454331346249,0.7552912676538946],\"parties\":[\"Republican\",\"Democrat\"]},\"selected\":{\"id\":\"10239\",\"type\":\"Selection\"},\"selection_policy\":{\"id\":\"10238\",\"type\":\"UnionRenderers\"}},\"id\":\"9842\",\"type\":\"ColumnDataSource\"},{\"attributes\":{},\"id\":\"9887\",\"type\":\"CategoricalTickFormatter\"},{\"attributes\":{\"bottom_units\":\"screen\",\"fill_alpha\":{\"value\":0.5},\"fill_color\":{\"value\":\"lightgrey\"},\"left_units\":\"screen\",\"level\":\"overlay\",\"line_alpha\":{\"value\":1.0},\"line_color\":{\"value\":\"black\"},\"line_dash\":[4,4],\"line_width\":{\"value\":2},\"render_mode\":\"css\",\"right_units\":\"screen\",\"top_units\":\"screen\"},\"id\":\"9889\",\"type\":\"BoxAnnotation\"},{\"attributes\":{\"callback\":null,\"tooltips\":[[\"Value: \",\"$y{0.0}%\"]]},\"id\":\"9869\",\"type\":\"HoverTool\"},{\"attributes\":{\"factors\":[\"Republican\",\"Democrat\"],\"palette\":[\"#C81602\",\"#000E8A\"]},\"id\":\"9878\",\"type\":\"CategoricalColorMapper\"},{\"attributes\":{\"fill_color\":{\"field\":\"parties\",\"transform\":{\"id\":\"9878\",\"type\":\"CategoricalColorMapper\"}},\"line_color\":{\"value\":\"#1f77b4\"},\"top\":{\"field\":\"averages\"},\"width\":{\"value\":0.9},\"x\":{\"field\":\"parties\"}},\"id\":\"9880\",\"type\":\"VBar\"},{\"attributes\":{\"label\":{\"field\":\"parties\"},\"renderers\":[{\"id\":\"9882\",\"type\":\"GlyphRenderer\"}]},\"id\":\"9891\",\"type\":\"LegendItem\"},{\"attributes\":{},\"id\":\"9863\",\"type\":\"PanTool\"},{\"attributes\":{\"callback\":null,\"factors\":[\"Republican\",\"Democrat\"]},\"id\":\"9846\",\"type\":\"FactorRange\"},{\"attributes\":{},\"id\":\"9864\",\"type\":\"WheelZoomTool\"},{\"attributes\":{\"text\":\"Average Real GDP Growth Rates - Presidents\"},\"id\":\"9844\",\"type\":\"Title\"},{\"attributes\":{\"overlay\":{\"id\":\"9889\",\"type\":\"BoxAnnotation\"}},\"id\":\"9865\",\"type\":\"BoxZoomTool\"},{\"attributes\":{},\"id\":\"10238\",\"type\":\"UnionRenderers\"},{\"attributes\":{},\"id\":\"9852\",\"type\":\"LinearScale\"},{\"attributes\":{},\"id\":\"9866\",\"type\":\"SaveTool\"},{\"attributes\":{\"callback\":null,\"start\":0},\"id\":\"9848\",\"type\":\"DataRange1d\"},{\"attributes\":{},\"id\":\"9867\",\"type\":\"ResetTool\"},{\"attributes\":{},\"id\":\"9850\",\"type\":\"CategoricalScale\"}],\"root_ids\":[\"9843\"]},\"title\":\"Bokeh Application\",\"version\":\"1.4.0\"}};\n",
       "  var render_items = [{\"docid\":\"6ee57ddf-bac3-4d39-8086-d64f83b1c340\",\"roots\":{\"9843\":\"a6f91b1d-728c-4ff3-9631-6cbdb3673a4f\"}}];\n",
       "  root.Bokeh.embed.embed_items_notebook(docs_json, render_items);\n",
       "\n",
       "  }\n",
       "  if (root.Bokeh !== undefined) {\n",
       "    embed_document(root);\n",
       "  } else {\n",
       "    var attempts = 0;\n",
       "    var timer = setInterval(function(root) {\n",
       "      if (root.Bokeh !== undefined) {\n",
       "        clearInterval(timer);\n",
       "        embed_document(root);\n",
       "      } else {\n",
       "        attempts++;\n",
       "        if (attempts > 100) {\n",
       "          clearInterval(timer);\n",
       "          console.log(\"Bokeh: ERROR: Unable to run BokehJS code because BokehJS library is missing\");\n",
       "        }\n",
       "      }\n",
       "    }, 10, root)\n",
       "  }\n",
       "})(window);"
      ],
      "application/vnd.bokehjs_exec.v0+json": ""
     },
     "metadata": {
      "application/vnd.bokehjs_exec.v0+json": {
       "id": "9843"
      }
     },
     "output_type": "display_data"
    }
   ],
   "source": [
    "show(gdp_bar)"
   ]
  },
  {
   "cell_type": "code",
   "execution_count": 112,
   "metadata": {
    "slideshow": {
     "slide_type": "subslide"
    }
   },
   "outputs": [
    {
     "data": {
      "text/html": [
       "\n",
       "\n",
       "\n",
       "\n",
       "\n",
       "\n",
       "  <div class=\"bk-root\" id=\"ebeda48c-287b-4150-92c6-6606be784f07\" data-root-id=\"9894\"></div>\n"
      ]
     },
     "metadata": {},
     "output_type": "display_data"
    },
    {
     "data": {
      "application/javascript": [
       "(function(root) {\n",
       "  function embed_document(root) {\n",
       "    \n",
       "  var docs_json = {\"1a6db14b-1ee5-4218-b092-6dcbab1c634a\":{\"roots\":{\"references\":[{\"attributes\":{\"below\":[{\"id\":\"9905\",\"type\":\"CategoricalAxis\"}],\"center\":[{\"id\":\"9908\",\"type\":\"Grid\"},{\"id\":\"9913\",\"type\":\"Grid\"},{\"id\":\"9941\",\"type\":\"Legend\"}],\"left\":[{\"id\":\"9909\",\"type\":\"LinearAxis\"}],\"renderers\":[{\"id\":\"9933\",\"type\":\"GlyphRenderer\"}],\"title\":{\"id\":\"9895\",\"type\":\"Title\"},\"toolbar\":{\"id\":\"9921\",\"type\":\"Toolbar\"},\"toolbar_location\":null,\"x_range\":{\"id\":\"9897\",\"type\":\"FactorRange\"},\"x_scale\":{\"id\":\"9901\",\"type\":\"CategoricalScale\"},\"y_range\":{\"id\":\"9899\",\"type\":\"DataRange1d\"},\"y_scale\":{\"id\":\"9903\",\"type\":\"LinearScale\"}},\"id\":\"9894\",\"subtype\":\"Figure\",\"type\":\"Plot\"},{\"attributes\":{\"axis_label\":\"Real GDP Growth Rate Average(%)\",\"formatter\":{\"id\":\"9936\",\"type\":\"BasicTickFormatter\"},\"ticker\":{\"id\":\"9910\",\"type\":\"BasicTicker\"}},\"id\":\"9909\",\"type\":\"LinearAxis\"},{\"attributes\":{},\"id\":\"10590\",\"type\":\"UnionRenderers\"},{\"attributes\":{\"data_source\":{\"id\":\"9893\",\"type\":\"ColumnDataSource\"},\"glyph\":{\"id\":\"9931\",\"type\":\"VBar\"},\"hover_glyph\":null,\"muted_glyph\":null,\"nonselection_glyph\":{\"id\":\"9932\",\"type\":\"VBar\"},\"selection_glyph\":null,\"view\":{\"id\":\"9934\",\"type\":\"CDSView\"}},\"id\":\"9933\",\"type\":\"GlyphRenderer\"},{\"attributes\":{\"callback\":null,\"data\":{\"averages\":[0.6940709409020143,0.6689055482039596],\"parties\":[\"Republican\",\"Democrat\"]},\"selected\":{\"id\":\"10591\",\"type\":\"Selection\"},\"selection_policy\":{\"id\":\"10590\",\"type\":\"UnionRenderers\"}},\"id\":\"9893\",\"type\":\"ColumnDataSource\"},{\"attributes\":{\"use_scientific\":false},\"id\":\"9936\",\"type\":\"BasicTickFormatter\"},{\"attributes\":{\"factors\":[\"Republican\",\"Democrat\"],\"palette\":[\"#C81602\",\"#000E8A\"]},\"id\":\"9929\",\"type\":\"CategoricalColorMapper\"},{\"attributes\":{\"source\":{\"id\":\"9893\",\"type\":\"ColumnDataSource\"}},\"id\":\"9934\",\"type\":\"CDSView\"},{\"attributes\":{\"fill_alpha\":{\"value\":0.1},\"fill_color\":{\"value\":\"#1f77b4\"},\"line_alpha\":{\"value\":0.1},\"line_color\":{\"value\":\"#1f77b4\"},\"top\":{\"field\":\"averages\"},\"width\":{\"value\":0.9},\"x\":{\"field\":\"parties\"}},\"id\":\"9932\",\"type\":\"VBar\"},{\"attributes\":{},\"id\":\"9938\",\"type\":\"CategoricalTickFormatter\"},{\"attributes\":{},\"id\":\"9914\",\"type\":\"PanTool\"},{\"attributes\":{\"callback\":null,\"factors\":[\"Republican\",\"Democrat\"]},\"id\":\"9897\",\"type\":\"FactorRange\"},{\"attributes\":{\"items\":[{\"id\":\"9942\",\"type\":\"LegendItem\"}],\"location\":\"top_left\"},\"id\":\"9941\",\"type\":\"Legend\"},{\"attributes\":{},\"id\":\"9915\",\"type\":\"WheelZoomTool\"},{\"attributes\":{\"fill_color\":{\"field\":\"parties\",\"transform\":{\"id\":\"9929\",\"type\":\"CategoricalColorMapper\"}},\"line_color\":{\"value\":\"#1f77b4\"},\"top\":{\"field\":\"averages\"},\"width\":{\"value\":0.9},\"x\":{\"field\":\"parties\"}},\"id\":\"9931\",\"type\":\"VBar\"},{\"attributes\":{\"overlay\":{\"id\":\"9940\",\"type\":\"BoxAnnotation\"}},\"id\":\"9916\",\"type\":\"BoxZoomTool\"},{\"attributes\":{\"text\":\"Average Real GDP Growth Rates - Congress\"},\"id\":\"9895\",\"type\":\"Title\"},{\"attributes\":{},\"id\":\"9917\",\"type\":\"SaveTool\"},{\"attributes\":{\"callback\":null,\"tooltips\":[[\"Value: \",\"$y{0.0}%\"]]},\"id\":\"9920\",\"type\":\"HoverTool\"},{\"attributes\":{},\"id\":\"9918\",\"type\":\"ResetTool\"},{\"attributes\":{},\"id\":\"9901\",\"type\":\"CategoricalScale\"},{\"attributes\":{\"callback\":null,\"start\":0},\"id\":\"9899\",\"type\":\"DataRange1d\"},{\"attributes\":{},\"id\":\"9919\",\"type\":\"HelpTool\"},{\"attributes\":{},\"id\":\"9903\",\"type\":\"LinearScale\"},{\"attributes\":{\"bottom_units\":\"screen\",\"fill_alpha\":{\"value\":0.5},\"fill_color\":{\"value\":\"lightgrey\"},\"left_units\":\"screen\",\"level\":\"overlay\",\"line_alpha\":{\"value\":1.0},\"line_color\":{\"value\":\"black\"},\"line_dash\":[4,4],\"line_width\":{\"value\":2},\"render_mode\":\"css\",\"right_units\":\"screen\",\"top_units\":\"screen\"},\"id\":\"9940\",\"type\":\"BoxAnnotation\"},{\"attributes\":{\"active_drag\":\"auto\",\"active_inspect\":\"auto\",\"active_multi\":null,\"active_scroll\":\"auto\",\"active_tap\":\"auto\",\"tools\":[{\"id\":\"9914\",\"type\":\"PanTool\"},{\"id\":\"9915\",\"type\":\"WheelZoomTool\"},{\"id\":\"9916\",\"type\":\"BoxZoomTool\"},{\"id\":\"9917\",\"type\":\"SaveTool\"},{\"id\":\"9918\",\"type\":\"ResetTool\"},{\"id\":\"9919\",\"type\":\"HelpTool\"},{\"id\":\"9920\",\"type\":\"HoverTool\"}]},\"id\":\"9921\",\"type\":\"Toolbar\"},{\"attributes\":{\"formatter\":{\"id\":\"9938\",\"type\":\"CategoricalTickFormatter\"},\"ticker\":{\"id\":\"9906\",\"type\":\"CategoricalTicker\"}},\"id\":\"9905\",\"type\":\"CategoricalAxis\"},{\"attributes\":{},\"id\":\"9910\",\"type\":\"BasicTicker\"},{\"attributes\":{\"label\":{\"field\":\"parties\"},\"renderers\":[{\"id\":\"9933\",\"type\":\"GlyphRenderer\"}]},\"id\":\"9942\",\"type\":\"LegendItem\"},{\"attributes\":{},\"id\":\"9906\",\"type\":\"CategoricalTicker\"},{\"attributes\":{},\"id\":\"10591\",\"type\":\"Selection\"},{\"attributes\":{\"grid_line_color\":null,\"ticker\":{\"id\":\"9906\",\"type\":\"CategoricalTicker\"}},\"id\":\"9908\",\"type\":\"Grid\"},{\"attributes\":{\"dimension\":1,\"ticker\":{\"id\":\"9910\",\"type\":\"BasicTicker\"}},\"id\":\"9913\",\"type\":\"Grid\"}],\"root_ids\":[\"9894\"]},\"title\":\"Bokeh Application\",\"version\":\"1.4.0\"}};\n",
       "  var render_items = [{\"docid\":\"1a6db14b-1ee5-4218-b092-6dcbab1c634a\",\"roots\":{\"9894\":\"ebeda48c-287b-4150-92c6-6606be784f07\"}}];\n",
       "  root.Bokeh.embed.embed_items_notebook(docs_json, render_items);\n",
       "\n",
       "  }\n",
       "  if (root.Bokeh !== undefined) {\n",
       "    embed_document(root);\n",
       "  } else {\n",
       "    var attempts = 0;\n",
       "    var timer = setInterval(function(root) {\n",
       "      if (root.Bokeh !== undefined) {\n",
       "        clearInterval(timer);\n",
       "        embed_document(root);\n",
       "      } else {\n",
       "        attempts++;\n",
       "        if (attempts > 100) {\n",
       "          clearInterval(timer);\n",
       "          console.log(\"Bokeh: ERROR: Unable to run BokehJS code because BokehJS library is missing\");\n",
       "        }\n",
       "      }\n",
       "    }, 10, root)\n",
       "  }\n",
       "})(window);"
      ],
      "application/vnd.bokehjs_exec.v0+json": ""
     },
     "metadata": {
      "application/vnd.bokehjs_exec.v0+json": {
       "id": "9894"
      }
     },
     "output_type": "display_data"
    }
   ],
   "source": [
    "show(gdp_bar_congress)"
   ]
  },
  {
   "cell_type": "code",
   "execution_count": 113,
   "metadata": {
    "scrolled": true,
    "slideshow": {
     "slide_type": "skip"
    }
   },
   "outputs": [],
   "source": [
    "if(years[0] != 1970):\n",
    "    years.insert(0, 1970)\n",
    "\n",
    "FD_tool = [(\"Federal Debt: \", \"$ $y{0} million\")]\n",
    "FD = figure(title=\"Federal Debt over time\", x_axis_label=\"Time\", y_axis_label=\"Federal Debt in Millions\", plot_width=900, tooltips = FD_tool)\n",
    "FD.line(years, data_list[1], line_width=2)\n",
    "\n",
    "for box in boxList:\n",
    "    FD.add_layout(box)\n",
    "\n",
    "FD.left[0].formatter.use_scientific = False"
   ]
  },
  {
   "cell_type": "code",
   "execution_count": 114,
   "metadata": {
    "slideshow": {
     "slide_type": "skip"
    }
   },
   "outputs": [],
   "source": [
    "FD_congress = figure(title=\"Federal Debt over time\", x_axis_label=\"Time\", y_axis_label=\"Federal Debt in Millions\", plot_width=900, tooltips = FD_tool)\n",
    "FD_congress.line(years, data_list[1], line_width=2)\n",
    "for box in congress_boxList:\n",
    "    FD_congress.add_layout(box)\n",
    "FD_congress.left[0].formatter.use_scientific = False"
   ]
  },
  {
   "cell_type": "markdown",
   "metadata": {
    "slideshow": {
     "slide_type": "slide"
    }
   },
   "source": [
    "## 2. Federal Debt"
   ]
  },
  {
   "cell_type": "markdown",
   "metadata": {
    "slideshow": {
     "slide_type": "subslide"
    }
   },
   "source": [
    "## 2.1: Federal Debt Over Time - Line"
   ]
  },
  {
   "cell_type": "code",
   "execution_count": 115,
   "metadata": {
    "slideshow": {
     "slide_type": "subslide"
    }
   },
   "outputs": [
    {
     "data": {
      "text/html": [
       "\n",
       "\n",
       "\n",
       "\n",
       "\n",
       "\n",
       "  <div class=\"bk-root\" id=\"fe0c9c3f-2bde-44e9-aa9c-1cf61fdeab9a\" data-root-id=\"10640\"></div>\n"
      ]
     },
     "metadata": {},
     "output_type": "display_data"
    },
    {
     "data": {
      "application/javascript": [
       "(function(root) {\n",
       "  function embed_document(root) {\n",
       "    \n",
       "  var docs_json = {\"d219ad16-7aa5-4a29-bd46-dbbd2ef6124a\":{\"roots\":{\"references\":[{\"attributes\":{\"below\":[{\"id\":\"10651\",\"type\":\"LinearAxis\"}],\"center\":[{\"id\":\"10655\",\"type\":\"Grid\"},{\"id\":\"10660\",\"type\":\"Grid\"},{\"id\":\"8756\",\"type\":\"BoxAnnotation\"},{\"id\":\"8757\",\"type\":\"BoxAnnotation\"},{\"id\":\"8758\",\"type\":\"BoxAnnotation\"},{\"id\":\"8759\",\"type\":\"BoxAnnotation\"},{\"id\":\"8760\",\"type\":\"BoxAnnotation\"},{\"id\":\"8761\",\"type\":\"BoxAnnotation\"},{\"id\":\"8762\",\"type\":\"BoxAnnotation\"},{\"id\":\"8770\",\"type\":\"BoxAnnotation\"},{\"id\":\"8771\",\"type\":\"BoxAnnotation\"},{\"id\":\"8772\",\"type\":\"BoxAnnotation\"},{\"id\":\"8773\",\"type\":\"BoxAnnotation\"},{\"id\":\"8774\",\"type\":\"BoxAnnotation\"}],\"left\":[{\"id\":\"10656\",\"type\":\"LinearAxis\"}],\"plot_width\":900,\"renderers\":[{\"id\":\"10679\",\"type\":\"GlyphRenderer\"}],\"title\":{\"id\":\"10641\",\"type\":\"Title\"},\"toolbar\":{\"id\":\"10668\",\"type\":\"Toolbar\"},\"x_range\":{\"id\":\"10643\",\"type\":\"DataRange1d\"},\"x_scale\":{\"id\":\"10647\",\"type\":\"LinearScale\"},\"y_range\":{\"id\":\"10645\",\"type\":\"DataRange1d\"},\"y_scale\":{\"id\":\"10649\",\"type\":\"LinearScale\"}},\"id\":\"10640\",\"subtype\":\"Figure\",\"type\":\"Plot\"},{\"attributes\":{},\"id\":\"11034\",\"type\":\"UnionRenderers\"},{\"attributes\":{\"fill_alpha\":{\"value\":0.5},\"fill_color\":{\"value\":\"red\"},\"left\":2001,\"right\":2009},\"id\":\"8758\",\"type\":\"BoxAnnotation\"},{\"attributes\":{\"dimension\":1,\"ticker\":{\"id\":\"10657\",\"type\":\"BasicTicker\"}},\"id\":\"10660\",\"type\":\"Grid\"},{\"attributes\":{},\"id\":\"10657\",\"type\":\"BasicTicker\"},{\"attributes\":{},\"id\":\"11035\",\"type\":\"Selection\"},{\"attributes\":{\"axis_label\":\"Federal Debt in Millions\",\"formatter\":{\"id\":\"10681\",\"type\":\"BasicTickFormatter\"},\"ticker\":{\"id\":\"10657\",\"type\":\"BasicTicker\"}},\"id\":\"10656\",\"type\":\"LinearAxis\"},{\"attributes\":{\"text\":\"Federal Debt over time\"},\"id\":\"10641\",\"type\":\"Title\"},{\"attributes\":{\"fill_alpha\":{\"value\":0.5},\"fill_color\":{\"value\":\"red\"},\"left\":1970,\"right\":1977},\"id\":\"8756\",\"type\":\"BoxAnnotation\"},{\"attributes\":{\"fill_alpha\":{\"value\":0.5},\"fill_color\":{\"value\":\"#333333\"},\"left\":1981,\"right\":1982},\"id\":\"8771\",\"type\":\"BoxAnnotation\"},{\"attributes\":{\"callback\":null},\"id\":\"10645\",\"type\":\"DataRange1d\"},{\"attributes\":{\"line_color\":\"#1f77b4\",\"line_width\":2,\"x\":{\"field\":\"x\"},\"y\":{\"field\":\"y\"}},\"id\":\"10677\",\"type\":\"Line\"},{\"attributes\":{\"fill_alpha\":{\"value\":0.5},\"fill_color\":{\"value\":\"#333333\"},\"left\":2001.3,\"right\":2001.9},\"id\":\"8773\",\"type\":\"BoxAnnotation\"},{\"attributes\":{},\"id\":\"10649\",\"type\":\"LinearScale\"},{\"attributes\":{\"fill_alpha\":{\"value\":0.5},\"fill_color\":{\"value\":\"#333333\"},\"left\":2008,\"right\":2009.5},\"id\":\"8774\",\"type\":\"BoxAnnotation\"},{\"attributes\":{\"data_source\":{\"id\":\"10676\",\"type\":\"ColumnDataSource\"},\"glyph\":{\"id\":\"10677\",\"type\":\"Line\"},\"hover_glyph\":null,\"muted_glyph\":null,\"nonselection_glyph\":{\"id\":\"10678\",\"type\":\"Line\"},\"selection_glyph\":null,\"view\":{\"id\":\"10680\",\"type\":\"CDSView\"}},\"id\":\"10679\",\"type\":\"GlyphRenderer\"},{\"attributes\":{\"callback\":null,\"tooltips\":[[\"Federal Debt: \",\"$ $y{0} million\"]]},\"id\":\"10667\",\"type\":\"HoverTool\"},{\"attributes\":{},\"id\":\"10652\",\"type\":\"BasicTicker\"},{\"attributes\":{\"fill_alpha\":{\"value\":0.5},\"fill_color\":{\"value\":\"blue\"},\"left\":1993,\"right\":2001},\"id\":\"8761\",\"type\":\"BoxAnnotation\"},{\"attributes\":{\"fill_alpha\":{\"value\":0.5},\"fill_color\":{\"value\":\"#333333\"},\"left\":1990,\"right\":1991},\"id\":\"8772\",\"type\":\"BoxAnnotation\"},{\"attributes\":{\"active_drag\":\"auto\",\"active_inspect\":\"auto\",\"active_multi\":null,\"active_scroll\":\"auto\",\"active_tap\":\"auto\",\"tools\":[{\"id\":\"10661\",\"type\":\"PanTool\"},{\"id\":\"10662\",\"type\":\"WheelZoomTool\"},{\"id\":\"10663\",\"type\":\"BoxZoomTool\"},{\"id\":\"10664\",\"type\":\"SaveTool\"},{\"id\":\"10665\",\"type\":\"ResetTool\"},{\"id\":\"10666\",\"type\":\"HelpTool\"},{\"id\":\"10667\",\"type\":\"HoverTool\"}]},\"id\":\"10668\",\"type\":\"Toolbar\"},{\"attributes\":{\"fill_alpha\":{\"value\":0.5},\"fill_color\":{\"value\":\"blue\"},\"left\":2009,\"right\":2017},\"id\":\"8762\",\"type\":\"BoxAnnotation\"},{\"attributes\":{},\"id\":\"10661\",\"type\":\"PanTool\"},{\"attributes\":{\"bottom_units\":\"screen\",\"fill_alpha\":{\"value\":0.5},\"fill_color\":{\"value\":\"lightgrey\"},\"left_units\":\"screen\",\"level\":\"overlay\",\"line_alpha\":{\"value\":1.0},\"line_color\":{\"value\":\"black\"},\"line_dash\":[4,4],\"line_width\":{\"value\":2},\"render_mode\":\"css\",\"right_units\":\"screen\",\"top_units\":\"screen\"},\"id\":\"11033\",\"type\":\"BoxAnnotation\"},{\"attributes\":{},\"id\":\"11031\",\"type\":\"BasicTickFormatter\"},{\"attributes\":{\"axis_label\":\"Time\",\"formatter\":{\"id\":\"11031\",\"type\":\"BasicTickFormatter\"},\"ticker\":{\"id\":\"10652\",\"type\":\"BasicTicker\"}},\"id\":\"10651\",\"type\":\"LinearAxis\"},{\"attributes\":{},\"id\":\"10662\",\"type\":\"WheelZoomTool\"},{\"attributes\":{\"callback\":null},\"id\":\"10643\",\"type\":\"DataRange1d\"},{\"attributes\":{},\"id\":\"10647\",\"type\":\"LinearScale\"},{\"attributes\":{\"line_alpha\":0.1,\"line_color\":\"#1f77b4\",\"line_width\":2,\"x\":{\"field\":\"x\"},\"y\":{\"field\":\"y\"}},\"id\":\"10678\",\"type\":\"Line\"},{\"attributes\":{\"overlay\":{\"id\":\"11033\",\"type\":\"BoxAnnotation\"}},\"id\":\"10663\",\"type\":\"BoxZoomTool\"},{\"attributes\":{\"fill_alpha\":{\"value\":0.5},\"fill_color\":{\"value\":\"red\"},\"left\":1981,\"right\":1993},\"id\":\"8757\",\"type\":\"BoxAnnotation\"},{\"attributes\":{},\"id\":\"10664\",\"type\":\"SaveTool\"},{\"attributes\":{\"fill_alpha\":{\"value\":0.5},\"fill_color\":{\"value\":\"blue\"},\"left\":1977,\"right\":1981},\"id\":\"8760\",\"type\":\"BoxAnnotation\"},{\"attributes\":{},\"id\":\"10665\",\"type\":\"ResetTool\"},{\"attributes\":{\"callback\":null,\"data\":{\"x\":[1970,1970.25,1970.5,1970.75,1971.0,1971.25,1971.5,1971.75,1972.0,1972.25,1972.5,1972.75,1973.0,1973.25,1973.5,1973.75,1974.0,1974.25,1974.5,1974.75,1975.0,1975.25,1975.5,1975.75,1976.0,1976.25,1976.5,1976.75,1977.0,1977.25,1977.5,1977.75,1978.0,1978.25,1978.5,1978.75,1979.0,1979.25,1979.5,1979.75,1980.0,1980.25,1980.5,1980.75,1981.0,1981.25,1981.5,1981.75,1982.0,1982.25,1982.5,1982.75,1983.0,1983.25,1983.5,1983.75,1984.0,1984.25,1984.5,1984.75,1985.0,1985.25,1985.5,1985.75,1986.0,1986.25,1986.5,1986.75,1987.0,1987.25,1987.5,1987.75,1988.0,1988.25,1988.5,1988.75,1989.0,1989.25,1989.5,1989.75,1990.0,1990.25,1990.5,1990.75,1991.0,1991.25,1991.5,1991.75,1992.0,1992.25,1992.5,1992.75,1993.0,1993.25,1993.5,1993.75,1994.0,1994.25,1994.5,1994.75,1995.0,1995.25,1995.5,1995.75,1996.0,1996.25,1996.5,1996.75,1997.0,1997.25,1997.5,1997.75,1998.0,1998.25,1998.5,1998.75,1999.0,1999.25,1999.5,1999.75,2000.0,2000.25,2000.5,2000.75,2001.0,2001.25,2001.5,2001.75,2002.0,2002.25,2002.5,2002.75,2003.0,2003.25,2003.5,2003.75,2004.0,2004.25,2004.5,2004.75,2005.0,2005.25,2005.5,2005.75,2006.0,2006.25,2006.5,2006.75,2007.0,2007.25,2007.5,2007.75,2008.0,2008.25,2008.5,2008.75,2009.0,2009.25,2009.5,2009.75,2010.0,2010.25,2010.5,2010.75,2011.0,2011.25,2011.5,2011.75,2012.0,2012.25,2012.5,2012.75,2013.0,2013.25,2013.5,2013.75,2014.0,2014.25,2014.5,2014.75,2015.0,2015.25,2015.5,2015.75,2016.0,2016.25,2016.5,2016.75,2017.0,2017.25,2017.5,2017.75,2018.0,2018.25,2018.5,2018.75,2019.0],\"y\":[372007.0,370094.0,378678.0,389158.0,391668.0,397305.0,412268.0,424131.0,427344.0,426435.0,433946.0,448473.0,458606.0,457317.0,460614.0,469073.0,473675.0,474235.0,481466.0,492664.0,509659.0,533188.0,553647.0,576649.0,600490.0,620432.0,634701.0,653543.0,669207.0,674425.0,698840.0,718943.0,737951.0,749024.0,771544.0,789207.0,796792.0,804913.0,826519.0,845116.0,863451.0,877614.0,907701.0,930210.0,964531.0,971174.0,997855.0,1028729.0,1061299.0,1079630.0,1142035.0,1197074.0,1244493.0,1319581.0,1377211.0,1410702.0,1463741.0,1512697.0,1572267.0,1662966.0,1710731.0,1774640.0,1823103.0,1945942.0,1986816.0,2059349.0,2125304.0,2214835.0,2246724.0,2309296.0,2350277.0,2431715.0,2487551.0,2547656.0,2602183.0,2684392.0,2740898.0,2799923.0,2857431.0,2952994.0,3051958.0,3143754.0,3233313.0,3364820.0,3465189.0,3537988.0,3665303.0,3801698.0,3881288.0,3984656.0,4064621.0,4177009.0,4230580.0,4351950.0,4411489.0,4535687.0,4575869.0,4645802.0,4692750.0,4800150.0,4864116.0,4951372.0,4973983.0,4988665.0,5117786.0,5161076.0,5224811.0,5323172.0,5380890.0,5376151.0,5413146.0,5502388.0,5542426.0,5547935.0,5526193.0,5614217.0,5651615.0,5638780.0,5656271.0,5776091.0,5773392.0,5685938.0,5674179.0,5662216.0,5773740.0,5726815.0,5807464.0,5943439.0,6006032.0,6126469.0,6228236.0,6405707.0,6460776.0,6670121.0,6783320.0,6997964.0,7131068.0,7274335.0,7379053.0,7596143.0,7776939.0,7836496.0,7932710.0,8170413.0,8371156.0,8420042.0,8506974.0,8680224.0,8849665.0,8867677.0,9007653.0,9229172.0,9437594.0,9492006.0,10024725.0,10699805.0,11126941.0,11545275.0,11909828.0,12311349.0,12773123.0,13201792.0,13561622.0,14025215.0,14270114.0,14343087.0,14790340.0,15222940.0,15606518.0,15855037.0,16066240.0,16432730.0,16771381.0,16738320.0,16738180.0,17156119.0,17601227.0,17632606.0,17824071.0,18141444.0,18152056.0,18151998.0,18150618.0,18922179.0,19264939.0,19381591.0,19573445.0,19976827.0,19846420.0,19844554.0,20244900.0,20492747.0,21089643.0,21195070.0,21516058.0,21974096.0,22027880.0]},\"selected\":{\"id\":\"11035\",\"type\":\"Selection\"},\"selection_policy\":{\"id\":\"11034\",\"type\":\"UnionRenderers\"}},\"id\":\"10676\",\"type\":\"ColumnDataSource\"},{\"attributes\":{\"ticker\":{\"id\":\"10652\",\"type\":\"BasicTicker\"}},\"id\":\"10655\",\"type\":\"Grid\"},{\"attributes\":{},\"id\":\"10666\",\"type\":\"HelpTool\"},{\"attributes\":{\"use_scientific\":false},\"id\":\"10681\",\"type\":\"BasicTickFormatter\"},{\"attributes\":{\"fill_alpha\":{\"value\":0.5},\"fill_color\":{\"value\":\"red\"},\"left\":2017,\"right\":2019},\"id\":\"8759\",\"type\":\"BoxAnnotation\"},{\"attributes\":{\"fill_alpha\":{\"value\":0.5},\"fill_color\":{\"value\":\"#333333\"},\"left\":1973,\"right\":1975},\"id\":\"8770\",\"type\":\"BoxAnnotation\"},{\"attributes\":{\"source\":{\"id\":\"10676\",\"type\":\"ColumnDataSource\"}},\"id\":\"10680\",\"type\":\"CDSView\"}],\"root_ids\":[\"10640\"]},\"title\":\"Bokeh Application\",\"version\":\"1.4.0\"}};\n",
       "  var render_items = [{\"docid\":\"d219ad16-7aa5-4a29-bd46-dbbd2ef6124a\",\"roots\":{\"10640\":\"fe0c9c3f-2bde-44e9-aa9c-1cf61fdeab9a\"}}];\n",
       "  root.Bokeh.embed.embed_items_notebook(docs_json, render_items);\n",
       "\n",
       "  }\n",
       "  if (root.Bokeh !== undefined) {\n",
       "    embed_document(root);\n",
       "  } else {\n",
       "    var attempts = 0;\n",
       "    var timer = setInterval(function(root) {\n",
       "      if (root.Bokeh !== undefined) {\n",
       "        clearInterval(timer);\n",
       "        embed_document(root);\n",
       "      } else {\n",
       "        attempts++;\n",
       "        if (attempts > 100) {\n",
       "          clearInterval(timer);\n",
       "          console.log(\"Bokeh: ERROR: Unable to run BokehJS code because BokehJS library is missing\");\n",
       "        }\n",
       "      }\n",
       "    }, 10, root)\n",
       "  }\n",
       "})(window);"
      ],
      "application/vnd.bokehjs_exec.v0+json": ""
     },
     "metadata": {
      "application/vnd.bokehjs_exec.v0+json": {
       "id": "10640"
      }
     },
     "output_type": "display_data"
    }
   ],
   "source": [
    "show(FD)"
   ]
  },
  {
   "cell_type": "code",
   "execution_count": 116,
   "metadata": {
    "slideshow": {
     "slide_type": "subslide"
    }
   },
   "outputs": [
    {
     "data": {
      "text/html": [
       "\n",
       "\n",
       "\n",
       "\n",
       "\n",
       "\n",
       "  <div class=\"bk-root\" id=\"61dc9e2a-3dbb-488c-a5eb-6d6710b509ce\" data-root-id=\"10682\"></div>\n"
      ]
     },
     "metadata": {},
     "output_type": "display_data"
    },
    {
     "data": {
      "application/javascript": [
       "(function(root) {\n",
       "  function embed_document(root) {\n",
       "    \n",
       "  var docs_json = {\"ffc1c23b-fdc3-41bb-8b4c-c59cebfad509\":{\"roots\":{\"references\":[{\"attributes\":{\"below\":[{\"id\":\"10693\",\"type\":\"LinearAxis\"}],\"center\":[{\"id\":\"10697\",\"type\":\"Grid\"},{\"id\":\"10702\",\"type\":\"Grid\"},{\"id\":\"8763\",\"type\":\"BoxAnnotation\"},{\"id\":\"8764\",\"type\":\"BoxAnnotation\"},{\"id\":\"8765\",\"type\":\"BoxAnnotation\"},{\"id\":\"8766\",\"type\":\"BoxAnnotation\"},{\"id\":\"8767\",\"type\":\"BoxAnnotation\"},{\"id\":\"8768\",\"type\":\"BoxAnnotation\"},{\"id\":\"8769\",\"type\":\"BoxAnnotation\"},{\"id\":\"8770\",\"type\":\"BoxAnnotation\"},{\"id\":\"8771\",\"type\":\"BoxAnnotation\"},{\"id\":\"8772\",\"type\":\"BoxAnnotation\"},{\"id\":\"8773\",\"type\":\"BoxAnnotation\"},{\"id\":\"8774\",\"type\":\"BoxAnnotation\"}],\"left\":[{\"id\":\"10698\",\"type\":\"LinearAxis\"}],\"plot_width\":900,\"renderers\":[{\"id\":\"10721\",\"type\":\"GlyphRenderer\"}],\"title\":{\"id\":\"10683\",\"type\":\"Title\"},\"toolbar\":{\"id\":\"10710\",\"type\":\"Toolbar\"},\"x_range\":{\"id\":\"10685\",\"type\":\"DataRange1d\"},\"x_scale\":{\"id\":\"10689\",\"type\":\"LinearScale\"},\"y_range\":{\"id\":\"10687\",\"type\":\"DataRange1d\"},\"y_scale\":{\"id\":\"10691\",\"type\":\"LinearScale\"}},\"id\":\"10682\",\"subtype\":\"Figure\",\"type\":\"Plot\"},{\"attributes\":{},\"id\":\"10706\",\"type\":\"SaveTool\"},{\"attributes\":{\"text\":\"Federal Debt over time\"},\"id\":\"10683\",\"type\":\"Title\"},{\"attributes\":{\"callback\":null},\"id\":\"10687\",\"type\":\"DataRange1d\"},{\"attributes\":{},\"id\":\"10691\",\"type\":\"LinearScale\"},{\"attributes\":{},\"id\":\"10707\",\"type\":\"ResetTool\"},{\"attributes\":{\"data_source\":{\"id\":\"10718\",\"type\":\"ColumnDataSource\"},\"glyph\":{\"id\":\"10719\",\"type\":\"Line\"},\"hover_glyph\":null,\"muted_glyph\":null,\"nonselection_glyph\":{\"id\":\"10720\",\"type\":\"Line\"},\"selection_glyph\":null,\"view\":{\"id\":\"10722\",\"type\":\"CDSView\"}},\"id\":\"10721\",\"type\":\"GlyphRenderer\"},{\"attributes\":{\"fill_alpha\":{\"value\":0.5},\"fill_color\":{\"value\":\"blue\"},\"left\":2007,\"right\":2011},\"id\":\"8767\",\"type\":\"BoxAnnotation\"},{\"attributes\":{},\"id\":\"10708\",\"type\":\"HelpTool\"},{\"attributes\":{\"use_scientific\":false},\"id\":\"10723\",\"type\":\"BasicTickFormatter\"},{\"attributes\":{\"fill_alpha\":{\"value\":0.5},\"fill_color\":{\"value\":\"#333333\"},\"left\":1981,\"right\":1982},\"id\":\"8771\",\"type\":\"BoxAnnotation\"},{\"attributes\":{\"callback\":null,\"tooltips\":[[\"Federal Debt: \",\"$ $y{0} million\"]]},\"id\":\"10709\",\"type\":\"HoverTool\"},{\"attributes\":{\"active_drag\":\"auto\",\"active_inspect\":\"auto\",\"active_multi\":null,\"active_scroll\":\"auto\",\"active_tap\":\"auto\",\"tools\":[{\"id\":\"10703\",\"type\":\"PanTool\"},{\"id\":\"10704\",\"type\":\"WheelZoomTool\"},{\"id\":\"10705\",\"type\":\"BoxZoomTool\"},{\"id\":\"10706\",\"type\":\"SaveTool\"},{\"id\":\"10707\",\"type\":\"ResetTool\"},{\"id\":\"10708\",\"type\":\"HelpTool\"},{\"id\":\"10709\",\"type\":\"HoverTool\"}]},\"id\":\"10710\",\"type\":\"Toolbar\"},{\"attributes\":{\"fill_alpha\":{\"value\":0.5},\"fill_color\":{\"value\":\"red\"},\"left\":1995,\"right\":2007},\"id\":\"8763\",\"type\":\"BoxAnnotation\"},{\"attributes\":{},\"id\":\"10703\",\"type\":\"PanTool\"},{\"attributes\":{},\"id\":\"11403\",\"type\":\"Selection\"},{\"attributes\":{},\"id\":\"10689\",\"type\":\"LinearScale\"},{\"attributes\":{\"fill_alpha\":{\"value\":0.5},\"fill_color\":{\"value\":\"#333333\"},\"left\":2001.3,\"right\":2001.9},\"id\":\"8773\",\"type\":\"BoxAnnotation\"},{\"attributes\":{},\"id\":\"10694\",\"type\":\"BasicTicker\"},{\"attributes\":{\"fill_alpha\":{\"value\":0.5},\"fill_color\":{\"value\":\"#333333\"},\"left\":2008,\"right\":2009.5},\"id\":\"8774\",\"type\":\"BoxAnnotation\"},{\"attributes\":{},\"id\":\"11402\",\"type\":\"UnionRenderers\"},{\"attributes\":{\"fill_alpha\":{\"value\":0.5},\"fill_color\":{\"value\":\"#800080\"},\"left\":2011,\"right\":2015},\"id\":\"8769\",\"type\":\"BoxAnnotation\"},{\"attributes\":{\"fill_alpha\":{\"value\":0.5},\"fill_color\":{\"value\":\"#333333\"},\"left\":1990,\"right\":1991},\"id\":\"8772\",\"type\":\"BoxAnnotation\"},{\"attributes\":{\"callback\":null,\"data\":{\"x\":[1970,1970.25,1970.5,1970.75,1971.0,1971.25,1971.5,1971.75,1972.0,1972.25,1972.5,1972.75,1973.0,1973.25,1973.5,1973.75,1974.0,1974.25,1974.5,1974.75,1975.0,1975.25,1975.5,1975.75,1976.0,1976.25,1976.5,1976.75,1977.0,1977.25,1977.5,1977.75,1978.0,1978.25,1978.5,1978.75,1979.0,1979.25,1979.5,1979.75,1980.0,1980.25,1980.5,1980.75,1981.0,1981.25,1981.5,1981.75,1982.0,1982.25,1982.5,1982.75,1983.0,1983.25,1983.5,1983.75,1984.0,1984.25,1984.5,1984.75,1985.0,1985.25,1985.5,1985.75,1986.0,1986.25,1986.5,1986.75,1987.0,1987.25,1987.5,1987.75,1988.0,1988.25,1988.5,1988.75,1989.0,1989.25,1989.5,1989.75,1990.0,1990.25,1990.5,1990.75,1991.0,1991.25,1991.5,1991.75,1992.0,1992.25,1992.5,1992.75,1993.0,1993.25,1993.5,1993.75,1994.0,1994.25,1994.5,1994.75,1995.0,1995.25,1995.5,1995.75,1996.0,1996.25,1996.5,1996.75,1997.0,1997.25,1997.5,1997.75,1998.0,1998.25,1998.5,1998.75,1999.0,1999.25,1999.5,1999.75,2000.0,2000.25,2000.5,2000.75,2001.0,2001.25,2001.5,2001.75,2002.0,2002.25,2002.5,2002.75,2003.0,2003.25,2003.5,2003.75,2004.0,2004.25,2004.5,2004.75,2005.0,2005.25,2005.5,2005.75,2006.0,2006.25,2006.5,2006.75,2007.0,2007.25,2007.5,2007.75,2008.0,2008.25,2008.5,2008.75,2009.0,2009.25,2009.5,2009.75,2010.0,2010.25,2010.5,2010.75,2011.0,2011.25,2011.5,2011.75,2012.0,2012.25,2012.5,2012.75,2013.0,2013.25,2013.5,2013.75,2014.0,2014.25,2014.5,2014.75,2015.0,2015.25,2015.5,2015.75,2016.0,2016.25,2016.5,2016.75,2017.0,2017.25,2017.5,2017.75,2018.0,2018.25,2018.5,2018.75,2019.0],\"y\":[372007.0,370094.0,378678.0,389158.0,391668.0,397305.0,412268.0,424131.0,427344.0,426435.0,433946.0,448473.0,458606.0,457317.0,460614.0,469073.0,473675.0,474235.0,481466.0,492664.0,509659.0,533188.0,553647.0,576649.0,600490.0,620432.0,634701.0,653543.0,669207.0,674425.0,698840.0,718943.0,737951.0,749024.0,771544.0,789207.0,796792.0,804913.0,826519.0,845116.0,863451.0,877614.0,907701.0,930210.0,964531.0,971174.0,997855.0,1028729.0,1061299.0,1079630.0,1142035.0,1197074.0,1244493.0,1319581.0,1377211.0,1410702.0,1463741.0,1512697.0,1572267.0,1662966.0,1710731.0,1774640.0,1823103.0,1945942.0,1986816.0,2059349.0,2125304.0,2214835.0,2246724.0,2309296.0,2350277.0,2431715.0,2487551.0,2547656.0,2602183.0,2684392.0,2740898.0,2799923.0,2857431.0,2952994.0,3051958.0,3143754.0,3233313.0,3364820.0,3465189.0,3537988.0,3665303.0,3801698.0,3881288.0,3984656.0,4064621.0,4177009.0,4230580.0,4351950.0,4411489.0,4535687.0,4575869.0,4645802.0,4692750.0,4800150.0,4864116.0,4951372.0,4973983.0,4988665.0,5117786.0,5161076.0,5224811.0,5323172.0,5380890.0,5376151.0,5413146.0,5502388.0,5542426.0,5547935.0,5526193.0,5614217.0,5651615.0,5638780.0,5656271.0,5776091.0,5773392.0,5685938.0,5674179.0,5662216.0,5773740.0,5726815.0,5807464.0,5943439.0,6006032.0,6126469.0,6228236.0,6405707.0,6460776.0,6670121.0,6783320.0,6997964.0,7131068.0,7274335.0,7379053.0,7596143.0,7776939.0,7836496.0,7932710.0,8170413.0,8371156.0,8420042.0,8506974.0,8680224.0,8849665.0,8867677.0,9007653.0,9229172.0,9437594.0,9492006.0,10024725.0,10699805.0,11126941.0,11545275.0,11909828.0,12311349.0,12773123.0,13201792.0,13561622.0,14025215.0,14270114.0,14343087.0,14790340.0,15222940.0,15606518.0,15855037.0,16066240.0,16432730.0,16771381.0,16738320.0,16738180.0,17156119.0,17601227.0,17632606.0,17824071.0,18141444.0,18152056.0,18151998.0,18150618.0,18922179.0,19264939.0,19381591.0,19573445.0,19976827.0,19846420.0,19844554.0,20244900.0,20492747.0,21089643.0,21195070.0,21516058.0,21974096.0,22027880.0]},\"selected\":{\"id\":\"11403\",\"type\":\"Selection\"},\"selection_policy\":{\"id\":\"11402\",\"type\":\"UnionRenderers\"}},\"id\":\"10718\",\"type\":\"ColumnDataSource\"},{\"attributes\":{\"source\":{\"id\":\"10718\",\"type\":\"ColumnDataSource\"}},\"id\":\"10722\",\"type\":\"CDSView\"},{\"attributes\":{\"fill_alpha\":{\"value\":0.5},\"fill_color\":{\"value\":\"blue\"},\"left\":1970,\"right\":1981},\"id\":\"8765\",\"type\":\"BoxAnnotation\"},{\"attributes\":{\"fill_alpha\":{\"value\":0.5},\"fill_color\":{\"value\":\"#800080\"},\"left\":1981,\"right\":1987},\"id\":\"8768\",\"type\":\"BoxAnnotation\"},{\"attributes\":{},\"id\":\"10699\",\"type\":\"BasicTicker\"},{\"attributes\":{\"ticker\":{\"id\":\"10694\",\"type\":\"BasicTicker\"}},\"id\":\"10697\",\"type\":\"Grid\"},{\"attributes\":{\"line_color\":\"#1f77b4\",\"line_width\":2,\"x\":{\"field\":\"x\"},\"y\":{\"field\":\"y\"}},\"id\":\"10719\",\"type\":\"Line\"},{\"attributes\":{\"dimension\":1,\"ticker\":{\"id\":\"10699\",\"type\":\"BasicTicker\"}},\"id\":\"10702\",\"type\":\"Grid\"},{\"attributes\":{\"fill_alpha\":{\"value\":0.5},\"fill_color\":{\"value\":\"red\"},\"left\":2015,\"right\":2019},\"id\":\"8764\",\"type\":\"BoxAnnotation\"},{\"attributes\":{\"axis_label\":\"Federal Debt in Millions\",\"formatter\":{\"id\":\"10723\",\"type\":\"BasicTickFormatter\"},\"ticker\":{\"id\":\"10699\",\"type\":\"BasicTicker\"}},\"id\":\"10698\",\"type\":\"LinearAxis\"},{\"attributes\":{\"axis_label\":\"Time\",\"formatter\":{\"id\":\"11399\",\"type\":\"BasicTickFormatter\"},\"ticker\":{\"id\":\"10694\",\"type\":\"BasicTicker\"}},\"id\":\"10693\",\"type\":\"LinearAxis\"},{\"attributes\":{\"line_alpha\":0.1,\"line_color\":\"#1f77b4\",\"line_width\":2,\"x\":{\"field\":\"x\"},\"y\":{\"field\":\"y\"}},\"id\":\"10720\",\"type\":\"Line\"},{\"attributes\":{},\"id\":\"11399\",\"type\":\"BasicTickFormatter\"},{\"attributes\":{\"fill_alpha\":{\"value\":0.5},\"fill_color\":{\"value\":\"blue\"},\"left\":1987,\"right\":1995},\"id\":\"8766\",\"type\":\"BoxAnnotation\"},{\"attributes\":{\"callback\":null},\"id\":\"10685\",\"type\":\"DataRange1d\"},{\"attributes\":{},\"id\":\"10704\",\"type\":\"WheelZoomTool\"},{\"attributes\":{\"bottom_units\":\"screen\",\"fill_alpha\":{\"value\":0.5},\"fill_color\":{\"value\":\"lightgrey\"},\"left_units\":\"screen\",\"level\":\"overlay\",\"line_alpha\":{\"value\":1.0},\"line_color\":{\"value\":\"black\"},\"line_dash\":[4,4],\"line_width\":{\"value\":2},\"render_mode\":\"css\",\"right_units\":\"screen\",\"top_units\":\"screen\"},\"id\":\"11401\",\"type\":\"BoxAnnotation\"},{\"attributes\":{\"fill_alpha\":{\"value\":0.5},\"fill_color\":{\"value\":\"#333333\"},\"left\":1973,\"right\":1975},\"id\":\"8770\",\"type\":\"BoxAnnotation\"},{\"attributes\":{\"overlay\":{\"id\":\"11401\",\"type\":\"BoxAnnotation\"}},\"id\":\"10705\",\"type\":\"BoxZoomTool\"}],\"root_ids\":[\"10682\"]},\"title\":\"Bokeh Application\",\"version\":\"1.4.0\"}};\n",
       "  var render_items = [{\"docid\":\"ffc1c23b-fdc3-41bb-8b4c-c59cebfad509\",\"roots\":{\"10682\":\"61dc9e2a-3dbb-488c-a5eb-6d6710b509ce\"}}];\n",
       "  root.Bokeh.embed.embed_items_notebook(docs_json, render_items);\n",
       "\n",
       "  }\n",
       "  if (root.Bokeh !== undefined) {\n",
       "    embed_document(root);\n",
       "  } else {\n",
       "    var attempts = 0;\n",
       "    var timer = setInterval(function(root) {\n",
       "      if (root.Bokeh !== undefined) {\n",
       "        clearInterval(timer);\n",
       "        embed_document(root);\n",
       "      } else {\n",
       "        attempts++;\n",
       "        if (attempts > 100) {\n",
       "          clearInterval(timer);\n",
       "          console.log(\"Bokeh: ERROR: Unable to run BokehJS code because BokehJS library is missing\");\n",
       "        }\n",
       "      }\n",
       "    }, 10, root)\n",
       "  }\n",
       "})(window);"
      ],
      "application/vnd.bokehjs_exec.v0+json": ""
     },
     "metadata": {
      "application/vnd.bokehjs_exec.v0+json": {
       "id": "10682"
      }
     },
     "output_type": "display_data"
    }
   ],
   "source": [
    "show(FD_congress)"
   ]
  },
  {
   "cell_type": "code",
   "execution_count": 117,
   "metadata": {
    "scrolled": true,
    "slideshow": {
     "slide_type": "skip"
    }
   },
   "outputs": [],
   "source": [
    "FD_growth = data_list[1].copy()\n",
    "\n",
    "i = 1\n",
    "while(i < len(data_list[1])):\n",
    "    present = data_list[1][i]\n",
    "    past = data_list[1][i - 1]\n",
    "    growth_rate = (present - past)/past\n",
    "    FD_growth[i] = growth_rate\n",
    "    i += 1\n",
    "\n",
    "for element in FD_growth:\n",
    "    FD_growth[FD_growth.index(element)] = element * 100\n",
    "    \n",
    "if(data_list[1][0] == 372007.0):\n",
    "    del FD_growth[0]\n",
    "if(years[0] == 1970):\n",
    "    del years[0]\n",
    "    \n",
    "FD_rate_tool = [(\"Federal Debt Growth: \", \"$y{0.0}%\")]\n",
    "FD_rate = figure(title = \"Federal Debt Growth Rate over time\", x_axis_label=\"Time\", y_axis_label=\"Federal Debt Growth(%)\", plot_width=900, tooltips=FD_rate_tool)\n",
    "FD_rate.line(years, FD_growth, line_width=2)\n",
    "for box in boxList:\n",
    "    FD_rate.add_layout(box)"
   ]
  },
  {
   "cell_type": "markdown",
   "metadata": {
    "slideshow": {
     "slide_type": "subslide"
    }
   },
   "source": [
    "## 2.2: Federal Debt Growth Rate - Line"
   ]
  },
  {
   "cell_type": "code",
   "execution_count": 118,
   "metadata": {
    "slideshow": {
     "slide_type": "subslide"
    }
   },
   "outputs": [
    {
     "data": {
      "text/html": [
       "\n",
       "\n",
       "\n",
       "\n",
       "\n",
       "\n",
       "  <div class=\"bk-root\" id=\"2f8565f0-ae49-42fb-8845-413524eb4c67\" data-root-id=\"11452\"></div>\n"
      ]
     },
     "metadata": {},
     "output_type": "display_data"
    },
    {
     "data": {
      "application/javascript": [
       "(function(root) {\n",
       "  function embed_document(root) {\n",
       "    \n",
       "  var docs_json = {\"0d0ae639-9c70-4dd1-8088-ef6c1bdf91a0\":{\"roots\":{\"references\":[{\"attributes\":{\"below\":[{\"id\":\"11463\",\"type\":\"LinearAxis\"}],\"center\":[{\"id\":\"11467\",\"type\":\"Grid\"},{\"id\":\"11472\",\"type\":\"Grid\"},{\"id\":\"8756\",\"type\":\"BoxAnnotation\"},{\"id\":\"8757\",\"type\":\"BoxAnnotation\"},{\"id\":\"8758\",\"type\":\"BoxAnnotation\"},{\"id\":\"8759\",\"type\":\"BoxAnnotation\"},{\"id\":\"8760\",\"type\":\"BoxAnnotation\"},{\"id\":\"8761\",\"type\":\"BoxAnnotation\"},{\"id\":\"8762\",\"type\":\"BoxAnnotation\"},{\"id\":\"8770\",\"type\":\"BoxAnnotation\"},{\"id\":\"8771\",\"type\":\"BoxAnnotation\"},{\"id\":\"8772\",\"type\":\"BoxAnnotation\"},{\"id\":\"8773\",\"type\":\"BoxAnnotation\"},{\"id\":\"8774\",\"type\":\"BoxAnnotation\"}],\"left\":[{\"id\":\"11468\",\"type\":\"LinearAxis\"}],\"plot_width\":900,\"renderers\":[{\"id\":\"11491\",\"type\":\"GlyphRenderer\"}],\"title\":{\"id\":\"11453\",\"type\":\"Title\"},\"toolbar\":{\"id\":\"11480\",\"type\":\"Toolbar\"},\"x_range\":{\"id\":\"11455\",\"type\":\"DataRange1d\"},\"x_scale\":{\"id\":\"11459\",\"type\":\"LinearScale\"},\"y_range\":{\"id\":\"11457\",\"type\":\"DataRange1d\"},\"y_scale\":{\"id\":\"11461\",\"type\":\"LinearScale\"}},\"id\":\"11452\",\"subtype\":\"Figure\",\"type\":\"Plot\"},{\"attributes\":{\"fill_alpha\":{\"value\":0.5},\"fill_color\":{\"value\":\"red\"},\"left\":2001,\"right\":2009},\"id\":\"8758\",\"type\":\"BoxAnnotation\"},{\"attributes\":{},\"id\":\"11461\",\"type\":\"LinearScale\"},{\"attributes\":{\"axis_label\":\"Federal Debt Growth(%)\",\"formatter\":{\"id\":\"11814\",\"type\":\"BasicTickFormatter\"},\"ticker\":{\"id\":\"11469\",\"type\":\"BasicTicker\"}},\"id\":\"11468\",\"type\":\"LinearAxis\"},{\"attributes\":{\"axis_label\":\"Time\",\"formatter\":{\"id\":\"11816\",\"type\":\"BasicTickFormatter\"},\"ticker\":{\"id\":\"11464\",\"type\":\"BasicTicker\"}},\"id\":\"11463\",\"type\":\"LinearAxis\"},{\"attributes\":{},\"id\":\"11469\",\"type\":\"BasicTicker\"},{\"attributes\":{},\"id\":\"11464\",\"type\":\"BasicTicker\"},{\"attributes\":{\"overlay\":{\"id\":\"11818\",\"type\":\"BoxAnnotation\"}},\"id\":\"11475\",\"type\":\"BoxZoomTool\"},{\"attributes\":{},\"id\":\"11478\",\"type\":\"HelpTool\"},{\"attributes\":{\"bottom_units\":\"screen\",\"fill_alpha\":{\"value\":0.5},\"fill_color\":{\"value\":\"lightgrey\"},\"left_units\":\"screen\",\"level\":\"overlay\",\"line_alpha\":{\"value\":1.0},\"line_color\":{\"value\":\"black\"},\"line_dash\":[4,4],\"line_width\":{\"value\":2},\"render_mode\":\"css\",\"right_units\":\"screen\",\"top_units\":\"screen\"},\"id\":\"11818\",\"type\":\"BoxAnnotation\"},{\"attributes\":{\"data_source\":{\"id\":\"11488\",\"type\":\"ColumnDataSource\"},\"glyph\":{\"id\":\"11489\",\"type\":\"Line\"},\"hover_glyph\":null,\"muted_glyph\":null,\"nonselection_glyph\":{\"id\":\"11490\",\"type\":\"Line\"},\"selection_glyph\":null,\"view\":{\"id\":\"11492\",\"type\":\"CDSView\"}},\"id\":\"11491\",\"type\":\"GlyphRenderer\"},{\"attributes\":{},\"id\":\"11820\",\"type\":\"Selection\"},{\"attributes\":{\"fill_alpha\":{\"value\":0.5},\"fill_color\":{\"value\":\"red\"},\"left\":1970,\"right\":1977},\"id\":\"8756\",\"type\":\"BoxAnnotation\"},{\"attributes\":{\"active_drag\":\"auto\",\"active_inspect\":\"auto\",\"active_multi\":null,\"active_scroll\":\"auto\",\"active_tap\":\"auto\",\"tools\":[{\"id\":\"11473\",\"type\":\"PanTool\"},{\"id\":\"11474\",\"type\":\"WheelZoomTool\"},{\"id\":\"11475\",\"type\":\"BoxZoomTool\"},{\"id\":\"11476\",\"type\":\"SaveTool\"},{\"id\":\"11477\",\"type\":\"ResetTool\"},{\"id\":\"11478\",\"type\":\"HelpTool\"},{\"id\":\"11479\",\"type\":\"HoverTool\"}]},\"id\":\"11480\",\"type\":\"Toolbar\"},{\"attributes\":{\"fill_alpha\":{\"value\":0.5},\"fill_color\":{\"value\":\"#333333\"},\"left\":1981,\"right\":1982},\"id\":\"8771\",\"type\":\"BoxAnnotation\"},{\"attributes\":{},\"id\":\"11814\",\"type\":\"BasicTickFormatter\"},{\"attributes\":{\"dimension\":1,\"ticker\":{\"id\":\"11469\",\"type\":\"BasicTicker\"}},\"id\":\"11472\",\"type\":\"Grid\"},{\"attributes\":{\"fill_alpha\":{\"value\":0.5},\"fill_color\":{\"value\":\"#333333\"},\"left\":2001.3,\"right\":2001.9},\"id\":\"8773\",\"type\":\"BoxAnnotation\"},{\"attributes\":{\"fill_alpha\":{\"value\":0.5},\"fill_color\":{\"value\":\"#333333\"},\"left\":2008,\"right\":2009.5},\"id\":\"8774\",\"type\":\"BoxAnnotation\"},{\"attributes\":{\"source\":{\"id\":\"11488\",\"type\":\"ColumnDataSource\"}},\"id\":\"11492\",\"type\":\"CDSView\"},{\"attributes\":{\"line_color\":\"#1f77b4\",\"line_width\":2,\"x\":{\"field\":\"x\"},\"y\":{\"field\":\"y\"}},\"id\":\"11489\",\"type\":\"Line\"},{\"attributes\":{\"fill_alpha\":{\"value\":0.5},\"fill_color\":{\"value\":\"blue\"},\"left\":1993,\"right\":2001},\"id\":\"8761\",\"type\":\"BoxAnnotation\"},{\"attributes\":{\"fill_alpha\":{\"value\":0.5},\"fill_color\":{\"value\":\"#333333\"},\"left\":1990,\"right\":1991},\"id\":\"8772\",\"type\":\"BoxAnnotation\"},{\"attributes\":{\"fill_alpha\":{\"value\":0.5},\"fill_color\":{\"value\":\"blue\"},\"left\":2009,\"right\":2017},\"id\":\"8762\",\"type\":\"BoxAnnotation\"},{\"attributes\":{\"line_alpha\":0.1,\"line_color\":\"#1f77b4\",\"line_width\":2,\"x\":{\"field\":\"x\"},\"y\":{\"field\":\"y\"}},\"id\":\"11490\",\"type\":\"Line\"},{\"attributes\":{},\"id\":\"11473\",\"type\":\"PanTool\"},{\"attributes\":{\"callback\":null,\"tooltips\":[[\"Federal Debt Growth: \",\"$y{0.0}%\"]]},\"id\":\"11479\",\"type\":\"HoverTool\"},{\"attributes\":{\"text\":\"Federal Debt Growth Rate over time\"},\"id\":\"11453\",\"type\":\"Title\"},{\"attributes\":{\"fill_alpha\":{\"value\":0.5},\"fill_color\":{\"value\":\"red\"},\"left\":1981,\"right\":1993},\"id\":\"8757\",\"type\":\"BoxAnnotation\"},{\"attributes\":{\"callback\":null,\"data\":{\"x\":[1970.25,1970.5,1970.75,1971.0,1971.25,1971.5,1971.75,1972.0,1972.25,1972.5,1972.75,1973.0,1973.25,1973.5,1973.75,1974.0,1974.25,1974.5,1974.75,1975.0,1975.25,1975.5,1975.75,1976.0,1976.25,1976.5,1976.75,1977.0,1977.25,1977.5,1977.75,1978.0,1978.25,1978.5,1978.75,1979.0,1979.25,1979.5,1979.75,1980.0,1980.25,1980.5,1980.75,1981.0,1981.25,1981.5,1981.75,1982.0,1982.25,1982.5,1982.75,1983.0,1983.25,1983.5,1983.75,1984.0,1984.25,1984.5,1984.75,1985.0,1985.25,1985.5,1985.75,1986.0,1986.25,1986.5,1986.75,1987.0,1987.25,1987.5,1987.75,1988.0,1988.25,1988.5,1988.75,1989.0,1989.25,1989.5,1989.75,1990.0,1990.25,1990.5,1990.75,1991.0,1991.25,1991.5,1991.75,1992.0,1992.25,1992.5,1992.75,1993.0,1993.25,1993.5,1993.75,1994.0,1994.25,1994.5,1994.75,1995.0,1995.25,1995.5,1995.75,1996.0,1996.25,1996.5,1996.75,1997.0,1997.25,1997.5,1997.75,1998.0,1998.25,1998.5,1998.75,1999.0,1999.25,1999.5,1999.75,2000.0,2000.25,2000.5,2000.75,2001.0,2001.25,2001.5,2001.75,2002.0,2002.25,2002.5,2002.75,2003.0,2003.25,2003.5,2003.75,2004.0,2004.25,2004.5,2004.75,2005.0,2005.25,2005.5,2005.75,2006.0,2006.25,2006.5,2006.75,2007.0,2007.25,2007.5,2007.75,2008.0,2008.25,2008.5,2008.75,2009.0,2009.25,2009.5,2009.75,2010.0,2010.25,2010.5,2010.75,2011.0,2011.25,2011.5,2011.75,2012.0,2012.25,2012.5,2012.75,2013.0,2013.25,2013.5,2013.75,2014.0,2014.25,2014.5,2014.75,2015.0,2015.25,2015.5,2015.75,2016.0,2016.25,2016.5,2016.75,2017.0,2017.25,2017.5,2017.75,2018.0,2018.25,2018.5,2018.75,2019.0],\"y\":[-0.514237635313314,2.319410744297395,2.7675228030146983,0.6449822437159201,1.4392291430497257,3.766124262216685,2.8774971620402265,0.7575489648245471,-0.21270919914635517,1.76134698136879,3.3476515511146547,2.259444827224827,-0.28106915304204483,0.7209441153510585,1.8364617662511344,0.9810839677406289,0.11822452103235341,1.52477147405822,2.325813245379736,3.4496127177954956,4.616616208092077,3.837108111960509,4.154632825609098,4.134404117582792,3.3209545537810787,2.299849137375248,2.9686419274587563,2.3967818490902664,0.7797288432428232,3.6201208436816548,2.8766241199702365,2.6438813647257153,1.5005061311658903,3.006579228435938,2.2893056001990812,0.9610913233156828,1.0192120402815288,2.684265255996611,2.2500390190667123,2.169524656970167,1.6402783713262246,3.4282725662990794,2.4797813376871902,3.689596972726589,0.6887285115771292,2.747293481909524,3.094036708740248,3.166042757616437,1.7272229597879578,5.78022100163945,4.819379441085431,3.961242162138681,6.033621723866666,4.367295376335367,2.431798758505414,3.759759325498936,3.3445807694120746,3.9379994803982554,5.768676694225599,2.872277605194574,3.7357714333814025,2.730863724473696,6.737907841740154,2.1004737037383436,3.6507155166859944,3.20271114803756,4.2126208768251505,1.4397912259829737,2.785032785513485,1.7746100976228252,3.465038376327556,2.296157238821161,2.4162318682109434,2.1402811054553674,3.1592320755304297,2.1049831768236533,2.15349130102616,2.0539136254818438,3.3443677205153857,3.3513105681894375,3.0077740257238137,2.8487916039232077,4.067252381690236,2.98289358717554,2.1008666482549723,3.598514183767723,3.721247602176409,2.093538203192363,2.6632396256088184,2.006823173694291,2.7650302451323263,1.2825205787203235,2.8688737714450503,1.3680993577591654,2.815330606060675,0.8859076916021762,1.5282998704726907,1.010546725839801,2.2886367268659105,1.332583356770101,1.7938716922047089,0.45666130518975345,0.2951759183736655,2.588287648098239,0.8458735867423921,1.234916904924477,1.8825752740146966,1.0842783212716027,-0.0880709325037308,0.6881317135623609,1.6486161651653217,0.727647704960101,0.09939690669753642,-0.39189356039679624,1.5928506297192297,0.6661302902969372,-0.22710322624594917,0.3101912115741348,2.118356776045561,-0.04672710315678891,-1.5147767551553748,-0.2068084456777404,-0.21083226313445524,1.9696175490302736,-0.8127314357764638,1.4082696926651201,2.3413834334573576,1.0531444841950932,2.0052673712028177,1.6611036471416079,2.849458498361334,0.859686526405282,3.240245444200511,1.6971056447101933,3.1642912320220775,1.9020389358962122,2.009053903286296,1.4395542685345122,2.9419764297668007,2.380102638931363,0.7658154448684759,1.2277681249374721,2.9964917411578136,2.456950462602074,0.5839814716151509,1.0324414058742226,2.036564352964991,1.9520348783625863,0.20353312809015933,1.5784968261699204,2.459231056080868,2.258295760443082,0.5765452508340579,5.612291016250938,6.734149814583443,3.9919979850100074,3.759649664719171,3.157594773619511,3.371341718788886,3.75079936406644,3.356023425124772,2.725614825623673,3.418418534302165,1.7461336599831088,0.5113694256401876,3.1182478360481256,2.924882051393004,2.5197366605925007,1.5924051732743971,1.3320877144594492,2.281118668711534,2.0608322536790906,-0.19712747566822314,-0.0008364041313584636,2.4969202147425826,2.594456240365318,0.17827734396016823,1.0858576435043126,1.7805864889115401,0.0584958948141063,-0.00031952303364423296,-0.007602468885243377,4.250880052679197,1.8114192873875679,0.6055145048733349,0.9898774563966395,2.060863583288481,-0.6527913567054467,-0.00940219948988281,2.0174099150829994,1.2242441306205514,2.9127183388347104,0.4998994055992318,1.514446519874669,2.1288193218293054,0.24476092213304249]},\"selected\":{\"id\":\"11820\",\"type\":\"Selection\"},\"selection_policy\":{\"id\":\"11819\",\"type\":\"UnionRenderers\"}},\"id\":\"11488\",\"type\":\"ColumnDataSource\"},{\"attributes\":{\"fill_alpha\":{\"value\":0.5},\"fill_color\":{\"value\":\"blue\"},\"left\":1977,\"right\":1981},\"id\":\"8760\",\"type\":\"BoxAnnotation\"},{\"attributes\":{\"callback\":null},\"id\":\"11455\",\"type\":\"DataRange1d\"},{\"attributes\":{},\"id\":\"11477\",\"type\":\"ResetTool\"},{\"attributes\":{},\"id\":\"11819\",\"type\":\"UnionRenderers\"},{\"attributes\":{},\"id\":\"11476\",\"type\":\"SaveTool\"},{\"attributes\":{},\"id\":\"11816\",\"type\":\"BasicTickFormatter\"},{\"attributes\":{\"ticker\":{\"id\":\"11464\",\"type\":\"BasicTicker\"}},\"id\":\"11467\",\"type\":\"Grid\"},{\"attributes\":{},\"id\":\"11459\",\"type\":\"LinearScale\"},{\"attributes\":{\"fill_alpha\":{\"value\":0.5},\"fill_color\":{\"value\":\"red\"},\"left\":2017,\"right\":2019},\"id\":\"8759\",\"type\":\"BoxAnnotation\"},{\"attributes\":{},\"id\":\"11474\",\"type\":\"WheelZoomTool\"},{\"attributes\":{\"fill_alpha\":{\"value\":0.5},\"fill_color\":{\"value\":\"#333333\"},\"left\":1973,\"right\":1975},\"id\":\"8770\",\"type\":\"BoxAnnotation\"},{\"attributes\":{\"callback\":null},\"id\":\"11457\",\"type\":\"DataRange1d\"}],\"root_ids\":[\"11452\"]},\"title\":\"Bokeh Application\",\"version\":\"1.4.0\"}};\n",
       "  var render_items = [{\"docid\":\"0d0ae639-9c70-4dd1-8088-ef6c1bdf91a0\",\"roots\":{\"11452\":\"2f8565f0-ae49-42fb-8845-413524eb4c67\"}}];\n",
       "  root.Bokeh.embed.embed_items_notebook(docs_json, render_items);\n",
       "\n",
       "  }\n",
       "  if (root.Bokeh !== undefined) {\n",
       "    embed_document(root);\n",
       "  } else {\n",
       "    var attempts = 0;\n",
       "    var timer = setInterval(function(root) {\n",
       "      if (root.Bokeh !== undefined) {\n",
       "        clearInterval(timer);\n",
       "        embed_document(root);\n",
       "      } else {\n",
       "        attempts++;\n",
       "        if (attempts > 100) {\n",
       "          clearInterval(timer);\n",
       "          console.log(\"Bokeh: ERROR: Unable to run BokehJS code because BokehJS library is missing\");\n",
       "        }\n",
       "      }\n",
       "    }, 10, root)\n",
       "  }\n",
       "})(window);"
      ],
      "application/vnd.bokehjs_exec.v0+json": ""
     },
     "metadata": {
      "application/vnd.bokehjs_exec.v0+json": {
       "id": "11452"
      }
     },
     "output_type": "display_data"
    }
   ],
   "source": [
    "show(FD_rate)"
   ]
  },
  {
   "cell_type": "code",
   "execution_count": 119,
   "metadata": {
    "slideshow": {
     "slide_type": "skip"
    }
   },
   "outputs": [],
   "source": [
    "red_FD_growth_sum = 0\n",
    "blue_FD_growth_sum = 0\n",
    "counter = 0\n",
    "for element in years:\n",
    "    if(counter in redIndices):\n",
    "        red_FD_growth_sum += FD_growth[years.index(element)]\n",
    "    if(counter in blueIndices):\n",
    "        blue_FD_growth_sum += FD_growth[years.index(element)]\n",
    "    counter += 1\n",
    "\n",
    "red_FD_growth_avg = red_FD_growth_sum/len(redIndices)\n",
    "blue_FD_growth_avg = blue_FD_growth_sum/len(blueIndices)\n",
    "\n",
    "FD_averages = [red_FD_growth_avg, blue_FD_growth_avg]\n",
    "\n",
    "FD_source = ColumnDataSource(data = dict(parties=parties, FD_averages=FD_averages))\n",
    "\n",
    "FD_bar = figure(x_range = parties, title='Average Federal Debt Growth Rates', tooltips = tooltips, toolbar_location=None)\n",
    "\n",
    "FD_bar.vbar(x='parties', top='FD_averages',width = 0.9, legend_field=\"parties\",source = FD_source, fill_color=factor_cmap('parties', palette=color_palette, factors=parties))\n",
    "FD_bar.legend.location='top_left'\n",
    "FD_bar.xgrid.grid_line_color = None\n",
    "FD_bar.y_range.start = 0"
   ]
  },
  {
   "cell_type": "code",
   "execution_count": 120,
   "metadata": {
    "slideshow": {
     "slide_type": "skip"
    }
   },
   "outputs": [],
   "source": [
    "#Congress\n",
    "red_FD_growth_sum_congress = 0\n",
    "blue_FD_growth_sum_congress = 0\n",
    "counter = 0\n",
    "for element in years:\n",
    "    if(counter in red_indices_congress):\n",
    "        red_FD_growth_sum_congress += FD_growth[years.index(element)]\n",
    "    if(counter in blue_indices_congress):\n",
    "        blue_FD_growth_sum_congress += FD_growth[years.index(element)]\n",
    "    counter += 1\n",
    "    \n",
    "red_FD_growth_avg_congress = red_FD_growth_sum_congress/len(red_indices_congress)\n",
    "blue_FD_growth_avg_congress = blue_FD_growth_sum_congress/len(blue_indices_congress)\n",
    "\n",
    "FD_averages_congress = [red_FD_growth_avg_congress, blue_FD_growth_avg_congress]\n",
    "\n",
    "source = ColumnDataSource(data=dict(parties=parties, averages=FD_averages_congress))\n",
    "\n",
    "FD_bar_congress = figure(x_range = parties, title='Average Real GDP Growth Rates - Congress', y_axis_label=\"Real GDP Growth Rate Average(%)\", tooltips = tooltips, toolbar_location=None)\n",
    "\n",
    "vbar = FD_bar_congress.vbar(x = 'parties', top = 'averages', width = 0.9, legend_field=\"parties\", source = source, fill_color=factor_cmap('parties', palette=color_palette, factors=parties)) \n",
    "\n",
    "FD_bar_congress.legend.location=\"top_right\"\n",
    "FD_bar_congress.xgrid.grid_line_color = None\n",
    "FD_bar_congress.y_range.start = 0\n",
    "\n",
    "FD_bar_congress.left[0].formatter.use_scientific = False   "
   ]
  },
  {
   "cell_type": "markdown",
   "metadata": {
    "slideshow": {
     "slide_type": "subslide"
    }
   },
   "source": [
    "## 2.3: Federal Debt Growth Average - Bar"
   ]
  },
  {
   "cell_type": "code",
   "execution_count": 121,
   "metadata": {
    "slideshow": {
     "slide_type": "subslide"
    }
   },
   "outputs": [
    {
     "data": {
      "text/html": [
       "\n",
       "\n",
       "\n",
       "\n",
       "\n",
       "\n",
       "  <div class=\"bk-root\" id=\"c4d4d28d-8c76-484f-a7cf-618bb364847b\" data-root-id=\"11870\"></div>\n"
      ]
     },
     "metadata": {},
     "output_type": "display_data"
    },
    {
     "data": {
      "application/javascript": [
       "(function(root) {\n",
       "  function embed_document(root) {\n",
       "    \n",
       "  var docs_json = {\"a6f64e63-a897-4380-ba80-f72c690c5838\":{\"roots\":{\"references\":[{\"attributes\":{\"below\":[{\"id\":\"11881\",\"type\":\"CategoricalAxis\"}],\"center\":[{\"id\":\"11884\",\"type\":\"Grid\"},{\"id\":\"11889\",\"type\":\"Grid\"},{\"id\":\"11917\",\"type\":\"Legend\"}],\"left\":[{\"id\":\"11885\",\"type\":\"LinearAxis\"}],\"renderers\":[{\"id\":\"11909\",\"type\":\"GlyphRenderer\"}],\"title\":{\"id\":\"11871\",\"type\":\"Title\"},\"toolbar\":{\"id\":\"11897\",\"type\":\"Toolbar\"},\"toolbar_location\":null,\"x_range\":{\"id\":\"11873\",\"type\":\"FactorRange\"},\"x_scale\":{\"id\":\"11877\",\"type\":\"CategoricalScale\"},\"y_range\":{\"id\":\"11875\",\"type\":\"DataRange1d\"},\"y_scale\":{\"id\":\"11879\",\"type\":\"LinearScale\"}},\"id\":\"11870\",\"subtype\":\"Figure\",\"type\":\"Plot\"},{\"attributes\":{\"grid_line_color\":null,\"ticker\":{\"id\":\"11882\",\"type\":\"CategoricalTicker\"}},\"id\":\"11884\",\"type\":\"Grid\"},{\"attributes\":{\"active_drag\":\"auto\",\"active_inspect\":\"auto\",\"active_multi\":null,\"active_scroll\":\"auto\",\"active_tap\":\"auto\",\"tools\":[{\"id\":\"11890\",\"type\":\"PanTool\"},{\"id\":\"11891\",\"type\":\"WheelZoomTool\"},{\"id\":\"11892\",\"type\":\"BoxZoomTool\"},{\"id\":\"11893\",\"type\":\"SaveTool\"},{\"id\":\"11894\",\"type\":\"ResetTool\"},{\"id\":\"11895\",\"type\":\"HelpTool\"},{\"id\":\"11896\",\"type\":\"HoverTool\"}]},\"id\":\"11897\",\"type\":\"Toolbar\"},{\"attributes\":{\"dimension\":1,\"ticker\":{\"id\":\"11886\",\"type\":\"BasicTicker\"}},\"id\":\"11889\",\"type\":\"Grid\"},{\"attributes\":{\"fill_alpha\":{\"value\":0.1},\"fill_color\":{\"value\":\"#1f77b4\"},\"line_alpha\":{\"value\":0.1},\"line_color\":{\"value\":\"#1f77b4\"},\"top\":{\"field\":\"FD_averages\"},\"width\":{\"value\":0.9},\"x\":{\"field\":\"parties\"}},\"id\":\"11908\",\"type\":\"VBar\"},{\"attributes\":{},\"id\":\"11894\",\"type\":\"ResetTool\"},{\"attributes\":{\"callback\":null,\"factors\":[\"Republican\",\"Democrat\"]},\"id\":\"11873\",\"type\":\"FactorRange\"},{\"attributes\":{\"callback\":null,\"tooltips\":[[\"Value: \",\"$y{0.0}%\"]]},\"id\":\"11896\",\"type\":\"HoverTool\"},{\"attributes\":{\"text\":\"Average Federal Debt Growth Rates\"},\"id\":\"11871\",\"type\":\"Title\"},{\"attributes\":{\"data_source\":{\"id\":\"11869\",\"type\":\"ColumnDataSource\"},\"glyph\":{\"id\":\"11907\",\"type\":\"VBar\"},\"hover_glyph\":null,\"muted_glyph\":null,\"nonselection_glyph\":{\"id\":\"11908\",\"type\":\"VBar\"},\"selection_glyph\":null,\"view\":{\"id\":\"11910\",\"type\":\"CDSView\"}},\"id\":\"11909\",\"type\":\"GlyphRenderer\"},{\"attributes\":{\"formatter\":{\"id\":\"11912\",\"type\":\"BasicTickFormatter\"},\"ticker\":{\"id\":\"11886\",\"type\":\"BasicTicker\"}},\"id\":\"11885\",\"type\":\"LinearAxis\"},{\"attributes\":{},\"id\":\"11891\",\"type\":\"WheelZoomTool\"},{\"attributes\":{},\"id\":\"11877\",\"type\":\"CategoricalScale\"},{\"attributes\":{\"callback\":null,\"start\":0},\"id\":\"11875\",\"type\":\"DataRange1d\"},{\"attributes\":{},\"id\":\"11890\",\"type\":\"PanTool\"},{\"attributes\":{\"overlay\":{\"id\":\"11916\",\"type\":\"BoxAnnotation\"}},\"id\":\"11892\",\"type\":\"BoxZoomTool\"},{\"attributes\":{},\"id\":\"12304\",\"type\":\"UnionRenderers\"},{\"attributes\":{},\"id\":\"11879\",\"type\":\"LinearScale\"},{\"attributes\":{\"formatter\":{\"id\":\"11914\",\"type\":\"CategoricalTickFormatter\"},\"ticker\":{\"id\":\"11882\",\"type\":\"CategoricalTicker\"}},\"id\":\"11881\",\"type\":\"CategoricalAxis\"},{\"attributes\":{},\"id\":\"11882\",\"type\":\"CategoricalTicker\"},{\"attributes\":{\"source\":{\"id\":\"11869\",\"type\":\"ColumnDataSource\"}},\"id\":\"11910\",\"type\":\"CDSView\"},{\"attributes\":{\"fill_color\":{\"field\":\"parties\",\"transform\":{\"id\":\"11905\",\"type\":\"CategoricalColorMapper\"}},\"line_color\":{\"value\":\"#1f77b4\"},\"top\":{\"field\":\"FD_averages\"},\"width\":{\"value\":0.9},\"x\":{\"field\":\"parties\"}},\"id\":\"11907\",\"type\":\"VBar\"},{\"attributes\":{},\"id\":\"11893\",\"type\":\"SaveTool\"},{\"attributes\":{},\"id\":\"11912\",\"type\":\"BasicTickFormatter\"},{\"attributes\":{\"items\":[{\"id\":\"11918\",\"type\":\"LegendItem\"}],\"location\":\"top_left\"},\"id\":\"11917\",\"type\":\"Legend\"},{\"attributes\":{},\"id\":\"11895\",\"type\":\"HelpTool\"},{\"attributes\":{\"label\":{\"field\":\"parties\"},\"renderers\":[{\"id\":\"11909\",\"type\":\"GlyphRenderer\"}]},\"id\":\"11918\",\"type\":\"LegendItem\"},{\"attributes\":{},\"id\":\"11914\",\"type\":\"CategoricalTickFormatter\"},{\"attributes\":{},\"id\":\"12305\",\"type\":\"Selection\"},{\"attributes\":{\"bottom_units\":\"screen\",\"fill_alpha\":{\"value\":0.5},\"fill_color\":{\"value\":\"lightgrey\"},\"left_units\":\"screen\",\"level\":\"overlay\",\"line_alpha\":{\"value\":1.0},\"line_color\":{\"value\":\"black\"},\"line_dash\":[4,4],\"line_width\":{\"value\":2},\"render_mode\":\"css\",\"right_units\":\"screen\",\"top_units\":\"screen\"},\"id\":\"11916\",\"type\":\"BoxAnnotation\"},{\"attributes\":{\"callback\":null,\"data\":{\"FD_averages\":[2.21012175066918,2.4074693269531258],\"parties\":[\"Republican\",\"Democrat\"]},\"selected\":{\"id\":\"12305\",\"type\":\"Selection\"},\"selection_policy\":{\"id\":\"12304\",\"type\":\"UnionRenderers\"}},\"id\":\"11869\",\"type\":\"ColumnDataSource\"},{\"attributes\":{\"factors\":[\"Republican\",\"Democrat\"],\"palette\":[\"#C81602\",\"#000E8A\"]},\"id\":\"11905\",\"type\":\"CategoricalColorMapper\"},{\"attributes\":{},\"id\":\"11886\",\"type\":\"BasicTicker\"}],\"root_ids\":[\"11870\"]},\"title\":\"Bokeh Application\",\"version\":\"1.4.0\"}};\n",
       "  var render_items = [{\"docid\":\"a6f64e63-a897-4380-ba80-f72c690c5838\",\"roots\":{\"11870\":\"c4d4d28d-8c76-484f-a7cf-618bb364847b\"}}];\n",
       "  root.Bokeh.embed.embed_items_notebook(docs_json, render_items);\n",
       "\n",
       "  }\n",
       "  if (root.Bokeh !== undefined) {\n",
       "    embed_document(root);\n",
       "  } else {\n",
       "    var attempts = 0;\n",
       "    var timer = setInterval(function(root) {\n",
       "      if (root.Bokeh !== undefined) {\n",
       "        clearInterval(timer);\n",
       "        embed_document(root);\n",
       "      } else {\n",
       "        attempts++;\n",
       "        if (attempts > 100) {\n",
       "          clearInterval(timer);\n",
       "          console.log(\"Bokeh: ERROR: Unable to run BokehJS code because BokehJS library is missing\");\n",
       "        }\n",
       "      }\n",
       "    }, 10, root)\n",
       "  }\n",
       "})(window);"
      ],
      "application/vnd.bokehjs_exec.v0+json": ""
     },
     "metadata": {
      "application/vnd.bokehjs_exec.v0+json": {
       "id": "11870"
      }
     },
     "output_type": "display_data"
    }
   ],
   "source": [
    "show(FD_bar)"
   ]
  },
  {
   "cell_type": "code",
   "execution_count": 122,
   "metadata": {
    "slideshow": {
     "slide_type": "subslide"
    }
   },
   "outputs": [
    {
     "data": {
      "text/html": [
       "\n",
       "\n",
       "\n",
       "\n",
       "\n",
       "\n",
       "  <div class=\"bk-root\" id=\"c99b8cd7-bd04-4e83-9f5a-db85379dfe0b\" data-root-id=\"11920\"></div>\n"
      ]
     },
     "metadata": {},
     "output_type": "display_data"
    },
    {
     "data": {
      "application/javascript": [
       "(function(root) {\n",
       "  function embed_document(root) {\n",
       "    \n",
       "  var docs_json = {\"d3f7a99d-02d9-471a-84cc-1483346df459\":{\"roots\":{\"references\":[{\"attributes\":{\"below\":[{\"id\":\"11931\",\"type\":\"CategoricalAxis\"}],\"center\":[{\"id\":\"11934\",\"type\":\"Grid\"},{\"id\":\"11939\",\"type\":\"Grid\"},{\"id\":\"11967\",\"type\":\"Legend\"}],\"left\":[{\"id\":\"11935\",\"type\":\"LinearAxis\"}],\"renderers\":[{\"id\":\"11959\",\"type\":\"GlyphRenderer\"}],\"title\":{\"id\":\"11921\",\"type\":\"Title\"},\"toolbar\":{\"id\":\"11947\",\"type\":\"Toolbar\"},\"toolbar_location\":null,\"x_range\":{\"id\":\"11923\",\"type\":\"FactorRange\"},\"x_scale\":{\"id\":\"11927\",\"type\":\"CategoricalScale\"},\"y_range\":{\"id\":\"11925\",\"type\":\"DataRange1d\"},\"y_scale\":{\"id\":\"11929\",\"type\":\"LinearScale\"}},\"id\":\"11920\",\"subtype\":\"Figure\",\"type\":\"Plot\"},{\"attributes\":{\"callback\":null,\"tooltips\":[[\"Value: \",\"$y{0.0}%\"]]},\"id\":\"11946\",\"type\":\"HoverTool\"},{\"attributes\":{\"label\":{\"field\":\"parties\"},\"renderers\":[{\"id\":\"11959\",\"type\":\"GlyphRenderer\"}]},\"id\":\"11968\",\"type\":\"LegendItem\"},{\"attributes\":{\"callback\":null,\"factors\":[\"Republican\",\"Democrat\"]},\"id\":\"11923\",\"type\":\"FactorRange\"},{\"attributes\":{},\"id\":\"11940\",\"type\":\"PanTool\"},{\"attributes\":{},\"id\":\"11941\",\"type\":\"WheelZoomTool\"},{\"attributes\":{\"text\":\"Average Real GDP Growth Rates - Congress\"},\"id\":\"11921\",\"type\":\"Title\"},{\"attributes\":{\"overlay\":{\"id\":\"11966\",\"type\":\"BoxAnnotation\"}},\"id\":\"11942\",\"type\":\"BoxZoomTool\"},{\"attributes\":{},\"id\":\"11943\",\"type\":\"SaveTool\"},{\"attributes\":{},\"id\":\"11944\",\"type\":\"ResetTool\"},{\"attributes\":{},\"id\":\"11927\",\"type\":\"CategoricalScale\"},{\"attributes\":{\"callback\":null,\"start\":0},\"id\":\"11925\",\"type\":\"DataRange1d\"},{\"attributes\":{},\"id\":\"11945\",\"type\":\"HelpTool\"},{\"attributes\":{},\"id\":\"11929\",\"type\":\"LinearScale\"},{\"attributes\":{\"items\":[{\"id\":\"11968\",\"type\":\"LegendItem\"}]},\"id\":\"11967\",\"type\":\"Legend\"},{\"attributes\":{\"formatter\":{\"id\":\"11964\",\"type\":\"CategoricalTickFormatter\"},\"ticker\":{\"id\":\"11932\",\"type\":\"CategoricalTicker\"}},\"id\":\"11931\",\"type\":\"CategoricalAxis\"},{\"attributes\":{\"active_drag\":\"auto\",\"active_inspect\":\"auto\",\"active_multi\":null,\"active_scroll\":\"auto\",\"active_tap\":\"auto\",\"tools\":[{\"id\":\"11940\",\"type\":\"PanTool\"},{\"id\":\"11941\",\"type\":\"WheelZoomTool\"},{\"id\":\"11942\",\"type\":\"BoxZoomTool\"},{\"id\":\"11943\",\"type\":\"SaveTool\"},{\"id\":\"11944\",\"type\":\"ResetTool\"},{\"id\":\"11945\",\"type\":\"HelpTool\"},{\"id\":\"11946\",\"type\":\"HoverTool\"}]},\"id\":\"11947\",\"type\":\"Toolbar\"},{\"attributes\":{},\"id\":\"11936\",\"type\":\"BasicTicker\"},{\"attributes\":{},\"id\":\"12697\",\"type\":\"Selection\"},{\"attributes\":{},\"id\":\"11932\",\"type\":\"CategoricalTicker\"},{\"attributes\":{\"grid_line_color\":null,\"ticker\":{\"id\":\"11932\",\"type\":\"CategoricalTicker\"}},\"id\":\"11934\",\"type\":\"Grid\"},{\"attributes\":{\"source\":{\"id\":\"11919\",\"type\":\"ColumnDataSource\"}},\"id\":\"11960\",\"type\":\"CDSView\"},{\"attributes\":{\"dimension\":1,\"ticker\":{\"id\":\"11936\",\"type\":\"BasicTicker\"}},\"id\":\"11939\",\"type\":\"Grid\"},{\"attributes\":{\"fill_color\":{\"field\":\"parties\",\"transform\":{\"id\":\"11955\",\"type\":\"CategoricalColorMapper\"}},\"line_color\":{\"value\":\"#1f77b4\"},\"top\":{\"field\":\"averages\"},\"width\":{\"value\":0.9},\"x\":{\"field\":\"parties\"}},\"id\":\"11957\",\"type\":\"VBar\"},{\"attributes\":{},\"id\":\"11964\",\"type\":\"CategoricalTickFormatter\"},{\"attributes\":{},\"id\":\"12696\",\"type\":\"UnionRenderers\"},{\"attributes\":{\"axis_label\":\"Real GDP Growth Rate Average(%)\",\"formatter\":{\"id\":\"11962\",\"type\":\"BasicTickFormatter\"},\"ticker\":{\"id\":\"11936\",\"type\":\"BasicTicker\"}},\"id\":\"11935\",\"type\":\"LinearAxis\"},{\"attributes\":{\"use_scientific\":false},\"id\":\"11962\",\"type\":\"BasicTickFormatter\"},{\"attributes\":{\"fill_alpha\":{\"value\":0.1},\"fill_color\":{\"value\":\"#1f77b4\"},\"line_alpha\":{\"value\":0.1},\"line_color\":{\"value\":\"#1f77b4\"},\"top\":{\"field\":\"averages\"},\"width\":{\"value\":0.9},\"x\":{\"field\":\"parties\"}},\"id\":\"11958\",\"type\":\"VBar\"},{\"attributes\":{\"factors\":[\"Republican\",\"Democrat\"],\"palette\":[\"#C81602\",\"#000E8A\"]},\"id\":\"11955\",\"type\":\"CategoricalColorMapper\"},{\"attributes\":{\"callback\":null,\"data\":{\"averages\":[2.5360806363288244,2.424998234988494],\"parties\":[\"Republican\",\"Democrat\"]},\"selected\":{\"id\":\"12697\",\"type\":\"Selection\"},\"selection_policy\":{\"id\":\"12696\",\"type\":\"UnionRenderers\"}},\"id\":\"11919\",\"type\":\"ColumnDataSource\"},{\"attributes\":{\"bottom_units\":\"screen\",\"fill_alpha\":{\"value\":0.5},\"fill_color\":{\"value\":\"lightgrey\"},\"left_units\":\"screen\",\"level\":\"overlay\",\"line_alpha\":{\"value\":1.0},\"line_color\":{\"value\":\"black\"},\"line_dash\":[4,4],\"line_width\":{\"value\":2},\"render_mode\":\"css\",\"right_units\":\"screen\",\"top_units\":\"screen\"},\"id\":\"11966\",\"type\":\"BoxAnnotation\"},{\"attributes\":{\"data_source\":{\"id\":\"11919\",\"type\":\"ColumnDataSource\"},\"glyph\":{\"id\":\"11957\",\"type\":\"VBar\"},\"hover_glyph\":null,\"muted_glyph\":null,\"nonselection_glyph\":{\"id\":\"11958\",\"type\":\"VBar\"},\"selection_glyph\":null,\"view\":{\"id\":\"11960\",\"type\":\"CDSView\"}},\"id\":\"11959\",\"type\":\"GlyphRenderer\"}],\"root_ids\":[\"11920\"]},\"title\":\"Bokeh Application\",\"version\":\"1.4.0\"}};\n",
       "  var render_items = [{\"docid\":\"d3f7a99d-02d9-471a-84cc-1483346df459\",\"roots\":{\"11920\":\"c99b8cd7-bd04-4e83-9f5a-db85379dfe0b\"}}];\n",
       "  root.Bokeh.embed.embed_items_notebook(docs_json, render_items);\n",
       "\n",
       "  }\n",
       "  if (root.Bokeh !== undefined) {\n",
       "    embed_document(root);\n",
       "  } else {\n",
       "    var attempts = 0;\n",
       "    var timer = setInterval(function(root) {\n",
       "      if (root.Bokeh !== undefined) {\n",
       "        clearInterval(timer);\n",
       "        embed_document(root);\n",
       "      } else {\n",
       "        attempts++;\n",
       "        if (attempts > 100) {\n",
       "          clearInterval(timer);\n",
       "          console.log(\"Bokeh: ERROR: Unable to run BokehJS code because BokehJS library is missing\");\n",
       "        }\n",
       "      }\n",
       "    }, 10, root)\n",
       "  }\n",
       "})(window);"
      ],
      "application/vnd.bokehjs_exec.v0+json": ""
     },
     "metadata": {
      "application/vnd.bokehjs_exec.v0+json": {
       "id": "11920"
      }
     },
     "output_type": "display_data"
    }
   ],
   "source": [
    "show(FD_bar_congress)"
   ]
  },
  {
   "cell_type": "code",
   "execution_count": 123,
   "metadata": {
    "slideshow": {
     "slide_type": "skip"
    }
   },
   "outputs": [],
   "source": [
    "inflation_link = requests.get(inflation)\n",
    "jsonDict = inflation_link.json()\n",
    "jsonDict = jsonDict['dataset']\n",
    "\n",
    "inflation_years = [2015]\n",
    "i = 2014\n",
    "while(i >= 1970):\n",
    "    inflation_years.append(i)\n",
    "    i -= 1\n",
    "inflation_years.reverse()"
   ]
  },
  {
   "cell_type": "code",
   "execution_count": 124,
   "metadata": {
    "slideshow": {
     "slide_type": "skip"
    }
   },
   "outputs": [],
   "source": [
    "\n",
    "inflation_tool = [(\"Year: \", \"$x{0}\"), (\"% Inflation: \", \"$y{0.0}%\")]\n",
    "inflation_plot = figure(title=\"Inflation Over Time\", x_axis_label=\"Time\", y_axis_label=\"Percent Inflation\", plot_width=900,tooltips=inflation_tool)\n",
    "\n",
    "inflation_plot.line(inflation_years, data_list[2], line_width=2)\n",
    "\n",
    "inflation_boxList = boxList.copy()\n",
    "del inflation_boxList[3]\n",
    "del inflation_boxList[5]\n",
    "temp_box = BoxAnnotation(left = 2009, right = 2015, fill_color = 'blue', fill_alpha = 0.5)\n",
    "inflation_boxList.append(temp_box)\n",
    "#for box in inflation_boxList:\n",
    "#    inflation_plot.add_layout(box)\n",
    "for box in inflation_boxList:\n",
    "    inflation_plot.add_layout(box)"
   ]
  },
  {
   "cell_type": "code",
   "execution_count": 125,
   "metadata": {
    "slideshow": {
     "slide_type": "skip"
    }
   },
   "outputs": [],
   "source": [
    "inflation_congress = figure(title=\"Inflation Over time\", x_axis_label=\"Time\", y_axis_label=\"Federal Debt in Millions\", plot_width=900, tooltips = inflation_tool)\n",
    "inflation_congress.line(inflation_years, data_list[2], line_width=2)\n",
    "for box in congress_boxList:\n",
    "    inflation_congress.add_layout(box)\n",
    "inflation_congress.left[0].formatter.use_scientific = False"
   ]
  },
  {
   "cell_type": "markdown",
   "metadata": {
    "slideshow": {
     "slide_type": "slide"
    }
   },
   "source": [
    "## 3. Inflation"
   ]
  },
  {
   "cell_type": "markdown",
   "metadata": {
    "slideshow": {
     "slide_type": "subslide"
    }
   },
   "source": [
    "## 3.1: Inflation Over Time - Line "
   ]
  },
  {
   "cell_type": "code",
   "execution_count": 126,
   "metadata": {
    "slideshow": {
     "slide_type": "subslide"
    }
   },
   "outputs": [
    {
     "data": {
      "text/html": [
       "\n",
       "\n",
       "\n",
       "\n",
       "\n",
       "\n",
       "  <div class=\"bk-root\" id=\"18815670-9fa8-4699-bf6b-946c20cb3ab7\" data-root-id=\"12746\"></div>\n"
      ]
     },
     "metadata": {},
     "output_type": "display_data"
    },
    {
     "data": {
      "application/javascript": [
       "(function(root) {\n",
       "  function embed_document(root) {\n",
       "    \n",
       "  var docs_json = {\"544af870-4614-4bb5-9b24-0536d3101322\":{\"roots\":{\"references\":[{\"attributes\":{\"below\":[{\"id\":\"12757\",\"type\":\"LinearAxis\"}],\"center\":[{\"id\":\"12761\",\"type\":\"Grid\"},{\"id\":\"12766\",\"type\":\"Grid\"},{\"id\":\"8756\",\"type\":\"BoxAnnotation\"},{\"id\":\"8757\",\"type\":\"BoxAnnotation\"},{\"id\":\"8758\",\"type\":\"BoxAnnotation\"},{\"id\":\"8760\",\"type\":\"BoxAnnotation\"},{\"id\":\"8761\",\"type\":\"BoxAnnotation\"},{\"id\":\"8770\",\"type\":\"BoxAnnotation\"},{\"id\":\"8771\",\"type\":\"BoxAnnotation\"},{\"id\":\"8772\",\"type\":\"BoxAnnotation\"},{\"id\":\"8773\",\"type\":\"BoxAnnotation\"},{\"id\":\"8774\",\"type\":\"BoxAnnotation\"},{\"id\":\"12787\",\"type\":\"BoxAnnotation\"}],\"left\":[{\"id\":\"12762\",\"type\":\"LinearAxis\"}],\"plot_width\":900,\"renderers\":[{\"id\":\"12785\",\"type\":\"GlyphRenderer\"}],\"title\":{\"id\":\"12747\",\"type\":\"Title\"},\"toolbar\":{\"id\":\"12774\",\"type\":\"Toolbar\"},\"x_range\":{\"id\":\"12749\",\"type\":\"DataRange1d\"},\"x_scale\":{\"id\":\"12753\",\"type\":\"LinearScale\"},\"y_range\":{\"id\":\"12751\",\"type\":\"DataRange1d\"},\"y_scale\":{\"id\":\"12755\",\"type\":\"LinearScale\"}},\"id\":\"12746\",\"subtype\":\"Figure\",\"type\":\"Plot\"},{\"attributes\":{\"bottom_units\":\"screen\",\"fill_alpha\":{\"value\":0.5},\"fill_color\":{\"value\":\"lightgrey\"},\"left_units\":\"screen\",\"level\":\"overlay\",\"line_alpha\":{\"value\":1.0},\"line_color\":{\"value\":\"black\"},\"line_dash\":[4,4],\"line_width\":{\"value\":2},\"render_mode\":\"css\",\"right_units\":\"screen\",\"top_units\":\"screen\"},\"id\":\"13179\",\"type\":\"BoxAnnotation\"},{\"attributes\":{\"fill_alpha\":{\"value\":0.5},\"fill_color\":{\"value\":\"red\"},\"left\":2001,\"right\":2009},\"id\":\"8758\",\"type\":\"BoxAnnotation\"},{\"attributes\":{},\"id\":\"13181\",\"type\":\"Selection\"},{\"attributes\":{\"data_source\":{\"id\":\"12782\",\"type\":\"ColumnDataSource\"},\"glyph\":{\"id\":\"12783\",\"type\":\"Line\"},\"hover_glyph\":null,\"muted_glyph\":null,\"nonselection_glyph\":{\"id\":\"12784\",\"type\":\"Line\"},\"selection_glyph\":null,\"view\":{\"id\":\"12786\",\"type\":\"CDSView\"}},\"id\":\"12785\",\"type\":\"GlyphRenderer\"},{\"attributes\":{},\"id\":\"13180\",\"type\":\"UnionRenderers\"},{\"attributes\":{},\"id\":\"12767\",\"type\":\"PanTool\"},{\"attributes\":{\"callback\":null,\"tooltips\":[[\"Year: \",\"$x{0}\"],[\"% Inflation: \",\"$y{0.0}%\"]]},\"id\":\"12773\",\"type\":\"HoverTool\"},{\"attributes\":{\"axis_label\":\"Time\",\"formatter\":{\"id\":\"13177\",\"type\":\"BasicTickFormatter\"},\"ticker\":{\"id\":\"12758\",\"type\":\"BasicTicker\"}},\"id\":\"12757\",\"type\":\"LinearAxis\"},{\"attributes\":{\"line_alpha\":0.1,\"line_color\":\"#1f77b4\",\"line_width\":2,\"x\":{\"field\":\"x\"},\"y\":{\"field\":\"y\"}},\"id\":\"12784\",\"type\":\"Line\"},{\"attributes\":{\"fill_alpha\":{\"value\":0.5},\"fill_color\":{\"value\":\"red\"},\"left\":1970,\"right\":1977},\"id\":\"8756\",\"type\":\"BoxAnnotation\"},{\"attributes\":{\"fill_alpha\":{\"value\":0.5},\"fill_color\":{\"value\":\"#333333\"},\"left\":1981,\"right\":1982},\"id\":\"8771\",\"type\":\"BoxAnnotation\"},{\"attributes\":{},\"id\":\"12755\",\"type\":\"LinearScale\"},{\"attributes\":{\"fill_alpha\":{\"value\":0.5},\"fill_color\":{\"value\":\"#333333\"},\"left\":2001.3,\"right\":2001.9},\"id\":\"8773\",\"type\":\"BoxAnnotation\"},{\"attributes\":{\"overlay\":{\"id\":\"13179\",\"type\":\"BoxAnnotation\"}},\"id\":\"12769\",\"type\":\"BoxZoomTool\"},{\"attributes\":{\"active_drag\":\"auto\",\"active_inspect\":\"auto\",\"active_multi\":null,\"active_scroll\":\"auto\",\"active_tap\":\"auto\",\"tools\":[{\"id\":\"12767\",\"type\":\"PanTool\"},{\"id\":\"12768\",\"type\":\"WheelZoomTool\"},{\"id\":\"12769\",\"type\":\"BoxZoomTool\"},{\"id\":\"12770\",\"type\":\"SaveTool\"},{\"id\":\"12771\",\"type\":\"ResetTool\"},{\"id\":\"12772\",\"type\":\"HelpTool\"},{\"id\":\"12773\",\"type\":\"HoverTool\"}]},\"id\":\"12774\",\"type\":\"Toolbar\"},{\"attributes\":{\"ticker\":{\"id\":\"12758\",\"type\":\"BasicTicker\"}},\"id\":\"12761\",\"type\":\"Grid\"},{\"attributes\":{\"fill_alpha\":{\"value\":0.5},\"fill_color\":{\"value\":\"#333333\"},\"left\":2008,\"right\":2009.5},\"id\":\"8774\",\"type\":\"BoxAnnotation\"},{\"attributes\":{\"fill_alpha\":{\"value\":0.5},\"fill_color\":{\"value\":\"blue\"},\"left\":1993,\"right\":2001},\"id\":\"8761\",\"type\":\"BoxAnnotation\"},{\"attributes\":{\"callback\":null},\"id\":\"12749\",\"type\":\"DataRange1d\"},{\"attributes\":{\"fill_alpha\":{\"value\":0.5},\"fill_color\":{\"value\":\"#333333\"},\"left\":1990,\"right\":1991},\"id\":\"8772\",\"type\":\"BoxAnnotation\"},{\"attributes\":{},\"id\":\"12753\",\"type\":\"LinearScale\"},{\"attributes\":{},\"id\":\"13177\",\"type\":\"BasicTickFormatter\"},{\"attributes\":{\"text\":\"Inflation Over Time\"},\"id\":\"12747\",\"type\":\"Title\"},{\"attributes\":{},\"id\":\"12770\",\"type\":\"SaveTool\"},{\"attributes\":{\"callback\":null,\"data\":{\"x\":[1970,1971,1972,1973,1974,1975,1976,1977,1978,1979,1980,1981,1982,1983,1984,1985,1986,1987,1988,1989,1990,1991,1992,1993,1994,1995,1996,1997,1998,1999,2000,2001,2002,2003,2004,2005,2006,2007,2008,2009,2010,2011,2012,2013,2014,2015],\"y\":[2.2114416748918,5.0777006313827,4.3292203167092,5.4420399358874,8.9830630681088,9.2614240545435,5.4889398261013,6.2029679393421,7.0212730917892,8.2558977806039,9.0185353442438,9.3362429879855,6.2037397606026,3.9483670125378,3.5482373348331,3.1996123867813,2.0176239560436,2.5512954857131,3.50090360233,3.888019538272,3.6991567034506,3.3285130788967,2.2795505811426,2.3792614824859,2.1281328736259,2.0856766449588,1.8255534310942,1.7115036452726,1.085256199473,1.5303218850354,2.2755198051512,2.2789008870265,1.5351245924226,1.9940562631564,2.7497211590168,3.2176382498528,3.0722666250241,2.6613363935771,1.9616123833011,0.7594347644899,1.2213493974751,2.0646274665789,1.8420514830965,1.6300940103757,1.642657803659,1.0021165735553]},\"selected\":{\"id\":\"13181\",\"type\":\"Selection\"},\"selection_policy\":{\"id\":\"13180\",\"type\":\"UnionRenderers\"}},\"id\":\"12782\",\"type\":\"ColumnDataSource\"},{\"attributes\":{\"line_color\":\"#1f77b4\",\"line_width\":2,\"x\":{\"field\":\"x\"},\"y\":{\"field\":\"y\"}},\"id\":\"12783\",\"type\":\"Line\"},{\"attributes\":{\"callback\":null},\"id\":\"12751\",\"type\":\"DataRange1d\"},{\"attributes\":{\"dimension\":1,\"ticker\":{\"id\":\"12763\",\"type\":\"BasicTicker\"}},\"id\":\"12766\",\"type\":\"Grid\"},{\"attributes\":{\"fill_alpha\":{\"value\":0.5},\"fill_color\":{\"value\":\"red\"},\"left\":1981,\"right\":1993},\"id\":\"8757\",\"type\":\"BoxAnnotation\"},{\"attributes\":{},\"id\":\"12772\",\"type\":\"HelpTool\"},{\"attributes\":{},\"id\":\"13175\",\"type\":\"BasicTickFormatter\"},{\"attributes\":{\"fill_alpha\":{\"value\":0.5},\"fill_color\":{\"value\":\"blue\"},\"left\":1977,\"right\":1981},\"id\":\"8760\",\"type\":\"BoxAnnotation\"},{\"attributes\":{},\"id\":\"12768\",\"type\":\"WheelZoomTool\"},{\"attributes\":{},\"id\":\"12763\",\"type\":\"BasicTicker\"},{\"attributes\":{\"source\":{\"id\":\"12782\",\"type\":\"ColumnDataSource\"}},\"id\":\"12786\",\"type\":\"CDSView\"},{\"attributes\":{\"fill_alpha\":{\"value\":0.5},\"fill_color\":{\"value\":\"blue\"},\"left\":2009,\"right\":2015},\"id\":\"12787\",\"type\":\"BoxAnnotation\"},{\"attributes\":{},\"id\":\"12771\",\"type\":\"ResetTool\"},{\"attributes\":{},\"id\":\"12758\",\"type\":\"BasicTicker\"},{\"attributes\":{\"fill_alpha\":{\"value\":0.5},\"fill_color\":{\"value\":\"#333333\"},\"left\":1973,\"right\":1975},\"id\":\"8770\",\"type\":\"BoxAnnotation\"},{\"attributes\":{\"axis_label\":\"Percent Inflation\",\"formatter\":{\"id\":\"13175\",\"type\":\"BasicTickFormatter\"},\"ticker\":{\"id\":\"12763\",\"type\":\"BasicTicker\"}},\"id\":\"12762\",\"type\":\"LinearAxis\"}],\"root_ids\":[\"12746\"]},\"title\":\"Bokeh Application\",\"version\":\"1.4.0\"}};\n",
       "  var render_items = [{\"docid\":\"544af870-4614-4bb5-9b24-0536d3101322\",\"roots\":{\"12746\":\"18815670-9fa8-4699-bf6b-946c20cb3ab7\"}}];\n",
       "  root.Bokeh.embed.embed_items_notebook(docs_json, render_items);\n",
       "\n",
       "  }\n",
       "  if (root.Bokeh !== undefined) {\n",
       "    embed_document(root);\n",
       "  } else {\n",
       "    var attempts = 0;\n",
       "    var timer = setInterval(function(root) {\n",
       "      if (root.Bokeh !== undefined) {\n",
       "        clearInterval(timer);\n",
       "        embed_document(root);\n",
       "      } else {\n",
       "        attempts++;\n",
       "        if (attempts > 100) {\n",
       "          clearInterval(timer);\n",
       "          console.log(\"Bokeh: ERROR: Unable to run BokehJS code because BokehJS library is missing\");\n",
       "        }\n",
       "      }\n",
       "    }, 10, root)\n",
       "  }\n",
       "})(window);"
      ],
      "application/vnd.bokehjs_exec.v0+json": ""
     },
     "metadata": {
      "application/vnd.bokehjs_exec.v0+json": {
       "id": "12746"
      }
     },
     "output_type": "display_data"
    }
   ],
   "source": [
    "show(inflation_plot)"
   ]
  },
  {
   "cell_type": "code",
   "execution_count": 127,
   "metadata": {
    "slideshow": {
     "slide_type": "subslide"
    }
   },
   "outputs": [
    {
     "data": {
      "text/html": [
       "\n",
       "\n",
       "\n",
       "\n",
       "\n",
       "\n",
       "  <div class=\"bk-root\" id=\"02712d65-5151-4c50-8343-df766d22f312\" data-root-id=\"12788\"></div>\n"
      ]
     },
     "metadata": {},
     "output_type": "display_data"
    },
    {
     "data": {
      "application/javascript": [
       "(function(root) {\n",
       "  function embed_document(root) {\n",
       "    \n",
       "  var docs_json = {\"60ae5c7d-6029-488c-b122-17e6bcd7f318\":{\"roots\":{\"references\":[{\"attributes\":{\"below\":[{\"id\":\"12799\",\"type\":\"LinearAxis\"}],\"center\":[{\"id\":\"12803\",\"type\":\"Grid\"},{\"id\":\"12808\",\"type\":\"Grid\"},{\"id\":\"8763\",\"type\":\"BoxAnnotation\"},{\"id\":\"8764\",\"type\":\"BoxAnnotation\"},{\"id\":\"8765\",\"type\":\"BoxAnnotation\"},{\"id\":\"8766\",\"type\":\"BoxAnnotation\"},{\"id\":\"8767\",\"type\":\"BoxAnnotation\"},{\"id\":\"8768\",\"type\":\"BoxAnnotation\"},{\"id\":\"8769\",\"type\":\"BoxAnnotation\"},{\"id\":\"8770\",\"type\":\"BoxAnnotation\"},{\"id\":\"8771\",\"type\":\"BoxAnnotation\"},{\"id\":\"8772\",\"type\":\"BoxAnnotation\"},{\"id\":\"8773\",\"type\":\"BoxAnnotation\"},{\"id\":\"8774\",\"type\":\"BoxAnnotation\"}],\"left\":[{\"id\":\"12804\",\"type\":\"LinearAxis\"}],\"plot_width\":900,\"renderers\":[{\"id\":\"12827\",\"type\":\"GlyphRenderer\"}],\"title\":{\"id\":\"12789\",\"type\":\"Title\"},\"toolbar\":{\"id\":\"12816\",\"type\":\"Toolbar\"},\"x_range\":{\"id\":\"12791\",\"type\":\"DataRange1d\"},\"x_scale\":{\"id\":\"12795\",\"type\":\"LinearScale\"},\"y_range\":{\"id\":\"12793\",\"type\":\"DataRange1d\"},\"y_scale\":{\"id\":\"12797\",\"type\":\"LinearScale\"}},\"id\":\"12788\",\"subtype\":\"Figure\",\"type\":\"Plot\"},{\"attributes\":{\"data_source\":{\"id\":\"12824\",\"type\":\"ColumnDataSource\"},\"glyph\":{\"id\":\"12825\",\"type\":\"Line\"},\"hover_glyph\":null,\"muted_glyph\":null,\"nonselection_glyph\":{\"id\":\"12826\",\"type\":\"Line\"},\"selection_glyph\":null,\"view\":{\"id\":\"12828\",\"type\":\"CDSView\"}},\"id\":\"12827\",\"type\":\"GlyphRenderer\"},{\"attributes\":{},\"id\":\"12812\",\"type\":\"SaveTool\"},{\"attributes\":{\"callback\":null,\"tooltips\":[[\"Year: \",\"$x{0}\"],[\"% Inflation: \",\"$y{0.0}%\"]]},\"id\":\"12815\",\"type\":\"HoverTool\"},{\"attributes\":{\"fill_alpha\":{\"value\":0.5},\"fill_color\":{\"value\":\"blue\"},\"left\":2007,\"right\":2011},\"id\":\"8767\",\"type\":\"BoxAnnotation\"},{\"attributes\":{},\"id\":\"12810\",\"type\":\"WheelZoomTool\"},{\"attributes\":{},\"id\":\"13585\",\"type\":\"BasicTickFormatter\"},{\"attributes\":{\"overlay\":{\"id\":\"13587\",\"type\":\"BoxAnnotation\"}},\"id\":\"12811\",\"type\":\"BoxZoomTool\"},{\"attributes\":{\"line_color\":\"#1f77b4\",\"line_width\":2,\"x\":{\"field\":\"x\"},\"y\":{\"field\":\"y\"}},\"id\":\"12825\",\"type\":\"Line\"},{\"attributes\":{\"callback\":null,\"data\":{\"x\":[1970,1971,1972,1973,1974,1975,1976,1977,1978,1979,1980,1981,1982,1983,1984,1985,1986,1987,1988,1989,1990,1991,1992,1993,1994,1995,1996,1997,1998,1999,2000,2001,2002,2003,2004,2005,2006,2007,2008,2009,2010,2011,2012,2013,2014,2015],\"y\":[2.2114416748918,5.0777006313827,4.3292203167092,5.4420399358874,8.9830630681088,9.2614240545435,5.4889398261013,6.2029679393421,7.0212730917892,8.2558977806039,9.0185353442438,9.3362429879855,6.2037397606026,3.9483670125378,3.5482373348331,3.1996123867813,2.0176239560436,2.5512954857131,3.50090360233,3.888019538272,3.6991567034506,3.3285130788967,2.2795505811426,2.3792614824859,2.1281328736259,2.0856766449588,1.8255534310942,1.7115036452726,1.085256199473,1.5303218850354,2.2755198051512,2.2789008870265,1.5351245924226,1.9940562631564,2.7497211590168,3.2176382498528,3.0722666250241,2.6613363935771,1.9616123833011,0.7594347644899,1.2213493974751,2.0646274665789,1.8420514830965,1.6300940103757,1.642657803659,1.0021165735553]},\"selected\":{\"id\":\"13589\",\"type\":\"Selection\"},\"selection_policy\":{\"id\":\"13588\",\"type\":\"UnionRenderers\"}},\"id\":\"12824\",\"type\":\"ColumnDataSource\"},{\"attributes\":{\"ticker\":{\"id\":\"12800\",\"type\":\"BasicTicker\"}},\"id\":\"12803\",\"type\":\"Grid\"},{\"attributes\":{\"fill_alpha\":{\"value\":0.5},\"fill_color\":{\"value\":\"#333333\"},\"left\":1981,\"right\":1982},\"id\":\"8771\",\"type\":\"BoxAnnotation\"},{\"attributes\":{\"fill_alpha\":{\"value\":0.5},\"fill_color\":{\"value\":\"red\"},\"left\":1995,\"right\":2007},\"id\":\"8763\",\"type\":\"BoxAnnotation\"},{\"attributes\":{},\"id\":\"12809\",\"type\":\"PanTool\"},{\"attributes\":{\"axis_label\":\"Time\",\"formatter\":{\"id\":\"13585\",\"type\":\"BasicTickFormatter\"},\"ticker\":{\"id\":\"12800\",\"type\":\"BasicTicker\"}},\"id\":\"12799\",\"type\":\"LinearAxis\"},{\"attributes\":{\"fill_alpha\":{\"value\":0.5},\"fill_color\":{\"value\":\"#333333\"},\"left\":2001.3,\"right\":2001.9},\"id\":\"8773\",\"type\":\"BoxAnnotation\"},{\"attributes\":{\"bottom_units\":\"screen\",\"fill_alpha\":{\"value\":0.5},\"fill_color\":{\"value\":\"lightgrey\"},\"left_units\":\"screen\",\"level\":\"overlay\",\"line_alpha\":{\"value\":1.0},\"line_color\":{\"value\":\"black\"},\"line_dash\":[4,4],\"line_width\":{\"value\":2},\"render_mode\":\"css\",\"right_units\":\"screen\",\"top_units\":\"screen\"},\"id\":\"13587\",\"type\":\"BoxAnnotation\"},{\"attributes\":{\"fill_alpha\":{\"value\":0.5},\"fill_color\":{\"value\":\"#333333\"},\"left\":2008,\"right\":2009.5},\"id\":\"8774\",\"type\":\"BoxAnnotation\"},{\"attributes\":{},\"id\":\"12805\",\"type\":\"BasicTicker\"},{\"attributes\":{\"fill_alpha\":{\"value\":0.5},\"fill_color\":{\"value\":\"#800080\"},\"left\":2011,\"right\":2015},\"id\":\"8769\",\"type\":\"BoxAnnotation\"},{\"attributes\":{},\"id\":\"12797\",\"type\":\"LinearScale\"},{\"attributes\":{\"active_drag\":\"auto\",\"active_inspect\":\"auto\",\"active_multi\":null,\"active_scroll\":\"auto\",\"active_tap\":\"auto\",\"tools\":[{\"id\":\"12809\",\"type\":\"PanTool\"},{\"id\":\"12810\",\"type\":\"WheelZoomTool\"},{\"id\":\"12811\",\"type\":\"BoxZoomTool\"},{\"id\":\"12812\",\"type\":\"SaveTool\"},{\"id\":\"12813\",\"type\":\"ResetTool\"},{\"id\":\"12814\",\"type\":\"HelpTool\"},{\"id\":\"12815\",\"type\":\"HoverTool\"}]},\"id\":\"12816\",\"type\":\"Toolbar\"},{\"attributes\":{\"fill_alpha\":{\"value\":0.5},\"fill_color\":{\"value\":\"#333333\"},\"left\":1990,\"right\":1991},\"id\":\"8772\",\"type\":\"BoxAnnotation\"},{\"attributes\":{\"fill_alpha\":{\"value\":0.5},\"fill_color\":{\"value\":\"blue\"},\"left\":1970,\"right\":1981},\"id\":\"8765\",\"type\":\"BoxAnnotation\"},{\"attributes\":{\"callback\":null},\"id\":\"12791\",\"type\":\"DataRange1d\"},{\"attributes\":{\"fill_alpha\":{\"value\":0.5},\"fill_color\":{\"value\":\"#800080\"},\"left\":1981,\"right\":1987},\"id\":\"8768\",\"type\":\"BoxAnnotation\"},{\"attributes\":{},\"id\":\"12814\",\"type\":\"HelpTool\"},{\"attributes\":{\"axis_label\":\"Federal Debt in Millions\",\"formatter\":{\"id\":\"12829\",\"type\":\"BasicTickFormatter\"},\"ticker\":{\"id\":\"12805\",\"type\":\"BasicTicker\"}},\"id\":\"12804\",\"type\":\"LinearAxis\"},{\"attributes\":{\"source\":{\"id\":\"12824\",\"type\":\"ColumnDataSource\"}},\"id\":\"12828\",\"type\":\"CDSView\"},{\"attributes\":{\"line_alpha\":0.1,\"line_color\":\"#1f77b4\",\"line_width\":2,\"x\":{\"field\":\"x\"},\"y\":{\"field\":\"y\"}},\"id\":\"12826\",\"type\":\"Line\"},{\"attributes\":{},\"id\":\"12800\",\"type\":\"BasicTicker\"},{\"attributes\":{},\"id\":\"13589\",\"type\":\"Selection\"},{\"attributes\":{},\"id\":\"13588\",\"type\":\"UnionRenderers\"},{\"attributes\":{\"fill_alpha\":{\"value\":0.5},\"fill_color\":{\"value\":\"red\"},\"left\":2015,\"right\":2019},\"id\":\"8764\",\"type\":\"BoxAnnotation\"},{\"attributes\":{\"callback\":null},\"id\":\"12793\",\"type\":\"DataRange1d\"},{\"attributes\":{\"text\":\"Inflation Over time\"},\"id\":\"12789\",\"type\":\"Title\"},{\"attributes\":{\"dimension\":1,\"ticker\":{\"id\":\"12805\",\"type\":\"BasicTicker\"}},\"id\":\"12808\",\"type\":\"Grid\"},{\"attributes\":{},\"id\":\"12795\",\"type\":\"LinearScale\"},{\"attributes\":{\"fill_alpha\":{\"value\":0.5},\"fill_color\":{\"value\":\"blue\"},\"left\":1987,\"right\":1995},\"id\":\"8766\",\"type\":\"BoxAnnotation\"},{\"attributes\":{\"use_scientific\":false},\"id\":\"12829\",\"type\":\"BasicTickFormatter\"},{\"attributes\":{},\"id\":\"12813\",\"type\":\"ResetTool\"},{\"attributes\":{\"fill_alpha\":{\"value\":0.5},\"fill_color\":{\"value\":\"#333333\"},\"left\":1973,\"right\":1975},\"id\":\"8770\",\"type\":\"BoxAnnotation\"}],\"root_ids\":[\"12788\"]},\"title\":\"Bokeh Application\",\"version\":\"1.4.0\"}};\n",
       "  var render_items = [{\"docid\":\"60ae5c7d-6029-488c-b122-17e6bcd7f318\",\"roots\":{\"12788\":\"02712d65-5151-4c50-8343-df766d22f312\"}}];\n",
       "  root.Bokeh.embed.embed_items_notebook(docs_json, render_items);\n",
       "\n",
       "  }\n",
       "  if (root.Bokeh !== undefined) {\n",
       "    embed_document(root);\n",
       "  } else {\n",
       "    var attempts = 0;\n",
       "    var timer = setInterval(function(root) {\n",
       "      if (root.Bokeh !== undefined) {\n",
       "        clearInterval(timer);\n",
       "        embed_document(root);\n",
       "      } else {\n",
       "        attempts++;\n",
       "        if (attempts > 100) {\n",
       "          clearInterval(timer);\n",
       "          console.log(\"Bokeh: ERROR: Unable to run BokehJS code because BokehJS library is missing\");\n",
       "        }\n",
       "      }\n",
       "    }, 10, root)\n",
       "  }\n",
       "})(window);"
      ],
      "application/vnd.bokehjs_exec.v0+json": ""
     },
     "metadata": {
      "application/vnd.bokehjs_exec.v0+json": {
       "id": "12788"
      }
     },
     "output_type": "display_data"
    }
   ],
   "source": [
    "show(inflation_congress)"
   ]
  },
  {
   "cell_type": "code",
   "execution_count": null,
   "metadata": {},
   "outputs": [],
   "source": []
  },
  {
   "cell_type": "code",
   "execution_count": 128,
   "metadata": {},
   "outputs": [],
   "source": [
    "red_inflation_sum = 0\n",
    "blue_inflation_sum = 0\n",
    "counter = 0\n",
    "\n",
    "inflation_redIndices = []\n",
    "inflation_blueIndices = []\n",
    "\n",
    "yr = 1970\n",
    "n = 0\n",
    "while((n < len(inflation_years) and yr < 2016)):\n",
    "    if((yr >= 1970 and yr <= 1977) or (yr >= 1981 and yr <= 1993) or (yr >= 2001 and yr <= 2009) or (yr >= 2017 and yr <= 2019)):\n",
    "        inflation_redIndices.append(n)\n",
    "    else:\n",
    "        inflation_blueIndices.append(n)\n",
    "        \n",
    "    n += 1\n",
    "    yr += 1\n",
    "\n",
    "for element in inflation_years:\n",
    "    if(counter in inflation_redIndices):\n",
    "        red_inflation_sum += data_list[2][inflation_years.index(element)]\n",
    "        \n",
    "    if(counter in inflation_blueIndices):\n",
    "        blue_inflation_sum += data_list[2][inflation_years.index(element)]\n",
    "    counter += 1\n",
    "\n",
    "red_inflation_avg = red_inflation_sum/len(inflation_redIndices)\n",
    "blue_inflation_avg = blue_inflation_sum/len(inflation_blueIndices)\n",
    "\n",
    "inflation_averages = [red_inflation_avg, blue_inflation_avg]\n",
    "\n",
    "inflation_source = ColumnDataSource(data = dict(parties=parties, inflation_averages=inflation_averages))\n",
    "\n",
    "inflation_bar = figure(x_range = parties, title='Average Inflation Rates - Presidents', tooltips = tooltips, toolbar_location=None)\n",
    "\n",
    "inflation_bar.vbar(x='parties', top='inflation_averages',width = 0.9, legend_field=\"parties\",source = inflation_source, fill_color=factor_cmap('parties', palette=color_palette, factors=parties))\n",
    "\n",
    "inflation_bar.xgrid.grid_line_color = None\n",
    "inflation_bar.y_range.start = 0"
   ]
  },
  {
   "cell_type": "code",
   "execution_count": 129,
   "metadata": {},
   "outputs": [],
   "source": [
    "#Congress - inflation\n",
    "red_inflation_growth_sum_congress = 0\n",
    "blue_inflation_growth_sum_congress = 0\n",
    "counter = 0\n",
    "for element in inflation_years:\n",
    "    if(counter in red_indices_congress):\n",
    "        red_inflation_growth_sum_congress += data_list[2][inflation_years.index(element)]\n",
    "    if(counter in blue_indices_congress):\n",
    "        blue_inflation_growth_sum_congress += data_list[2][inflation_years.index(element)]\n",
    "    counter += 1\n",
    "    \n",
    "red_inflation_growth_avg_congress = red_inflation_growth_sum_congress/len(red_indices_congress)\n",
    "blue_inflation_growth_avg_congress = blue_inflation_growth_sum_congress/len(blue_indices_congress)\n",
    "\n",
    "inflation_averages_congress = [red_inflation_growth_avg_congress, blue_inflation_growth_avg_congress]\n",
    "\n",
    "source = ColumnDataSource(data=dict(parties=parties, averages=inflation_averages_congress))\n",
    "\n",
    "inflation_bar_congress = figure(x_range = parties, title='Average Inflation Rates - Congress', tooltips = tooltips, toolbar_location=None)\n",
    "\n",
    "vbar = inflation_bar_congress.vbar(x = 'parties', top = 'averages', width = 0.9, legend_field=\"parties\", source = source, fill_color=factor_cmap('parties', palette=color_palette, factors=parties)) \n",
    "\n",
    "inflation_bar_congress.legend.location=\"top_left\"\n",
    "inflation_bar_congress.xgrid.grid_line_color = None\n",
    "inflation_bar_congress.y_range.start = 0\n",
    "\n",
    "inflation_bar_congress.left[0].formatter.use_scientific = False   "
   ]
  },
  {
   "cell_type": "markdown",
   "metadata": {
    "slideshow": {
     "slide_type": "subslide"
    }
   },
   "source": [
    "## 3.2: Inflation Average - Bar"
   ]
  },
  {
   "cell_type": "code",
   "execution_count": 130,
   "metadata": {
    "slideshow": {
     "slide_type": "subslide"
    }
   },
   "outputs": [
    {
     "data": {
      "text/html": [
       "\n",
       "\n",
       "\n",
       "\n",
       "\n",
       "\n",
       "  <div class=\"bk-root\" id=\"a9f4b47c-0d54-42b1-a819-f8c1f9fafb4b\" data-root-id=\"13639\"></div>\n"
      ]
     },
     "metadata": {},
     "output_type": "display_data"
    },
    {
     "data": {
      "application/javascript": [
       "(function(root) {\n",
       "  function embed_document(root) {\n",
       "    \n",
       "  var docs_json = {\"e3ddb84a-70e7-4bbd-b60b-405daa0740df\":{\"roots\":{\"references\":[{\"attributes\":{\"below\":[{\"id\":\"13650\",\"type\":\"CategoricalAxis\"}],\"center\":[{\"id\":\"13653\",\"type\":\"Grid\"},{\"id\":\"13658\",\"type\":\"Grid\"},{\"id\":\"13686\",\"type\":\"Legend\"}],\"left\":[{\"id\":\"13654\",\"type\":\"LinearAxis\"}],\"renderers\":[{\"id\":\"13678\",\"type\":\"GlyphRenderer\"}],\"title\":{\"id\":\"13640\",\"type\":\"Title\"},\"toolbar\":{\"id\":\"13666\",\"type\":\"Toolbar\"},\"toolbar_location\":null,\"x_range\":{\"id\":\"13642\",\"type\":\"FactorRange\"},\"x_scale\":{\"id\":\"13646\",\"type\":\"CategoricalScale\"},\"y_range\":{\"id\":\"13644\",\"type\":\"DataRange1d\"},\"y_scale\":{\"id\":\"13648\",\"type\":\"LinearScale\"}},\"id\":\"13639\",\"subtype\":\"Figure\",\"type\":\"Plot\"},{\"attributes\":{\"active_drag\":\"auto\",\"active_inspect\":\"auto\",\"active_multi\":null,\"active_scroll\":\"auto\",\"active_tap\":\"auto\",\"tools\":[{\"id\":\"13659\",\"type\":\"PanTool\"},{\"id\":\"13660\",\"type\":\"WheelZoomTool\"},{\"id\":\"13661\",\"type\":\"BoxZoomTool\"},{\"id\":\"13662\",\"type\":\"SaveTool\"},{\"id\":\"13663\",\"type\":\"ResetTool\"},{\"id\":\"13664\",\"type\":\"HelpTool\"},{\"id\":\"13665\",\"type\":\"HoverTool\"}]},\"id\":\"13666\",\"type\":\"Toolbar\"},{\"attributes\":{},\"id\":\"13655\",\"type\":\"BasicTicker\"},{\"attributes\":{},\"id\":\"13651\",\"type\":\"CategoricalTicker\"},{\"attributes\":{\"grid_line_color\":null,\"ticker\":{\"id\":\"13651\",\"type\":\"CategoricalTicker\"}},\"id\":\"13653\",\"type\":\"Grid\"},{\"attributes\":{\"source\":{\"id\":\"13638\",\"type\":\"ColumnDataSource\"}},\"id\":\"13679\",\"type\":\"CDSView\"},{\"attributes\":{\"dimension\":1,\"ticker\":{\"id\":\"13655\",\"type\":\"BasicTicker\"}},\"id\":\"13658\",\"type\":\"Grid\"},{\"attributes\":{\"data_source\":{\"id\":\"13638\",\"type\":\"ColumnDataSource\"},\"glyph\":{\"id\":\"13676\",\"type\":\"VBar\"},\"hover_glyph\":null,\"muted_glyph\":null,\"nonselection_glyph\":{\"id\":\"13677\",\"type\":\"VBar\"},\"selection_glyph\":null,\"view\":{\"id\":\"13679\",\"type\":\"CDSView\"}},\"id\":\"13678\",\"type\":\"GlyphRenderer\"},{\"attributes\":{\"formatter\":{\"id\":\"13681\",\"type\":\"BasicTickFormatter\"},\"ticker\":{\"id\":\"13655\",\"type\":\"BasicTicker\"}},\"id\":\"13654\",\"type\":\"LinearAxis\"},{\"attributes\":{},\"id\":\"13681\",\"type\":\"BasicTickFormatter\"},{\"attributes\":{\"bottom_units\":\"screen\",\"fill_alpha\":{\"value\":0.5},\"fill_color\":{\"value\":\"lightgrey\"},\"left_units\":\"screen\",\"level\":\"overlay\",\"line_alpha\":{\"value\":1.0},\"line_color\":{\"value\":\"black\"},\"line_dash\":[4,4],\"line_width\":{\"value\":2},\"render_mode\":\"css\",\"right_units\":\"screen\",\"top_units\":\"screen\"},\"id\":\"13685\",\"type\":\"BoxAnnotation\"},{\"attributes\":{\"items\":[{\"id\":\"13687\",\"type\":\"LegendItem\"}]},\"id\":\"13686\",\"type\":\"Legend\"},{\"attributes\":{},\"id\":\"13683\",\"type\":\"CategoricalTickFormatter\"},{\"attributes\":{\"callback\":null,\"data\":{\"inflation_averages\":[3.903580422530297,2.8962854647492806],\"parties\":[\"Republican\",\"Democrat\"]},\"selected\":{\"id\":\"14106\",\"type\":\"Selection\"},\"selection_policy\":{\"id\":\"14105\",\"type\":\"UnionRenderers\"}},\"id\":\"13638\",\"type\":\"ColumnDataSource\"},{\"attributes\":{\"label\":{\"field\":\"parties\"},\"renderers\":[{\"id\":\"13678\",\"type\":\"GlyphRenderer\"}]},\"id\":\"13687\",\"type\":\"LegendItem\"},{\"attributes\":{\"factors\":[\"Republican\",\"Democrat\"],\"palette\":[\"#C81602\",\"#000E8A\"]},\"id\":\"13674\",\"type\":\"CategoricalColorMapper\"},{\"attributes\":{\"callback\":null,\"tooltips\":[[\"Value: \",\"$y{0.0}%\"]]},\"id\":\"13665\",\"type\":\"HoverTool\"},{\"attributes\":{\"fill_color\":{\"field\":\"parties\",\"transform\":{\"id\":\"13674\",\"type\":\"CategoricalColorMapper\"}},\"line_color\":{\"value\":\"#1f77b4\"},\"top\":{\"field\":\"inflation_averages\"},\"width\":{\"value\":0.9},\"x\":{\"field\":\"parties\"}},\"id\":\"13676\",\"type\":\"VBar\"},{\"attributes\":{\"callback\":null,\"factors\":[\"Republican\",\"Democrat\"]},\"id\":\"13642\",\"type\":\"FactorRange\"},{\"attributes\":{},\"id\":\"13659\",\"type\":\"PanTool\"},{\"attributes\":{\"text\":\"Average Inflation Rates - Presidents\"},\"id\":\"13640\",\"type\":\"Title\"},{\"attributes\":{},\"id\":\"13660\",\"type\":\"WheelZoomTool\"},{\"attributes\":{\"overlay\":{\"id\":\"13685\",\"type\":\"BoxAnnotation\"}},\"id\":\"13661\",\"type\":\"BoxZoomTool\"},{\"attributes\":{\"formatter\":{\"id\":\"13683\",\"type\":\"CategoricalTickFormatter\"},\"ticker\":{\"id\":\"13651\",\"type\":\"CategoricalTicker\"}},\"id\":\"13650\",\"type\":\"CategoricalAxis\"},{\"attributes\":{},\"id\":\"13662\",\"type\":\"SaveTool\"},{\"attributes\":{},\"id\":\"13663\",\"type\":\"ResetTool\"},{\"attributes\":{},\"id\":\"13646\",\"type\":\"CategoricalScale\"},{\"attributes\":{},\"id\":\"14106\",\"type\":\"Selection\"},{\"attributes\":{\"callback\":null,\"start\":0},\"id\":\"13644\",\"type\":\"DataRange1d\"},{\"attributes\":{\"fill_alpha\":{\"value\":0.1},\"fill_color\":{\"value\":\"#1f77b4\"},\"line_alpha\":{\"value\":0.1},\"line_color\":{\"value\":\"#1f77b4\"},\"top\":{\"field\":\"inflation_averages\"},\"width\":{\"value\":0.9},\"x\":{\"field\":\"parties\"}},\"id\":\"13677\",\"type\":\"VBar\"},{\"attributes\":{},\"id\":\"14105\",\"type\":\"UnionRenderers\"},{\"attributes\":{},\"id\":\"13664\",\"type\":\"HelpTool\"},{\"attributes\":{},\"id\":\"13648\",\"type\":\"LinearScale\"}],\"root_ids\":[\"13639\"]},\"title\":\"Bokeh Application\",\"version\":\"1.4.0\"}};\n",
       "  var render_items = [{\"docid\":\"e3ddb84a-70e7-4bbd-b60b-405daa0740df\",\"roots\":{\"13639\":\"a9f4b47c-0d54-42b1-a819-f8c1f9fafb4b\"}}];\n",
       "  root.Bokeh.embed.embed_items_notebook(docs_json, render_items);\n",
       "\n",
       "  }\n",
       "  if (root.Bokeh !== undefined) {\n",
       "    embed_document(root);\n",
       "  } else {\n",
       "    var attempts = 0;\n",
       "    var timer = setInterval(function(root) {\n",
       "      if (root.Bokeh !== undefined) {\n",
       "        clearInterval(timer);\n",
       "        embed_document(root);\n",
       "      } else {\n",
       "        attempts++;\n",
       "        if (attempts > 100) {\n",
       "          clearInterval(timer);\n",
       "          console.log(\"Bokeh: ERROR: Unable to run BokehJS code because BokehJS library is missing\");\n",
       "        }\n",
       "      }\n",
       "    }, 10, root)\n",
       "  }\n",
       "})(window);"
      ],
      "application/vnd.bokehjs_exec.v0+json": ""
     },
     "metadata": {
      "application/vnd.bokehjs_exec.v0+json": {
       "id": "13639"
      }
     },
     "output_type": "display_data"
    }
   ],
   "source": [
    "show(inflation_bar)"
   ]
  },
  {
   "cell_type": "code",
   "execution_count": 131,
   "metadata": {
    "slideshow": {
     "slide_type": "subslide"
    }
   },
   "outputs": [
    {
     "data": {
      "text/html": [
       "\n",
       "\n",
       "\n",
       "\n",
       "\n",
       "\n",
       "  <div class=\"bk-root\" id=\"040af0e8-8d8e-45c6-817e-c880af326f44\" data-root-id=\"13689\"></div>\n"
      ]
     },
     "metadata": {},
     "output_type": "display_data"
    },
    {
     "data": {
      "application/javascript": [
       "(function(root) {\n",
       "  function embed_document(root) {\n",
       "    \n",
       "  var docs_json = {\"a640c8eb-43e8-4a39-b345-e83e710a36a0\":{\"roots\":{\"references\":[{\"attributes\":{\"below\":[{\"id\":\"13700\",\"type\":\"CategoricalAxis\"}],\"center\":[{\"id\":\"13703\",\"type\":\"Grid\"},{\"id\":\"13708\",\"type\":\"Grid\"},{\"id\":\"13736\",\"type\":\"Legend\"}],\"left\":[{\"id\":\"13704\",\"type\":\"LinearAxis\"}],\"renderers\":[{\"id\":\"13728\",\"type\":\"GlyphRenderer\"}],\"title\":{\"id\":\"13690\",\"type\":\"Title\"},\"toolbar\":{\"id\":\"13716\",\"type\":\"Toolbar\"},\"toolbar_location\":null,\"x_range\":{\"id\":\"13692\",\"type\":\"FactorRange\"},\"x_scale\":{\"id\":\"13696\",\"type\":\"CategoricalScale\"},\"y_range\":{\"id\":\"13694\",\"type\":\"DataRange1d\"},\"y_scale\":{\"id\":\"13698\",\"type\":\"LinearScale\"}},\"id\":\"13689\",\"subtype\":\"Figure\",\"type\":\"Plot\"},{\"attributes\":{\"grid_line_color\":null,\"ticker\":{\"id\":\"13701\",\"type\":\"CategoricalTicker\"}},\"id\":\"13703\",\"type\":\"Grid\"},{\"attributes\":{},\"id\":\"14529\",\"type\":\"UnionRenderers\"},{\"attributes\":{\"dimension\":1,\"ticker\":{\"id\":\"13705\",\"type\":\"BasicTicker\"}},\"id\":\"13708\",\"type\":\"Grid\"},{\"attributes\":{\"formatter\":{\"id\":\"13731\",\"type\":\"BasicTickFormatter\"},\"ticker\":{\"id\":\"13705\",\"type\":\"BasicTicker\"}},\"id\":\"13704\",\"type\":\"LinearAxis\"},{\"attributes\":{\"use_scientific\":false},\"id\":\"13731\",\"type\":\"BasicTickFormatter\"},{\"attributes\":{\"fill_color\":{\"field\":\"parties\",\"transform\":{\"id\":\"13724\",\"type\":\"CategoricalColorMapper\"}},\"line_color\":{\"value\":\"#1f77b4\"},\"top\":{\"field\":\"averages\"},\"width\":{\"value\":0.9},\"x\":{\"field\":\"parties\"}},\"id\":\"13726\",\"type\":\"VBar\"},{\"attributes\":{\"callback\":null,\"data\":{\"averages\":[1.5173737072550562,4.4283698864571885],\"parties\":[\"Republican\",\"Democrat\"]},\"selected\":{\"id\":\"14530\",\"type\":\"Selection\"},\"selection_policy\":{\"id\":\"14529\",\"type\":\"UnionRenderers\"}},\"id\":\"13688\",\"type\":\"ColumnDataSource\"},{\"attributes\":{},\"id\":\"13733\",\"type\":\"CategoricalTickFormatter\"},{\"attributes\":{\"items\":[{\"id\":\"13737\",\"type\":\"LegendItem\"}],\"location\":\"top_left\"},\"id\":\"13736\",\"type\":\"Legend\"},{\"attributes\":{\"callback\":null,\"tooltips\":[[\"Value: \",\"$y{0.0}%\"]]},\"id\":\"13715\",\"type\":\"HoverTool\"},{\"attributes\":{\"bottom_units\":\"screen\",\"fill_alpha\":{\"value\":0.5},\"fill_color\":{\"value\":\"lightgrey\"},\"left_units\":\"screen\",\"level\":\"overlay\",\"line_alpha\":{\"value\":1.0},\"line_color\":{\"value\":\"black\"},\"line_dash\":[4,4],\"line_width\":{\"value\":2},\"render_mode\":\"css\",\"right_units\":\"screen\",\"top_units\":\"screen\"},\"id\":\"13735\",\"type\":\"BoxAnnotation\"},{\"attributes\":{\"factors\":[\"Republican\",\"Democrat\"],\"palette\":[\"#C81602\",\"#000E8A\"]},\"id\":\"13724\",\"type\":\"CategoricalColorMapper\"},{\"attributes\":{},\"id\":\"13709\",\"type\":\"PanTool\"},{\"attributes\":{\"callback\":null,\"factors\":[\"Republican\",\"Democrat\"]},\"id\":\"13692\",\"type\":\"FactorRange\"},{\"attributes\":{},\"id\":\"13710\",\"type\":\"WheelZoomTool\"},{\"attributes\":{\"fill_alpha\":{\"value\":0.1},\"fill_color\":{\"value\":\"#1f77b4\"},\"line_alpha\":{\"value\":0.1},\"line_color\":{\"value\":\"#1f77b4\"},\"top\":{\"field\":\"averages\"},\"width\":{\"value\":0.9},\"x\":{\"field\":\"parties\"}},\"id\":\"13727\",\"type\":\"VBar\"},{\"attributes\":{\"text\":\"Average Inflation Rates - Congress\"},\"id\":\"13690\",\"type\":\"Title\"},{\"attributes\":{\"overlay\":{\"id\":\"13735\",\"type\":\"BoxAnnotation\"}},\"id\":\"13711\",\"type\":\"BoxZoomTool\"},{\"attributes\":{},\"id\":\"13712\",\"type\":\"SaveTool\"},{\"attributes\":{},\"id\":\"13713\",\"type\":\"ResetTool\"},{\"attributes\":{\"label\":{\"field\":\"parties\"},\"renderers\":[{\"id\":\"13728\",\"type\":\"GlyphRenderer\"}]},\"id\":\"13737\",\"type\":\"LegendItem\"},{\"attributes\":{\"data_source\":{\"id\":\"13688\",\"type\":\"ColumnDataSource\"},\"glyph\":{\"id\":\"13726\",\"type\":\"VBar\"},\"hover_glyph\":null,\"muted_glyph\":null,\"nonselection_glyph\":{\"id\":\"13727\",\"type\":\"VBar\"},\"selection_glyph\":null,\"view\":{\"id\":\"13729\",\"type\":\"CDSView\"}},\"id\":\"13728\",\"type\":\"GlyphRenderer\"},{\"attributes\":{},\"id\":\"13696\",\"type\":\"CategoricalScale\"},{\"attributes\":{},\"id\":\"14530\",\"type\":\"Selection\"},{\"attributes\":{\"callback\":null,\"start\":0},\"id\":\"13694\",\"type\":\"DataRange1d\"},{\"attributes\":{},\"id\":\"13714\",\"type\":\"HelpTool\"},{\"attributes\":{},\"id\":\"13698\",\"type\":\"LinearScale\"},{\"attributes\":{\"source\":{\"id\":\"13688\",\"type\":\"ColumnDataSource\"}},\"id\":\"13729\",\"type\":\"CDSView\"},{\"attributes\":{\"active_drag\":\"auto\",\"active_inspect\":\"auto\",\"active_multi\":null,\"active_scroll\":\"auto\",\"active_tap\":\"auto\",\"tools\":[{\"id\":\"13709\",\"type\":\"PanTool\"},{\"id\":\"13710\",\"type\":\"WheelZoomTool\"},{\"id\":\"13711\",\"type\":\"BoxZoomTool\"},{\"id\":\"13712\",\"type\":\"SaveTool\"},{\"id\":\"13713\",\"type\":\"ResetTool\"},{\"id\":\"13714\",\"type\":\"HelpTool\"},{\"id\":\"13715\",\"type\":\"HoverTool\"}]},\"id\":\"13716\",\"type\":\"Toolbar\"},{\"attributes\":{\"formatter\":{\"id\":\"13733\",\"type\":\"CategoricalTickFormatter\"},\"ticker\":{\"id\":\"13701\",\"type\":\"CategoricalTicker\"}},\"id\":\"13700\",\"type\":\"CategoricalAxis\"},{\"attributes\":{},\"id\":\"13705\",\"type\":\"BasicTicker\"},{\"attributes\":{},\"id\":\"13701\",\"type\":\"CategoricalTicker\"}],\"root_ids\":[\"13689\"]},\"title\":\"Bokeh Application\",\"version\":\"1.4.0\"}};\n",
       "  var render_items = [{\"docid\":\"a640c8eb-43e8-4a39-b345-e83e710a36a0\",\"roots\":{\"13689\":\"040af0e8-8d8e-45c6-817e-c880af326f44\"}}];\n",
       "  root.Bokeh.embed.embed_items_notebook(docs_json, render_items);\n",
       "\n",
       "  }\n",
       "  if (root.Bokeh !== undefined) {\n",
       "    embed_document(root);\n",
       "  } else {\n",
       "    var attempts = 0;\n",
       "    var timer = setInterval(function(root) {\n",
       "      if (root.Bokeh !== undefined) {\n",
       "        clearInterval(timer);\n",
       "        embed_document(root);\n",
       "      } else {\n",
       "        attempts++;\n",
       "        if (attempts > 100) {\n",
       "          clearInterval(timer);\n",
       "          console.log(\"Bokeh: ERROR: Unable to run BokehJS code because BokehJS library is missing\");\n",
       "        }\n",
       "      }\n",
       "    }, 10, root)\n",
       "  }\n",
       "})(window);"
      ],
      "application/vnd.bokehjs_exec.v0+json": ""
     },
     "metadata": {
      "application/vnd.bokehjs_exec.v0+json": {
       "id": "13689"
      }
     },
     "output_type": "display_data"
    }
   ],
   "source": [
    "show(inflation_bar_congress)"
   ]
  },
  {
   "cell_type": "code",
   "execution_count": 132,
   "metadata": {
    "slideshow": {
     "slide_type": "skip"
    }
   },
   "outputs": [],
   "source": [
    "BOP_years = [2009]\n",
    "i = 2008\n",
    "while(i >= 1970):\n",
    "    BOP_years.append(i)\n",
    "    i -= 1\n",
    "\n",
    "BOP_years.reverse()"
   ]
  },
  {
   "cell_type": "code",
   "execution_count": 133,
   "metadata": {
    "slideshow": {
     "slide_type": "skip"
    }
   },
   "outputs": [],
   "source": [
    "BOP_tool = [(\"Balance of Payments: \", \"$ $y{0.0} million\")]\n",
    "BOP_plot = figure(title=\"Trade Balance of Payments Over Time - Presidents\", x_axis_label=\"Time\", y_axis_label=\"Trade Balance in millions of USD\", plot_width=900, tooltips=BOP_tool)\n",
    "BOP_plot.line(BOP_years, data_list[3], line_width=2)\n",
    "\n",
    "BOP_boxList = boxList.copy()\n",
    "del BOP_boxList[6]\n",
    "for box in BOP_boxList:\n",
    "    BOP_plot.add_layout(box)\n",
    "\n",
    "for element in data_list[3]:\n",
    "    data_list[3][data_list[3].index(element)] = element / 1000000000\n",
    "    \n",
    "BOP_plot.left[0].formatter.use_scientific = False"
   ]
  },
  {
   "cell_type": "code",
   "execution_count": 134,
   "metadata": {
    "slideshow": {
     "slide_type": "skip"
    }
   },
   "outputs": [],
   "source": [
    "BOP_congress = figure(title=\"Trade Balance of Payments Over Time - Congress\", x_axis_label=\"Time\", y_axis_label=\"Trade Balance in millions of USD\", plot_width=900, tooltips=BOP_tool)\n",
    "BOP_congress.line(BOP_years, data_list[3], line_width=2)\n",
    "for box in congress_boxList:\n",
    "    BOP_congress.add_layout(box)\n",
    "BOP_congress.left[0].formatter.use_scientific = False"
   ]
  },
  {
   "cell_type": "markdown",
   "metadata": {
    "slideshow": {
     "slide_type": "slide"
    }
   },
   "source": [
    "## 4. Trade Balance of Payments"
   ]
  },
  {
   "cell_type": "markdown",
   "metadata": {
    "slideshow": {
     "slide_type": "subslide"
    }
   },
   "source": [
    "## 4.1: Trade Balance of Payments Over Time - Line"
   ]
  },
  {
   "cell_type": "code",
   "execution_count": 135,
   "metadata": {
    "slideshow": {
     "slide_type": "subslide"
    }
   },
   "outputs": [
    {
     "data": {
      "text/html": [
       "\n",
       "\n",
       "\n",
       "\n",
       "\n",
       "\n",
       "  <div class=\"bk-root\" id=\"d29ae57a-3eb8-43f8-b58a-67a59b4d7ad4\" data-root-id=\"14579\"></div>\n"
      ]
     },
     "metadata": {},
     "output_type": "display_data"
    },
    {
     "data": {
      "application/javascript": [
       "(function(root) {\n",
       "  function embed_document(root) {\n",
       "    \n",
       "  var docs_json = {\"b06d618d-b2b1-4d16-aa48-01bfc9edfb7f\":{\"roots\":{\"references\":[{\"attributes\":{\"below\":[{\"id\":\"14590\",\"type\":\"LinearAxis\"}],\"center\":[{\"id\":\"14594\",\"type\":\"Grid\"},{\"id\":\"14599\",\"type\":\"Grid\"},{\"id\":\"8756\",\"type\":\"BoxAnnotation\"},{\"id\":\"8757\",\"type\":\"BoxAnnotation\"},{\"id\":\"8758\",\"type\":\"BoxAnnotation\"},{\"id\":\"8759\",\"type\":\"BoxAnnotation\"},{\"id\":\"8760\",\"type\":\"BoxAnnotation\"},{\"id\":\"8761\",\"type\":\"BoxAnnotation\"},{\"id\":\"8770\",\"type\":\"BoxAnnotation\"},{\"id\":\"8771\",\"type\":\"BoxAnnotation\"},{\"id\":\"8772\",\"type\":\"BoxAnnotation\"},{\"id\":\"8773\",\"type\":\"BoxAnnotation\"},{\"id\":\"8774\",\"type\":\"BoxAnnotation\"}],\"left\":[{\"id\":\"14595\",\"type\":\"LinearAxis\"}],\"plot_width\":900,\"renderers\":[{\"id\":\"14618\",\"type\":\"GlyphRenderer\"}],\"title\":{\"id\":\"14580\",\"type\":\"Title\"},\"toolbar\":{\"id\":\"14607\",\"type\":\"Toolbar\"},\"x_range\":{\"id\":\"14582\",\"type\":\"DataRange1d\"},\"x_scale\":{\"id\":\"14586\",\"type\":\"LinearScale\"},\"y_range\":{\"id\":\"14584\",\"type\":\"DataRange1d\"},\"y_scale\":{\"id\":\"14588\",\"type\":\"LinearScale\"}},\"id\":\"14579\",\"subtype\":\"Figure\",\"type\":\"Plot\"},{\"attributes\":{},\"id\":\"14605\",\"type\":\"HelpTool\"},{\"attributes\":{\"source\":{\"id\":\"14615\",\"type\":\"ColumnDataSource\"}},\"id\":\"14619\",\"type\":\"CDSView\"},{\"attributes\":{\"fill_alpha\":{\"value\":0.5},\"fill_color\":{\"value\":\"red\"},\"left\":2001,\"right\":2009},\"id\":\"8758\",\"type\":\"BoxAnnotation\"},{\"attributes\":{\"text\":\"Trade Balance of Payments Over Time - Presidents\"},\"id\":\"14580\",\"type\":\"Title\"},{\"attributes\":{\"callback\":null,\"tooltips\":[[\"Balance of Payments: \",\"$ $y{0.0} million\"]]},\"id\":\"14606\",\"type\":\"HoverTool\"},{\"attributes\":{\"callback\":null,\"data\":{\"x\":[1970,1971,1972,1973,1974,1975,1976,1977,1978,1979,1980,1981,1982,1983,1984,1985,1986,1987,1988,1989,1990,1991,1992,1993,1994,1995,1996,1997,1998,1999,2000,2001,2002,2003,2004,2005,2006,2007,2008,2009],\"y\":[2.59,-2.27,-6.42,0.91,-5.51,8.91,-9.49,-31.1,-33.927,-27.568,-25.533,-28.05,-36.487,-67.095,-112.481,-122.165,-144.643,-159.233,-126.614,-117.046,-110.262,-75.69,-95.127,-130.551,-163.781,-172.33,-189.1,-196.488,-246.27,-345.52,-452.061,-426.795,-479.339,-545.758,-668.376,-787.056,-843.544,-826.914,-836.271,-512.693]},\"selected\":{\"id\":\"15046\",\"type\":\"Selection\"},\"selection_policy\":{\"id\":\"15045\",\"type\":\"UnionRenderers\"}},\"id\":\"14615\",\"type\":\"ColumnDataSource\"},{\"attributes\":{\"bottom_units\":\"screen\",\"fill_alpha\":{\"value\":0.5},\"fill_color\":{\"value\":\"lightgrey\"},\"left_units\":\"screen\",\"level\":\"overlay\",\"line_alpha\":{\"value\":1.0},\"line_color\":{\"value\":\"black\"},\"line_dash\":[4,4],\"line_width\":{\"value\":2},\"render_mode\":\"css\",\"right_units\":\"screen\",\"top_units\":\"screen\"},\"id\":\"15044\",\"type\":\"BoxAnnotation\"},{\"attributes\":{\"use_scientific\":false},\"id\":\"14620\",\"type\":\"BasicTickFormatter\"},{\"attributes\":{},\"id\":\"14586\",\"type\":\"LinearScale\"},{\"attributes\":{\"callback\":null},\"id\":\"14584\",\"type\":\"DataRange1d\"},{\"attributes\":{},\"id\":\"14588\",\"type\":\"LinearScale\"},{\"attributes\":{},\"id\":\"14601\",\"type\":\"WheelZoomTool\"},{\"attributes\":{\"fill_alpha\":{\"value\":0.5},\"fill_color\":{\"value\":\"red\"},\"left\":1970,\"right\":1977},\"id\":\"8756\",\"type\":\"BoxAnnotation\"},{\"attributes\":{\"fill_alpha\":{\"value\":0.5},\"fill_color\":{\"value\":\"#333333\"},\"left\":1981,\"right\":1982},\"id\":\"8771\",\"type\":\"BoxAnnotation\"},{\"attributes\":{\"axis_label\":\"Time\",\"formatter\":{\"id\":\"15042\",\"type\":\"BasicTickFormatter\"},\"ticker\":{\"id\":\"14591\",\"type\":\"BasicTicker\"}},\"id\":\"14590\",\"type\":\"LinearAxis\"},{\"attributes\":{\"dimension\":1,\"ticker\":{\"id\":\"14596\",\"type\":\"BasicTicker\"}},\"id\":\"14599\",\"type\":\"Grid\"},{\"attributes\":{\"line_color\":\"#1f77b4\",\"line_width\":2,\"x\":{\"field\":\"x\"},\"y\":{\"field\":\"y\"}},\"id\":\"14616\",\"type\":\"Line\"},{\"attributes\":{\"fill_alpha\":{\"value\":0.5},\"fill_color\":{\"value\":\"#333333\"},\"left\":2001.3,\"right\":2001.9},\"id\":\"8773\",\"type\":\"BoxAnnotation\"},{\"attributes\":{},\"id\":\"14591\",\"type\":\"BasicTicker\"},{\"attributes\":{\"fill_alpha\":{\"value\":0.5},\"fill_color\":{\"value\":\"#333333\"},\"left\":2008,\"right\":2009.5},\"id\":\"8774\",\"type\":\"BoxAnnotation\"},{\"attributes\":{\"ticker\":{\"id\":\"14591\",\"type\":\"BasicTicker\"}},\"id\":\"14594\",\"type\":\"Grid\"},{\"attributes\":{\"fill_alpha\":{\"value\":0.5},\"fill_color\":{\"value\":\"blue\"},\"left\":1993,\"right\":2001},\"id\":\"8761\",\"type\":\"BoxAnnotation\"},{\"attributes\":{\"data_source\":{\"id\":\"14615\",\"type\":\"ColumnDataSource\"},\"glyph\":{\"id\":\"14616\",\"type\":\"Line\"},\"hover_glyph\":null,\"muted_glyph\":null,\"nonselection_glyph\":{\"id\":\"14617\",\"type\":\"Line\"},\"selection_glyph\":null,\"view\":{\"id\":\"14619\",\"type\":\"CDSView\"}},\"id\":\"14618\",\"type\":\"GlyphRenderer\"},{\"attributes\":{\"fill_alpha\":{\"value\":0.5},\"fill_color\":{\"value\":\"#333333\"},\"left\":1990,\"right\":1991},\"id\":\"8772\",\"type\":\"BoxAnnotation\"},{\"attributes\":{\"active_drag\":\"auto\",\"active_inspect\":\"auto\",\"active_multi\":null,\"active_scroll\":\"auto\",\"active_tap\":\"auto\",\"tools\":[{\"id\":\"14600\",\"type\":\"PanTool\"},{\"id\":\"14601\",\"type\":\"WheelZoomTool\"},{\"id\":\"14602\",\"type\":\"BoxZoomTool\"},{\"id\":\"14603\",\"type\":\"SaveTool\"},{\"id\":\"14604\",\"type\":\"ResetTool\"},{\"id\":\"14605\",\"type\":\"HelpTool\"},{\"id\":\"14606\",\"type\":\"HoverTool\"}]},\"id\":\"14607\",\"type\":\"Toolbar\"},{\"attributes\":{},\"id\":\"14596\",\"type\":\"BasicTicker\"},{\"attributes\":{\"axis_label\":\"Trade Balance in millions of USD\",\"formatter\":{\"id\":\"14620\",\"type\":\"BasicTickFormatter\"},\"ticker\":{\"id\":\"14596\",\"type\":\"BasicTicker\"}},\"id\":\"14595\",\"type\":\"LinearAxis\"},{\"attributes\":{},\"id\":\"14600\",\"type\":\"PanTool\"},{\"attributes\":{\"overlay\":{\"id\":\"15044\",\"type\":\"BoxAnnotation\"}},\"id\":\"14602\",\"type\":\"BoxZoomTool\"},{\"attributes\":{\"line_alpha\":0.1,\"line_color\":\"#1f77b4\",\"line_width\":2,\"x\":{\"field\":\"x\"},\"y\":{\"field\":\"y\"}},\"id\":\"14617\",\"type\":\"Line\"},{\"attributes\":{\"fill_alpha\":{\"value\":0.5},\"fill_color\":{\"value\":\"red\"},\"left\":1981,\"right\":1993},\"id\":\"8757\",\"type\":\"BoxAnnotation\"},{\"attributes\":{},\"id\":\"14603\",\"type\":\"SaveTool\"},{\"attributes\":{\"fill_alpha\":{\"value\":0.5},\"fill_color\":{\"value\":\"blue\"},\"left\":1977,\"right\":1981},\"id\":\"8760\",\"type\":\"BoxAnnotation\"},{\"attributes\":{},\"id\":\"15045\",\"type\":\"UnionRenderers\"},{\"attributes\":{},\"id\":\"15046\",\"type\":\"Selection\"},{\"attributes\":{\"fill_alpha\":{\"value\":0.5},\"fill_color\":{\"value\":\"red\"},\"left\":2017,\"right\":2019},\"id\":\"8759\",\"type\":\"BoxAnnotation\"},{\"attributes\":{\"callback\":null},\"id\":\"14582\",\"type\":\"DataRange1d\"},{\"attributes\":{},\"id\":\"15042\",\"type\":\"BasicTickFormatter\"},{\"attributes\":{\"fill_alpha\":{\"value\":0.5},\"fill_color\":{\"value\":\"#333333\"},\"left\":1973,\"right\":1975},\"id\":\"8770\",\"type\":\"BoxAnnotation\"},{\"attributes\":{},\"id\":\"14604\",\"type\":\"ResetTool\"}],\"root_ids\":[\"14579\"]},\"title\":\"Bokeh Application\",\"version\":\"1.4.0\"}};\n",
       "  var render_items = [{\"docid\":\"b06d618d-b2b1-4d16-aa48-01bfc9edfb7f\",\"roots\":{\"14579\":\"d29ae57a-3eb8-43f8-b58a-67a59b4d7ad4\"}}];\n",
       "  root.Bokeh.embed.embed_items_notebook(docs_json, render_items);\n",
       "\n",
       "  }\n",
       "  if (root.Bokeh !== undefined) {\n",
       "    embed_document(root);\n",
       "  } else {\n",
       "    var attempts = 0;\n",
       "    var timer = setInterval(function(root) {\n",
       "      if (root.Bokeh !== undefined) {\n",
       "        clearInterval(timer);\n",
       "        embed_document(root);\n",
       "      } else {\n",
       "        attempts++;\n",
       "        if (attempts > 100) {\n",
       "          clearInterval(timer);\n",
       "          console.log(\"Bokeh: ERROR: Unable to run BokehJS code because BokehJS library is missing\");\n",
       "        }\n",
       "      }\n",
       "    }, 10, root)\n",
       "  }\n",
       "})(window);"
      ],
      "application/vnd.bokehjs_exec.v0+json": ""
     },
     "metadata": {
      "application/vnd.bokehjs_exec.v0+json": {
       "id": "14579"
      }
     },
     "output_type": "display_data"
    }
   ],
   "source": [
    "show(BOP_plot)"
   ]
  },
  {
   "cell_type": "code",
   "execution_count": 136,
   "metadata": {
    "slideshow": {
     "slide_type": "subslide"
    }
   },
   "outputs": [
    {
     "data": {
      "text/html": [
       "\n",
       "\n",
       "\n",
       "\n",
       "\n",
       "\n",
       "  <div class=\"bk-root\" id=\"5464a09a-85eb-4345-aa78-9b82afc8e5ff\" data-root-id=\"14621\"></div>\n"
      ]
     },
     "metadata": {},
     "output_type": "display_data"
    },
    {
     "data": {
      "application/javascript": [
       "(function(root) {\n",
       "  function embed_document(root) {\n",
       "    \n",
       "  var docs_json = {\"83504691-17a8-45df-9bc7-3d70266eafd2\":{\"roots\":{\"references\":[{\"attributes\":{\"below\":[{\"id\":\"14632\",\"type\":\"LinearAxis\"}],\"center\":[{\"id\":\"14636\",\"type\":\"Grid\"},{\"id\":\"14641\",\"type\":\"Grid\"},{\"id\":\"8763\",\"type\":\"BoxAnnotation\"},{\"id\":\"8764\",\"type\":\"BoxAnnotation\"},{\"id\":\"8765\",\"type\":\"BoxAnnotation\"},{\"id\":\"8766\",\"type\":\"BoxAnnotation\"},{\"id\":\"8767\",\"type\":\"BoxAnnotation\"},{\"id\":\"8768\",\"type\":\"BoxAnnotation\"},{\"id\":\"8769\",\"type\":\"BoxAnnotation\"},{\"id\":\"8770\",\"type\":\"BoxAnnotation\"},{\"id\":\"8771\",\"type\":\"BoxAnnotation\"},{\"id\":\"8772\",\"type\":\"BoxAnnotation\"},{\"id\":\"8773\",\"type\":\"BoxAnnotation\"},{\"id\":\"8774\",\"type\":\"BoxAnnotation\"}],\"left\":[{\"id\":\"14637\",\"type\":\"LinearAxis\"}],\"plot_width\":900,\"renderers\":[{\"id\":\"14660\",\"type\":\"GlyphRenderer\"}],\"title\":{\"id\":\"14622\",\"type\":\"Title\"},\"toolbar\":{\"id\":\"14649\",\"type\":\"Toolbar\"},\"x_range\":{\"id\":\"14624\",\"type\":\"DataRange1d\"},\"x_scale\":{\"id\":\"14628\",\"type\":\"LinearScale\"},\"y_range\":{\"id\":\"14626\",\"type\":\"DataRange1d\"},\"y_scale\":{\"id\":\"14630\",\"type\":\"LinearScale\"}},\"id\":\"14621\",\"subtype\":\"Figure\",\"type\":\"Plot\"},{\"attributes\":{},\"id\":\"15485\",\"type\":\"UnionRenderers\"},{\"attributes\":{\"callback\":null,\"data\":{\"x\":[1970,1971,1972,1973,1974,1975,1976,1977,1978,1979,1980,1981,1982,1983,1984,1985,1986,1987,1988,1989,1990,1991,1992,1993,1994,1995,1996,1997,1998,1999,2000,2001,2002,2003,2004,2005,2006,2007,2008,2009],\"y\":[2.59,-2.27,-6.42,0.91,-5.51,8.91,-9.49,-31.1,-33.927,-27.568,-25.533,-28.05,-36.487,-67.095,-112.481,-122.165,-144.643,-159.233,-126.614,-117.046,-110.262,-75.69,-95.127,-130.551,-163.781,-172.33,-189.1,-196.488,-246.27,-345.52,-452.061,-426.795,-479.339,-545.758,-668.376,-787.056,-843.544,-826.914,-836.271,-512.693]},\"selected\":{\"id\":\"15486\",\"type\":\"Selection\"},\"selection_policy\":{\"id\":\"15485\",\"type\":\"UnionRenderers\"}},\"id\":\"14657\",\"type\":\"ColumnDataSource\"},{\"attributes\":{\"source\":{\"id\":\"14657\",\"type\":\"ColumnDataSource\"}},\"id\":\"14661\",\"type\":\"CDSView\"},{\"attributes\":{\"fill_alpha\":{\"value\":0.5},\"fill_color\":{\"value\":\"blue\"},\"left\":2007,\"right\":2011},\"id\":\"8767\",\"type\":\"BoxAnnotation\"},{\"attributes\":{\"text\":\"Trade Balance of Payments Over Time - Congress\"},\"id\":\"14622\",\"type\":\"Title\"},{\"attributes\":{},\"id\":\"14645\",\"type\":\"SaveTool\"},{\"attributes\":{\"line_color\":\"#1f77b4\",\"line_width\":2,\"x\":{\"field\":\"x\"},\"y\":{\"field\":\"y\"}},\"id\":\"14658\",\"type\":\"Line\"},{\"attributes\":{\"use_scientific\":false},\"id\":\"14662\",\"type\":\"BasicTickFormatter\"},{\"attributes\":{},\"id\":\"14646\",\"type\":\"ResetTool\"},{\"attributes\":{\"line_alpha\":0.1,\"line_color\":\"#1f77b4\",\"line_width\":2,\"x\":{\"field\":\"x\"},\"y\":{\"field\":\"y\"}},\"id\":\"14659\",\"type\":\"Line\"},{\"attributes\":{\"fill_alpha\":{\"value\":0.5},\"fill_color\":{\"value\":\"#333333\"},\"left\":1981,\"right\":1982},\"id\":\"8771\",\"type\":\"BoxAnnotation\"},{\"attributes\":{\"fill_alpha\":{\"value\":0.5},\"fill_color\":{\"value\":\"red\"},\"left\":1995,\"right\":2007},\"id\":\"8763\",\"type\":\"BoxAnnotation\"},{\"attributes\":{\"data_source\":{\"id\":\"14657\",\"type\":\"ColumnDataSource\"},\"glyph\":{\"id\":\"14658\",\"type\":\"Line\"},\"hover_glyph\":null,\"muted_glyph\":null,\"nonselection_glyph\":{\"id\":\"14659\",\"type\":\"Line\"},\"selection_glyph\":null,\"view\":{\"id\":\"14661\",\"type\":\"CDSView\"}},\"id\":\"14660\",\"type\":\"GlyphRenderer\"},{\"attributes\":{},\"id\":\"15486\",\"type\":\"Selection\"},{\"attributes\":{\"fill_alpha\":{\"value\":0.5},\"fill_color\":{\"value\":\"#333333\"},\"left\":2001.3,\"right\":2001.9},\"id\":\"8773\",\"type\":\"BoxAnnotation\"},{\"attributes\":{\"fill_alpha\":{\"value\":0.5},\"fill_color\":{\"value\":\"#333333\"},\"left\":2008,\"right\":2009.5},\"id\":\"8774\",\"type\":\"BoxAnnotation\"},{\"attributes\":{},\"id\":\"14642\",\"type\":\"PanTool\"},{\"attributes\":{\"fill_alpha\":{\"value\":0.5},\"fill_color\":{\"value\":\"#800080\"},\"left\":2011,\"right\":2015},\"id\":\"8769\",\"type\":\"BoxAnnotation\"},{\"attributes\":{\"axis_label\":\"Time\",\"formatter\":{\"id\":\"15482\",\"type\":\"BasicTickFormatter\"},\"ticker\":{\"id\":\"14633\",\"type\":\"BasicTicker\"}},\"id\":\"14632\",\"type\":\"LinearAxis\"},{\"attributes\":{\"overlay\":{\"id\":\"15484\",\"type\":\"BoxAnnotation\"}},\"id\":\"14644\",\"type\":\"BoxZoomTool\"},{\"attributes\":{},\"id\":\"14638\",\"type\":\"BasicTicker\"},{\"attributes\":{\"fill_alpha\":{\"value\":0.5},\"fill_color\":{\"value\":\"#333333\"},\"left\":1990,\"right\":1991},\"id\":\"8772\",\"type\":\"BoxAnnotation\"},{\"attributes\":{},\"id\":\"14628\",\"type\":\"LinearScale\"},{\"attributes\":{\"fill_alpha\":{\"value\":0.5},\"fill_color\":{\"value\":\"blue\"},\"left\":1970,\"right\":1981},\"id\":\"8765\",\"type\":\"BoxAnnotation\"},{\"attributes\":{\"bottom_units\":\"screen\",\"fill_alpha\":{\"value\":0.5},\"fill_color\":{\"value\":\"lightgrey\"},\"left_units\":\"screen\",\"level\":\"overlay\",\"line_alpha\":{\"value\":1.0},\"line_color\":{\"value\":\"black\"},\"line_dash\":[4,4],\"line_width\":{\"value\":2},\"render_mode\":\"css\",\"right_units\":\"screen\",\"top_units\":\"screen\"},\"id\":\"15484\",\"type\":\"BoxAnnotation\"},{\"attributes\":{\"fill_alpha\":{\"value\":0.5},\"fill_color\":{\"value\":\"#800080\"},\"left\":1981,\"right\":1987},\"id\":\"8768\",\"type\":\"BoxAnnotation\"},{\"attributes\":{\"callback\":null},\"id\":\"14626\",\"type\":\"DataRange1d\"},{\"attributes\":{},\"id\":\"14647\",\"type\":\"HelpTool\"},{\"attributes\":{},\"id\":\"14630\",\"type\":\"LinearScale\"},{\"attributes\":{\"axis_label\":\"Trade Balance in millions of USD\",\"formatter\":{\"id\":\"14662\",\"type\":\"BasicTickFormatter\"},\"ticker\":{\"id\":\"14638\",\"type\":\"BasicTicker\"}},\"id\":\"14637\",\"type\":\"LinearAxis\"},{\"attributes\":{\"active_drag\":\"auto\",\"active_inspect\":\"auto\",\"active_multi\":null,\"active_scroll\":\"auto\",\"active_tap\":\"auto\",\"tools\":[{\"id\":\"14642\",\"type\":\"PanTool\"},{\"id\":\"14643\",\"type\":\"WheelZoomTool\"},{\"id\":\"14644\",\"type\":\"BoxZoomTool\"},{\"id\":\"14645\",\"type\":\"SaveTool\"},{\"id\":\"14646\",\"type\":\"ResetTool\"},{\"id\":\"14647\",\"type\":\"HelpTool\"},{\"id\":\"14648\",\"type\":\"HoverTool\"}]},\"id\":\"14649\",\"type\":\"Toolbar\"},{\"attributes\":{\"callback\":null},\"id\":\"14624\",\"type\":\"DataRange1d\"},{\"attributes\":{\"callback\":null,\"tooltips\":[[\"Balance of Payments: \",\"$ $y{0.0} million\"]]},\"id\":\"14648\",\"type\":\"HoverTool\"},{\"attributes\":{},\"id\":\"14633\",\"type\":\"BasicTicker\"},{\"attributes\":{\"fill_alpha\":{\"value\":0.5},\"fill_color\":{\"value\":\"red\"},\"left\":2015,\"right\":2019},\"id\":\"8764\",\"type\":\"BoxAnnotation\"},{\"attributes\":{},\"id\":\"14643\",\"type\":\"WheelZoomTool\"},{\"attributes\":{},\"id\":\"15482\",\"type\":\"BasicTickFormatter\"},{\"attributes\":{\"fill_alpha\":{\"value\":0.5},\"fill_color\":{\"value\":\"blue\"},\"left\":1987,\"right\":1995},\"id\":\"8766\",\"type\":\"BoxAnnotation\"},{\"attributes\":{\"dimension\":1,\"ticker\":{\"id\":\"14638\",\"type\":\"BasicTicker\"}},\"id\":\"14641\",\"type\":\"Grid\"},{\"attributes\":{\"fill_alpha\":{\"value\":0.5},\"fill_color\":{\"value\":\"#333333\"},\"left\":1973,\"right\":1975},\"id\":\"8770\",\"type\":\"BoxAnnotation\"},{\"attributes\":{\"ticker\":{\"id\":\"14633\",\"type\":\"BasicTicker\"}},\"id\":\"14636\",\"type\":\"Grid\"}],\"root_ids\":[\"14621\"]},\"title\":\"Bokeh Application\",\"version\":\"1.4.0\"}};\n",
       "  var render_items = [{\"docid\":\"83504691-17a8-45df-9bc7-3d70266eafd2\",\"roots\":{\"14621\":\"5464a09a-85eb-4345-aa78-9b82afc8e5ff\"}}];\n",
       "  root.Bokeh.embed.embed_items_notebook(docs_json, render_items);\n",
       "\n",
       "  }\n",
       "  if (root.Bokeh !== undefined) {\n",
       "    embed_document(root);\n",
       "  } else {\n",
       "    var attempts = 0;\n",
       "    var timer = setInterval(function(root) {\n",
       "      if (root.Bokeh !== undefined) {\n",
       "        clearInterval(timer);\n",
       "        embed_document(root);\n",
       "      } else {\n",
       "        attempts++;\n",
       "        if (attempts > 100) {\n",
       "          clearInterval(timer);\n",
       "          console.log(\"Bokeh: ERROR: Unable to run BokehJS code because BokehJS library is missing\");\n",
       "        }\n",
       "      }\n",
       "    }, 10, root)\n",
       "  }\n",
       "})(window);"
      ],
      "application/vnd.bokehjs_exec.v0+json": ""
     },
     "metadata": {
      "application/vnd.bokehjs_exec.v0+json": {
       "id": "14621"
      }
     },
     "output_type": "display_data"
    }
   ],
   "source": [
    "show(BOP_congress)"
   ]
  },
  {
   "cell_type": "code",
   "execution_count": 137,
   "metadata": {
    "slideshow": {
     "slide_type": "skip"
    }
   },
   "outputs": [
    {
     "name": "stdout",
     "output_type": "stream",
     "text": [
      "-243.15233333333336\n"
     ]
    }
   ],
   "source": [
    "BOP_redIndices = []\n",
    "BOP_blueIndices= []\n",
    "\n",
    "yr = 1970\n",
    "n = 0\n",
    "while(n < len(BOP_years)):\n",
    "    if((yr >= 1970 and yr <= 1977) or (yr >= 1981 and yr <= 1993) or (yr >= 2001 and yr <= 2009)):\n",
    "        BOP_redIndices.append(n)\n",
    "    else:\n",
    "        BOP_blueIndices.append(n)\n",
    "    n += 1\n",
    "    yr += 1\n",
    "\n",
    "BOP_red_sum = 0\n",
    "BOP_blue_sum = 0\n",
    "counter = 0\n",
    "\n",
    "for element in BOP_years:\n",
    "    if(counter in BOP_redIndices):\n",
    "        BOP_red_sum += data_list[3][BOP_years.index(element)]\n",
    "    if(counter in BOP_blueIndices):\n",
    "        BOP_blue_sum += data_list[3][BOP_years.index(element)]\n",
    "    counter += 1 \n",
    "\n",
    "BOP_red_avg = BOP_red_sum/len(BOP_redIndices)\n",
    "BOP_blue_avg = BOP_blue_sum/len(BOP_blueIndices)\n",
    "print(BOP_red_avg)\n",
    "BOP_averages = [BOP_red_avg, BOP_blue_avg]\n",
    "BOP_source = ColumnDataSource(data=dict(parties=parties, BOP_averages=BOP_averages))\n",
    "\n",
    "BOP_bar = figure(x_range = parties, title='Average Balance of Trade Payments - Presidents', tooltips = tooltips)\n",
    "BOP_bar.vbar(x = 'parties', top = 'BOP_averages', width = 0.9, legend_field=\"parties\", source = BOP_source, fill_color=factor_cmap('parties', palette=color_palette, factors=parties))\n",
    "BOP_bar.legend.location = 'bottom_right'\n",
    "BOP_bar.left[0].formatter.use_scientific = False"
   ]
  },
  {
   "cell_type": "code",
   "execution_count": 145,
   "metadata": {
    "slideshow": {
     "slide_type": "skip"
    }
   },
   "outputs": [],
   "source": [
    "#Congress - BOP\n",
    "red_BOP_growth_sum_congress = 0\n",
    "blue_BOP_growth_sum_congress = 0\n",
    "counter = 0\n",
    "for element in BOP_years:\n",
    "    if(counter in red_indices_congress):\n",
    "        red_BOP_growth_sum_congress += data_list[3][BOP_years.index(element)]\n",
    "    if(counter in blue_indices_congress):\n",
    "        blue_BOP_growth_sum_congress += data_list[3][BOP_years.index(element)]\n",
    "    counter += 1\n",
    "    \n",
    "red_BOP_growth_avg_congress = red_BOP_growth_sum_congress/len(red_indices_congress)\n",
    "blue_BOP_growth_avg_congress = blue_BOP_growth_sum_congress/len(blue_indices_congress)\n",
    "\n",
    "BOP_averages_congress = [red_BOP_growth_avg_congress, blue_BOP_growth_avg_congress]\n",
    "\n",
    "BOP_source_congress = ColumnDataSource(data=dict(parties=parties, BOP_averages_congress=BOP_averages_congress))\n",
    "\n",
    "BOP_bar_congress = figure(x_range = parties, title='Average Balance of Trade Payments - Congress', tooltips = tooltips)\n",
    "\n",
    "BOP_bar_congress.vbar(x ='parties', top = 'BOP_averages_congress', width = 0.9, legend_field=\"parties\", source = BOP_source_congress, fill_color=factor_cmap('parties', palette=color_palette, factors=parties))\n",
    "\n",
    "BOP_bar_congress.legend.location=\"bottom_right\"\n",
    "\n",
    "BOP_bar_congress.left[0].formatter.use_scientific = False   "
   ]
  },
  {
   "cell_type": "markdown",
   "metadata": {
    "slideshow": {
     "slide_type": "subslide"
    }
   },
   "source": [
    "## 4.2: Average Trade Balance of Payments"
   ]
  },
  {
   "cell_type": "code",
   "execution_count": 146,
   "metadata": {
    "scrolled": false,
    "slideshow": {
     "slide_type": "subslide"
    }
   },
   "outputs": [
    {
     "data": {
      "text/html": [
       "\n",
       "\n",
       "\n",
       "\n",
       "\n",
       "\n",
       "  <div class=\"bk-root\" id=\"fb4a0b3d-06e7-4617-8afd-43ca44f8a4c3\" data-root-id=\"15536\"></div>\n"
      ]
     },
     "metadata": {},
     "output_type": "display_data"
    },
    {
     "data": {
      "application/javascript": [
       "(function(root) {\n",
       "  function embed_document(root) {\n",
       "    \n",
       "  var docs_json = {\"e2c432e3-ae0d-4e8f-a70e-21c128d43aa0\":{\"roots\":{\"references\":[{\"attributes\":{\"below\":[{\"id\":\"15547\",\"type\":\"CategoricalAxis\"}],\"center\":[{\"id\":\"15550\",\"type\":\"Grid\"},{\"id\":\"15555\",\"type\":\"Grid\"},{\"id\":\"15583\",\"type\":\"Legend\"}],\"left\":[{\"id\":\"15551\",\"type\":\"LinearAxis\"}],\"renderers\":[{\"id\":\"15575\",\"type\":\"GlyphRenderer\"}],\"title\":{\"id\":\"15537\",\"type\":\"Title\"},\"toolbar\":{\"id\":\"15563\",\"type\":\"Toolbar\"},\"x_range\":{\"id\":\"15539\",\"type\":\"FactorRange\"},\"x_scale\":{\"id\":\"15543\",\"type\":\"CategoricalScale\"},\"y_range\":{\"id\":\"15541\",\"type\":\"DataRange1d\"},\"y_scale\":{\"id\":\"15545\",\"type\":\"LinearScale\"}},\"id\":\"15536\",\"subtype\":\"Figure\",\"type\":\"Plot\"},{\"attributes\":{\"callback\":null,\"factors\":[\"Republican\",\"Democrat\"]},\"id\":\"15539\",\"type\":\"FactorRange\"},{\"attributes\":{\"data_source\":{\"id\":\"15535\",\"type\":\"ColumnDataSource\"},\"glyph\":{\"id\":\"15573\",\"type\":\"VBar\"},\"hover_glyph\":null,\"muted_glyph\":null,\"nonselection_glyph\":{\"id\":\"15574\",\"type\":\"VBar\"},\"selection_glyph\":null,\"view\":{\"id\":\"15576\",\"type\":\"CDSView\"}},\"id\":\"15575\",\"type\":\"GlyphRenderer\"},{\"attributes\":{},\"id\":\"15557\",\"type\":\"WheelZoomTool\"},{\"attributes\":{\"text\":\"Average Balance of Trade Payments - Presidents\"},\"id\":\"15537\",\"type\":\"Title\"},{\"attributes\":{},\"id\":\"16137\",\"type\":\"UnionRenderers\"},{\"attributes\":{\"overlay\":{\"id\":\"15582\",\"type\":\"BoxAnnotation\"}},\"id\":\"15558\",\"type\":\"BoxZoomTool\"},{\"attributes\":{},\"id\":\"15559\",\"type\":\"SaveTool\"},{\"attributes\":{\"callback\":null},\"id\":\"15541\",\"type\":\"DataRange1d\"},{\"attributes\":{},\"id\":\"15560\",\"type\":\"ResetTool\"},{\"attributes\":{},\"id\":\"16138\",\"type\":\"Selection\"},{\"attributes\":{},\"id\":\"15543\",\"type\":\"CategoricalScale\"},{\"attributes\":{},\"id\":\"15561\",\"type\":\"HelpTool\"},{\"attributes\":{},\"id\":\"15545\",\"type\":\"LinearScale\"},{\"attributes\":{\"formatter\":{\"id\":\"15580\",\"type\":\"CategoricalTickFormatter\"},\"ticker\":{\"id\":\"15548\",\"type\":\"CategoricalTicker\"}},\"id\":\"15547\",\"type\":\"CategoricalAxis\"},{\"attributes\":{\"active_drag\":\"auto\",\"active_inspect\":\"auto\",\"active_multi\":null,\"active_scroll\":\"auto\",\"active_tap\":\"auto\",\"tools\":[{\"id\":\"15556\",\"type\":\"PanTool\"},{\"id\":\"15557\",\"type\":\"WheelZoomTool\"},{\"id\":\"15558\",\"type\":\"BoxZoomTool\"},{\"id\":\"15559\",\"type\":\"SaveTool\"},{\"id\":\"15560\",\"type\":\"ResetTool\"},{\"id\":\"15561\",\"type\":\"HelpTool\"},{\"id\":\"15562\",\"type\":\"HoverTool\"}]},\"id\":\"15563\",\"type\":\"Toolbar\"},{\"attributes\":{},\"id\":\"15552\",\"type\":\"BasicTicker\"},{\"attributes\":{},\"id\":\"15548\",\"type\":\"CategoricalTicker\"},{\"attributes\":{\"source\":{\"id\":\"15535\",\"type\":\"ColumnDataSource\"}},\"id\":\"15576\",\"type\":\"CDSView\"},{\"attributes\":{\"ticker\":{\"id\":\"15548\",\"type\":\"CategoricalTicker\"}},\"id\":\"15550\",\"type\":\"Grid\"},{\"attributes\":{\"dimension\":1,\"ticker\":{\"id\":\"15552\",\"type\":\"BasicTicker\"}},\"id\":\"15555\",\"type\":\"Grid\"},{\"attributes\":{\"formatter\":{\"id\":\"15578\",\"type\":\"BasicTickFormatter\"},\"ticker\":{\"id\":\"15552\",\"type\":\"BasicTicker\"}},\"id\":\"15551\",\"type\":\"LinearAxis\"},{\"attributes\":{\"use_scientific\":false},\"id\":\"15578\",\"type\":\"BasicTickFormatter\"},{\"attributes\":{\"items\":[{\"id\":\"15584\",\"type\":\"LegendItem\"}],\"location\":\"bottom_right\"},\"id\":\"15583\",\"type\":\"Legend\"},{\"attributes\":{\"bottom_units\":\"screen\",\"fill_alpha\":{\"value\":0.5},\"fill_color\":{\"value\":\"lightgrey\"},\"left_units\":\"screen\",\"level\":\"overlay\",\"line_alpha\":{\"value\":1.0},\"line_color\":{\"value\":\"black\"},\"line_dash\":[4,4],\"line_width\":{\"value\":2},\"render_mode\":\"css\",\"right_units\":\"screen\",\"top_units\":\"screen\"},\"id\":\"15582\",\"type\":\"BoxAnnotation\"},{\"attributes\":{\"fill_color\":{\"field\":\"parties\",\"transform\":{\"id\":\"15571\",\"type\":\"CategoricalColorMapper\"}},\"line_color\":{\"value\":\"#1f77b4\"},\"top\":{\"field\":\"BOP_averages\"},\"width\":{\"value\":0.9},\"x\":{\"field\":\"parties\"}},\"id\":\"15573\",\"type\":\"VBar\"},{\"attributes\":{\"label\":{\"field\":\"parties\"},\"renderers\":[{\"id\":\"15575\",\"type\":\"GlyphRenderer\"}]},\"id\":\"15584\",\"type\":\"LegendItem\"},{\"attributes\":{\"callback\":null,\"data\":{\"BOP_averages\":[-243.15233333333336,-185.2578],\"parties\":[\"Republican\",\"Democrat\"]},\"selected\":{\"id\":\"16138\",\"type\":\"Selection\"},\"selection_policy\":{\"id\":\"16137\",\"type\":\"UnionRenderers\"}},\"id\":\"15535\",\"type\":\"ColumnDataSource\"},{\"attributes\":{},\"id\":\"15580\",\"type\":\"CategoricalTickFormatter\"},{\"attributes\":{\"callback\":null,\"tooltips\":[[\"Value: \",\"$y{0.0}%\"]]},\"id\":\"15562\",\"type\":\"HoverTool\"},{\"attributes\":{\"factors\":[\"Republican\",\"Democrat\"],\"palette\":[\"#C81602\",\"#000E8A\"]},\"id\":\"15571\",\"type\":\"CategoricalColorMapper\"},{\"attributes\":{\"fill_alpha\":{\"value\":0.1},\"fill_color\":{\"value\":\"#1f77b4\"},\"line_alpha\":{\"value\":0.1},\"line_color\":{\"value\":\"#1f77b4\"},\"top\":{\"field\":\"BOP_averages\"},\"width\":{\"value\":0.9},\"x\":{\"field\":\"parties\"}},\"id\":\"15574\",\"type\":\"VBar\"},{\"attributes\":{},\"id\":\"15556\",\"type\":\"PanTool\"}],\"root_ids\":[\"15536\"]},\"title\":\"Bokeh Application\",\"version\":\"1.4.0\"}};\n",
       "  var render_items = [{\"docid\":\"e2c432e3-ae0d-4e8f-a70e-21c128d43aa0\",\"roots\":{\"15536\":\"fb4a0b3d-06e7-4617-8afd-43ca44f8a4c3\"}}];\n",
       "  root.Bokeh.embed.embed_items_notebook(docs_json, render_items);\n",
       "\n",
       "  }\n",
       "  if (root.Bokeh !== undefined) {\n",
       "    embed_document(root);\n",
       "  } else {\n",
       "    var attempts = 0;\n",
       "    var timer = setInterval(function(root) {\n",
       "      if (root.Bokeh !== undefined) {\n",
       "        clearInterval(timer);\n",
       "        embed_document(root);\n",
       "      } else {\n",
       "        attempts++;\n",
       "        if (attempts > 100) {\n",
       "          clearInterval(timer);\n",
       "          console.log(\"Bokeh: ERROR: Unable to run BokehJS code because BokehJS library is missing\");\n",
       "        }\n",
       "      }\n",
       "    }, 10, root)\n",
       "  }\n",
       "})(window);"
      ],
      "application/vnd.bokehjs_exec.v0+json": ""
     },
     "metadata": {
      "application/vnd.bokehjs_exec.v0+json": {
       "id": "15536"
      }
     },
     "output_type": "display_data"
    }
   ],
   "source": [
    "show(BOP_bar)"
   ]
  },
  {
   "cell_type": "code",
   "execution_count": 149,
   "metadata": {
    "slideshow": {
     "slide_type": "subslide"
    }
   },
   "outputs": [
    {
     "data": {
      "text/html": [
       "\n",
       "\n",
       "\n",
       "\n",
       "\n",
       "\n",
       "  <div class=\"bk-root\" id=\"c6abd0d4-6b6c-425b-abe7-8a2e1dbb92db\" data-root-id=\"16644\"></div>\n"
      ]
     },
     "metadata": {},
     "output_type": "display_data"
    },
    {
     "data": {
      "application/javascript": [
       "(function(root) {\n",
       "  function embed_document(root) {\n",
       "    \n",
       "  var docs_json = {\"efeb50a5-7f04-43c7-be25-c96d1c38aab2\":{\"roots\":{\"references\":[{\"attributes\":{\"below\":[{\"id\":\"16655\",\"type\":\"CategoricalAxis\"}],\"center\":[{\"id\":\"16658\",\"type\":\"Grid\"},{\"id\":\"16663\",\"type\":\"Grid\"},{\"id\":\"16691\",\"type\":\"Legend\"}],\"left\":[{\"id\":\"16659\",\"type\":\"LinearAxis\"}],\"renderers\":[{\"id\":\"16683\",\"type\":\"GlyphRenderer\"}],\"title\":{\"id\":\"16645\",\"type\":\"Title\"},\"toolbar\":{\"id\":\"16671\",\"type\":\"Toolbar\"},\"x_range\":{\"id\":\"16647\",\"type\":\"FactorRange\"},\"x_scale\":{\"id\":\"16651\",\"type\":\"CategoricalScale\"},\"y_range\":{\"id\":\"16649\",\"type\":\"DataRange1d\"},\"y_scale\":{\"id\":\"16653\",\"type\":\"LinearScale\"}},\"id\":\"16644\",\"subtype\":\"Figure\",\"type\":\"Plot\"},{\"attributes\":{\"fill_color\":{\"field\":\"parties\",\"transform\":{\"id\":\"16679\",\"type\":\"CategoricalColorMapper\"}},\"line_color\":{\"value\":\"#1f77b4\"},\"top\":{\"field\":\"BOP_averages_congress\"},\"width\":{\"value\":0.9},\"x\":{\"field\":\"parties\"}},\"id\":\"16681\",\"type\":\"VBar\"},{\"attributes\":{},\"id\":\"16651\",\"type\":\"CategoricalScale\"},{\"attributes\":{},\"id\":\"17156\",\"type\":\"UnionRenderers\"},{\"attributes\":{},\"id\":\"16668\",\"type\":\"ResetTool\"},{\"attributes\":{},\"id\":\"16660\",\"type\":\"BasicTicker\"},{\"attributes\":{},\"id\":\"16653\",\"type\":\"LinearScale\"},{\"attributes\":{\"fill_alpha\":{\"value\":0.1},\"fill_color\":{\"value\":\"#1f77b4\"},\"line_alpha\":{\"value\":0.1},\"line_color\":{\"value\":\"#1f77b4\"},\"top\":{\"field\":\"BOP_averages_congress\"},\"width\":{\"value\":0.9},\"x\":{\"field\":\"parties\"}},\"id\":\"16682\",\"type\":\"VBar\"},{\"attributes\":{},\"id\":\"16664\",\"type\":\"PanTool\"},{\"attributes\":{\"callback\":null},\"id\":\"16649\",\"type\":\"DataRange1d\"},{\"attributes\":{\"source\":{\"id\":\"16643\",\"type\":\"ColumnDataSource\"}},\"id\":\"16684\",\"type\":\"CDSView\"},{\"attributes\":{\"factors\":[\"Republican\",\"Democrat\"],\"palette\":[\"#C81602\",\"#000E8A\"]},\"id\":\"16679\",\"type\":\"CategoricalColorMapper\"},{\"attributes\":{},\"id\":\"16669\",\"type\":\"HelpTool\"},{\"attributes\":{\"dimension\":1,\"ticker\":{\"id\":\"16660\",\"type\":\"BasicTicker\"}},\"id\":\"16663\",\"type\":\"Grid\"},{\"attributes\":{},\"id\":\"17157\",\"type\":\"Selection\"},{\"attributes\":{\"bottom_units\":\"screen\",\"fill_alpha\":{\"value\":0.5},\"fill_color\":{\"value\":\"lightgrey\"},\"left_units\":\"screen\",\"level\":\"overlay\",\"line_alpha\":{\"value\":1.0},\"line_color\":{\"value\":\"black\"},\"line_dash\":[4,4],\"line_width\":{\"value\":2},\"render_mode\":\"css\",\"right_units\":\"screen\",\"top_units\":\"screen\"},\"id\":\"16690\",\"type\":\"BoxAnnotation\"},{\"attributes\":{},\"id\":\"16688\",\"type\":\"CategoricalTickFormatter\"},{\"attributes\":{\"text\":\"Average Balance of Trade Payments - Congress\"},\"id\":\"16645\",\"type\":\"Title\"},{\"attributes\":{},\"id\":\"16665\",\"type\":\"WheelZoomTool\"},{\"attributes\":{\"formatter\":{\"id\":\"16686\",\"type\":\"BasicTickFormatter\"},\"ticker\":{\"id\":\"16660\",\"type\":\"BasicTicker\"}},\"id\":\"16659\",\"type\":\"LinearAxis\"},{\"attributes\":{\"items\":[{\"id\":\"16692\",\"type\":\"LegendItem\"}],\"location\":\"bottom_right\"},\"id\":\"16691\",\"type\":\"Legend\"},{\"attributes\":{\"label\":{\"field\":\"parties\"},\"renderers\":[{\"id\":\"16683\",\"type\":\"GlyphRenderer\"}]},\"id\":\"16692\",\"type\":\"LegendItem\"},{\"attributes\":{},\"id\":\"16667\",\"type\":\"SaveTool\"},{\"attributes\":{\"callback\":null,\"tooltips\":[[\"Value: \",\"$y{0.0}%\"]]},\"id\":\"16670\",\"type\":\"HoverTool\"},{\"attributes\":{\"overlay\":{\"id\":\"16690\",\"type\":\"BoxAnnotation\"}},\"id\":\"16666\",\"type\":\"BoxZoomTool\"},{\"attributes\":{\"ticker\":{\"id\":\"16656\",\"type\":\"CategoricalTicker\"}},\"id\":\"16658\",\"type\":\"Grid\"},{\"attributes\":{\"data_source\":{\"id\":\"16643\",\"type\":\"ColumnDataSource\"},\"glyph\":{\"id\":\"16681\",\"type\":\"VBar\"},\"hover_glyph\":null,\"muted_glyph\":null,\"nonselection_glyph\":{\"id\":\"16682\",\"type\":\"VBar\"},\"selection_glyph\":null,\"view\":{\"id\":\"16684\",\"type\":\"CDSView\"}},\"id\":\"16683\",\"type\":\"GlyphRenderer\"},{\"attributes\":{\"use_scientific\":false},\"id\":\"16686\",\"type\":\"BasicTickFormatter\"},{\"attributes\":{\"callback\":null,\"factors\":[\"Republican\",\"Democrat\"]},\"id\":\"16647\",\"type\":\"FactorRange\"},{\"attributes\":{\"active_drag\":\"auto\",\"active_inspect\":\"auto\",\"active_multi\":null,\"active_scroll\":\"auto\",\"active_tap\":\"auto\",\"tools\":[{\"id\":\"16664\",\"type\":\"PanTool\"},{\"id\":\"16665\",\"type\":\"WheelZoomTool\"},{\"id\":\"16666\",\"type\":\"BoxZoomTool\"},{\"id\":\"16667\",\"type\":\"SaveTool\"},{\"id\":\"16668\",\"type\":\"ResetTool\"},{\"id\":\"16669\",\"type\":\"HelpTool\"},{\"id\":\"16670\",\"type\":\"HoverTool\"}]},\"id\":\"16671\",\"type\":\"Toolbar\"},{\"attributes\":{},\"id\":\"16656\",\"type\":\"CategoricalTicker\"},{\"attributes\":{\"callback\":null,\"data\":{\"BOP_averages_congress\":[-323.76918750000004,-133.99884615384616],\"parties\":[\"Republican\",\"Democrat\"]},\"selected\":{\"id\":\"17157\",\"type\":\"Selection\"},\"selection_policy\":{\"id\":\"17156\",\"type\":\"UnionRenderers\"}},\"id\":\"16643\",\"type\":\"ColumnDataSource\"},{\"attributes\":{\"formatter\":{\"id\":\"16688\",\"type\":\"CategoricalTickFormatter\"},\"ticker\":{\"id\":\"16656\",\"type\":\"CategoricalTicker\"}},\"id\":\"16655\",\"type\":\"CategoricalAxis\"}],\"root_ids\":[\"16644\"]},\"title\":\"Bokeh Application\",\"version\":\"1.4.0\"}};\n",
       "  var render_items = [{\"docid\":\"efeb50a5-7f04-43c7-be25-c96d1c38aab2\",\"roots\":{\"16644\":\"c6abd0d4-6b6c-425b-abe7-8a2e1dbb92db\"}}];\n",
       "  root.Bokeh.embed.embed_items_notebook(docs_json, render_items);\n",
       "\n",
       "  }\n",
       "  if (root.Bokeh !== undefined) {\n",
       "    embed_document(root);\n",
       "  } else {\n",
       "    var attempts = 0;\n",
       "    var timer = setInterval(function(root) {\n",
       "      if (root.Bokeh !== undefined) {\n",
       "        clearInterval(timer);\n",
       "        embed_document(root);\n",
       "      } else {\n",
       "        attempts++;\n",
       "        if (attempts > 100) {\n",
       "          clearInterval(timer);\n",
       "          console.log(\"Bokeh: ERROR: Unable to run BokehJS code because BokehJS library is missing\");\n",
       "        }\n",
       "      }\n",
       "    }, 10, root)\n",
       "  }\n",
       "})(window);"
      ],
      "application/vnd.bokehjs_exec.v0+json": ""
     },
     "metadata": {
      "application/vnd.bokehjs_exec.v0+json": {
       "id": "16644"
      }
     },
     "output_type": "display_data"
    }
   ],
   "source": [
    "show(BOP_bar_congress)"
   ]
  },
  {
   "cell_type": "code",
   "execution_count": 150,
   "metadata": {
    "slideshow": {
     "slide_type": "skip"
    }
   },
   "outputs": [],
   "source": [
    "unemp_years = [2008]\n",
    "i = 2007\n",
    "while(i >= 1970):\n",
    "    unemp_years.append(i)\n",
    "    i -= 1"
   ]
  },
  {
   "cell_type": "code",
   "execution_count": 151,
   "metadata": {
    "slideshow": {
     "slide_type": "skip"
    }
   },
   "outputs": [],
   "source": [
    "unemp_tool = [(\"Unemployment Rate: \", \"$y{0.0}\")]\n",
    "\n",
    "unemp_plot = figure(title=\"Unemployment Rate Over Time - Presidents\", x_axis_label=\"Time\", y_axis_label=\"Unemployment Rate \", plot_width=900, tooltips=unemp_tool)\n",
    "unemp_plot.line(unemp_years, data_list[4], line_width=2)\n",
    "\n",
    "unemp_boxList = boxList.copy()\n",
    "del unemp_boxList[6]\n",
    "del unemp_boxList[3]\n",
    "\n",
    "for box in unemp_boxList:\n",
    "    unemp_plot.add_layout(box)\n",
    "\n",
    "unemp_plot.left[0].formatter.use_scientific = False"
   ]
  },
  {
   "cell_type": "code",
   "execution_count": 152,
   "metadata": {
    "slideshow": {
     "slide_type": "skip"
    }
   },
   "outputs": [],
   "source": [
    "unemp_congress = figure(title=\"Unemployment Rate Over Time - Congress\", x_axis_label=\"Time\", y_axis_label=\"Unemployment Rate \", plot_width=900, tooltips=unemp_tool)\n",
    "unemp_congress.line(unemp_years, data_list[4], line_width=2)\n",
    "\n",
    "for box in congress_boxList:\n",
    "    unemp_congress.add_layout(box)\n",
    "    \n",
    "unemp_congress.left[0].formatter.use_scientific = False"
   ]
  },
  {
   "cell_type": "markdown",
   "metadata": {
    "slideshow": {
     "slide_type": "slide"
    }
   },
   "source": [
    "## 5. Unemployment Rate"
   ]
  },
  {
   "cell_type": "markdown",
   "metadata": {
    "slideshow": {
     "slide_type": "subslide"
    }
   },
   "source": [
    "## 5.1: Unemployment Rate Over Time - Line"
   ]
  },
  {
   "cell_type": "code",
   "execution_count": 153,
   "metadata": {
    "slideshow": {
     "slide_type": "subslide"
    }
   },
   "outputs": [
    {
     "data": {
      "text/html": [
       "\n",
       "\n",
       "\n",
       "\n",
       "\n",
       "\n",
       "  <div class=\"bk-root\" id=\"4642ff1c-79de-4984-99e7-71c14c39e1f7\" data-root-id=\"17254\"></div>\n"
      ]
     },
     "metadata": {},
     "output_type": "display_data"
    },
    {
     "data": {
      "application/javascript": [
       "(function(root) {\n",
       "  function embed_document(root) {\n",
       "    \n",
       "  var docs_json = {\"869d2382-df34-407d-a78f-60758f2d5a63\":{\"roots\":{\"references\":[{\"attributes\":{\"below\":[{\"id\":\"17265\",\"type\":\"LinearAxis\"}],\"center\":[{\"id\":\"17269\",\"type\":\"Grid\"},{\"id\":\"17274\",\"type\":\"Grid\"},{\"id\":\"8756\",\"type\":\"BoxAnnotation\"},{\"id\":\"8757\",\"type\":\"BoxAnnotation\"},{\"id\":\"8758\",\"type\":\"BoxAnnotation\"},{\"id\":\"8760\",\"type\":\"BoxAnnotation\"},{\"id\":\"8761\",\"type\":\"BoxAnnotation\"},{\"id\":\"8770\",\"type\":\"BoxAnnotation\"},{\"id\":\"8771\",\"type\":\"BoxAnnotation\"},{\"id\":\"8772\",\"type\":\"BoxAnnotation\"},{\"id\":\"8773\",\"type\":\"BoxAnnotation\"},{\"id\":\"8774\",\"type\":\"BoxAnnotation\"}],\"left\":[{\"id\":\"17270\",\"type\":\"LinearAxis\"}],\"plot_width\":900,\"renderers\":[{\"id\":\"17293\",\"type\":\"GlyphRenderer\"}],\"title\":{\"id\":\"17255\",\"type\":\"Title\"},\"toolbar\":{\"id\":\"17282\",\"type\":\"Toolbar\"},\"x_range\":{\"id\":\"17257\",\"type\":\"DataRange1d\"},\"x_scale\":{\"id\":\"17261\",\"type\":\"LinearScale\"},\"y_range\":{\"id\":\"17259\",\"type\":\"DataRange1d\"},\"y_scale\":{\"id\":\"17263\",\"type\":\"LinearScale\"}},\"id\":\"17254\",\"subtype\":\"Figure\",\"type\":\"Plot\"},{\"attributes\":{\"fill_alpha\":{\"value\":0.5},\"fill_color\":{\"value\":\"red\"},\"left\":2001,\"right\":2009},\"id\":\"8758\",\"type\":\"BoxAnnotation\"},{\"attributes\":{\"callback\":null},\"id\":\"17259\",\"type\":\"DataRange1d\"},{\"attributes\":{},\"id\":\"17280\",\"type\":\"HelpTool\"},{\"attributes\":{},\"id\":\"17761\",\"type\":\"Selection\"},{\"attributes\":{\"data_source\":{\"id\":\"17290\",\"type\":\"ColumnDataSource\"},\"glyph\":{\"id\":\"17291\",\"type\":\"Line\"},\"hover_glyph\":null,\"muted_glyph\":null,\"nonselection_glyph\":{\"id\":\"17292\",\"type\":\"Line\"},\"selection_glyph\":null,\"view\":{\"id\":\"17294\",\"type\":\"CDSView\"}},\"id\":\"17293\",\"type\":\"GlyphRenderer\"},{\"attributes\":{},\"id\":\"17263\",\"type\":\"LinearScale\"},{\"attributes\":{\"active_drag\":\"auto\",\"active_inspect\":\"auto\",\"active_multi\":null,\"active_scroll\":\"auto\",\"active_tap\":\"auto\",\"tools\":[{\"id\":\"17275\",\"type\":\"PanTool\"},{\"id\":\"17276\",\"type\":\"WheelZoomTool\"},{\"id\":\"17277\",\"type\":\"BoxZoomTool\"},{\"id\":\"17278\",\"type\":\"SaveTool\"},{\"id\":\"17279\",\"type\":\"ResetTool\"},{\"id\":\"17280\",\"type\":\"HelpTool\"},{\"id\":\"17281\",\"type\":\"HoverTool\"}]},\"id\":\"17282\",\"type\":\"Toolbar\"},{\"attributes\":{\"bottom_units\":\"screen\",\"fill_alpha\":{\"value\":0.5},\"fill_color\":{\"value\":\"lightgrey\"},\"left_units\":\"screen\",\"level\":\"overlay\",\"line_alpha\":{\"value\":1.0},\"line_color\":{\"value\":\"black\"},\"line_dash\":[4,4],\"line_width\":{\"value\":2},\"render_mode\":\"css\",\"right_units\":\"screen\",\"top_units\":\"screen\"},\"id\":\"17759\",\"type\":\"BoxAnnotation\"},{\"attributes\":{\"axis_label\":\"Time\",\"formatter\":{\"id\":\"17757\",\"type\":\"BasicTickFormatter\"},\"ticker\":{\"id\":\"17266\",\"type\":\"BasicTicker\"}},\"id\":\"17265\",\"type\":\"LinearAxis\"},{\"attributes\":{\"dimension\":1,\"ticker\":{\"id\":\"17271\",\"type\":\"BasicTicker\"}},\"id\":\"17274\",\"type\":\"Grid\"},{\"attributes\":{\"fill_alpha\":{\"value\":0.5},\"fill_color\":{\"value\":\"red\"},\"left\":1970,\"right\":1977},\"id\":\"8756\",\"type\":\"BoxAnnotation\"},{\"attributes\":{\"fill_alpha\":{\"value\":0.5},\"fill_color\":{\"value\":\"#333333\"},\"left\":1981,\"right\":1982},\"id\":\"8771\",\"type\":\"BoxAnnotation\"},{\"attributes\":{},\"id\":\"17266\",\"type\":\"BasicTicker\"},{\"attributes\":{\"source\":{\"id\":\"17290\",\"type\":\"ColumnDataSource\"}},\"id\":\"17294\",\"type\":\"CDSView\"},{\"attributes\":{\"ticker\":{\"id\":\"17266\",\"type\":\"BasicTicker\"}},\"id\":\"17269\",\"type\":\"Grid\"},{\"attributes\":{\"fill_alpha\":{\"value\":0.5},\"fill_color\":{\"value\":\"#333333\"},\"left\":2001.3,\"right\":2001.9},\"id\":\"8773\",\"type\":\"BoxAnnotation\"},{\"attributes\":{\"fill_alpha\":{\"value\":0.5},\"fill_color\":{\"value\":\"#333333\"},\"left\":2008,\"right\":2009.5},\"id\":\"8774\",\"type\":\"BoxAnnotation\"},{\"attributes\":{},\"id\":\"17271\",\"type\":\"BasicTicker\"},{\"attributes\":{\"fill_alpha\":{\"value\":0.5},\"fill_color\":{\"value\":\"blue\"},\"left\":1993,\"right\":2001},\"id\":\"8761\",\"type\":\"BoxAnnotation\"},{\"attributes\":{\"axis_label\":\"Unemployment Rate \",\"formatter\":{\"id\":\"17295\",\"type\":\"BasicTickFormatter\"},\"ticker\":{\"id\":\"17271\",\"type\":\"BasicTicker\"}},\"id\":\"17270\",\"type\":\"LinearAxis\"},{\"attributes\":{\"fill_alpha\":{\"value\":0.5},\"fill_color\":{\"value\":\"#333333\"},\"left\":1990,\"right\":1991},\"id\":\"8772\",\"type\":\"BoxAnnotation\"},{\"attributes\":{\"use_scientific\":false},\"id\":\"17295\",\"type\":\"BasicTickFormatter\"},{\"attributes\":{\"line_alpha\":0.1,\"line_color\":\"#1f77b4\",\"line_width\":2,\"x\":{\"field\":\"x\"},\"y\":{\"field\":\"y\"}},\"id\":\"17292\",\"type\":\"Line\"},{\"attributes\":{\"overlay\":{\"id\":\"17759\",\"type\":\"BoxAnnotation\"}},\"id\":\"17277\",\"type\":\"BoxZoomTool\"},{\"attributes\":{},\"id\":\"17760\",\"type\":\"UnionRenderers\"},{\"attributes\":{\"text\":\"Unemployment Rate Over Time - Presidents\"},\"id\":\"17255\",\"type\":\"Title\"},{\"attributes\":{\"line_color\":\"#1f77b4\",\"line_width\":2,\"x\":{\"field\":\"x\"},\"y\":{\"field\":\"y\"}},\"id\":\"17291\",\"type\":\"Line\"},{\"attributes\":{\"callback\":null,\"tooltips\":[[\"Unemployment Rate: \",\"$y{0.0}\"]]},\"id\":\"17281\",\"type\":\"HoverTool\"},{\"attributes\":{\"fill_alpha\":{\"value\":0.5},\"fill_color\":{\"value\":\"red\"},\"left\":1981,\"right\":1993},\"id\":\"8757\",\"type\":\"BoxAnnotation\"},{\"attributes\":{},\"id\":\"17261\",\"type\":\"LinearScale\"},{\"attributes\":{\"callback\":null},\"id\":\"17257\",\"type\":\"DataRange1d\"},{\"attributes\":{\"fill_alpha\":{\"value\":0.5},\"fill_color\":{\"value\":\"blue\"},\"left\":1977,\"right\":1981},\"id\":\"8760\",\"type\":\"BoxAnnotation\"},{\"attributes\":{},\"id\":\"17275\",\"type\":\"PanTool\"},{\"attributes\":{},\"id\":\"17278\",\"type\":\"SaveTool\"},{\"attributes\":{},\"id\":\"17276\",\"type\":\"WheelZoomTool\"},{\"attributes\":{},\"id\":\"17279\",\"type\":\"ResetTool\"},{\"attributes\":{},\"id\":\"17757\",\"type\":\"BasicTickFormatter\"},{\"attributes\":{\"fill_alpha\":{\"value\":0.5},\"fill_color\":{\"value\":\"#333333\"},\"left\":1973,\"right\":1975},\"id\":\"8770\",\"type\":\"BoxAnnotation\"},{\"attributes\":{\"callback\":null,\"data\":{\"x\":[2008,2007,2006,2005,2004,2003,2002,2001,2000,1999,1998,1997,1996,1995,1994,1993,1992,1991,1990,1989,1988,1987,1986,1985,1984,1983,1982,1981,1980,1979,1978,1977,1976,1975,1974,1973,1972,1971,1970],\"y\":[4.8,5.8,5.5,4.8,5.5,8.3,7.6,6.9,6.0,5.8,7.0,7.5,9.5,9.6,7.5,7.2,7.0,6.2,5.5,5.3,5.6,6.8,7.5,6.9,6.1,5.6,5.4,4.9,4.5,4.2,4.0,4.8,5.8,6.0,5.5,5.1,4.6,4.6,5.8]},\"selected\":{\"id\":\"17761\",\"type\":\"Selection\"},\"selection_policy\":{\"id\":\"17760\",\"type\":\"UnionRenderers\"}},\"id\":\"17290\",\"type\":\"ColumnDataSource\"}],\"root_ids\":[\"17254\"]},\"title\":\"Bokeh Application\",\"version\":\"1.4.0\"}};\n",
       "  var render_items = [{\"docid\":\"869d2382-df34-407d-a78f-60758f2d5a63\",\"roots\":{\"17254\":\"4642ff1c-79de-4984-99e7-71c14c39e1f7\"}}];\n",
       "  root.Bokeh.embed.embed_items_notebook(docs_json, render_items);\n",
       "\n",
       "  }\n",
       "  if (root.Bokeh !== undefined) {\n",
       "    embed_document(root);\n",
       "  } else {\n",
       "    var attempts = 0;\n",
       "    var timer = setInterval(function(root) {\n",
       "      if (root.Bokeh !== undefined) {\n",
       "        clearInterval(timer);\n",
       "        embed_document(root);\n",
       "      } else {\n",
       "        attempts++;\n",
       "        if (attempts > 100) {\n",
       "          clearInterval(timer);\n",
       "          console.log(\"Bokeh: ERROR: Unable to run BokehJS code because BokehJS library is missing\");\n",
       "        }\n",
       "      }\n",
       "    }, 10, root)\n",
       "  }\n",
       "})(window);"
      ],
      "application/vnd.bokehjs_exec.v0+json": ""
     },
     "metadata": {
      "application/vnd.bokehjs_exec.v0+json": {
       "id": "17254"
      }
     },
     "output_type": "display_data"
    }
   ],
   "source": [
    "show(unemp_plot)"
   ]
  },
  {
   "cell_type": "code",
   "execution_count": 154,
   "metadata": {
    "slideshow": {
     "slide_type": "subslide"
    }
   },
   "outputs": [
    {
     "data": {
      "text/html": [
       "\n",
       "\n",
       "\n",
       "\n",
       "\n",
       "\n",
       "  <div class=\"bk-root\" id=\"22b6213f-d553-46ff-b144-def80fcc587a\" data-root-id=\"17296\"></div>\n"
      ]
     },
     "metadata": {},
     "output_type": "display_data"
    },
    {
     "data": {
      "application/javascript": [
       "(function(root) {\n",
       "  function embed_document(root) {\n",
       "    \n",
       "  var docs_json = {\"50f29815-3c88-4675-a0f6-3c3c4d0cb15b\":{\"roots\":{\"references\":[{\"attributes\":{\"below\":[{\"id\":\"17307\",\"type\":\"LinearAxis\"}],\"center\":[{\"id\":\"17311\",\"type\":\"Grid\"},{\"id\":\"17316\",\"type\":\"Grid\"},{\"id\":\"8763\",\"type\":\"BoxAnnotation\"},{\"id\":\"8764\",\"type\":\"BoxAnnotation\"},{\"id\":\"8765\",\"type\":\"BoxAnnotation\"},{\"id\":\"8766\",\"type\":\"BoxAnnotation\"},{\"id\":\"8767\",\"type\":\"BoxAnnotation\"},{\"id\":\"8768\",\"type\":\"BoxAnnotation\"},{\"id\":\"8769\",\"type\":\"BoxAnnotation\"},{\"id\":\"8770\",\"type\":\"BoxAnnotation\"},{\"id\":\"8771\",\"type\":\"BoxAnnotation\"},{\"id\":\"8772\",\"type\":\"BoxAnnotation\"},{\"id\":\"8773\",\"type\":\"BoxAnnotation\"},{\"id\":\"8774\",\"type\":\"BoxAnnotation\"}],\"left\":[{\"id\":\"17312\",\"type\":\"LinearAxis\"}],\"plot_width\":900,\"renderers\":[{\"id\":\"17335\",\"type\":\"GlyphRenderer\"}],\"title\":{\"id\":\"17297\",\"type\":\"Title\"},\"toolbar\":{\"id\":\"17324\",\"type\":\"Toolbar\"},\"x_range\":{\"id\":\"17299\",\"type\":\"DataRange1d\"},\"x_scale\":{\"id\":\"17303\",\"type\":\"LinearScale\"},\"y_range\":{\"id\":\"17301\",\"type\":\"DataRange1d\"},\"y_scale\":{\"id\":\"17305\",\"type\":\"LinearScale\"}},\"id\":\"17296\",\"subtype\":\"Figure\",\"type\":\"Plot\"},{\"attributes\":{\"use_scientific\":false},\"id\":\"17337\",\"type\":\"BasicTickFormatter\"},{\"attributes\":{\"callback\":null,\"tooltips\":[[\"Unemployment Rate: \",\"$y{0.0}\"]]},\"id\":\"17323\",\"type\":\"HoverTool\"},{\"attributes\":{\"fill_alpha\":{\"value\":0.5},\"fill_color\":{\"value\":\"blue\"},\"left\":2007,\"right\":2011},\"id\":\"8767\",\"type\":\"BoxAnnotation\"},{\"attributes\":{},\"id\":\"17317\",\"type\":\"PanTool\"},{\"attributes\":{\"fill_alpha\":{\"value\":0.5},\"fill_color\":{\"value\":\"#333333\"},\"left\":1981,\"right\":1982},\"id\":\"8771\",\"type\":\"BoxAnnotation\"},{\"attributes\":{},\"id\":\"17318\",\"type\":\"WheelZoomTool\"},{\"attributes\":{\"fill_alpha\":{\"value\":0.5},\"fill_color\":{\"value\":\"red\"},\"left\":1995,\"right\":2007},\"id\":\"8763\",\"type\":\"BoxAnnotation\"},{\"attributes\":{\"overlay\":{\"id\":\"18239\",\"type\":\"BoxAnnotation\"}},\"id\":\"17319\",\"type\":\"BoxZoomTool\"},{\"attributes\":{\"bottom_units\":\"screen\",\"fill_alpha\":{\"value\":0.5},\"fill_color\":{\"value\":\"lightgrey\"},\"left_units\":\"screen\",\"level\":\"overlay\",\"line_alpha\":{\"value\":1.0},\"line_color\":{\"value\":\"black\"},\"line_dash\":[4,4],\"line_width\":{\"value\":2},\"render_mode\":\"css\",\"right_units\":\"screen\",\"top_units\":\"screen\"},\"id\":\"18239\",\"type\":\"BoxAnnotation\"},{\"attributes\":{\"fill_alpha\":{\"value\":0.5},\"fill_color\":{\"value\":\"#333333\"},\"left\":2001.3,\"right\":2001.9},\"id\":\"8773\",\"type\":\"BoxAnnotation\"},{\"attributes\":{},\"id\":\"18237\",\"type\":\"BasicTickFormatter\"},{\"attributes\":{\"fill_alpha\":{\"value\":0.5},\"fill_color\":{\"value\":\"#333333\"},\"left\":2008,\"right\":2009.5},\"id\":\"8774\",\"type\":\"BoxAnnotation\"},{\"attributes\":{},\"id\":\"17320\",\"type\":\"SaveTool\"},{\"attributes\":{\"fill_alpha\":{\"value\":0.5},\"fill_color\":{\"value\":\"#800080\"},\"left\":2011,\"right\":2015},\"id\":\"8769\",\"type\":\"BoxAnnotation\"},{\"attributes\":{\"fill_alpha\":{\"value\":0.5},\"fill_color\":{\"value\":\"#333333\"},\"left\":1990,\"right\":1991},\"id\":\"8772\",\"type\":\"BoxAnnotation\"},{\"attributes\":{},\"id\":\"17321\",\"type\":\"ResetTool\"},{\"attributes\":{},\"id\":\"17303\",\"type\":\"LinearScale\"},{\"attributes\":{\"fill_alpha\":{\"value\":0.5},\"fill_color\":{\"value\":\"blue\"},\"left\":1970,\"right\":1981},\"id\":\"8765\",\"type\":\"BoxAnnotation\"},{\"attributes\":{\"callback\":null},\"id\":\"17301\",\"type\":\"DataRange1d\"},{\"attributes\":{\"callback\":null},\"id\":\"17299\",\"type\":\"DataRange1d\"},{\"attributes\":{\"line_alpha\":0.1,\"line_color\":\"#1f77b4\",\"line_width\":2,\"x\":{\"field\":\"x\"},\"y\":{\"field\":\"y\"}},\"id\":\"17334\",\"type\":\"Line\"},{\"attributes\":{\"fill_alpha\":{\"value\":0.5},\"fill_color\":{\"value\":\"#800080\"},\"left\":1981,\"right\":1987},\"id\":\"8768\",\"type\":\"BoxAnnotation\"},{\"attributes\":{},\"id\":\"17322\",\"type\":\"HelpTool\"},{\"attributes\":{},\"id\":\"17305\",\"type\":\"LinearScale\"},{\"attributes\":{\"axis_label\":\"Time\",\"formatter\":{\"id\":\"18237\",\"type\":\"BasicTickFormatter\"},\"ticker\":{\"id\":\"17308\",\"type\":\"BasicTicker\"}},\"id\":\"17307\",\"type\":\"LinearAxis\"},{\"attributes\":{\"dimension\":1,\"ticker\":{\"id\":\"17313\",\"type\":\"BasicTicker\"}},\"id\":\"17316\",\"type\":\"Grid\"},{\"attributes\":{\"active_drag\":\"auto\",\"active_inspect\":\"auto\",\"active_multi\":null,\"active_scroll\":\"auto\",\"active_tap\":\"auto\",\"tools\":[{\"id\":\"17317\",\"type\":\"PanTool\"},{\"id\":\"17318\",\"type\":\"WheelZoomTool\"},{\"id\":\"17319\",\"type\":\"BoxZoomTool\"},{\"id\":\"17320\",\"type\":\"SaveTool\"},{\"id\":\"17321\",\"type\":\"ResetTool\"},{\"id\":\"17322\",\"type\":\"HelpTool\"},{\"id\":\"17323\",\"type\":\"HoverTool\"}]},\"id\":\"17324\",\"type\":\"Toolbar\"},{\"attributes\":{},\"id\":\"17308\",\"type\":\"BasicTicker\"},{\"attributes\":{\"data_source\":{\"id\":\"17332\",\"type\":\"ColumnDataSource\"},\"glyph\":{\"id\":\"17333\",\"type\":\"Line\"},\"hover_glyph\":null,\"muted_glyph\":null,\"nonselection_glyph\":{\"id\":\"17334\",\"type\":\"Line\"},\"selection_glyph\":null,\"view\":{\"id\":\"17336\",\"type\":\"CDSView\"}},\"id\":\"17335\",\"type\":\"GlyphRenderer\"},{\"attributes\":{\"callback\":null,\"data\":{\"x\":[2008,2007,2006,2005,2004,2003,2002,2001,2000,1999,1998,1997,1996,1995,1994,1993,1992,1991,1990,1989,1988,1987,1986,1985,1984,1983,1982,1981,1980,1979,1978,1977,1976,1975,1974,1973,1972,1971,1970],\"y\":[4.8,5.8,5.5,4.8,5.5,8.3,7.6,6.9,6.0,5.8,7.0,7.5,9.5,9.6,7.5,7.2,7.0,6.2,5.5,5.3,5.6,6.8,7.5,6.9,6.1,5.6,5.4,4.9,4.5,4.2,4.0,4.8,5.8,6.0,5.5,5.1,4.6,4.6,5.8]},\"selected\":{\"id\":\"18241\",\"type\":\"Selection\"},\"selection_policy\":{\"id\":\"18240\",\"type\":\"UnionRenderers\"}},\"id\":\"17332\",\"type\":\"ColumnDataSource\"},{\"attributes\":{\"ticker\":{\"id\":\"17308\",\"type\":\"BasicTicker\"}},\"id\":\"17311\",\"type\":\"Grid\"},{\"attributes\":{\"fill_alpha\":{\"value\":0.5},\"fill_color\":{\"value\":\"red\"},\"left\":2015,\"right\":2019},\"id\":\"8764\",\"type\":\"BoxAnnotation\"},{\"attributes\":{},\"id\":\"18240\",\"type\":\"UnionRenderers\"},{\"attributes\":{},\"id\":\"17313\",\"type\":\"BasicTicker\"},{\"attributes\":{\"fill_alpha\":{\"value\":0.5},\"fill_color\":{\"value\":\"blue\"},\"left\":1987,\"right\":1995},\"id\":\"8766\",\"type\":\"BoxAnnotation\"},{\"attributes\":{\"text\":\"Unemployment Rate Over Time - Congress\"},\"id\":\"17297\",\"type\":\"Title\"},{\"attributes\":{\"axis_label\":\"Unemployment Rate \",\"formatter\":{\"id\":\"17337\",\"type\":\"BasicTickFormatter\"},\"ticker\":{\"id\":\"17313\",\"type\":\"BasicTicker\"}},\"id\":\"17312\",\"type\":\"LinearAxis\"},{\"attributes\":{\"source\":{\"id\":\"17332\",\"type\":\"ColumnDataSource\"}},\"id\":\"17336\",\"type\":\"CDSView\"},{\"attributes\":{},\"id\":\"18241\",\"type\":\"Selection\"},{\"attributes\":{\"fill_alpha\":{\"value\":0.5},\"fill_color\":{\"value\":\"#333333\"},\"left\":1973,\"right\":1975},\"id\":\"8770\",\"type\":\"BoxAnnotation\"},{\"attributes\":{\"line_color\":\"#1f77b4\",\"line_width\":2,\"x\":{\"field\":\"x\"},\"y\":{\"field\":\"y\"}},\"id\":\"17333\",\"type\":\"Line\"}],\"root_ids\":[\"17296\"]},\"title\":\"Bokeh Application\",\"version\":\"1.4.0\"}};\n",
       "  var render_items = [{\"docid\":\"50f29815-3c88-4675-a0f6-3c3c4d0cb15b\",\"roots\":{\"17296\":\"22b6213f-d553-46ff-b144-def80fcc587a\"}}];\n",
       "  root.Bokeh.embed.embed_items_notebook(docs_json, render_items);\n",
       "\n",
       "  }\n",
       "  if (root.Bokeh !== undefined) {\n",
       "    embed_document(root);\n",
       "  } else {\n",
       "    var attempts = 0;\n",
       "    var timer = setInterval(function(root) {\n",
       "      if (root.Bokeh !== undefined) {\n",
       "        clearInterval(timer);\n",
       "        embed_document(root);\n",
       "      } else {\n",
       "        attempts++;\n",
       "        if (attempts > 100) {\n",
       "          clearInterval(timer);\n",
       "          console.log(\"Bokeh: ERROR: Unable to run BokehJS code because BokehJS library is missing\");\n",
       "        }\n",
       "      }\n",
       "    }, 10, root)\n",
       "  }\n",
       "})(window);"
      ],
      "application/vnd.bokehjs_exec.v0+json": ""
     },
     "metadata": {
      "application/vnd.bokehjs_exec.v0+json": {
       "id": "17296"
      }
     },
     "output_type": "display_data"
    }
   ],
   "source": [
    "show(unemp_congress)"
   ]
  },
  {
   "cell_type": "code",
   "execution_count": 155,
   "metadata": {
    "slideshow": {
     "slide_type": "skip"
    }
   },
   "outputs": [],
   "source": [
    "unemp_redIndices = []\n",
    "unemp_blueIndices = []\n",
    "\n",
    "yr = 1970\n",
    "n = 0\n",
    "while(n < len(unemp_years)):\n",
    "    if((yr >= 1970 and yr <= 1977) or (yr >= 1981 and yr <= 1993) or (yr >= 2001 and yr <= 2009)):\n",
    "        unemp_redIndices.append(n)\n",
    "    else:\n",
    "        unemp_blueIndices.append(n)\n",
    "    n += 1\n",
    "    yr += 1\n",
    "\n",
    "unemp_red_sum = 0\n",
    "unemp_blue_sum = 0\n",
    "counter = 0\n",
    "\n",
    "for element in unemp_years:\n",
    "    if(counter in unemp_redIndices):\n",
    "        unemp_red_sum += data_list[4][unemp_years.index(element)]\n",
    "    if(counter in unemp_blueIndices):\n",
    "        unemp_blue_sum += data_list[4][unemp_years.index(element)]\n",
    "    counter += 1 \n",
    "\n",
    "unemp_red_avg = unemp_red_sum/len(unemp_redIndices)\n",
    "unemp_blue_avg = unemp_blue_sum/len(unemp_blueIndices)\n",
    "\n",
    "unemp_averages = [unemp_red_avg, unemp_blue_avg]\n",
    "unemp_source = ColumnDataSource(data=dict(parties=parties, unemp_averages=unemp_averages))\n",
    "\n",
    "unemp_bar = figure(x_range = parties, title='Average Unemployment Rate - Presidents', tooltips = tooltips)\n",
    "unemp_bar.vbar(x = 'parties', top = 'unemp_averages', width = 0.9, legend_field=\"parties\", source = unemp_source, fill_color=factor_cmap('parties', palette=color_palette, factors=parties))\n",
    "unemp_bar.left[0].formatter.use_scientific = False"
   ]
  },
  {
   "cell_type": "code",
   "execution_count": 156,
   "metadata": {
    "slideshow": {
     "slide_type": "skip"
    }
   },
   "outputs": [],
   "source": [
    "#Congress - Unemp\n",
    "red_unemp_growth_sum_congress = 0\n",
    "blue_unemp_growth_sum_congress = 0\n",
    "counter = 0\n",
    "for element in unemp_years:\n",
    "    if(counter in red_indices_congress):\n",
    "        red_unemp_growth_sum_congress += data_list[4][unemp_years.index(element)]\n",
    "    if(counter in blue_indices_congress):\n",
    "        blue_unemp_growth_sum_congress += data_list[4][unemp_years.index(element)]\n",
    "    counter += 1\n",
    "red_unemp_growth_avg_congress = red_unemp_growth_sum_congress/len(red_indices_congress)\n",
    "blue_unemp_growth_avg_congress = blue_unemp_growth_sum_congress/len(blue_indices_congress)\n",
    "unemp_averages_congress = [red_unemp_growth_avg_congress, blue_unemp_growth_avg_congress]\n",
    "unemp_source_congress = ColumnDataSource(data=dict(parties=parties, unemp_averages_congress=unemp_averages_congress))\n",
    "unemp_bar_congress = figure(x_range = parties, title='Average Unemployment Rate - Congress', tooltips = tooltips)\n",
    "unemp_bar_congress.vbar(x ='parties', top = 'unemp_averages_congress', width = 0.9, legend_field=\"parties\", source = unemp_source_congress, fill_color=factor_cmap('parties', palette=color_palette, factors=parties))\n",
    "unemp_bar_congress.legend.location=\"top_left\"\n",
    "unemp_bar_congress.left[0].formatter.use_scientific = False   "
   ]
  },
  {
   "cell_type": "markdown",
   "metadata": {
    "slideshow": {
     "slide_type": "subslide"
    }
   },
   "source": [
    "## 5.2: Unemployment Rate Averages - Bar"
   ]
  },
  {
   "cell_type": "code",
   "execution_count": 157,
   "metadata": {
    "slideshow": {
     "slide_type": "subslide"
    }
   },
   "outputs": [
    {
     "data": {
      "text/html": [
       "\n",
       "\n",
       "\n",
       "\n",
       "\n",
       "\n",
       "  <div class=\"bk-root\" id=\"d9565a1c-2688-401d-b9a0-395b5a12ba5f\" data-root-id=\"18291\"></div>\n"
      ]
     },
     "metadata": {},
     "output_type": "display_data"
    },
    {
     "data": {
      "application/javascript": [
       "(function(root) {\n",
       "  function embed_document(root) {\n",
       "    \n",
       "  var docs_json = {\"128be941-c36a-4a15-939a-03f7bc86882f\":{\"roots\":{\"references\":[{\"attributes\":{\"below\":[{\"id\":\"18302\",\"type\":\"CategoricalAxis\"}],\"center\":[{\"id\":\"18305\",\"type\":\"Grid\"},{\"id\":\"18310\",\"type\":\"Grid\"},{\"id\":\"18338\",\"type\":\"Legend\"}],\"left\":[{\"id\":\"18306\",\"type\":\"LinearAxis\"}],\"renderers\":[{\"id\":\"18330\",\"type\":\"GlyphRenderer\"}],\"title\":{\"id\":\"18292\",\"type\":\"Title\"},\"toolbar\":{\"id\":\"18318\",\"type\":\"Toolbar\"},\"x_range\":{\"id\":\"18294\",\"type\":\"FactorRange\"},\"x_scale\":{\"id\":\"18298\",\"type\":\"CategoricalScale\"},\"y_range\":{\"id\":\"18296\",\"type\":\"DataRange1d\"},\"y_scale\":{\"id\":\"18300\",\"type\":\"LinearScale\"}},\"id\":\"18291\",\"subtype\":\"Figure\",\"type\":\"Plot\"},{\"attributes\":{},\"id\":\"18316\",\"type\":\"HelpTool\"},{\"attributes\":{},\"id\":\"18830\",\"type\":\"UnionRenderers\"},{\"attributes\":{},\"id\":\"18831\",\"type\":\"Selection\"},{\"attributes\":{\"active_drag\":\"auto\",\"active_inspect\":\"auto\",\"active_multi\":null,\"active_scroll\":\"auto\",\"active_tap\":\"auto\",\"tools\":[{\"id\":\"18311\",\"type\":\"PanTool\"},{\"id\":\"18312\",\"type\":\"WheelZoomTool\"},{\"id\":\"18313\",\"type\":\"BoxZoomTool\"},{\"id\":\"18314\",\"type\":\"SaveTool\"},{\"id\":\"18315\",\"type\":\"ResetTool\"},{\"id\":\"18316\",\"type\":\"HelpTool\"},{\"id\":\"18317\",\"type\":\"HoverTool\"}]},\"id\":\"18318\",\"type\":\"Toolbar\"},{\"attributes\":{\"formatter\":{\"id\":\"18335\",\"type\":\"CategoricalTickFormatter\"},\"ticker\":{\"id\":\"18303\",\"type\":\"CategoricalTicker\"}},\"id\":\"18302\",\"type\":\"CategoricalAxis\"},{\"attributes\":{},\"id\":\"18307\",\"type\":\"BasicTicker\"},{\"attributes\":{},\"id\":\"18303\",\"type\":\"CategoricalTicker\"},{\"attributes\":{\"source\":{\"id\":\"18290\",\"type\":\"ColumnDataSource\"}},\"id\":\"18331\",\"type\":\"CDSView\"},{\"attributes\":{\"ticker\":{\"id\":\"18303\",\"type\":\"CategoricalTicker\"}},\"id\":\"18305\",\"type\":\"Grid\"},{\"attributes\":{\"use_scientific\":false},\"id\":\"18333\",\"type\":\"BasicTickFormatter\"},{\"attributes\":{\"data_source\":{\"id\":\"18290\",\"type\":\"ColumnDataSource\"},\"glyph\":{\"id\":\"18328\",\"type\":\"VBar\"},\"hover_glyph\":null,\"muted_glyph\":null,\"nonselection_glyph\":{\"id\":\"18329\",\"type\":\"VBar\"},\"selection_glyph\":null,\"view\":{\"id\":\"18331\",\"type\":\"CDSView\"}},\"id\":\"18330\",\"type\":\"GlyphRenderer\"},{\"attributes\":{\"dimension\":1,\"ticker\":{\"id\":\"18307\",\"type\":\"BasicTicker\"}},\"id\":\"18310\",\"type\":\"Grid\"},{\"attributes\":{\"callback\":null,\"factors\":[\"Republican\",\"Democrat\"]},\"id\":\"18294\",\"type\":\"FactorRange\"},{\"attributes\":{\"formatter\":{\"id\":\"18333\",\"type\":\"BasicTickFormatter\"},\"ticker\":{\"id\":\"18307\",\"type\":\"BasicTicker\"}},\"id\":\"18306\",\"type\":\"LinearAxis\"},{\"attributes\":{\"items\":[{\"id\":\"18339\",\"type\":\"LegendItem\"}]},\"id\":\"18338\",\"type\":\"Legend\"},{\"attributes\":{\"label\":{\"field\":\"parties\"},\"renderers\":[{\"id\":\"18330\",\"type\":\"GlyphRenderer\"}]},\"id\":\"18339\",\"type\":\"LegendItem\"},{\"attributes\":{},\"id\":\"18335\",\"type\":\"CategoricalTickFormatter\"},{\"attributes\":{\"callback\":null,\"data\":{\"parties\":[\"Republican\",\"Democrat\"],\"unemp_averages\":[6.327586206896552,5.35]},\"selected\":{\"id\":\"18831\",\"type\":\"Selection\"},\"selection_policy\":{\"id\":\"18830\",\"type\":\"UnionRenderers\"}},\"id\":\"18290\",\"type\":\"ColumnDataSource\"},{\"attributes\":{\"bottom_units\":\"screen\",\"fill_alpha\":{\"value\":0.5},\"fill_color\":{\"value\":\"lightgrey\"},\"left_units\":\"screen\",\"level\":\"overlay\",\"line_alpha\":{\"value\":1.0},\"line_color\":{\"value\":\"black\"},\"line_dash\":[4,4],\"line_width\":{\"value\":2},\"render_mode\":\"css\",\"right_units\":\"screen\",\"top_units\":\"screen\"},\"id\":\"18337\",\"type\":\"BoxAnnotation\"},{\"attributes\":{\"factors\":[\"Republican\",\"Democrat\"],\"palette\":[\"#C81602\",\"#000E8A\"]},\"id\":\"18326\",\"type\":\"CategoricalColorMapper\"},{\"attributes\":{\"callback\":null,\"tooltips\":[[\"Value: \",\"$y{0.0}%\"]]},\"id\":\"18317\",\"type\":\"HoverTool\"},{\"attributes\":{\"fill_color\":{\"field\":\"parties\",\"transform\":{\"id\":\"18326\",\"type\":\"CategoricalColorMapper\"}},\"line_color\":{\"value\":\"#1f77b4\"},\"top\":{\"field\":\"unemp_averages\"},\"width\":{\"value\":0.9},\"x\":{\"field\":\"parties\"}},\"id\":\"18328\",\"type\":\"VBar\"},{\"attributes\":{},\"id\":\"18311\",\"type\":\"PanTool\"},{\"attributes\":{},\"id\":\"18312\",\"type\":\"WheelZoomTool\"},{\"attributes\":{\"text\":\"Average Unemployment Rate - Presidents\"},\"id\":\"18292\",\"type\":\"Title\"},{\"attributes\":{\"overlay\":{\"id\":\"18337\",\"type\":\"BoxAnnotation\"}},\"id\":\"18313\",\"type\":\"BoxZoomTool\"},{\"attributes\":{\"callback\":null},\"id\":\"18296\",\"type\":\"DataRange1d\"},{\"attributes\":{},\"id\":\"18314\",\"type\":\"SaveTool\"},{\"attributes\":{},\"id\":\"18300\",\"type\":\"LinearScale\"},{\"attributes\":{},\"id\":\"18315\",\"type\":\"ResetTool\"},{\"attributes\":{},\"id\":\"18298\",\"type\":\"CategoricalScale\"},{\"attributes\":{\"fill_alpha\":{\"value\":0.1},\"fill_color\":{\"value\":\"#1f77b4\"},\"line_alpha\":{\"value\":0.1},\"line_color\":{\"value\":\"#1f77b4\"},\"top\":{\"field\":\"unemp_averages\"},\"width\":{\"value\":0.9},\"x\":{\"field\":\"parties\"}},\"id\":\"18329\",\"type\":\"VBar\"}],\"root_ids\":[\"18291\"]},\"title\":\"Bokeh Application\",\"version\":\"1.4.0\"}};\n",
       "  var render_items = [{\"docid\":\"128be941-c36a-4a15-939a-03f7bc86882f\",\"roots\":{\"18291\":\"d9565a1c-2688-401d-b9a0-395b5a12ba5f\"}}];\n",
       "  root.Bokeh.embed.embed_items_notebook(docs_json, render_items);\n",
       "\n",
       "  }\n",
       "  if (root.Bokeh !== undefined) {\n",
       "    embed_document(root);\n",
       "  } else {\n",
       "    var attempts = 0;\n",
       "    var timer = setInterval(function(root) {\n",
       "      if (root.Bokeh !== undefined) {\n",
       "        clearInterval(timer);\n",
       "        embed_document(root);\n",
       "      } else {\n",
       "        attempts++;\n",
       "        if (attempts > 100) {\n",
       "          clearInterval(timer);\n",
       "          console.log(\"Bokeh: ERROR: Unable to run BokehJS code because BokehJS library is missing\");\n",
       "        }\n",
       "      }\n",
       "    }, 10, root)\n",
       "  }\n",
       "})(window);"
      ],
      "application/vnd.bokehjs_exec.v0+json": ""
     },
     "metadata": {
      "application/vnd.bokehjs_exec.v0+json": {
       "id": "18291"
      }
     },
     "output_type": "display_data"
    }
   ],
   "source": [
    "show(unemp_bar)"
   ]
  },
  {
   "cell_type": "code",
   "execution_count": 158,
   "metadata": {
    "slideshow": {
     "slide_type": "subslide"
    }
   },
   "outputs": [
    {
     "data": {
      "text/html": [
       "\n",
       "\n",
       "\n",
       "\n",
       "\n",
       "\n",
       "  <div class=\"bk-root\" id=\"2eed700c-28a8-4aa7-9f15-e1ab489943c1\" data-root-id=\"18342\"></div>\n"
      ]
     },
     "metadata": {},
     "output_type": "display_data"
    },
    {
     "data": {
      "application/javascript": [
       "(function(root) {\n",
       "  function embed_document(root) {\n",
       "    \n",
       "  var docs_json = {\"52558de4-68c4-44f8-954c-6a2f0c345e61\":{\"roots\":{\"references\":[{\"attributes\":{\"below\":[{\"id\":\"18353\",\"type\":\"CategoricalAxis\"}],\"center\":[{\"id\":\"18356\",\"type\":\"Grid\"},{\"id\":\"18361\",\"type\":\"Grid\"},{\"id\":\"18389\",\"type\":\"Legend\"}],\"left\":[{\"id\":\"18357\",\"type\":\"LinearAxis\"}],\"renderers\":[{\"id\":\"18381\",\"type\":\"GlyphRenderer\"}],\"title\":{\"id\":\"18343\",\"type\":\"Title\"},\"toolbar\":{\"id\":\"18369\",\"type\":\"Toolbar\"},\"x_range\":{\"id\":\"18345\",\"type\":\"FactorRange\"},\"x_scale\":{\"id\":\"18349\",\"type\":\"CategoricalScale\"},\"y_range\":{\"id\":\"18347\",\"type\":\"DataRange1d\"},\"y_scale\":{\"id\":\"18351\",\"type\":\"LinearScale\"}},\"id\":\"18342\",\"subtype\":\"Figure\",\"type\":\"Plot\"},{\"attributes\":{\"fill_color\":{\"field\":\"parties\",\"transform\":{\"id\":\"18377\",\"type\":\"CategoricalColorMapper\"}},\"line_color\":{\"value\":\"#1f77b4\"},\"top\":{\"field\":\"unemp_averages_congress\"},\"width\":{\"value\":0.9},\"x\":{\"field\":\"parties\"}},\"id\":\"18379\",\"type\":\"VBar\"},{\"attributes\":{\"callback\":null,\"data\":{\"parties\":[\"Republican\",\"Democrat\"],\"unemp_averages_congress\":[3.4250000000000003,5.438461538461539]},\"selected\":{\"id\":\"19327\",\"type\":\"Selection\"},\"selection_policy\":{\"id\":\"19326\",\"type\":\"UnionRenderers\"}},\"id\":\"18341\",\"type\":\"ColumnDataSource\"},{\"attributes\":{\"callback\":null,\"tooltips\":[[\"Value: \",\"$y{0.0}%\"]]},\"id\":\"18368\",\"type\":\"HoverTool\"},{\"attributes\":{},\"id\":\"18362\",\"type\":\"PanTool\"},{\"attributes\":{\"factors\":[\"Republican\",\"Democrat\"],\"palette\":[\"#C81602\",\"#000E8A\"]},\"id\":\"18377\",\"type\":\"CategoricalColorMapper\"},{\"attributes\":{\"callback\":null,\"factors\":[\"Republican\",\"Democrat\"]},\"id\":\"18345\",\"type\":\"FactorRange\"},{\"attributes\":{\"label\":{\"field\":\"parties\"},\"renderers\":[{\"id\":\"18381\",\"type\":\"GlyphRenderer\"}]},\"id\":\"18390\",\"type\":\"LegendItem\"},{\"attributes\":{},\"id\":\"18363\",\"type\":\"WheelZoomTool\"},{\"attributes\":{\"fill_alpha\":{\"value\":0.1},\"fill_color\":{\"value\":\"#1f77b4\"},\"line_alpha\":{\"value\":0.1},\"line_color\":{\"value\":\"#1f77b4\"},\"top\":{\"field\":\"unemp_averages_congress\"},\"width\":{\"value\":0.9},\"x\":{\"field\":\"parties\"}},\"id\":\"18380\",\"type\":\"VBar\"},{\"attributes\":{\"text\":\"Average Unemployment Rate - Congress\"},\"id\":\"18343\",\"type\":\"Title\"},{\"attributes\":{\"overlay\":{\"id\":\"18388\",\"type\":\"BoxAnnotation\"}},\"id\":\"18364\",\"type\":\"BoxZoomTool\"},{\"attributes\":{\"bottom_units\":\"screen\",\"fill_alpha\":{\"value\":0.5},\"fill_color\":{\"value\":\"lightgrey\"},\"left_units\":\"screen\",\"level\":\"overlay\",\"line_alpha\":{\"value\":1.0},\"line_color\":{\"value\":\"black\"},\"line_dash\":[4,4],\"line_width\":{\"value\":2},\"render_mode\":\"css\",\"right_units\":\"screen\",\"top_units\":\"screen\"},\"id\":\"18388\",\"type\":\"BoxAnnotation\"},{\"attributes\":{},\"id\":\"19326\",\"type\":\"UnionRenderers\"},{\"attributes\":{},\"id\":\"18365\",\"type\":\"SaveTool\"},{\"attributes\":{\"items\":[{\"id\":\"18390\",\"type\":\"LegendItem\"}],\"location\":\"top_left\"},\"id\":\"18389\",\"type\":\"Legend\"},{\"attributes\":{},\"id\":\"18366\",\"type\":\"ResetTool\"},{\"attributes\":{\"callback\":null},\"id\":\"18347\",\"type\":\"DataRange1d\"},{\"attributes\":{},\"id\":\"18349\",\"type\":\"CategoricalScale\"},{\"attributes\":{},\"id\":\"18367\",\"type\":\"HelpTool\"},{\"attributes\":{},\"id\":\"18351\",\"type\":\"LinearScale\"},{\"attributes\":{\"active_drag\":\"auto\",\"active_inspect\":\"auto\",\"active_multi\":null,\"active_scroll\":\"auto\",\"active_tap\":\"auto\",\"tools\":[{\"id\":\"18362\",\"type\":\"PanTool\"},{\"id\":\"18363\",\"type\":\"WheelZoomTool\"},{\"id\":\"18364\",\"type\":\"BoxZoomTool\"},{\"id\":\"18365\",\"type\":\"SaveTool\"},{\"id\":\"18366\",\"type\":\"ResetTool\"},{\"id\":\"18367\",\"type\":\"HelpTool\"},{\"id\":\"18368\",\"type\":\"HoverTool\"}]},\"id\":\"18369\",\"type\":\"Toolbar\"},{\"attributes\":{\"formatter\":{\"id\":\"18386\",\"type\":\"CategoricalTickFormatter\"},\"ticker\":{\"id\":\"18354\",\"type\":\"CategoricalTicker\"}},\"id\":\"18353\",\"type\":\"CategoricalAxis\"},{\"attributes\":{},\"id\":\"18358\",\"type\":\"BasicTicker\"},{\"attributes\":{},\"id\":\"18354\",\"type\":\"CategoricalTicker\"},{\"attributes\":{\"source\":{\"id\":\"18341\",\"type\":\"ColumnDataSource\"}},\"id\":\"18382\",\"type\":\"CDSView\"},{\"attributes\":{\"ticker\":{\"id\":\"18354\",\"type\":\"CategoricalTicker\"}},\"id\":\"18356\",\"type\":\"Grid\"},{\"attributes\":{\"data_source\":{\"id\":\"18341\",\"type\":\"ColumnDataSource\"},\"glyph\":{\"id\":\"18379\",\"type\":\"VBar\"},\"hover_glyph\":null,\"muted_glyph\":null,\"nonselection_glyph\":{\"id\":\"18380\",\"type\":\"VBar\"},\"selection_glyph\":null,\"view\":{\"id\":\"18382\",\"type\":\"CDSView\"}},\"id\":\"18381\",\"type\":\"GlyphRenderer\"},{\"attributes\":{\"dimension\":1,\"ticker\":{\"id\":\"18358\",\"type\":\"BasicTicker\"}},\"id\":\"18361\",\"type\":\"Grid\"},{\"attributes\":{\"formatter\":{\"id\":\"18384\",\"type\":\"BasicTickFormatter\"},\"ticker\":{\"id\":\"18358\",\"type\":\"BasicTicker\"}},\"id\":\"18357\",\"type\":\"LinearAxis\"},{\"attributes\":{\"use_scientific\":false},\"id\":\"18384\",\"type\":\"BasicTickFormatter\"},{\"attributes\":{},\"id\":\"18386\",\"type\":\"CategoricalTickFormatter\"},{\"attributes\":{},\"id\":\"19327\",\"type\":\"Selection\"}],\"root_ids\":[\"18342\"]},\"title\":\"Bokeh Application\",\"version\":\"1.4.0\"}};\n",
       "  var render_items = [{\"docid\":\"52558de4-68c4-44f8-954c-6a2f0c345e61\",\"roots\":{\"18342\":\"2eed700c-28a8-4aa7-9f15-e1ab489943c1\"}}];\n",
       "  root.Bokeh.embed.embed_items_notebook(docs_json, render_items);\n",
       "\n",
       "  }\n",
       "  if (root.Bokeh !== undefined) {\n",
       "    embed_document(root);\n",
       "  } else {\n",
       "    var attempts = 0;\n",
       "    var timer = setInterval(function(root) {\n",
       "      if (root.Bokeh !== undefined) {\n",
       "        clearInterval(timer);\n",
       "        embed_document(root);\n",
       "      } else {\n",
       "        attempts++;\n",
       "        if (attempts > 100) {\n",
       "          clearInterval(timer);\n",
       "          console.log(\"Bokeh: ERROR: Unable to run BokehJS code because BokehJS library is missing\");\n",
       "        }\n",
       "      }\n",
       "    }, 10, root)\n",
       "  }\n",
       "})(window);"
      ],
      "application/vnd.bokehjs_exec.v0+json": ""
     },
     "metadata": {
      "application/vnd.bokehjs_exec.v0+json": {
       "id": "18342"
      }
     },
     "output_type": "display_data"
    }
   ],
   "source": [
    "show(unemp_bar_congress)"
   ]
  },
  {
   "cell_type": "code",
   "execution_count": 159,
   "metadata": {
    "slideshow": {
     "slide_type": "skip"
    }
   },
   "outputs": [],
   "source": [
    "interest_link = requests.get(interest)\n",
    "\n",
    "interest_jsonDict = (interest_link.json())\n",
    "\n",
    "interest_jsonDict = interest_jsonDict['dataset']\n",
    "\n",
    "interest_list = []\n",
    "for element in interest_jsonDict['data']:\n",
    "    interest_list.append(element[1])\n",
    "interest_list.reverse()\n",
    "\n",
    "interest_years = [2009]\n",
    "i = 2008\n",
    "while (i >= 1970):\n",
    "    interest_years.append(i)\n",
    "    i += -1\n",
    "interest_years.reverse()"
   ]
  },
  {
   "cell_type": "code",
   "execution_count": 160,
   "metadata": {
    "slideshow": {
     "slide_type": "skip"
    }
   },
   "outputs": [],
   "source": [
    "interest_tool = [(\"Interest Rate: \", \"$y\")]\n",
    "\n",
    "interest_plot = figure(title=\"Treasury Bill Interest Rate - Presidents\", x_axis_label=\"Time\", y_axis_label=\"Treasury Bill Interest Rate \", plot_width=900, tooltips=interest_tool)\n",
    "interest_plot.line(interest_years, interest_list, line_width=2)\n",
    "\n",
    "interest_boxList = boxList.copy()\n",
    "del interest_boxList[6]\n",
    "del interest_boxList[3]\n",
    "\n",
    "for box in interest_boxList:\n",
    "    interest_plot.add_layout(box)\n",
    "\n",
    "interest_plot.left[0].formatter.use_scientific = False"
   ]
  },
  {
   "cell_type": "code",
   "execution_count": 161,
   "metadata": {
    "slideshow": {
     "slide_type": "skip"
    }
   },
   "outputs": [],
   "source": [
    "interest_congress = figure(title=\"Treasury Bill Interest Rate - Congress\", x_axis_label=\"Time\", y_axis_label=\"Treasury Bill Interest Rate \", plot_width=900, tooltips=interest_tool)\n",
    "interest_congress.line(interest_years, interest_list, line_width=2)\n",
    "\n",
    "for box in congress_boxList:\n",
    "    interest_congress.add_layout(box)\n",
    "    \n",
    "interest_congress.left[0].formatter.use_scientific = False"
   ]
  },
  {
   "cell_type": "markdown",
   "metadata": {
    "slideshow": {
     "slide_type": "slide"
    }
   },
   "source": [
    "## 6.  Treasury Bill Interest Rates"
   ]
  },
  {
   "cell_type": "markdown",
   "metadata": {
    "slideshow": {
     "slide_type": "subslide"
    }
   },
   "source": [
    "## 6.1: Treasury Bill Interest Rate Over Time - Line"
   ]
  },
  {
   "cell_type": "code",
   "execution_count": 162,
   "metadata": {
    "slideshow": {
     "slide_type": "subslide"
    }
   },
   "outputs": [
    {
     "data": {
      "text/html": [
       "\n",
       "\n",
       "\n",
       "\n",
       "\n",
       "\n",
       "  <div class=\"bk-root\" id=\"f25e13cd-06c2-4742-aed5-251198fcbf85\" data-root-id=\"19376\"></div>\n"
      ]
     },
     "metadata": {},
     "output_type": "display_data"
    },
    {
     "data": {
      "application/javascript": [
       "(function(root) {\n",
       "  function embed_document(root) {\n",
       "    \n",
       "  var docs_json = {\"32186dfd-4952-449f-8ec9-0526fc45185d\":{\"roots\":{\"references\":[{\"attributes\":{\"below\":[{\"id\":\"19387\",\"type\":\"LinearAxis\"}],\"center\":[{\"id\":\"19391\",\"type\":\"Grid\"},{\"id\":\"19396\",\"type\":\"Grid\"},{\"id\":\"8756\",\"type\":\"BoxAnnotation\"},{\"id\":\"8757\",\"type\":\"BoxAnnotation\"},{\"id\":\"8758\",\"type\":\"BoxAnnotation\"},{\"id\":\"8760\",\"type\":\"BoxAnnotation\"},{\"id\":\"8761\",\"type\":\"BoxAnnotation\"},{\"id\":\"8770\",\"type\":\"BoxAnnotation\"},{\"id\":\"8771\",\"type\":\"BoxAnnotation\"},{\"id\":\"8772\",\"type\":\"BoxAnnotation\"},{\"id\":\"8773\",\"type\":\"BoxAnnotation\"},{\"id\":\"8774\",\"type\":\"BoxAnnotation\"}],\"left\":[{\"id\":\"19392\",\"type\":\"LinearAxis\"}],\"plot_width\":900,\"renderers\":[{\"id\":\"19415\",\"type\":\"GlyphRenderer\"}],\"title\":{\"id\":\"19377\",\"type\":\"Title\"},\"toolbar\":{\"id\":\"19404\",\"type\":\"Toolbar\"},\"x_range\":{\"id\":\"19379\",\"type\":\"DataRange1d\"},\"x_scale\":{\"id\":\"19383\",\"type\":\"LinearScale\"},\"y_range\":{\"id\":\"19381\",\"type\":\"DataRange1d\"},\"y_scale\":{\"id\":\"19385\",\"type\":\"LinearScale\"}},\"id\":\"19376\",\"subtype\":\"Figure\",\"type\":\"Plot\"},{\"attributes\":{\"fill_alpha\":{\"value\":0.5},\"fill_color\":{\"value\":\"red\"},\"left\":2001,\"right\":2009},\"id\":\"8758\",\"type\":\"BoxAnnotation\"},{\"attributes\":{},\"id\":\"19401\",\"type\":\"ResetTool\"},{\"attributes\":{},\"id\":\"19914\",\"type\":\"UnionRenderers\"},{\"attributes\":{\"line_color\":\"#1f77b4\",\"line_width\":2,\"x\":{\"field\":\"x\"},\"y\":{\"field\":\"y\"}},\"id\":\"19413\",\"type\":\"Line\"},{\"attributes\":{\"fill_alpha\":{\"value\":0.5},\"fill_color\":{\"value\":\"red\"},\"left\":1970,\"right\":1977},\"id\":\"8756\",\"type\":\"BoxAnnotation\"},{\"attributes\":{\"fill_alpha\":{\"value\":0.5},\"fill_color\":{\"value\":\"#333333\"},\"left\":1981,\"right\":1982},\"id\":\"8771\",\"type\":\"BoxAnnotation\"},{\"attributes\":{\"data_source\":{\"id\":\"19412\",\"type\":\"ColumnDataSource\"},\"glyph\":{\"id\":\"19413\",\"type\":\"Line\"},\"hover_glyph\":null,\"muted_glyph\":null,\"nonselection_glyph\":{\"id\":\"19414\",\"type\":\"Line\"},\"selection_glyph\":null,\"view\":{\"id\":\"19416\",\"type\":\"CDSView\"}},\"id\":\"19415\",\"type\":\"GlyphRenderer\"},{\"attributes\":{},\"id\":\"19393\",\"type\":\"BasicTicker\"},{\"attributes\":{},\"id\":\"19915\",\"type\":\"Selection\"},{\"attributes\":{\"ticker\":{\"id\":\"19388\",\"type\":\"BasicTicker\"}},\"id\":\"19391\",\"type\":\"Grid\"},{\"attributes\":{\"fill_alpha\":{\"value\":0.5},\"fill_color\":{\"value\":\"#333333\"},\"left\":2001.3,\"right\":2001.9},\"id\":\"8773\",\"type\":\"BoxAnnotation\"},{\"attributes\":{\"fill_alpha\":{\"value\":0.5},\"fill_color\":{\"value\":\"#333333\"},\"left\":2008,\"right\":2009.5},\"id\":\"8774\",\"type\":\"BoxAnnotation\"},{\"attributes\":{},\"id\":\"19397\",\"type\":\"PanTool\"},{\"attributes\":{\"text\":\"Treasury Bill Interest Rate - Presidents\"},\"id\":\"19377\",\"type\":\"Title\"},{\"attributes\":{\"fill_alpha\":{\"value\":0.5},\"fill_color\":{\"value\":\"blue\"},\"left\":1993,\"right\":2001},\"id\":\"8761\",\"type\":\"BoxAnnotation\"},{\"attributes\":{\"use_scientific\":false},\"id\":\"19417\",\"type\":\"BasicTickFormatter\"},{\"attributes\":{\"fill_alpha\":{\"value\":0.5},\"fill_color\":{\"value\":\"#333333\"},\"left\":1990,\"right\":1991},\"id\":\"8772\",\"type\":\"BoxAnnotation\"},{\"attributes\":{\"callback\":null,\"data\":{\"x\":[1970,1971,1972,1973,1974,1975,1976,1977,1978,1979,1980,1981,1982,1983,1984,1985,1986,1987,1988,1989,1990,1991,1992,1993,1994,1995,1996,1997,1998,1999,2000,2001,2002,2003,2004,2005,2006,2007,2008,2009],\"y\":[6.43667,4.34,4.06917,7.02667,7.875,5.825,4.99917,5.26417,7.22333,10.0425,11.615,14.0775,10.725,8.62,9.57333,7.48917,5.9725,5.82583,6.67167,8.11417,7.51,5.40917,3.46,3.01917,4.27,5.51333,5.02417,5.07,4.81917,4.6575,5.83917,3.45167,1.6125,1.01333,1.37333,3.15167,4.72167,4.41,1.46,0.16]},\"selected\":{\"id\":\"19915\",\"type\":\"Selection\"},\"selection_policy\":{\"id\":\"19914\",\"type\":\"UnionRenderers\"}},\"id\":\"19412\",\"type\":\"ColumnDataSource\"},{\"attributes\":{},\"id\":\"19385\",\"type\":\"LinearScale\"},{\"attributes\":{\"axis_label\":\"Treasury Bill Interest Rate \",\"formatter\":{\"id\":\"19417\",\"type\":\"BasicTickFormatter\"},\"ticker\":{\"id\":\"19393\",\"type\":\"BasicTicker\"}},\"id\":\"19392\",\"type\":\"LinearAxis\"},{\"attributes\":{\"axis_label\":\"Time\",\"formatter\":{\"id\":\"19911\",\"type\":\"BasicTickFormatter\"},\"ticker\":{\"id\":\"19388\",\"type\":\"BasicTicker\"}},\"id\":\"19387\",\"type\":\"LinearAxis\"},{\"attributes\":{\"source\":{\"id\":\"19412\",\"type\":\"ColumnDataSource\"}},\"id\":\"19416\",\"type\":\"CDSView\"},{\"attributes\":{},\"id\":\"19400\",\"type\":\"SaveTool\"},{\"attributes\":{\"callback\":null,\"tooltips\":[[\"Interest Rate: \",\"$y\"]]},\"id\":\"19403\",\"type\":\"HoverTool\"},{\"attributes\":{},\"id\":\"19388\",\"type\":\"BasicTicker\"},{\"attributes\":{\"active_drag\":\"auto\",\"active_inspect\":\"auto\",\"active_multi\":null,\"active_scroll\":\"auto\",\"active_tap\":\"auto\",\"tools\":[{\"id\":\"19397\",\"type\":\"PanTool\"},{\"id\":\"19398\",\"type\":\"WheelZoomTool\"},{\"id\":\"19399\",\"type\":\"BoxZoomTool\"},{\"id\":\"19400\",\"type\":\"SaveTool\"},{\"id\":\"19401\",\"type\":\"ResetTool\"},{\"id\":\"19402\",\"type\":\"HelpTool\"},{\"id\":\"19403\",\"type\":\"HoverTool\"}]},\"id\":\"19404\",\"type\":\"Toolbar\"},{\"attributes\":{\"overlay\":{\"id\":\"19913\",\"type\":\"BoxAnnotation\"}},\"id\":\"19399\",\"type\":\"BoxZoomTool\"},{\"attributes\":{\"callback\":null},\"id\":\"19379\",\"type\":\"DataRange1d\"},{\"attributes\":{\"fill_alpha\":{\"value\":0.5},\"fill_color\":{\"value\":\"red\"},\"left\":1981,\"right\":1993},\"id\":\"8757\",\"type\":\"BoxAnnotation\"},{\"attributes\":{\"line_alpha\":0.1,\"line_color\":\"#1f77b4\",\"line_width\":2,\"x\":{\"field\":\"x\"},\"y\":{\"field\":\"y\"}},\"id\":\"19414\",\"type\":\"Line\"},{\"attributes\":{\"bottom_units\":\"screen\",\"fill_alpha\":{\"value\":0.5},\"fill_color\":{\"value\":\"lightgrey\"},\"left_units\":\"screen\",\"level\":\"overlay\",\"line_alpha\":{\"value\":1.0},\"line_color\":{\"value\":\"black\"},\"line_dash\":[4,4],\"line_width\":{\"value\":2},\"render_mode\":\"css\",\"right_units\":\"screen\",\"top_units\":\"screen\"},\"id\":\"19913\",\"type\":\"BoxAnnotation\"},{\"attributes\":{\"fill_alpha\":{\"value\":0.5},\"fill_color\":{\"value\":\"blue\"},\"left\":1977,\"right\":1981},\"id\":\"8760\",\"type\":\"BoxAnnotation\"},{\"attributes\":{},\"id\":\"19383\",\"type\":\"LinearScale\"},{\"attributes\":{},\"id\":\"19398\",\"type\":\"WheelZoomTool\"},{\"attributes\":{\"callback\":null},\"id\":\"19381\",\"type\":\"DataRange1d\"},{\"attributes\":{},\"id\":\"19911\",\"type\":\"BasicTickFormatter\"},{\"attributes\":{\"dimension\":1,\"ticker\":{\"id\":\"19393\",\"type\":\"BasicTicker\"}},\"id\":\"19396\",\"type\":\"Grid\"},{\"attributes\":{\"fill_alpha\":{\"value\":0.5},\"fill_color\":{\"value\":\"#333333\"},\"left\":1973,\"right\":1975},\"id\":\"8770\",\"type\":\"BoxAnnotation\"},{\"attributes\":{},\"id\":\"19402\",\"type\":\"HelpTool\"}],\"root_ids\":[\"19376\"]},\"title\":\"Bokeh Application\",\"version\":\"1.4.0\"}};\n",
       "  var render_items = [{\"docid\":\"32186dfd-4952-449f-8ec9-0526fc45185d\",\"roots\":{\"19376\":\"f25e13cd-06c2-4742-aed5-251198fcbf85\"}}];\n",
       "  root.Bokeh.embed.embed_items_notebook(docs_json, render_items);\n",
       "\n",
       "  }\n",
       "  if (root.Bokeh !== undefined) {\n",
       "    embed_document(root);\n",
       "  } else {\n",
       "    var attempts = 0;\n",
       "    var timer = setInterval(function(root) {\n",
       "      if (root.Bokeh !== undefined) {\n",
       "        clearInterval(timer);\n",
       "        embed_document(root);\n",
       "      } else {\n",
       "        attempts++;\n",
       "        if (attempts > 100) {\n",
       "          clearInterval(timer);\n",
       "          console.log(\"Bokeh: ERROR: Unable to run BokehJS code because BokehJS library is missing\");\n",
       "        }\n",
       "      }\n",
       "    }, 10, root)\n",
       "  }\n",
       "})(window);"
      ],
      "application/vnd.bokehjs_exec.v0+json": ""
     },
     "metadata": {
      "application/vnd.bokehjs_exec.v0+json": {
       "id": "19376"
      }
     },
     "output_type": "display_data"
    }
   ],
   "source": [
    "show(interest_plot)"
   ]
  },
  {
   "cell_type": "code",
   "execution_count": 163,
   "metadata": {
    "slideshow": {
     "slide_type": "subslide"
    }
   },
   "outputs": [
    {
     "data": {
      "text/html": [
       "\n",
       "\n",
       "\n",
       "\n",
       "\n",
       "\n",
       "  <div class=\"bk-root\" id=\"9a3de844-4198-43f1-8942-3765752c54ef\" data-root-id=\"19418\"></div>\n"
      ]
     },
     "metadata": {},
     "output_type": "display_data"
    },
    {
     "data": {
      "application/javascript": [
       "(function(root) {\n",
       "  function embed_document(root) {\n",
       "    \n",
       "  var docs_json = {\"735d3375-a20c-4599-84e8-d70cb7f55294\":{\"roots\":{\"references\":[{\"attributes\":{\"below\":[{\"id\":\"19429\",\"type\":\"LinearAxis\"}],\"center\":[{\"id\":\"19433\",\"type\":\"Grid\"},{\"id\":\"19438\",\"type\":\"Grid\"},{\"id\":\"8763\",\"type\":\"BoxAnnotation\"},{\"id\":\"8764\",\"type\":\"BoxAnnotation\"},{\"id\":\"8765\",\"type\":\"BoxAnnotation\"},{\"id\":\"8766\",\"type\":\"BoxAnnotation\"},{\"id\":\"8767\",\"type\":\"BoxAnnotation\"},{\"id\":\"8768\",\"type\":\"BoxAnnotation\"},{\"id\":\"8769\",\"type\":\"BoxAnnotation\"},{\"id\":\"8770\",\"type\":\"BoxAnnotation\"},{\"id\":\"8771\",\"type\":\"BoxAnnotation\"},{\"id\":\"8772\",\"type\":\"BoxAnnotation\"},{\"id\":\"8773\",\"type\":\"BoxAnnotation\"},{\"id\":\"8774\",\"type\":\"BoxAnnotation\"}],\"left\":[{\"id\":\"19434\",\"type\":\"LinearAxis\"}],\"plot_width\":900,\"renderers\":[{\"id\":\"19457\",\"type\":\"GlyphRenderer\"}],\"title\":{\"id\":\"19419\",\"type\":\"Title\"},\"toolbar\":{\"id\":\"19446\",\"type\":\"Toolbar\"},\"x_range\":{\"id\":\"19421\",\"type\":\"DataRange1d\"},\"x_scale\":{\"id\":\"19425\",\"type\":\"LinearScale\"},\"y_range\":{\"id\":\"19423\",\"type\":\"DataRange1d\"},\"y_scale\":{\"id\":\"19427\",\"type\":\"LinearScale\"}},\"id\":\"19418\",\"subtype\":\"Figure\",\"type\":\"Plot\"},{\"attributes\":{\"callback\":null,\"data\":{\"x\":[1970,1971,1972,1973,1974,1975,1976,1977,1978,1979,1980,1981,1982,1983,1984,1985,1986,1987,1988,1989,1990,1991,1992,1993,1994,1995,1996,1997,1998,1999,2000,2001,2002,2003,2004,2005,2006,2007,2008,2009],\"y\":[6.43667,4.34,4.06917,7.02667,7.875,5.825,4.99917,5.26417,7.22333,10.0425,11.615,14.0775,10.725,8.62,9.57333,7.48917,5.9725,5.82583,6.67167,8.11417,7.51,5.40917,3.46,3.01917,4.27,5.51333,5.02417,5.07,4.81917,4.6575,5.83917,3.45167,1.6125,1.01333,1.37333,3.15167,4.72167,4.41,1.46,0.16]},\"selected\":{\"id\":\"20427\",\"type\":\"Selection\"},\"selection_policy\":{\"id\":\"20426\",\"type\":\"UnionRenderers\"}},\"id\":\"19454\",\"type\":\"ColumnDataSource\"},{\"attributes\":{\"dimension\":1,\"ticker\":{\"id\":\"19435\",\"type\":\"BasicTicker\"}},\"id\":\"19438\",\"type\":\"Grid\"},{\"attributes\":{\"overlay\":{\"id\":\"20425\",\"type\":\"BoxAnnotation\"}},\"id\":\"19441\",\"type\":\"BoxZoomTool\"},{\"attributes\":{},\"id\":\"19439\",\"type\":\"PanTool\"},{\"attributes\":{},\"id\":\"19430\",\"type\":\"BasicTicker\"},{\"attributes\":{\"ticker\":{\"id\":\"19430\",\"type\":\"BasicTicker\"}},\"id\":\"19433\",\"type\":\"Grid\"},{\"attributes\":{},\"id\":\"19440\",\"type\":\"WheelZoomTool\"},{\"attributes\":{},\"id\":\"20423\",\"type\":\"BasicTickFormatter\"},{\"attributes\":{\"fill_alpha\":{\"value\":0.5},\"fill_color\":{\"value\":\"blue\"},\"left\":2007,\"right\":2011},\"id\":\"8767\",\"type\":\"BoxAnnotation\"},{\"attributes\":{},\"id\":\"19435\",\"type\":\"BasicTicker\"},{\"attributes\":{},\"id\":\"19442\",\"type\":\"SaveTool\"},{\"attributes\":{\"line_alpha\":0.1,\"line_color\":\"#1f77b4\",\"line_width\":2,\"x\":{\"field\":\"x\"},\"y\":{\"field\":\"y\"}},\"id\":\"19456\",\"type\":\"Line\"},{\"attributes\":{},\"id\":\"19427\",\"type\":\"LinearScale\"},{\"attributes\":{\"fill_alpha\":{\"value\":0.5},\"fill_color\":{\"value\":\"#333333\"},\"left\":1981,\"right\":1982},\"id\":\"8771\",\"type\":\"BoxAnnotation\"},{\"attributes\":{\"axis_label\":\"Treasury Bill Interest Rate \",\"formatter\":{\"id\":\"19459\",\"type\":\"BasicTickFormatter\"},\"ticker\":{\"id\":\"19435\",\"type\":\"BasicTicker\"}},\"id\":\"19434\",\"type\":\"LinearAxis\"},{\"attributes\":{},\"id\":\"19443\",\"type\":\"ResetTool\"},{\"attributes\":{\"fill_alpha\":{\"value\":0.5},\"fill_color\":{\"value\":\"red\"},\"left\":1995,\"right\":2007},\"id\":\"8763\",\"type\":\"BoxAnnotation\"},{\"attributes\":{\"line_color\":\"#1f77b4\",\"line_width\":2,\"x\":{\"field\":\"x\"},\"y\":{\"field\":\"y\"}},\"id\":\"19455\",\"type\":\"Line\"},{\"attributes\":{},\"id\":\"20427\",\"type\":\"Selection\"},{\"attributes\":{\"fill_alpha\":{\"value\":0.5},\"fill_color\":{\"value\":\"#333333\"},\"left\":2001.3,\"right\":2001.9},\"id\":\"8773\",\"type\":\"BoxAnnotation\"},{\"attributes\":{},\"id\":\"19444\",\"type\":\"HelpTool\"},{\"attributes\":{\"fill_alpha\":{\"value\":0.5},\"fill_color\":{\"value\":\"#333333\"},\"left\":2008,\"right\":2009.5},\"id\":\"8774\",\"type\":\"BoxAnnotation\"},{\"attributes\":{\"data_source\":{\"id\":\"19454\",\"type\":\"ColumnDataSource\"},\"glyph\":{\"id\":\"19455\",\"type\":\"Line\"},\"hover_glyph\":null,\"muted_glyph\":null,\"nonselection_glyph\":{\"id\":\"19456\",\"type\":\"Line\"},\"selection_glyph\":null,\"view\":{\"id\":\"19458\",\"type\":\"CDSView\"}},\"id\":\"19457\",\"type\":\"GlyphRenderer\"},{\"attributes\":{\"fill_alpha\":{\"value\":0.5},\"fill_color\":{\"value\":\"#800080\"},\"left\":2011,\"right\":2015},\"id\":\"8769\",\"type\":\"BoxAnnotation\"},{\"attributes\":{\"use_scientific\":false},\"id\":\"19459\",\"type\":\"BasicTickFormatter\"},{\"attributes\":{\"fill_alpha\":{\"value\":0.5},\"fill_color\":{\"value\":\"#333333\"},\"left\":1990,\"right\":1991},\"id\":\"8772\",\"type\":\"BoxAnnotation\"},{\"attributes\":{\"active_drag\":\"auto\",\"active_inspect\":\"auto\",\"active_multi\":null,\"active_scroll\":\"auto\",\"active_tap\":\"auto\",\"tools\":[{\"id\":\"19439\",\"type\":\"PanTool\"},{\"id\":\"19440\",\"type\":\"WheelZoomTool\"},{\"id\":\"19441\",\"type\":\"BoxZoomTool\"},{\"id\":\"19442\",\"type\":\"SaveTool\"},{\"id\":\"19443\",\"type\":\"ResetTool\"},{\"id\":\"19444\",\"type\":\"HelpTool\"},{\"id\":\"19445\",\"type\":\"HoverTool\"}]},\"id\":\"19446\",\"type\":\"Toolbar\"},{\"attributes\":{\"fill_alpha\":{\"value\":0.5},\"fill_color\":{\"value\":\"blue\"},\"left\":1970,\"right\":1981},\"id\":\"8765\",\"type\":\"BoxAnnotation\"},{\"attributes\":{\"fill_alpha\":{\"value\":0.5},\"fill_color\":{\"value\":\"#800080\"},\"left\":1981,\"right\":1987},\"id\":\"8768\",\"type\":\"BoxAnnotation\"},{\"attributes\":{},\"id\":\"20426\",\"type\":\"UnionRenderers\"},{\"attributes\":{\"callback\":null,\"tooltips\":[[\"Interest Rate: \",\"$y\"]]},\"id\":\"19445\",\"type\":\"HoverTool\"},{\"attributes\":{\"source\":{\"id\":\"19454\",\"type\":\"ColumnDataSource\"}},\"id\":\"19458\",\"type\":\"CDSView\"},{\"attributes\":{\"callback\":null},\"id\":\"19421\",\"type\":\"DataRange1d\"},{\"attributes\":{\"axis_label\":\"Time\",\"formatter\":{\"id\":\"20423\",\"type\":\"BasicTickFormatter\"},\"ticker\":{\"id\":\"19430\",\"type\":\"BasicTicker\"}},\"id\":\"19429\",\"type\":\"LinearAxis\"},{\"attributes\":{\"callback\":null},\"id\":\"19423\",\"type\":\"DataRange1d\"},{\"attributes\":{},\"id\":\"19425\",\"type\":\"LinearScale\"},{\"attributes\":{\"fill_alpha\":{\"value\":0.5},\"fill_color\":{\"value\":\"red\"},\"left\":2015,\"right\":2019},\"id\":\"8764\",\"type\":\"BoxAnnotation\"},{\"attributes\":{\"text\":\"Treasury Bill Interest Rate - Congress\"},\"id\":\"19419\",\"type\":\"Title\"},{\"attributes\":{\"bottom_units\":\"screen\",\"fill_alpha\":{\"value\":0.5},\"fill_color\":{\"value\":\"lightgrey\"},\"left_units\":\"screen\",\"level\":\"overlay\",\"line_alpha\":{\"value\":1.0},\"line_color\":{\"value\":\"black\"},\"line_dash\":[4,4],\"line_width\":{\"value\":2},\"render_mode\":\"css\",\"right_units\":\"screen\",\"top_units\":\"screen\"},\"id\":\"20425\",\"type\":\"BoxAnnotation\"},{\"attributes\":{\"fill_alpha\":{\"value\":0.5},\"fill_color\":{\"value\":\"blue\"},\"left\":1987,\"right\":1995},\"id\":\"8766\",\"type\":\"BoxAnnotation\"},{\"attributes\":{\"fill_alpha\":{\"value\":0.5},\"fill_color\":{\"value\":\"#333333\"},\"left\":1973,\"right\":1975},\"id\":\"8770\",\"type\":\"BoxAnnotation\"}],\"root_ids\":[\"19418\"]},\"title\":\"Bokeh Application\",\"version\":\"1.4.0\"}};\n",
       "  var render_items = [{\"docid\":\"735d3375-a20c-4599-84e8-d70cb7f55294\",\"roots\":{\"19418\":\"9a3de844-4198-43f1-8942-3765752c54ef\"}}];\n",
       "  root.Bokeh.embed.embed_items_notebook(docs_json, render_items);\n",
       "\n",
       "  }\n",
       "  if (root.Bokeh !== undefined) {\n",
       "    embed_document(root);\n",
       "  } else {\n",
       "    var attempts = 0;\n",
       "    var timer = setInterval(function(root) {\n",
       "      if (root.Bokeh !== undefined) {\n",
       "        clearInterval(timer);\n",
       "        embed_document(root);\n",
       "      } else {\n",
       "        attempts++;\n",
       "        if (attempts > 100) {\n",
       "          clearInterval(timer);\n",
       "          console.log(\"Bokeh: ERROR: Unable to run BokehJS code because BokehJS library is missing\");\n",
       "        }\n",
       "      }\n",
       "    }, 10, root)\n",
       "  }\n",
       "})(window);"
      ],
      "application/vnd.bokehjs_exec.v0+json": ""
     },
     "metadata": {
      "application/vnd.bokehjs_exec.v0+json": {
       "id": "19418"
      }
     },
     "output_type": "display_data"
    }
   ],
   "source": [
    "show(interest_congress)"
   ]
  },
  {
   "cell_type": "code",
   "execution_count": 164,
   "metadata": {
    "slideshow": {
     "slide_type": "skip"
    }
   },
   "outputs": [],
   "source": [
    "interest_redIndices = []\n",
    "interest_blueIndices= []\n",
    "\n",
    "yr = 1970\n",
    "n = 0\n",
    "while(n < len(interest_years)):\n",
    "    if((yr >= 1970 and yr <= 1977) or (yr >= 1981 and yr <= 1993) or (yr >= 2001 and yr <= 2009)):\n",
    "        interest_redIndices.append(n)\n",
    "    else:\n",
    "        interest_blueIndices.append(n)\n",
    "    n += 1\n",
    "    yr += 1\n",
    "\n",
    "interest_red_sum = 0\n",
    "interest_blue_sum = 0\n",
    "counter = 0\n",
    "\n",
    "for element in interest_years:\n",
    "    if(counter in interest_redIndices):\n",
    "        interest_red_sum += interest_list[interest_years.index(element)]\n",
    "    if(counter in interest_blueIndices):\n",
    "        interest_blue_sum += interest_list[interest_years.index(element)]\n",
    "    counter += 1 \n",
    "\n",
    "interest_red_avg = interest_red_sum/len(interest_redIndices)\n",
    "interest_blue_avg = interest_blue_sum/len(interest_blueIndices)\n",
    "\n",
    "interest_averages = [interest_red_avg, interest_blue_avg]\n",
    "interest_source = ColumnDataSource(data=dict(parties=parties, interest_averages=interest_averages))\n",
    "\n",
    "interest_bar = figure(x_range = parties, title='Average Treasury Bill Interest Rate', tooltips = tooltips)\n",
    "interest_bar.vbar(x = 'parties', top = 'interest_averages', width = 0.9, legend_field=\"parties\", source = interest_source, fill_color=factor_cmap('parties', palette=color_palette, factors=parties))\n",
    "interest_bar.legend.location = 'top_left'\n",
    "interest_bar.left[0].formatter.use_scientific = False"
   ]
  },
  {
   "cell_type": "code",
   "execution_count": 165,
   "metadata": {
    "slideshow": {
     "slide_type": "skip"
    }
   },
   "outputs": [],
   "source": [
    "#Congress - interest \n",
    "red_interest_growth_sum_congress = 0\n",
    "blue_interest_growth_sum_congress = 0\n",
    "counter = 0\n",
    "for element in interest_years:\n",
    "    if(counter in red_indices_congress):\n",
    "        red_interest_growth_sum_congress += interest_list[interest_years.index(element)]\n",
    "    if(counter in blue_indices_congress):\n",
    "        blue_interest_growth_sum_congress += interest_list[interest_years.index(element)]\n",
    "    counter += 1\n",
    "    \n",
    "red_interest_growth_avg_congress = red_interest_growth_sum_congress/len(red_indices_congress)\n",
    "blue_interest_growth_avg_congress = blue_interest_growth_sum_congress/len(blue_indices_congress)\n",
    "\n",
    "interest_averages_congress = [red_interest_growth_avg_congress, blue_interest_growth_avg_congress]\n",
    "\n",
    "interest_source_congress = ColumnDataSource(data=dict(parties=parties, interest_averages_congress=interest_averages_congress))\n",
    "\n",
    "interest_bar_congress = figure(x_range = parties, title='Average Treasury Bill Interest Rate -  Congress', tooltips = tooltips)\n",
    "\n",
    "interest_bar_congress.vbar(x ='parties', top = 'interest_averages_congress', width = 0.9, legend_field=\"parties\", source = interest_source_congress, fill_color=factor_cmap('parties', palette=color_palette, factors=parties))\n",
    "\n",
    "interest_bar_congress.legend.location=\"top_left\"\n",
    "#BOP_bar_congress.xgrid.grid_line_color = None\n",
    "#BOP_bar_congress.y_range.start = 0\n",
    "\n",
    "interest_bar_congress.left[0].formatter.use_scientific = False   "
   ]
  },
  {
   "cell_type": "markdown",
   "metadata": {
    "slideshow": {
     "slide_type": "subslide"
    }
   },
   "source": [
    "## 6.2: Treasure Bill Interest Rate Averages - Bar"
   ]
  },
  {
   "cell_type": "code",
   "execution_count": 166,
   "metadata": {
    "slideshow": {
     "slide_type": "subslide"
    }
   },
   "outputs": [
    {
     "data": {
      "text/html": [
       "\n",
       "\n",
       "\n",
       "\n",
       "\n",
       "\n",
       "  <div class=\"bk-root\" id=\"79817cc3-8cb6-4c1a-a0b0-17b586bb0d6b\" data-root-id=\"20477\"></div>\n"
      ]
     },
     "metadata": {},
     "output_type": "display_data"
    },
    {
     "data": {
      "application/javascript": [
       "(function(root) {\n",
       "  function embed_document(root) {\n",
       "    \n",
       "  var docs_json = {\"62e90d8c-38f8-489e-820f-d666af10c562\":{\"roots\":{\"references\":[{\"attributes\":{\"below\":[{\"id\":\"20488\",\"type\":\"CategoricalAxis\"}],\"center\":[{\"id\":\"20491\",\"type\":\"Grid\"},{\"id\":\"20496\",\"type\":\"Grid\"},{\"id\":\"20524\",\"type\":\"Legend\"}],\"left\":[{\"id\":\"20492\",\"type\":\"LinearAxis\"}],\"renderers\":[{\"id\":\"20516\",\"type\":\"GlyphRenderer\"}],\"title\":{\"id\":\"20478\",\"type\":\"Title\"},\"toolbar\":{\"id\":\"20504\",\"type\":\"Toolbar\"},\"x_range\":{\"id\":\"20480\",\"type\":\"FactorRange\"},\"x_scale\":{\"id\":\"20484\",\"type\":\"CategoricalScale\"},\"y_range\":{\"id\":\"20482\",\"type\":\"DataRange1d\"},\"y_scale\":{\"id\":\"20486\",\"type\":\"LinearScale\"}},\"id\":\"20477\",\"subtype\":\"Figure\",\"type\":\"Plot\"},{\"attributes\":{\"dimension\":1,\"ticker\":{\"id\":\"20493\",\"type\":\"BasicTicker\"}},\"id\":\"20496\",\"type\":\"Grid\"},{\"attributes\":{\"active_drag\":\"auto\",\"active_inspect\":\"auto\",\"active_multi\":null,\"active_scroll\":\"auto\",\"active_tap\":\"auto\",\"tools\":[{\"id\":\"20497\",\"type\":\"PanTool\"},{\"id\":\"20498\",\"type\":\"WheelZoomTool\"},{\"id\":\"20499\",\"type\":\"BoxZoomTool\"},{\"id\":\"20500\",\"type\":\"SaveTool\"},{\"id\":\"20501\",\"type\":\"ResetTool\"},{\"id\":\"20502\",\"type\":\"HelpTool\"},{\"id\":\"20503\",\"type\":\"HoverTool\"}]},\"id\":\"20504\",\"type\":\"Toolbar\"},{\"attributes\":{},\"id\":\"21048\",\"type\":\"UnionRenderers\"},{\"attributes\":{\"data_source\":{\"id\":\"20476\",\"type\":\"ColumnDataSource\"},\"glyph\":{\"id\":\"20514\",\"type\":\"VBar\"},\"hover_glyph\":null,\"muted_glyph\":null,\"nonselection_glyph\":{\"id\":\"20515\",\"type\":\"VBar\"},\"selection_glyph\":null,\"view\":{\"id\":\"20517\",\"type\":\"CDSView\"}},\"id\":\"20516\",\"type\":\"GlyphRenderer\"},{\"attributes\":{\"source\":{\"id\":\"20476\",\"type\":\"ColumnDataSource\"}},\"id\":\"20517\",\"type\":\"CDSView\"},{\"attributes\":{\"use_scientific\":false},\"id\":\"20519\",\"type\":\"BasicTickFormatter\"},{\"attributes\":{\"callback\":null,\"data\":{\"interest_averages\":[5.4552510000000005,6.407417],\"parties\":[\"Republican\",\"Democrat\"]},\"selected\":{\"id\":\"21049\",\"type\":\"Selection\"},\"selection_policy\":{\"id\":\"21048\",\"type\":\"UnionRenderers\"}},\"id\":\"20476\",\"type\":\"ColumnDataSource\"},{\"attributes\":{\"items\":[{\"id\":\"20525\",\"type\":\"LegendItem\"}],\"location\":\"top_left\"},\"id\":\"20524\",\"type\":\"Legend\"},{\"attributes\":{},\"id\":\"20521\",\"type\":\"CategoricalTickFormatter\"},{\"attributes\":{},\"id\":\"21049\",\"type\":\"Selection\"},{\"attributes\":{\"bottom_units\":\"screen\",\"fill_alpha\":{\"value\":0.5},\"fill_color\":{\"value\":\"lightgrey\"},\"left_units\":\"screen\",\"level\":\"overlay\",\"line_alpha\":{\"value\":1.0},\"line_color\":{\"value\":\"black\"},\"line_dash\":[4,4],\"line_width\":{\"value\":2},\"render_mode\":\"css\",\"right_units\":\"screen\",\"top_units\":\"screen\"},\"id\":\"20523\",\"type\":\"BoxAnnotation\"},{\"attributes\":{},\"id\":\"20497\",\"type\":\"PanTool\"},{\"attributes\":{\"fill_alpha\":{\"value\":0.1},\"fill_color\":{\"value\":\"#1f77b4\"},\"line_alpha\":{\"value\":0.1},\"line_color\":{\"value\":\"#1f77b4\"},\"top\":{\"field\":\"interest_averages\"},\"width\":{\"value\":0.9},\"x\":{\"field\":\"parties\"}},\"id\":\"20515\",\"type\":\"VBar\"},{\"attributes\":{\"label\":{\"field\":\"parties\"},\"renderers\":[{\"id\":\"20516\",\"type\":\"GlyphRenderer\"}]},\"id\":\"20525\",\"type\":\"LegendItem\"},{\"attributes\":{\"text\":\"Average Treasury Bill Interest Rate\"},\"id\":\"20478\",\"type\":\"Title\"},{\"attributes\":{\"overlay\":{\"id\":\"20523\",\"type\":\"BoxAnnotation\"}},\"id\":\"20499\",\"type\":\"BoxZoomTool\"},{\"attributes\":{},\"id\":\"20486\",\"type\":\"LinearScale\"},{\"attributes\":{\"factors\":[\"Republican\",\"Democrat\"],\"palette\":[\"#C81602\",\"#000E8A\"]},\"id\":\"20512\",\"type\":\"CategoricalColorMapper\"},{\"attributes\":{},\"id\":\"20498\",\"type\":\"WheelZoomTool\"},{\"attributes\":{},\"id\":\"20484\",\"type\":\"CategoricalScale\"},{\"attributes\":{\"formatter\":{\"id\":\"20519\",\"type\":\"BasicTickFormatter\"},\"ticker\":{\"id\":\"20493\",\"type\":\"BasicTicker\"}},\"id\":\"20492\",\"type\":\"LinearAxis\"},{\"attributes\":{},\"id\":\"20500\",\"type\":\"SaveTool\"},{\"attributes\":{\"callback\":null,\"tooltips\":[[\"Value: \",\"$y{0.0}%\"]]},\"id\":\"20503\",\"type\":\"HoverTool\"},{\"attributes\":{},\"id\":\"20489\",\"type\":\"CategoricalTicker\"},{\"attributes\":{\"formatter\":{\"id\":\"20521\",\"type\":\"CategoricalTickFormatter\"},\"ticker\":{\"id\":\"20489\",\"type\":\"CategoricalTicker\"}},\"id\":\"20488\",\"type\":\"CategoricalAxis\"},{\"attributes\":{},\"id\":\"20501\",\"type\":\"ResetTool\"},{\"attributes\":{\"callback\":null,\"factors\":[\"Republican\",\"Democrat\"]},\"id\":\"20480\",\"type\":\"FactorRange\"},{\"attributes\":{},\"id\":\"20493\",\"type\":\"BasicTicker\"},{\"attributes\":{\"ticker\":{\"id\":\"20489\",\"type\":\"CategoricalTicker\"}},\"id\":\"20491\",\"type\":\"Grid\"},{\"attributes\":{\"fill_color\":{\"field\":\"parties\",\"transform\":{\"id\":\"20512\",\"type\":\"CategoricalColorMapper\"}},\"line_color\":{\"value\":\"#1f77b4\"},\"top\":{\"field\":\"interest_averages\"},\"width\":{\"value\":0.9},\"x\":{\"field\":\"parties\"}},\"id\":\"20514\",\"type\":\"VBar\"},{\"attributes\":{},\"id\":\"20502\",\"type\":\"HelpTool\"},{\"attributes\":{\"callback\":null},\"id\":\"20482\",\"type\":\"DataRange1d\"}],\"root_ids\":[\"20477\"]},\"title\":\"Bokeh Application\",\"version\":\"1.4.0\"}};\n",
       "  var render_items = [{\"docid\":\"62e90d8c-38f8-489e-820f-d666af10c562\",\"roots\":{\"20477\":\"79817cc3-8cb6-4c1a-a0b0-17b586bb0d6b\"}}];\n",
       "  root.Bokeh.embed.embed_items_notebook(docs_json, render_items);\n",
       "\n",
       "  }\n",
       "  if (root.Bokeh !== undefined) {\n",
       "    embed_document(root);\n",
       "  } else {\n",
       "    var attempts = 0;\n",
       "    var timer = setInterval(function(root) {\n",
       "      if (root.Bokeh !== undefined) {\n",
       "        clearInterval(timer);\n",
       "        embed_document(root);\n",
       "      } else {\n",
       "        attempts++;\n",
       "        if (attempts > 100) {\n",
       "          clearInterval(timer);\n",
       "          console.log(\"Bokeh: ERROR: Unable to run BokehJS code because BokehJS library is missing\");\n",
       "        }\n",
       "      }\n",
       "    }, 10, root)\n",
       "  }\n",
       "})(window);"
      ],
      "application/vnd.bokehjs_exec.v0+json": ""
     },
     "metadata": {
      "application/vnd.bokehjs_exec.v0+json": {
       "id": "20477"
      }
     },
     "output_type": "display_data"
    }
   ],
   "source": [
    "show(interest_bar)"
   ]
  },
  {
   "cell_type": "code",
   "execution_count": 167,
   "metadata": {
    "slideshow": {
     "slide_type": "subslide"
    }
   },
   "outputs": [
    {
     "data": {
      "text/html": [
       "\n",
       "\n",
       "\n",
       "\n",
       "\n",
       "\n",
       "  <div class=\"bk-root\" id=\"264407f0-c0a0-4390-9796-bc1d46ad2b3b\" data-root-id=\"20528\"></div>\n"
      ]
     },
     "metadata": {},
     "output_type": "display_data"
    },
    {
     "data": {
      "application/javascript": [
       "(function(root) {\n",
       "  function embed_document(root) {\n",
       "    \n",
       "  var docs_json = {\"92b2f334-de8f-42e1-bb5e-5cc9958ae874\":{\"roots\":{\"references\":[{\"attributes\":{\"below\":[{\"id\":\"20539\",\"type\":\"CategoricalAxis\"}],\"center\":[{\"id\":\"20542\",\"type\":\"Grid\"},{\"id\":\"20547\",\"type\":\"Grid\"},{\"id\":\"20575\",\"type\":\"Legend\"}],\"left\":[{\"id\":\"20543\",\"type\":\"LinearAxis\"}],\"renderers\":[{\"id\":\"20567\",\"type\":\"GlyphRenderer\"}],\"title\":{\"id\":\"20529\",\"type\":\"Title\"},\"toolbar\":{\"id\":\"20555\",\"type\":\"Toolbar\"},\"x_range\":{\"id\":\"20531\",\"type\":\"FactorRange\"},\"x_scale\":{\"id\":\"20535\",\"type\":\"CategoricalScale\"},\"y_range\":{\"id\":\"20533\",\"type\":\"DataRange1d\"},\"y_scale\":{\"id\":\"20537\",\"type\":\"LinearScale\"}},\"id\":\"20528\",\"subtype\":\"Figure\",\"type\":\"Plot\"},{\"attributes\":{\"formatter\":{\"id\":\"20572\",\"type\":\"CategoricalTickFormatter\"},\"ticker\":{\"id\":\"20540\",\"type\":\"CategoricalTicker\"}},\"id\":\"20539\",\"type\":\"CategoricalAxis\"},{\"attributes\":{\"active_drag\":\"auto\",\"active_inspect\":\"auto\",\"active_multi\":null,\"active_scroll\":\"auto\",\"active_tap\":\"auto\",\"tools\":[{\"id\":\"20548\",\"type\":\"PanTool\"},{\"id\":\"20549\",\"type\":\"WheelZoomTool\"},{\"id\":\"20550\",\"type\":\"BoxZoomTool\"},{\"id\":\"20551\",\"type\":\"SaveTool\"},{\"id\":\"20552\",\"type\":\"ResetTool\"},{\"id\":\"20553\",\"type\":\"HelpTool\"},{\"id\":\"20554\",\"type\":\"HoverTool\"}]},\"id\":\"20555\",\"type\":\"Toolbar\"},{\"attributes\":{},\"id\":\"20544\",\"type\":\"BasicTicker\"},{\"attributes\":{},\"id\":\"20540\",\"type\":\"CategoricalTicker\"},{\"attributes\":{},\"id\":\"21577\",\"type\":\"Selection\"},{\"attributes\":{\"ticker\":{\"id\":\"20540\",\"type\":\"CategoricalTicker\"}},\"id\":\"20542\",\"type\":\"Grid\"},{\"attributes\":{\"dimension\":1,\"ticker\":{\"id\":\"20544\",\"type\":\"BasicTicker\"}},\"id\":\"20547\",\"type\":\"Grid\"},{\"attributes\":{},\"id\":\"20572\",\"type\":\"CategoricalTickFormatter\"},{\"attributes\":{\"formatter\":{\"id\":\"20570\",\"type\":\"BasicTickFormatter\"},\"ticker\":{\"id\":\"20544\",\"type\":\"BasicTicker\"}},\"id\":\"20543\",\"type\":\"LinearAxis\"},{\"attributes\":{\"use_scientific\":false},\"id\":\"20570\",\"type\":\"BasicTickFormatter\"},{\"attributes\":{},\"id\":\"21576\",\"type\":\"UnionRenderers\"},{\"attributes\":{\"items\":[{\"id\":\"20576\",\"type\":\"LegendItem\"}],\"location\":\"top_left\"},\"id\":\"20575\",\"type\":\"Legend\"},{\"attributes\":{\"bottom_units\":\"screen\",\"fill_alpha\":{\"value\":0.5},\"fill_color\":{\"value\":\"lightgrey\"},\"left_units\":\"screen\",\"level\":\"overlay\",\"line_alpha\":{\"value\":1.0},\"line_color\":{\"value\":\"black\"},\"line_dash\":[4,4],\"line_width\":{\"value\":2},\"render_mode\":\"css\",\"right_units\":\"screen\",\"top_units\":\"screen\"},\"id\":\"20574\",\"type\":\"BoxAnnotation\"},{\"attributes\":{\"callback\":null,\"data\":{\"interest_averages_congress\":[2.5458862500000006,5.562212307692308],\"parties\":[\"Republican\",\"Democrat\"]},\"selected\":{\"id\":\"21577\",\"type\":\"Selection\"},\"selection_policy\":{\"id\":\"21576\",\"type\":\"UnionRenderers\"}},\"id\":\"20527\",\"type\":\"ColumnDataSource\"},{\"attributes\":{\"callback\":null,\"tooltips\":[[\"Value: \",\"$y{0.0}%\"]]},\"id\":\"20554\",\"type\":\"HoverTool\"},{\"attributes\":{\"factors\":[\"Republican\",\"Democrat\"],\"palette\":[\"#C81602\",\"#000E8A\"]},\"id\":\"20563\",\"type\":\"CategoricalColorMapper\"},{\"attributes\":{\"fill_color\":{\"field\":\"parties\",\"transform\":{\"id\":\"20563\",\"type\":\"CategoricalColorMapper\"}},\"line_color\":{\"value\":\"#1f77b4\"},\"top\":{\"field\":\"interest_averages_congress\"},\"width\":{\"value\":0.9},\"x\":{\"field\":\"parties\"}},\"id\":\"20565\",\"type\":\"VBar\"},{\"attributes\":{},\"id\":\"20548\",\"type\":\"PanTool\"},{\"attributes\":{\"callback\":null,\"factors\":[\"Republican\",\"Democrat\"]},\"id\":\"20531\",\"type\":\"FactorRange\"},{\"attributes\":{},\"id\":\"20549\",\"type\":\"WheelZoomTool\"},{\"attributes\":{\"source\":{\"id\":\"20527\",\"type\":\"ColumnDataSource\"}},\"id\":\"20568\",\"type\":\"CDSView\"},{\"attributes\":{\"text\":\"Average Treasury Bill Interest Rate -  Congress\"},\"id\":\"20529\",\"type\":\"Title\"},{\"attributes\":{\"overlay\":{\"id\":\"20574\",\"type\":\"BoxAnnotation\"}},\"id\":\"20550\",\"type\":\"BoxZoomTool\"},{\"attributes\":{},\"id\":\"20551\",\"type\":\"SaveTool\"},{\"attributes\":{},\"id\":\"20552\",\"type\":\"ResetTool\"},{\"attributes\":{\"callback\":null},\"id\":\"20533\",\"type\":\"DataRange1d\"},{\"attributes\":{},\"id\":\"20535\",\"type\":\"CategoricalScale\"},{\"attributes\":{\"fill_alpha\":{\"value\":0.1},\"fill_color\":{\"value\":\"#1f77b4\"},\"line_alpha\":{\"value\":0.1},\"line_color\":{\"value\":\"#1f77b4\"},\"top\":{\"field\":\"interest_averages_congress\"},\"width\":{\"value\":0.9},\"x\":{\"field\":\"parties\"}},\"id\":\"20566\",\"type\":\"VBar\"},{\"attributes\":{},\"id\":\"20537\",\"type\":\"LinearScale\"},{\"attributes\":{},\"id\":\"20553\",\"type\":\"HelpTool\"},{\"attributes\":{\"label\":{\"field\":\"parties\"},\"renderers\":[{\"id\":\"20567\",\"type\":\"GlyphRenderer\"}]},\"id\":\"20576\",\"type\":\"LegendItem\"},{\"attributes\":{\"data_source\":{\"id\":\"20527\",\"type\":\"ColumnDataSource\"},\"glyph\":{\"id\":\"20565\",\"type\":\"VBar\"},\"hover_glyph\":null,\"muted_glyph\":null,\"nonselection_glyph\":{\"id\":\"20566\",\"type\":\"VBar\"},\"selection_glyph\":null,\"view\":{\"id\":\"20568\",\"type\":\"CDSView\"}},\"id\":\"20567\",\"type\":\"GlyphRenderer\"}],\"root_ids\":[\"20528\"]},\"title\":\"Bokeh Application\",\"version\":\"1.4.0\"}};\n",
       "  var render_items = [{\"docid\":\"92b2f334-de8f-42e1-bb5e-5cc9958ae874\",\"roots\":{\"20528\":\"264407f0-c0a0-4390-9796-bc1d46ad2b3b\"}}];\n",
       "  root.Bokeh.embed.embed_items_notebook(docs_json, render_items);\n",
       "\n",
       "  }\n",
       "  if (root.Bokeh !== undefined) {\n",
       "    embed_document(root);\n",
       "  } else {\n",
       "    var attempts = 0;\n",
       "    var timer = setInterval(function(root) {\n",
       "      if (root.Bokeh !== undefined) {\n",
       "        clearInterval(timer);\n",
       "        embed_document(root);\n",
       "      } else {\n",
       "        attempts++;\n",
       "        if (attempts > 100) {\n",
       "          clearInterval(timer);\n",
       "          console.log(\"Bokeh: ERROR: Unable to run BokehJS code because BokehJS library is missing\");\n",
       "        }\n",
       "      }\n",
       "    }, 10, root)\n",
       "  }\n",
       "})(window);"
      ],
      "application/vnd.bokehjs_exec.v0+json": ""
     },
     "metadata": {
      "application/vnd.bokehjs_exec.v0+json": {
       "id": "20528"
      }
     },
     "output_type": "display_data"
    }
   ],
   "source": [
    "show(interest_bar_congress)"
   ]
  },
  {
   "cell_type": "markdown",
   "metadata": {
    "slideshow": {
     "slide_type": "slide"
    }
   },
   "source": [
    "## The Final Indices"
   ]
  },
  {
   "cell_type": "markdown",
   "metadata": {
    "slideshow": {
     "slide_type": "subslide"
    }
   },
   "source": [
    "### Constructing the Index Data\n",
    "\n",
    "\n",
    "\n",
    "\n",
    "\n"
   ]
  },
  {
   "cell_type": "code",
   "execution_count": 176,
   "metadata": {
    "slideshow": {
     "slide_type": "skip"
    }
   },
   "outputs": [],
   "source": [
    "from bokeh.models.widgets import Slider\n",
    "from ipywidgets import interact, FloatSlider\n",
    "from bokeh.io import push_notebook, show, output_notebook"
   ]
  },
  {
   "cell_type": "code",
   "execution_count": 169,
   "metadata": {
    "slideshow": {
     "slide_type": "subslide"
    }
   },
   "outputs": [],
   "source": [
    "#10- indicates if the statistic is desired to be a lower value(example: unemployment)\n",
    "red_averages = [red_growth_avg, 10-red_FD_growth_avg, 10-red_inflation_avg, (BOP_red_avg*-1), 10-unemp_red_avg, 10-interest_red_avg]\n",
    "blue_averages = [blue_growth_avg,  10-blue_FD_growth_avg, 10-blue_inflation_avg, (BOP_blue_avg*-1), 10-unemp_blue_avg, 10-interest_blue_avg]\n",
    "\n",
    "#Weightage Adjustment\n",
    "red_averages[0] = red_averages[0] * 10\n",
    "blue_averages[0] = blue_averages[0] * 10\n",
    "red_averages[3] = 10-(red_averages[3]/100)\n",
    "blue_averages[3] = 10-(blue_averages[3]/100)"
   ]
  },
  {
   "cell_type": "code",
   "execution_count": 170,
   "metadata": {
    "slideshow": {
     "slide_type": "skip"
    }
   },
   "outputs": [],
   "source": [
    "parties = ['Republican', 'Democrat']\n",
    "stats = ['Real GDP Growth', 'Federal Debt', 'Inflation', 'Balance of Payments', 'Unemployment Rate', 'Interest Rate']\n",
    "data = {'Statistics': parties,\n",
    "        'Real GDP Growth'   : [red_averages[0], blue_averages[0]],\n",
    "        'Federal Debt'   : [red_averages[1], blue_averages[1]],\n",
    "        'Inflation'   : [red_averages[2], blue_averages[2]],\n",
    "        'Balance of Payments'   : [red_averages[3], blue_averages[3]],\n",
    "        'Unemployment Rate'   : [red_averages[4], blue_averages[4]],\n",
    "        'Interest Rate'   : [red_averages[5], blue_averages[5]],\n",
    "       }"
   ]
  },
  {
   "cell_type": "code",
   "execution_count": 171,
   "metadata": {
    "slideshow": {
     "slide_type": "skip"
    }
   },
   "outputs": [],
   "source": [
    "red_averages_congress = [red_growth_avg_congress, red_FD_growth_avg_congress, 10-red_inflation_growth_avg_congress, (red_BOP_growth_avg_congress*-1), 10-red_unemp_growth_avg_congress, 10-red_interest_growth_avg_congress]\n",
    "blue_averages_congress = [blue_growth_avg_congress,  blue_FD_growth_avg_congress, 10-blue_inflation_growth_avg_congress, (blue_BOP_growth_avg_congress*-1), 10-blue_unemp_growth_avg_congress, 10-blue_interest_growth_avg_congress]\n",
    "\n",
    "#Weightage Adjustment\n",
    "red_averages_congress[0] = red_averages_congress[0] * 10\n",
    "blue_averages_congress[0] = blue_averages_congress[0] * 10\n",
    "red_averages_congress[3] = 10-(red_averages_congress[3]/100)\n",
    "blue_averages_congress[3] = 10-(blue_averages_congress[3]/100)\n",
    "\n",
    "data_congress = {'Statistics': parties,\n",
    "        'Real GDP Growth'   : [red_averages_congress[0], blue_averages_congress[0]],\n",
    "        'Federal Debt'   : [red_averages_congress[1], blue_averages_congress[1]],\n",
    "        'Inflation'   : [red_averages_congress[2], blue_averages_congress[2]],\n",
    "        'Balance of Payments'   : [red_averages_congress[3], blue_averages_congress[3]],\n",
    "        'Unemployment Rate'   : [red_averages_congress[4], blue_averages_congress[4]],\n",
    "        'Interest Rate'   : [red_averages_congress[5], blue_averages_congress[5]],\n",
    "       }"
   ]
  },
  {
   "cell_type": "code",
   "execution_count": 172,
   "metadata": {
    "slideshow": {
     "slide_type": "skip"
    }
   },
   "outputs": [],
   "source": [
    "reds = [\"#FFD1A9\", \"#FF9E79\", \"#FB6D4C\", \"#C23B22\", \"#8A0000\", \"#580000\"]\n",
    "blues = [\"#E6E6FA\",\"#ADD8E6\", \"#6497b1\", \"#005b96\", \"#03396c\", \"#011f4b\"]\n",
    "purples = ['#b39ddb', '#9575cd', '#7e57c2', '#673ab7', '#5e35b1', '#512da8']\n",
    "index_tooltips = [(\"Value: \", \"$y\"), (\"Statistic: \", \"$name\")]\n",
    "\n",
    "index_bar = figure(x_range = parties, title='Final Index - Presidents', tooltips = index_tooltips, plot_height=500, plot_width=400)\n",
    "index_bar.vbar_stack(stats, x = 'Statistics', width = 0.9, legend_label=stats, source = data, color=(blues))\n",
    "\n",
    "index_bar.y_range.start = 0\n",
    "index_bar.x_range.range_padding = 0.1\n",
    "index_bar.xgrid.grid_line_color = None\n",
    "index_bar.axis.minor_tick_line_color = None\n",
    "index_bar.outline_line_color = None\n",
    "index_bar.legend.location = 'bottom_left'\n",
    "index_bar.left[0].formatter.use_scientific = False\n",
    "\n",
    "index_bar_congress = figure(x_range = parties, title='Final Index - Congress', tooltips = index_tooltips, plot_height=500, plot_width=400)\n",
    "index_bar_congress.vbar_stack(stats, x = 'Statistics', width = 0.9, legend_label=stats, source = data_congress, color=reds)\n",
    "index_bar_congress.legend.location = 'bottom_left'"
   ]
  },
  {
   "cell_type": "markdown",
   "metadata": {
    "slideshow": {
     "slide_type": "skip"
    }
   },
   "source": [
    "### Configuring Widget Functionality"
   ]
  },
  {
   "cell_type": "code",
   "execution_count": 178,
   "metadata": {
    "slideshow": {
     "slide_type": "skip"
    }
   },
   "outputs": [
    {
     "data": {
      "text/html": [
       "\n",
       "    <div class=\"bk-root\">\n",
       "        <a href=\"https://bokeh.org\" target=\"_blank\" class=\"bk-logo bk-logo-small bk-logo-notebook\"></a>\n",
       "        <span id=\"22985\">Loading BokehJS ...</span>\n",
       "    </div>"
      ]
     },
     "metadata": {},
     "output_type": "display_data"
    },
    {
     "data": {
      "application/javascript": [
       "\n",
       "(function(root) {\n",
       "  function now() {\n",
       "    return new Date();\n",
       "  }\n",
       "\n",
       "  var force = true;\n",
       "\n",
       "  if (typeof root._bokeh_onload_callbacks === \"undefined\" || force === true) {\n",
       "    root._bokeh_onload_callbacks = [];\n",
       "    root._bokeh_is_loading = undefined;\n",
       "  }\n",
       "\n",
       "  var JS_MIME_TYPE = 'application/javascript';\n",
       "  var HTML_MIME_TYPE = 'text/html';\n",
       "  var EXEC_MIME_TYPE = 'application/vnd.bokehjs_exec.v0+json';\n",
       "  var CLASS_NAME = 'output_bokeh rendered_html';\n",
       "\n",
       "  /**\n",
       "   * Render data to the DOM node\n",
       "   */\n",
       "  function render(props, node) {\n",
       "    var script = document.createElement(\"script\");\n",
       "    node.appendChild(script);\n",
       "  }\n",
       "\n",
       "  /**\n",
       "   * Handle when an output is cleared or removed\n",
       "   */\n",
       "  function handleClearOutput(event, handle) {\n",
       "    var cell = handle.cell;\n",
       "\n",
       "    var id = cell.output_area._bokeh_element_id;\n",
       "    var server_id = cell.output_area._bokeh_server_id;\n",
       "    // Clean up Bokeh references\n",
       "    if (id != null && id in Bokeh.index) {\n",
       "      Bokeh.index[id].model.document.clear();\n",
       "      delete Bokeh.index[id];\n",
       "    }\n",
       "\n",
       "    if (server_id !== undefined) {\n",
       "      // Clean up Bokeh references\n",
       "      var cmd = \"from bokeh.io.state import curstate; print(curstate().uuid_to_server['\" + server_id + \"'].get_sessions()[0].document.roots[0]._id)\";\n",
       "      cell.notebook.kernel.execute(cmd, {\n",
       "        iopub: {\n",
       "          output: function(msg) {\n",
       "            var id = msg.content.text.trim();\n",
       "            if (id in Bokeh.index) {\n",
       "              Bokeh.index[id].model.document.clear();\n",
       "              delete Bokeh.index[id];\n",
       "            }\n",
       "          }\n",
       "        }\n",
       "      });\n",
       "      // Destroy server and session\n",
       "      var cmd = \"import bokeh.io.notebook as ion; ion.destroy_server('\" + server_id + \"')\";\n",
       "      cell.notebook.kernel.execute(cmd);\n",
       "    }\n",
       "  }\n",
       "\n",
       "  /**\n",
       "   * Handle when a new output is added\n",
       "   */\n",
       "  function handleAddOutput(event, handle) {\n",
       "    var output_area = handle.output_area;\n",
       "    var output = handle.output;\n",
       "\n",
       "    // limit handleAddOutput to display_data with EXEC_MIME_TYPE content only\n",
       "    if ((output.output_type != \"display_data\") || (!output.data.hasOwnProperty(EXEC_MIME_TYPE))) {\n",
       "      return\n",
       "    }\n",
       "\n",
       "    var toinsert = output_area.element.find(\".\" + CLASS_NAME.split(' ')[0]);\n",
       "\n",
       "    if (output.metadata[EXEC_MIME_TYPE][\"id\"] !== undefined) {\n",
       "      toinsert[toinsert.length - 1].firstChild.textContent = output.data[JS_MIME_TYPE];\n",
       "      // store reference to embed id on output_area\n",
       "      output_area._bokeh_element_id = output.metadata[EXEC_MIME_TYPE][\"id\"];\n",
       "    }\n",
       "    if (output.metadata[EXEC_MIME_TYPE][\"server_id\"] !== undefined) {\n",
       "      var bk_div = document.createElement(\"div\");\n",
       "      bk_div.innerHTML = output.data[HTML_MIME_TYPE];\n",
       "      var script_attrs = bk_div.children[0].attributes;\n",
       "      for (var i = 0; i < script_attrs.length; i++) {\n",
       "        toinsert[toinsert.length - 1].firstChild.setAttribute(script_attrs[i].name, script_attrs[i].value);\n",
       "      }\n",
       "      // store reference to server id on output_area\n",
       "      output_area._bokeh_server_id = output.metadata[EXEC_MIME_TYPE][\"server_id\"];\n",
       "    }\n",
       "  }\n",
       "\n",
       "  function register_renderer(events, OutputArea) {\n",
       "\n",
       "    function append_mime(data, metadata, element) {\n",
       "      // create a DOM node to render to\n",
       "      var toinsert = this.create_output_subarea(\n",
       "        metadata,\n",
       "        CLASS_NAME,\n",
       "        EXEC_MIME_TYPE\n",
       "      );\n",
       "      this.keyboard_manager.register_events(toinsert);\n",
       "      // Render to node\n",
       "      var props = {data: data, metadata: metadata[EXEC_MIME_TYPE]};\n",
       "      render(props, toinsert[toinsert.length - 1]);\n",
       "      element.append(toinsert);\n",
       "      return toinsert\n",
       "    }\n",
       "\n",
       "    /* Handle when an output is cleared or removed */\n",
       "    events.on('clear_output.CodeCell', handleClearOutput);\n",
       "    events.on('delete.Cell', handleClearOutput);\n",
       "\n",
       "    /* Handle when a new output is added */\n",
       "    events.on('output_added.OutputArea', handleAddOutput);\n",
       "\n",
       "    /**\n",
       "     * Register the mime type and append_mime function with output_area\n",
       "     */\n",
       "    OutputArea.prototype.register_mime_type(EXEC_MIME_TYPE, append_mime, {\n",
       "      /* Is output safe? */\n",
       "      safe: true,\n",
       "      /* Index of renderer in `output_area.display_order` */\n",
       "      index: 0\n",
       "    });\n",
       "  }\n",
       "\n",
       "  // register the mime type if in Jupyter Notebook environment and previously unregistered\n",
       "  if (root.Jupyter !== undefined) {\n",
       "    var events = require('base/js/events');\n",
       "    var OutputArea = require('notebook/js/outputarea').OutputArea;\n",
       "\n",
       "    if (OutputArea.prototype.mime_types().indexOf(EXEC_MIME_TYPE) == -1) {\n",
       "      register_renderer(events, OutputArea);\n",
       "    }\n",
       "  }\n",
       "\n",
       "  \n",
       "  if (typeof (root._bokeh_timeout) === \"undefined\" || force === true) {\n",
       "    root._bokeh_timeout = Date.now() + 5000;\n",
       "    root._bokeh_failed_load = false;\n",
       "  }\n",
       "\n",
       "  var NB_LOAD_WARNING = {'data': {'text/html':\n",
       "     \"<div style='background-color: #fdd'>\\n\"+\n",
       "     \"<p>\\n\"+\n",
       "     \"BokehJS does not appear to have successfully loaded. If loading BokehJS from CDN, this \\n\"+\n",
       "     \"may be due to a slow or bad network connection. Possible fixes:\\n\"+\n",
       "     \"</p>\\n\"+\n",
       "     \"<ul>\\n\"+\n",
       "     \"<li>re-rerun `output_notebook()` to attempt to load from CDN again, or</li>\\n\"+\n",
       "     \"<li>use INLINE resources instead, as so:</li>\\n\"+\n",
       "     \"</ul>\\n\"+\n",
       "     \"<code>\\n\"+\n",
       "     \"from bokeh.resources import INLINE\\n\"+\n",
       "     \"output_notebook(resources=INLINE)\\n\"+\n",
       "     \"</code>\\n\"+\n",
       "     \"</div>\"}};\n",
       "\n",
       "  function display_loaded() {\n",
       "    var el = document.getElementById(\"22985\");\n",
       "    if (el != null) {\n",
       "      el.textContent = \"BokehJS is loading...\";\n",
       "    }\n",
       "    if (root.Bokeh !== undefined) {\n",
       "      if (el != null) {\n",
       "        el.textContent = \"BokehJS \" + root.Bokeh.version + \" successfully loaded.\";\n",
       "      }\n",
       "    } else if (Date.now() < root._bokeh_timeout) {\n",
       "      setTimeout(display_loaded, 100)\n",
       "    }\n",
       "  }\n",
       "\n",
       "\n",
       "  function run_callbacks() {\n",
       "    try {\n",
       "      root._bokeh_onload_callbacks.forEach(function(callback) {\n",
       "        if (callback != null)\n",
       "          callback();\n",
       "      });\n",
       "    } finally {\n",
       "      delete root._bokeh_onload_callbacks\n",
       "    }\n",
       "    console.debug(\"Bokeh: all callbacks have finished\");\n",
       "  }\n",
       "\n",
       "  function load_libs(css_urls, js_urls, callback) {\n",
       "    if (css_urls == null) css_urls = [];\n",
       "    if (js_urls == null) js_urls = [];\n",
       "\n",
       "    root._bokeh_onload_callbacks.push(callback);\n",
       "    if (root._bokeh_is_loading > 0) {\n",
       "      console.debug(\"Bokeh: BokehJS is being loaded, scheduling callback at\", now());\n",
       "      return null;\n",
       "    }\n",
       "    if (js_urls == null || js_urls.length === 0) {\n",
       "      run_callbacks();\n",
       "      return null;\n",
       "    }\n",
       "    console.debug(\"Bokeh: BokehJS not loaded, scheduling load and callback at\", now());\n",
       "    root._bokeh_is_loading = css_urls.length + js_urls.length;\n",
       "\n",
       "    function on_load() {\n",
       "      root._bokeh_is_loading--;\n",
       "      if (root._bokeh_is_loading === 0) {\n",
       "        console.debug(\"Bokeh: all BokehJS libraries/stylesheets loaded\");\n",
       "        run_callbacks()\n",
       "      }\n",
       "    }\n",
       "\n",
       "    function on_error() {\n",
       "      console.error(\"failed to load \" + url);\n",
       "    }\n",
       "\n",
       "    for (var i = 0; i < css_urls.length; i++) {\n",
       "      var url = css_urls[i];\n",
       "      const element = document.createElement(\"link\");\n",
       "      element.onload = on_load;\n",
       "      element.onerror = on_error;\n",
       "      element.rel = \"stylesheet\";\n",
       "      element.type = \"text/css\";\n",
       "      element.href = url;\n",
       "      console.debug(\"Bokeh: injecting link tag for BokehJS stylesheet: \", url);\n",
       "      document.body.appendChild(element);\n",
       "    }\n",
       "\n",
       "    for (var i = 0; i < js_urls.length; i++) {\n",
       "      var url = js_urls[i];\n",
       "      var element = document.createElement('script');\n",
       "      element.onload = on_load;\n",
       "      element.onerror = on_error;\n",
       "      element.async = false;\n",
       "      element.src = url;\n",
       "      console.debug(\"Bokeh: injecting script tag for BokehJS library: \", url);\n",
       "      document.head.appendChild(element);\n",
       "    }\n",
       "  };var element = document.getElementById(\"22985\");\n",
       "  if (element == null) {\n",
       "    console.error(\"Bokeh: ERROR: autoload.js configured with elementid '22985' but no matching script tag was found. \")\n",
       "    return false;\n",
       "  }\n",
       "\n",
       "  function inject_raw_css(css) {\n",
       "    const element = document.createElement(\"style\");\n",
       "    element.appendChild(document.createTextNode(css));\n",
       "    document.body.appendChild(element);\n",
       "  }\n",
       "\n",
       "  \n",
       "  var js_urls = [\"https://cdn.pydata.org/bokeh/release/bokeh-1.4.0.min.js\", \"https://cdn.pydata.org/bokeh/release/bokeh-widgets-1.4.0.min.js\", \"https://cdn.pydata.org/bokeh/release/bokeh-tables-1.4.0.min.js\", \"https://cdn.pydata.org/bokeh/release/bokeh-gl-1.4.0.min.js\"];\n",
       "  var css_urls = [];\n",
       "  \n",
       "\n",
       "  var inline_js = [\n",
       "    function(Bokeh) {\n",
       "      Bokeh.set_log_level(\"info\");\n",
       "    },\n",
       "    function(Bokeh) {\n",
       "    \n",
       "    \n",
       "    }\n",
       "  ];\n",
       "\n",
       "  function run_inline_js() {\n",
       "    \n",
       "    if (root.Bokeh !== undefined || force === true) {\n",
       "      \n",
       "    for (var i = 0; i < inline_js.length; i++) {\n",
       "      inline_js[i].call(root, root.Bokeh);\n",
       "    }\n",
       "    if (force === true) {\n",
       "        display_loaded();\n",
       "      }} else if (Date.now() < root._bokeh_timeout) {\n",
       "      setTimeout(run_inline_js, 100);\n",
       "    } else if (!root._bokeh_failed_load) {\n",
       "      console.log(\"Bokeh: BokehJS failed to load within specified timeout.\");\n",
       "      root._bokeh_failed_load = true;\n",
       "    } else if (force !== true) {\n",
       "      var cell = $(document.getElementById(\"22985\")).parents('.cell').data().cell;\n",
       "      cell.output_area.append_execute_result(NB_LOAD_WARNING)\n",
       "    }\n",
       "\n",
       "  }\n",
       "\n",
       "  if (root._bokeh_is_loading === 0) {\n",
       "    console.debug(\"Bokeh: BokehJS loaded, going straight to plotting\");\n",
       "    run_inline_js();\n",
       "  } else {\n",
       "    load_libs(css_urls, js_urls, function() {\n",
       "      console.debug(\"Bokeh: BokehJS plotting callback run at\", now());\n",
       "      run_inline_js();\n",
       "    });\n",
       "  }\n",
       "}(window));"
      ],
      "application/vnd.bokehjs_load.v0+json": "\n(function(root) {\n  function now() {\n    return new Date();\n  }\n\n  var force = true;\n\n  if (typeof root._bokeh_onload_callbacks === \"undefined\" || force === true) {\n    root._bokeh_onload_callbacks = [];\n    root._bokeh_is_loading = undefined;\n  }\n\n  \n\n  \n  if (typeof (root._bokeh_timeout) === \"undefined\" || force === true) {\n    root._bokeh_timeout = Date.now() + 5000;\n    root._bokeh_failed_load = false;\n  }\n\n  var NB_LOAD_WARNING = {'data': {'text/html':\n     \"<div style='background-color: #fdd'>\\n\"+\n     \"<p>\\n\"+\n     \"BokehJS does not appear to have successfully loaded. If loading BokehJS from CDN, this \\n\"+\n     \"may be due to a slow or bad network connection. Possible fixes:\\n\"+\n     \"</p>\\n\"+\n     \"<ul>\\n\"+\n     \"<li>re-rerun `output_notebook()` to attempt to load from CDN again, or</li>\\n\"+\n     \"<li>use INLINE resources instead, as so:</li>\\n\"+\n     \"</ul>\\n\"+\n     \"<code>\\n\"+\n     \"from bokeh.resources import INLINE\\n\"+\n     \"output_notebook(resources=INLINE)\\n\"+\n     \"</code>\\n\"+\n     \"</div>\"}};\n\n  function display_loaded() {\n    var el = document.getElementById(\"22985\");\n    if (el != null) {\n      el.textContent = \"BokehJS is loading...\";\n    }\n    if (root.Bokeh !== undefined) {\n      if (el != null) {\n        el.textContent = \"BokehJS \" + root.Bokeh.version + \" successfully loaded.\";\n      }\n    } else if (Date.now() < root._bokeh_timeout) {\n      setTimeout(display_loaded, 100)\n    }\n  }\n\n\n  function run_callbacks() {\n    try {\n      root._bokeh_onload_callbacks.forEach(function(callback) {\n        if (callback != null)\n          callback();\n      });\n    } finally {\n      delete root._bokeh_onload_callbacks\n    }\n    console.debug(\"Bokeh: all callbacks have finished\");\n  }\n\n  function load_libs(css_urls, js_urls, callback) {\n    if (css_urls == null) css_urls = [];\n    if (js_urls == null) js_urls = [];\n\n    root._bokeh_onload_callbacks.push(callback);\n    if (root._bokeh_is_loading > 0) {\n      console.debug(\"Bokeh: BokehJS is being loaded, scheduling callback at\", now());\n      return null;\n    }\n    if (js_urls == null || js_urls.length === 0) {\n      run_callbacks();\n      return null;\n    }\n    console.debug(\"Bokeh: BokehJS not loaded, scheduling load and callback at\", now());\n    root._bokeh_is_loading = css_urls.length + js_urls.length;\n\n    function on_load() {\n      root._bokeh_is_loading--;\n      if (root._bokeh_is_loading === 0) {\n        console.debug(\"Bokeh: all BokehJS libraries/stylesheets loaded\");\n        run_callbacks()\n      }\n    }\n\n    function on_error() {\n      console.error(\"failed to load \" + url);\n    }\n\n    for (var i = 0; i < css_urls.length; i++) {\n      var url = css_urls[i];\n      const element = document.createElement(\"link\");\n      element.onload = on_load;\n      element.onerror = on_error;\n      element.rel = \"stylesheet\";\n      element.type = \"text/css\";\n      element.href = url;\n      console.debug(\"Bokeh: injecting link tag for BokehJS stylesheet: \", url);\n      document.body.appendChild(element);\n    }\n\n    for (var i = 0; i < js_urls.length; i++) {\n      var url = js_urls[i];\n      var element = document.createElement('script');\n      element.onload = on_load;\n      element.onerror = on_error;\n      element.async = false;\n      element.src = url;\n      console.debug(\"Bokeh: injecting script tag for BokehJS library: \", url);\n      document.head.appendChild(element);\n    }\n  };var element = document.getElementById(\"22985\");\n  if (element == null) {\n    console.error(\"Bokeh: ERROR: autoload.js configured with elementid '22985' but no matching script tag was found. \")\n    return false;\n  }\n\n  function inject_raw_css(css) {\n    const element = document.createElement(\"style\");\n    element.appendChild(document.createTextNode(css));\n    document.body.appendChild(element);\n  }\n\n  \n  var js_urls = [\"https://cdn.pydata.org/bokeh/release/bokeh-1.4.0.min.js\", \"https://cdn.pydata.org/bokeh/release/bokeh-widgets-1.4.0.min.js\", \"https://cdn.pydata.org/bokeh/release/bokeh-tables-1.4.0.min.js\", \"https://cdn.pydata.org/bokeh/release/bokeh-gl-1.4.0.min.js\"];\n  var css_urls = [];\n  \n\n  var inline_js = [\n    function(Bokeh) {\n      Bokeh.set_log_level(\"info\");\n    },\n    function(Bokeh) {\n    \n    \n    }\n  ];\n\n  function run_inline_js() {\n    \n    if (root.Bokeh !== undefined || force === true) {\n      \n    for (var i = 0; i < inline_js.length; i++) {\n      inline_js[i].call(root, root.Bokeh);\n    }\n    if (force === true) {\n        display_loaded();\n      }} else if (Date.now() < root._bokeh_timeout) {\n      setTimeout(run_inline_js, 100);\n    } else if (!root._bokeh_failed_load) {\n      console.log(\"Bokeh: BokehJS failed to load within specified timeout.\");\n      root._bokeh_failed_load = true;\n    } else if (force !== true) {\n      var cell = $(document.getElementById(\"22985\")).parents('.cell').data().cell;\n      cell.output_area.append_execute_result(NB_LOAD_WARNING)\n    }\n\n  }\n\n  if (root._bokeh_is_loading === 0) {\n    console.debug(\"Bokeh: BokehJS loaded, going straight to plotting\");\n    run_inline_js();\n  } else {\n    load_libs(css_urls, js_urls, function() {\n      console.debug(\"Bokeh: BokehJS plotting callback run at\", now());\n      run_inline_js();\n    });\n  }\n}(window));"
     },
     "metadata": {},
     "output_type": "display_data"
    }
   ],
   "source": [
    "from bokeh.layouts import row\n",
    "output_notebook()\n",
    "\n",
    "red_original = red_averages.copy()\n",
    "blue_original = blue_averages.copy()\n",
    "red_original_congress = red_averages_congress.copy()\n",
    "blue_original_congress = blue_averages_congress.copy()\n",
    "\n",
    "\n",
    "def update(RGDP = 1, Federal_Debt = 1, Inflation = 1, BOP = 1, Unemployment = 1, Interest = 1):\n",
    "    red_averages[0] = red_original[0] * RGDP\n",
    "    red_averages[1] = red_original[1] * Federal_Debt\n",
    "    red_averages[2] = red_original[2] * Inflation\n",
    "    red_averages[3] = red_original[3] * BOP\n",
    "    red_averages[4] = red_original[4] * Unemployment\n",
    "    red_averages[5] = red_original[5] * Interest\n",
    "    blue_averages[0] = blue_original[0] * RGDP\n",
    "    blue_averages[1] = blue_original[1] * Federal_Debt\n",
    "    blue_averages[2] = blue_original[2] * Inflation\n",
    "    blue_averages[3] = blue_original[3] * BOP\n",
    "    blue_averages[4] = blue_original[4] * Unemployment\n",
    "    blue_averages[5] = blue_original[5] * Interest\n",
    "    \n",
    "    red_averages_congress[0] = red_original_congress[0] * RGDP\n",
    "    red_averages_congress[1] = red_original_congress[1] * Federal_Debt\n",
    "    red_averages_congress[2] = red_original_congress[2] * Inflation\n",
    "    red_averages_congress[3] = red_original_congress[3] * BOP\n",
    "    red_averages_congress[4] = red_original_congress[4] * Unemployment\n",
    "    red_averages_congress[5] = red_original_congress[5] * Interest\n",
    "    blue_averages_congress[0] = blue_original_congress[0] * RGDP\n",
    "    blue_averages_congress[1] = blue_original_congress[1] * Federal_Debt\n",
    "    blue_averages_congress[2] = blue_original_congress[2] * Inflation\n",
    "    blue_averages_congress[3] = blue_original_congress[3] * BOP\n",
    "    blue_averages_congress[4] = blue_original_congress[4] * Unemployment\n",
    "    blue_averages_congress[5] = blue_original_congress[5] * Interest\n",
    "    \n",
    "    new_data = {'Statistics': parties,\n",
    "        'Real GDP Growth'   : [red_averages[0], blue_averages[0]],\n",
    "        'Federal Debt'   : [red_averages[1], blue_averages[1]],\n",
    "        'Inflation'   : [red_averages[2], blue_averages[2]],\n",
    "        'Balance of Payments'   : [red_averages[3], blue_averages[3]],\n",
    "        'Unemployment Rate'   : [red_averages[4], blue_averages[4]],\n",
    "        'Interest Rate'   : [red_averages[5], blue_averages[5]],\n",
    "       }\n",
    "    new_data_congress = {'Statistics': parties,\n",
    "        'Real GDP Growth'   : [red_averages_congress[0], blue_averages_congress[0]],\n",
    "        'Federal Debt'   : [red_averages_congress[1], blue_averages_congress[1]],\n",
    "        'Inflation'   : [red_averages_congress[2], blue_averages_congress[2]],\n",
    "        'Balance of Payments'   : [red_averages_congress[3], blue_averages_congress[3]],\n",
    "        'Unemployment Rate'   : [red_averages_congress[4], blue_averages_congress[4]],\n",
    "        'Interest Rate'   : [red_averages_congress[5], blue_averages_congress[5]],\n",
    "       }\n",
    " \n",
    "    new_bar = figure(x_range = parties, title='Final Index - Presidents', tooltips = index_tooltips, plot_height=400, plot_width=400, toolbar_location=None)\n",
    "    red_sum = 0\n",
    "    blue_sum = 0\n",
    "    for element in red_averages:\n",
    "        red_sum += element\n",
    "    for element in blue_averages:\n",
    "        blue_sum += element\n",
    "        \n",
    "    new_bar_congress = figure(x_range = parties, title='Final Index - Congress', tooltips = index_tooltips, plot_height=400, plot_width=400, toolbar_location=None)\n",
    "    red_sum_congress = 0\n",
    "    blue_sum_congress = 0\n",
    "    for element in red_averages_congress:\n",
    "        red_sum_congress += element\n",
    "    for element in blue_averages_congress:\n",
    "        blue_sum_congress += element\n",
    "    \n",
    "    if(red_sum >= blue_sum):\n",
    "        new_bar.vbar_stack(stats, x = 'Statistics', legend_label=stats, width = 0.9, source=new_data, color=reds)\n",
    "    else:\n",
    "        new_bar.vbar_stack(stats, x = 'Statistics', legend_label=stats, width = 0.9, source=new_data, color=blues)\n",
    "        \n",
    "    if(red_sum_congress >= blue_sum_congress):\n",
    "        new_bar_congress.vbar_stack(stats, x = 'Statistics', legend_label=stats, width = 0.9, source = new_data_congress, color=reds)\n",
    "    else:\n",
    "        new_bar_congress.vbar_stack(stats, x = 'Statistics', legend_label=stats, width = 0.9, source=new_data_congress, color=blues)\n",
    "    \n",
    "    index_bar = new_bar\n",
    "    index_bar_congress = new_bar_congress\n",
    "    \n",
    "    index_bar.legend.location = 'bottom_left'\n",
    "    index_bar_congress.legend.location = 'bottom_left'\n",
    "    \n",
    "    show(row(index_bar, index_bar_congress))\n",
    "    push_notebook()"
   ]
  },
  {
   "cell_type": "code",
   "execution_count": 179,
   "metadata": {
    "scrolled": false,
    "slideshow": {
     "slide_type": "subslide"
    }
   },
   "outputs": [
    {
     "data": {
      "application/vnd.jupyter.widget-view+json": {
       "model_id": "8791130fbc3141d3b3ad91b14a88ee06",
       "version_major": 2,
       "version_minor": 0
      },
      "text/plain": [
       "interactive(children=(FloatSlider(value=1.0, description='Real GDP', max=10.0), FloatSlider(value=1.0, descrip…"
      ]
     },
     "metadata": {},
     "output_type": "display_data"
    },
    {
     "data": {
      "text/plain": [
       "<function __main__.update(RGDP=1, Federal_Debt=1, Inflation=1, BOP=1, Unemployment=1, Interest=1)>"
      ]
     },
     "execution_count": 179,
     "metadata": {},
     "output_type": "execute_result"
    }
   ],
   "source": [
    "interact(update, RGDP = FloatSlider(value=1, min=0,max=10,step=0.1, description='Real GDP'), Federal_Debt = FloatSlider(value=1,min=0,max=10,step=0.1, description='Federal Debt'), Inflation = FloatSlider(value=1,min=0,max=10,step=0.1, description='Inflation'), BOP = FloatSlider(value=1,min=0,max=10,step=0.1, description='BOP'),Unemployment = FloatSlider(value=1,min=0,max=10,step=0.1, description='Unemployment', style={'description_width': 'initial'}), Interest = FloatSlider(value=1,min=0,max=10,step=0.1, description='Interest'))"
   ]
  },
  {
   "cell_type": "code",
   "execution_count": null,
   "metadata": {
    "slideshow": {
     "slide_type": "skip"
    }
   },
   "outputs": [],
   "source": []
  }
 ],
 "metadata": {
  "celltoolbar": "Slideshow",
  "kernelspec": {
   "display_name": "Python 3",
   "language": "python",
   "name": "python3"
  },
  "language_info": {
   "codemirror_mode": {
    "name": "ipython",
    "version": 3
   },
   "file_extension": ".py",
   "mimetype": "text/x-python",
   "name": "python",
   "nbconvert_exporter": "python",
   "pygments_lexer": "ipython3",
   "version": "3.7.4"
  }
 },
 "nbformat": 4,
 "nbformat_minor": 2
}
